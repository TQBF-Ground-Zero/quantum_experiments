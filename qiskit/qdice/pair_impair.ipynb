{
 "cells": [
  {
   "cell_type": "code",
   "execution_count": 1,
   "metadata": {},
   "outputs": [],
   "source": [
    "import matplotlib.pyplot as plt\n",
    "from qiskit import Aer, QuantumCircuit, execute, IBMQ\n",
    "from qiskit.visualization import plot_histogram\n",
    "from qiskit.tools.monitor import job_monitor"
   ]
  },
  {
   "cell_type": "code",
   "execution_count": 3,
   "metadata": {},
   "outputs": [],
   "source": [
    "# Init Qasm simulator backend\n",
    "qasm = Aer.get_backend('qasm_simulator')\n",
    "backend_sim = qasm  # Choose your backend : <quantum_computer> or <qasm>"
   ]
  },
  {
   "cell_type": "code",
   "execution_count": 38,
   "metadata": {},
   "outputs": [
    {
     "name": "stdout",
     "output_type": "stream",
     "text": [
      "Tab :  [371, 352, 339, 345, 351, 355, 350, 327, 364, 320, 373, 323, 355, 305, 339, 359, 331, 339, 352, 356, 352, 348, 352, 312, 367, 325, 357, 321, 316, 328, 345, 344, 346, 321, 339, 315, 337, 353, 333, 323, 365, 338, 318, 329, 346, 330, 354, 352, 311, 323, 334, 343, 331, 337, 330, 346, 379, 346, 365, 354, 326, 339, 351, 349, 321, 347, 331, 376, 333, 312, 348, 323, 343, 358, 364, 336, 320, 335, 349, 338, 351, 352, 333, 369, 323, 315, 314, 326, 362, 307, 341, 316, 347, 347, 339, 327, 353, 348, 347, 331, 332, 345, 326, 328, 374, 349, 317, 335, 333, 334, 326, 301, 346, 343, 343, 340, 331, 340, 348, 350, 365, 332, 342, 357, 331, 351, 357, 321, 366, 331, 340, 368, 335, 316, 334, 336, 349, 329, 330, 326, 318, 339, 351, 322, 330, 328, 335, 353, 328, 356, 362, 313, 347, 349, 303, 319, 344, 330, 336, 343, 337, 357, 289, 332, 332, 311, 338, 335, 331, 348, 358, 317, 347, 344, 359, 341, 331, 339, 357, 357, 342, 346, 345, 323, 340, 348, 348, 332, 336, 340, 326, 337, 327, 333, 360, 379, 328, 328, 312, 296, 314, 318, 329, 323, 359, 306, 336, 340, 344, 328, 352, 365, 327, 352, 353, 367, 339, 332, 321, 334, 350, 341, 338, 335, 321, 352, 312, 323, 341, 351, 314, 321, 354, 364, 354, 353, 344, 337, 351, 340, 365, 330, 348, 338, 344, 318, 309, 329, 336, 352, 343, 368, 317, 358, 322, 336, 346, 344, 342, 309, 366, 337, 365, 333, 326, 330, 322, 329, 334, 355, 323, 322, 292, 343, 326, 337, 322, 357, 328, 312, 317, 330, 333, 348, 301, 344, 320, 327, 350, 330, 339, 356, 317, 328, 313, 350, 344, 358, 342, 342, 338, 344, 329, 336, 351, 362, 362, 344, 332, 345, 330, 340, 329, 340, 349, 345, 314, 337, 331, 335, 349, 359, 339, 355, 333, 342, 308, 375, 363, 368, 336, 335, 336, 332, 351, 343, 323, 336, 337, 326, 342, 336, 340, 360, 321, 340, 337, 345, 345, 346, 332, 357, 329, 315, 330, 328, 322, 323, 339, 333, 341, 360, 323, 351, 332, 300, 326, 358, 333, 324, 349, 357, 348, 328, 376, 342, 328, 344, 324, 321, 359, 327, 322, 342, 331, 338, 328, 333, 348, 356, 345, 331, 348, 336, 323, 349, 344, 360, 341, 363, 311, 347, 344, 356, 340, 346, 301, 344, 338, 324, 326, 338, 350, 315, 338, 342, 360, 370, 325, 323, 342, 338, 342, 323, 307, 339, 352, 324, 320, 362, 376, 349, 352, 341, 348, 362, 353, 372, 327, 333, 318, 337, 335, 320, 340, 332, 325, 337, 337, 332, 360, 322, 369, 329, 344, 317, 370, 320, 368, 342, 328, 339, 365, 348, 349, 347, 336, 332, 336, 352, 328, 349, 329, 342, 323, 334, 346, 362, 333, 345, 336, 359, 341, 351, 347, 338, 322, 318, 312, 340, 316, 321, 373, 320, 324, 341, 359, 364, 351, 344, 365, 341, 343, 325, 311, 327, 336, 346, 326, 335, 340, 310, 314, 354, 352, 333, 343, 366, 329, 330, 349, 337, 341, 322, 353, 349, 334, 333, 334, 334, 334, 345, 315, 355, 327, 330, 333, 348, 330, 306, 346, 357, 322, 362, 344, 357, 335, 343, 335, 315, 361, 337, 325, 331, 347, 344, 347, 331, 359, 341, 335, 352, 330, 365, 376, 327, 331, 358, 362, 349, 351, 330, 341, 316, 357, 352, 348, 342, 357, 327, 343, 338, 370, 356, 336, 301, 323, 354, 335, 338, 345, 324, 347, 326, 325, 339, 337, 347, 316, 341, 350, 327, 342, 323, 329, 329, 327, 328, 322, 341, 306, 336, 331, 331, 334, 362, 332, 325, 337, 346, 347, 364, 320, 317, 338, 381, 325, 342, 350, 310, 315, 348, 324, 332, 346, 379, 346, 368, 324, 354, 383, 348, 319, 327, 317, 323, 322, 321, 326, 360, 360, 316, 344, 343, 322, 346, 347, 351, 341, 325, 328, 348, 353, 369, 351, 346, 356, 339, 344, 330, 349, 341, 343, 353, 349, 340, 323, 329, 301, 316, 327, 364, 319, 369, 326, 311, 327, 313, 343, 338, 374, 361, 334, 330, 325, 320, 328, 335, 318, 330, 300, 373, 349, 337, 343, 343, 310, 337, 352, 327, 341, 342, 351, 329, 327, 335, 331, 316, 321, 328, 362, 366, 361, 349, 343, 316, 340, 342, 351, 372, 365, 327, 339, 340, 341, 330, 351, 333, 344, 334, 342, 312, 347, 333, 328, 348, 348, 305, 361, 321, 334, 330, 367, 326, 347, 324, 338, 352, 333, 334, 341, 361, 317, 346, 334, 357, 339, 352, 335, 350, 359, 340, 331, 334, 349, 327, 333, 351, 320, 340, 331, 350, 342, 319, 323, 318, 341, 351, 337, 316, 366, 297, 360, 330, 330, 354, 347, 341, 332, 311, 343, 304, 336, 337, 311, 355, 340, 367, 371, 356, 341, 334, 347, 342, 362, 317, 355, 324, 364, 314, 311, 317, 333, 314, 370, 323, 323, 332, 331, 312, 314, 340, 319, 340, 347, 358, 356, 313, 343, 314, 334, 334, 317, 338, 317, 348, 343, 304, 312, 346, 319, 316, 326, 344, 319, 325, 308, 359, 341, 348, 336, 342, 334, 324, 311, 322, 350, 329, 347, 329, 313, 347, 366, 344, 364, 321, 338, 331, 324, 347, 335, 342, 329, 343, 358, 343, 363, 339, 334, 319, 325, 331, 363, 321, 329, 339, 336, 313, 340, 312, 326, 334, 334, 367, 353, 312, 308, 317, 343, 346, 316, 355, 366, 337, 342, 314, 324, 334, 309, 348, 345, 343, 354, 337, 329, 321, 331, 315, 339, 335, 339, 323, 368, 342, 350, 344, 345, 345, 343, 337, 344, 324, 351, 317, 369, 355, 344, 340, 360, 328, 348, 350, 336, 341, 348, 327, 346, 292, 305, 340, 343, 332, 311, 306, 327, 343, 342, 316, 307, 341, 354, 344, 356, 323, 331, 323, 364, 351, 332, 344, 336, 335, 351, 316, 346, 322, 366, 315, 321, 332, 339, 353, 332, 329, 329, 350, 338, 318, 338, 336]\n"
     ]
    }
   ],
   "source": [
    "typ_dice = 6\n",
    "nb_qubits = len(bin(typ_dice - 1)[2:])  # Optimisation du nombre de qubit pour minimiser la décohérence\n",
    "tab = []\n",
    "ite = 1000\n",
    "\n",
    "#########################################################\n",
    "#########################################################\n",
    "# #Circuit\n",
    "\n",
    "# Quantum Circuit\n",
    "circ = QuantumCircuit(nb_qubits)\n",
    "for i in range(0, nb_qubits):\n",
    "    circ.h(i)\n",
    "\n",
    "# Measurement Circuit\n",
    "meas = QuantumCircuit(nb_qubits, nb_qubits)\n",
    "# map the quantum measurement to the classical bits\n",
    "meas.measure(range(nb_qubits), range(nb_qubits))\n",
    "\n",
    "qc = circ+meas  # merge circuits\n",
    "\n",
    "#########################################################\n",
    "#########################################################\n",
    "# #Run\n",
    "\n",
    "for v in range(ite):\n",
    "    job = execute(qc, backend_sim, shots=100, memory=True)\n",
    "\n",
    "    # Result job\n",
    "    result_sim = job.result()\n",
    "    counts = result_sim.get_counts(qc)\n",
    "    memory = result_sim.get_memory()\n",
    "\n",
    "    total = 0\n",
    "    for i in memory:\n",
    "        result = int(i, 2)\n",
    "\n",
    "        # Convertion du nombre en tirage du dé 4, 6, 8, 10, 12 ou 20\n",
    "        value_dice = round((result + 1) / 2**nb_qubits * typ_dice)\n",
    "        if value_dice == 0:\n",
    "            value_dice += 1\n",
    "\n",
    "        total += value_dice\n",
    "\n",
    "    #print(\"Total : \", total)\n",
    "\n",
    "    tab.append(total)\n",
    "\n",
    "print(\"Tab : \", tab)\n",
    "    "
   ]
  },
  {
   "cell_type": "code",
   "execution_count": 39,
   "metadata": {},
   "outputs": [],
   "source": [
    "compare_tab = [[], []]\n",
    "\n",
    "for i in tab:\n",
    "    if i % 2 == 0:\n",
    "        compare_tab[0].append(i)\n",
    "    else:\n",
    "        compare_tab[1].append(i)"
   ]
  },
  {
   "cell_type": "code",
   "execution_count": 40,
   "metadata": {},
   "outputs": [
    {
     "name": "stdout",
     "output_type": "stream",
     "text": [
      "Diff : 50.4%\n"
     ]
    },
    {
     "data": {
      "image/png": "[encoded data removed]",
      "text/plain": [
       "<Figure size 720x504 with 1 Axes>"
      ]
     },
     "metadata": {
      "needs_background": "light"
     },
     "output_type": "display_data"
    }
   ],
   "source": [
    "fig = plt.figure(figsize =(10, 7))\n",
    "typo = ['Pair', 'Impair']\n",
    "number = [len(compare_tab[0]), len(compare_tab[1])]\n",
    "plt.bar(typo, number)\n",
    "print(\"Diff : {}%\". format(len(compare_tab[0])*100/ite))\n",
    "plt.show()"
   ]
  },
  {
   "cell_type": "code",
   "execution_count": null,
   "metadata": {},
   "outputs": [],
   "source": []
  }
 ],
 "metadata": {
  "kernelspec": {
   "display_name": "Python 3",
   "language": "python",
   "name": "python3"
  },
  "language_info": {
   "codemirror_mode": {
    "name": "ipython",
    "version": 3
   },
   "file_extension": ".py",
   "mimetype": "text/x-python",
   "name": "python",
   "nbconvert_exporter": "python",
   "pygments_lexer": "ipython3",
   "version": "3.8.1"
  }
 },
 "nbformat": 4,
 "nbformat_minor": 4
}
