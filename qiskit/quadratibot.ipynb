{
 "cells": [
  {
   "cell_type": "code",
   "execution_count": 5,
   "id": "38df06d8",
   "metadata": {
    "collapsed": true
   },
   "outputs": [
    {
     "name": "stdout",
     "output_type": "stream",
     "text": [
      "Requirement already satisfied: qiskit_optimization in /usr/local/lib/python3.8/dist-packages (0.2.2)\n",
      "Requirement already satisfied: docplex>=2.21.207 in /usr/local/lib/python3.8/dist-packages (from qiskit_optimization) (2.21.207)\n",
      "Requirement already satisfied: scipy>=1.4 in /usr/local/lib/python3.8/dist-packages (from qiskit_optimization) (1.7.0)\n",
      "Requirement already satisfied: numpy>=1.17 in /usr/local/lib/python3.8/dist-packages (from qiskit_optimization) (1.21.0)\n",
      "Requirement already satisfied: setuptools>=40.1.0 in /usr/local/lib/python3.8/dist-packages (from qiskit_optimization) (57.0.0)\n",
      "Requirement already satisfied: qiskit-terra>=0.17.0 in /usr/local/lib/python3.8/dist-packages (from qiskit_optimization) (0.17.4)\n",
      "Requirement already satisfied: networkx<2.6,>=2.2 in /usr/local/lib/python3.8/dist-packages (from qiskit_optimization) (2.5.1)\n",
      "Requirement already satisfied: requests in /usr/local/lib/python3.8/dist-packages (from docplex>=2.21.207->qiskit_optimization) (2.25.1)\n",
      "Requirement already satisfied: six in /usr/local/lib/python3.8/dist-packages (from docplex>=2.21.207->qiskit_optimization) (1.16.0)\n",
      "Requirement already satisfied: decorator<5,>=4.3 in /usr/local/lib/python3.8/dist-packages (from networkx<2.6,>=2.2->qiskit_optimization) (4.4.2)\n",
      "Requirement already satisfied: sympy>=1.3 in /usr/local/lib/python3.8/dist-packages (from qiskit-terra>=0.17.0->qiskit_optimization) (1.8)\n",
      "Requirement already satisfied: python-constraint>=1.4 in /usr/local/lib/python3.8/dist-packages (from qiskit-terra>=0.17.0->qiskit_optimization) (1.4.0)\n",
      "Requirement already satisfied: jsonschema>=2.6 in /usr/local/lib/python3.8/dist-packages (from qiskit-terra>=0.17.0->qiskit_optimization) (3.2.0)\n",
      "Requirement already satisfied: ply>=3.10 in /usr/local/lib/python3.8/dist-packages (from qiskit-terra>=0.17.0->qiskit_optimization) (3.11)\n",
      "Requirement already satisfied: fastjsonschema>=2.10 in /usr/local/lib/python3.8/dist-packages (from qiskit-terra>=0.17.0->qiskit_optimization) (2.15.1)\n",
      "Requirement already satisfied: psutil>=5 in /usr/local/lib/python3.8/dist-packages (from qiskit-terra>=0.17.0->qiskit_optimization) (5.8.0)\n",
      "Requirement already satisfied: retworkx>=0.8.0 in /usr/local/lib/python3.8/dist-packages (from qiskit-terra>=0.17.0->qiskit_optimization) (0.9.0)\n",
      "Requirement already satisfied: python-dateutil>=2.8.0 in /usr/local/lib/python3.8/dist-packages (from qiskit-terra>=0.17.0->qiskit_optimization) (2.8.1)\n",
      "Requirement already satisfied: dill>=0.3 in /usr/local/lib/python3.8/dist-packages (from qiskit-terra>=0.17.0->qiskit_optimization) (0.3.4)\n",
      "Requirement already satisfied: pyrsistent>=0.14.0 in /usr/local/lib/python3.8/dist-packages (from jsonschema>=2.6->qiskit-terra>=0.17.0->qiskit_optimization) (0.17.3)\n",
      "Requirement already satisfied: attrs>=17.4.0 in /usr/local/lib/python3.8/dist-packages (from jsonschema>=2.6->qiskit-terra>=0.17.0->qiskit_optimization) (21.2.0)\n",
      "Requirement already satisfied: mpmath>=0.19 in /usr/local/lib/python3.8/dist-packages (from sympy>=1.3->qiskit-terra>=0.17.0->qiskit_optimization) (1.2.1)\n",
      "Requirement already satisfied: urllib3<1.27,>=1.21.1 in /usr/local/lib/python3.8/dist-packages (from requests->docplex>=2.21.207->qiskit_optimization) (1.26.5)\n",
      "Requirement already satisfied: chardet<5,>=3.0.2 in /usr/local/lib/python3.8/dist-packages (from requests->docplex>=2.21.207->qiskit_optimization) (4.0.0)\n",
      "Requirement already satisfied: idna<3,>=2.5 in /usr/local/lib/python3.8/dist-packages (from requests->docplex>=2.21.207->qiskit_optimization) (2.10)\n",
      "Requirement already satisfied: certifi>=2017.4.17 in /usr/local/lib/python3.8/dist-packages (from requests->docplex>=2.21.207->qiskit_optimization) (2021.5.30)\n",
      "\u001b[33mWARNING: Running pip as root will break packages and permissions. You should install packages reliably by using venv: https://pip.pypa.io/warnings/venv\u001b[0m\n",
      "\u001b[33mWARNING: You are using pip version 21.1.2; however, version 21.2.4 is available.\n",
      "You should consider upgrading via the '/usr/bin/python3 -m pip install --upgrade pip' command.\u001b[0m\n",
      "Note: you may need to restart the kernel to use updated packages.\n"
     ]
    }
   ],
   "source": [
    "%pip install qiskit_optimization"
   ]
  },
  {
   "cell_type": "code",
   "execution_count": 120,
   "id": "4678a081",
   "metadata": {},
   "outputs": [],
   "source": [
    "# Import auxiliary libraries\n",
    "import numpy as np\n",
    "import math\n",
    "\n",
    "# Import Qiskit\n",
    "from qiskit import Aer\n",
    "from qiskit.algorithms import QAOA, VQE, NumPyMinimumEigensolver\n",
    "from qiskit.utils import QuantumInstance, algorithm_globals\n",
    "\n",
    "from qiskit_optimization import QuadraticProgram\n",
    "from qiskit_optimization.algorithms import MinimumEigenOptimizer\n",
    "from qiskit_optimization.converters import QuadraticProgramToQubo"
   ]
  },
  {
   "cell_type": "markdown",
   "id": "fc767949",
   "metadata": {},
   "source": [
    "# Functions"
   ]
  },
  {
   "cell_type": "code",
   "execution_count": 2,
   "id": "132a9515",
   "metadata": {},
   "outputs": [],
   "source": [
    "def get_classical_solution_for(quadprog: QuadraticProgram):\n",
    "    # Create solver\n",
    "    solver = NumPyMinimumEigensolver()\n",
    "    # Create optimizer for solver\n",
    "    optimizer = MinimumEigenOptimizer(solver)\n",
    "    \n",
    "    return optimizer.solve(quadprog)"
   ]
  },
  {
   "cell_type": "code",
   "execution_count": 109,
   "id": "9aafb978",
   "metadata": {},
   "outputs": [],
   "source": [
    "def get_quantum_solution_for(\n",
    "    algo, quadprog: QuadraticProgram, quantumInstance: QuantumInstance, optimizer=None):\n",
    "    _eval_count = 0\n",
    "\n",
    "    def callback(eval_count, parameters, mean, std):\n",
    "        nonlocal _eval_count\n",
    "        _eval_count = eval_count\n",
    "    \n",
    "    # Create solver and optimizer\n",
    "    if algo == \"QAOA\":\n",
    "        solver = QAOA(optimizer=optimizer, quantum_instance=quantumInstance, callback=callback,)\n",
    "    if algo == \"VQE\":\n",
    "        solver = VQE(optimizer=optimizer, quantum_instance=quantumInstance, callback=callback)\n",
    "\n",
    "    # Create optimizer for solver\n",
    "    optimizer = MinimumEigenOptimizer(solver)\n",
    "\n",
    "    # Get result from optimizer\n",
    "    result = optimizer.solve(quadprog)\n",
    "    return result, _eval_count"
   ]
  },
  {
   "cell_type": "markdown",
   "id": "2b86598f",
   "metadata": {},
   "source": [
    "# QC / Simulator"
   ]
  },
  {
   "cell_type": "code",
   "execution_count": 51,
   "id": "939db47e",
   "metadata": {},
   "outputs": [],
   "source": [
    "backend = Aer.get_backend(\"qasm_simulator\")\n",
    "algorithm_globals.random_seed = 42\n",
    "# Create a QuantumInstance\n",
    "simulator_instance = QuantumInstance(\n",
    "    backend=backend,\n",
    "    seed_simulator=algorithm_globals.random_seed,\n",
    "    seed_transpiler=algorithm_globals.random_seed,\n",
    ")"
   ]
  },
  {
   "cell_type": "markdown",
   "id": "5f05e5f5",
   "metadata": {},
   "source": [
    "# Program"
   ]
  },
  {
   "cell_type": "code",
   "execution_count": 129,
   "id": "ae01706f",
   "metadata": {},
   "outputs": [
    {
     "name": "stdout",
     "output_type": "stream",
     "text": [
      "Nb_stick =  10\n",
      "Poten_stick =  13.5\n",
      "Max_stick =  3\n",
      "Last_st =  0.5\n"
     ]
    }
   ],
   "source": [
    "nb_stick = 10\n",
    "past = [\"/\", \"¬\", \"¬\", \"x\", \"/\", \"¬\", \"¬\", \"/\"]\n",
    "\n",
    "# Check number of stick max\n",
    "if nb_stick >= 3:\n",
    "    max_stick = 3\n",
    "else:\n",
    "    max_stick = nb_stick\n",
    "\n",
    "# Check the past\n",
    "# |||||||| ## /¬/¬¬/\n",
    "past.reverse()\n",
    "poten_stick = nb_stick\n",
    "for i in range(len(past)):\n",
    "    if past[i] == \"/\":\n",
    "        poten_stick += 0.5\n",
    "    if past[i] == \"¬\":\n",
    "        u = 1\n",
    "        while past[i+u] == \"¬\":\n",
    "            u += 1\n",
    "        if past[i+u] == \"/\":\n",
    "            poten_stick += 0.5\n",
    "\n",
    "# Check last turn\n",
    "last_st = 0\n",
    "if past[0] == \"¬\":\n",
    "    u = 1\n",
    "    while past[0+u] == \"¬\":\n",
    "        u += 1\n",
    "        if past[0+u] == \"/\":\n",
    "            last_st = 0.5\n",
    "if past[0] == \"/\":\n",
    "        last_st = 0.5\n",
    "            \n",
    "print(\"Nb_stick = \", nb_stick)\n",
    "print(\"Poten_stick = \", poten_stick)\n",
    "print(\"Max_stick = \", max_stick)\n",
    "print(\"Last_st = \", last_st)"
   ]
  },
  {
   "cell_type": "code",
   "execution_count": 130,
   "id": "e28320a0",
   "metadata": {
    "scrolled": true
   },
   "outputs": [
    {
     "name": "stdout",
     "output_type": "stream",
     "text": [
      "\\ This file has been generated by DOcplex\n",
      "\\ ENCODING=ISO-8859-1\n",
      "\\Problem name: qnim\n",
      "\n",
      "Maximize\n",
      " obj: x + 0.500000000000 sup + 0.500000000000 intric + [ sup*intric ]/2\n",
      "Subject To\n",
      " gen_min: x + sup + intric >= 0\n",
      " gen_max: x + sup + intric <= 3\n",
      " qua_mod4: x + sup <= 1\n",
      " cla_mod4: x + sup + intric <= 1\n",
      "\n",
      "Bounds\n",
      "       x <= 3\n",
      "       sup <= 3\n",
      "       intric <= 3\n",
      "\n",
      "Generals\n",
      " x sup intric\n",
      "End\n",
      "\n"
     ]
    }
   ],
   "source": [
    "quadprog = QuadraticProgram(name=\"qnim\")\n",
    "quadprog.integer_var(name=\"x\", lowerbound=0, upperbound=max_stick)\n",
    "quadprog.integer_var(name=\"sup\", lowerbound=0, upperbound=max_stick)\n",
    "quadprog.integer_var(name=\"intric\", lowerbound=0, upperbound=max_stick)\n",
    "quadprog.maximize(\n",
    "    linear={\"x\":1, \"sup\":0.5, \"intric\":last_st},\n",
    "    quadratic={(\"sup\", \"intric\"):0.5}\n",
    ")\n",
    "# General constraints\n",
    "quadprog.linear_constraint(linear={\"x\":1, \"sup\":1, \"intric\":1}, sense=\">\", rhs=0, name=\"gen_min\")\n",
    "quadprog.linear_constraint(linear={\"x\":1, \"sup\":1, \"intric\":1}, sense=\"<=\", rhs=max_stick, name=\"gen_max\")\n",
    "\n",
    "#quadprog.quadratic_constraint(quadratic={(\"sup\", \"intric\"):1, (\"x\", \"sup\"):1}, sense=\"<=\", rhs=poten_stick%4-1, name=qvers)\n",
    "\n",
    "# Mod4 constraints\n",
    "if math.ceil(poten_stick%4)-1 > 0:\n",
    "    quadprog.linear_constraint(linear={\"x\":1, \"sup\":1}, sense=\"<=\", rhs=math.ceil(poten_stick%4)-1, name=\"qua_mod4\")\n",
    "if nb_stick%4-1 > 0:\n",
    "    quadprog.linear_constraint(linear={\"x\":1, \"sup\":1, \"intric\":1}, sense=\"<=\", rhs=nb_stick%4-1, name=\"cla_mod4\")\n",
    "\n",
    "print(quadprog.export_as_lp_string())"
   ]
  },
  {
   "cell_type": "code",
   "execution_count": 131,
   "id": "3d0d245b",
   "metadata": {},
   "outputs": [
    {
     "name": "stdout",
     "output_type": "stream",
     "text": [
      "Number of qubits required is 14\n"
     ]
    }
   ],
   "source": [
    "# Estimate the number of qubits required\n",
    "ising_operations, _ = (QuadraticProgramToQubo().convert(quadprog).to_ising())\n",
    "print(f\"Number of qubits required is {ising_operations.num_qubits}\")"
   ]
  },
  {
   "cell_type": "markdown",
   "id": "2d6933ec",
   "metadata": {},
   "source": [
    "# Solving"
   ]
  },
  {
   "cell_type": "markdown",
   "id": "46292a10",
   "metadata": {},
   "source": [
    "## Classical solution"
   ]
  },
  {
   "cell_type": "code",
   "execution_count": 132,
   "id": "d3f0f458",
   "metadata": {},
   "outputs": [
    {
     "name": "stdout",
     "output_type": "stream",
     "text": [
      "Solution found using the classical method:\n",
      "\n",
      "Maximum state is 1.0 tons\n",
      "Gates used are: \n",
      "\t1.0 ha of x\n",
      "\t0.0 ha of sup\n",
      "\t0.0 ha of intric\n"
     ]
    }
   ],
   "source": [
    "# Get classical result\n",
    "classical_result = get_classical_solution_for(quadprog)\n",
    "\n",
    "# Format and print result\n",
    "print(\"Solution found using the classical method:\\n\")\n",
    "print(f\"Maximum state is {classical_result.fval} tons\")\n",
    "print(f\"Gates used are: \")\n",
    "\n",
    "_crops = [v.name for v in quadprog.variables]\n",
    "for cropIndex, cropHectares in enumerate(classical_result.x):\n",
    "    print(f\"\\t{cropHectares} ha of {_crops[cropIndex]}\")"
   ]
  },
  {
   "cell_type": "markdown",
   "id": "6367916d",
   "metadata": {},
   "source": [
    "## QAOA"
   ]
  },
  {
   "cell_type": "code",
   "execution_count": 133,
   "id": "1b8b253e",
   "metadata": {},
   "outputs": [
    {
     "name": "stdout",
     "output_type": "stream",
     "text": [
      "Solution found using the QAOA method:\n",
      "\n",
      "Maximum state is 1.0 tons\n",
      "Gates used are: \n",
      "\t1.0 ha of x\n",
      "\t0.0 ha of sup\n",
      "\t0.0 ha of intric\n",
      "\n",
      "The solution was found within 3 evaluations of QAOA.\n"
     ]
    }
   ],
   "source": [
    "# Get QAOA result\n",
    "qaoa_result, qaoa_eval_count = get_quantum_solution_for(\"QAOA\", quadprog, simulator_instance)\n",
    "\n",
    "# Format and print result\n",
    "print(\"Solution found using the QAOA method:\\n\")\n",
    "print(f\"Maximum state is {qaoa_result.fval} tons\")\n",
    "print(f\"Gates used are: \")\n",
    "for cropHectares, cropName in zip(qaoa_result.x, qaoa_result.variable_names):\n",
    "    print(f\"\\t{cropHectares} ha of {cropName}\")\n",
    "\n",
    "print(f\"\\nThe solution was found within {qaoa_eval_count} evaluations of QAOA.\")"
   ]
  },
  {
   "cell_type": "markdown",
   "id": "2275b43c",
   "metadata": {},
   "source": [
    "## VQE"
   ]
  },
  {
   "cell_type": "code",
   "execution_count": 134,
   "id": "d2b93439",
   "metadata": {},
   "outputs": [
    {
     "name": "stdout",
     "output_type": "stream",
     "text": [
      "Solution found using the VQE method:\n",
      "\n",
      "Maximum state is 1.0 tons\n",
      "Gates used are: \n",
      "\t1.0 ha of x\n",
      "\t0.0 ha of sup\n",
      "\t0.0 ha of intric\n",
      "\n",
      "The solution was found within 57 evaluations of VQE\n"
     ]
    }
   ],
   "source": [
    "# Get VQE result\n",
    "vqe_result, vqe_eval_count = get_quantum_solution_for(\"VQE\", quadprog, simulator_instance)\n",
    "\n",
    "# Format and print result\n",
    "print(\"Solution found using the VQE method:\\n\")\n",
    "print(f\"Maximum state is {vqe_result.fval} tons\")\n",
    "print(f\"Gates used are: \")\n",
    "for cropHectares, cropName in zip(vqe_result.x, vqe_result.variable_names):\n",
    "    print(f\"\\t{cropHectares} ha of {cropName}\")\n",
    "\n",
    "print(f\"\\nThe solution was found within {vqe_eval_count} evaluations of VQE\")"
   ]
  },
  {
   "cell_type": "code",
   "execution_count": null,
   "id": "67abf6b1",
   "metadata": {},
   "outputs": [],
   "source": []
  }
 ],
 "metadata": {
  "kernelspec": {
   "display_name": "Python 3",
   "language": "python",
   "name": "python3"
  },
  "language_info": {
   "codemirror_mode": {
    "name": "ipython",
    "version": 3
   },
   "file_extension": ".py",
   "mimetype": "text/x-python",
   "name": "python",
   "nbconvert_exporter": "python",
   "pygments_lexer": "ipython3",
   "version": "3.8.10"
  }
 },
 "nbformat": 4,
 "nbformat_minor": 5
}
