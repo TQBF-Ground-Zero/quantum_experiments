{
 "cells": [
  {
   "cell_type": "markdown",
   "metadata": {},
   "source": [
    "<h1>IBM Quantum Challenge Africa 2021</h1>\n",
    "<p style=\"font-size:xx-large;\">Introduction and the Crop-Yield Problem</p>"
   ]
  },
  {
   "cell_type": "markdown",
   "metadata": {},
   "source": [
    "Quantum Computing has the potential to revolutionize computing, as it can solve problems that are not possible to solve on a classical computer. This extra ability that quantum computers have is called quantum advantage. To achieve this goal, the world needs passionate and competent end-users: those who know how to apply the technology to their field.\n",
    "\n",
    "In this challenge you will be exposed, at a high-level, to quantum computing through Qiskit. As current or future users of quantum computers, you need to know what problems are appropriate for quantum computation, how to structure the problem model/inputs so that they are compatible with your chosen algorithm, and how to execute a given algorithm and quantum solution to solve the problem.\n",
    "\n",
    "This is the first notebook for the IBM Quantum Challenge Africa. Before starting here, ensure you have completed the Week 0 content in preparation for the following exercises."
   ]
  },
  {
   "cell_type": "markdown",
   "metadata": {},
   "source": [
    "## Initialization"
   ]
  },
  {
   "cell_type": "markdown",
   "metadata": {},
   "source": [
    "To ensure the demonstrations and exercises have the required Python modules and libraries, run the following cell before continuing."
   ]
  },
  {
   "cell_type": "code",
   "execution_count": 1,
   "metadata": {},
   "outputs": [],
   "source": [
    "# Import auxiliary libraries\n",
    "import numpy as np\n",
    "\n",
    "# Import Qiskit\n",
    "from qiskit import IBMQ, Aer\n",
    "from qiskit.algorithms import QAOA, VQE, NumPyMinimumEigensolver\n",
    "from qiskit.algorithms.optimizers import COBYLA\n",
    "from qiskit.utils import QuantumInstance, algorithm_globals\n",
    "from qiskit.providers.aer.noise.noise_model import NoiseModel\n",
    "\n",
    "from qiskit_optimization import QuadraticProgram\n",
    "from qiskit_optimization.algorithms import MinimumEigenOptimizer\n",
    "from qiskit_optimization.converters import QuadraticProgramToQubo\n",
    "\n",
    "import qiskit.test.mock as Fake"
   ]
  },
  {
   "cell_type": "markdown",
   "metadata": {},
   "source": [
    "## Table of Contents"
   ]
  },
  {
   "cell_type": "markdown",
   "metadata": {},
   "source": [
    "The notebook is structured as follows:"
   ]
  },
  {
   "cell_type": "markdown",
   "metadata": {},
   "source": [
    "1. Initialization\n",
    "2. Table of Contents\n",
    "3. Qiskit and its parts\n",
    "4. Setting up the Qiskit Environment\n",
    "5. Quadratic Problems\n",
    "6. Crop-Yield Problem as a Quadratic Problem\n",
    "7. Solving the Crop-Yield Problem using Quantum Computing\n",
    "8. Simulating a Real Quantum Computer for the Crop-Yield Problem"
   ]
  },
  {
   "cell_type": "markdown",
   "metadata": {},
   "source": [
    "## Qiskit and its parts"
   ]
  },
  {
   "cell_type": "markdown",
   "metadata": {},
   "source": [
    "Qiskit is divided into multiple modules for different purposes, with Terra at the core of the Qiskit ecosystem. It helps to be familiar with what each module can do and whether you will need to utilize the software contained within them for your specific problem. There are four modules that deal with the application of quantum computing; with tools and algorithms built specifically for their fields.\n",
    "\n",
    "Have a quick look at the [Qiskit documentation](https://qiskit.org/overview) and this IBM Research [blog post](https://www.ibm.com/blogs/research/2021/04/qiskit-application-modules/) to see what these modules are called. Once you have done so, you can complete the first exercise of the challenge: replace the ficticious module names, in the python cell below, with the correct module names. Though it would be fun to have a Qiskit Gaming module, it has not yet been developed. If you are interested in contributing to the open-source Qiskit community, have a look at the [contribution guide](https://qiskit.org/documentation/contributing_to_qiskit.html)."
   ]
  },
  {
   "cell_type": "markdown",
   "metadata": {},
   "source": [
    "### Exercise 1a: Qiskit Applications Modules"
   ]
  },
  {
   "cell_type": "code",
   "execution_count": 2,
   "metadata": {},
   "outputs": [],
   "source": [
    "# Definitely real Qiskit module names\n",
    "qiskit_module_names = [\n",
    "    \"Qiskit Nature\",\n",
    "    \"Qiskit Optimization\",\n",
    "    \"Qiskit Finance\",\n",
    "    \"Qiskit Machine Learning\",\n",
    "]"
   ]
  },
  {
   "cell_type": "markdown",
   "metadata": {},
   "source": [
    "Run the following python cell to check if you have the correct module names."
   ]
  },
  {
   "cell_type": "code",
   "execution_count": 11,
   "metadata": {},
   "outputs": [
    {
     "name": "stdout",
     "output_type": "stream",
     "text": [
      "Submitting your answer for ex1/partA. Please wait...\n",
      "Congratulations 🎉! Your answer is correct and has been submitted.\n"
     ]
    }
   ],
   "source": [
    "from qc_grader import grade_ex1a\n",
    "\n",
    "grade_ex1a(qiskit_module_names)"
   ]
  },
  {
   "cell_type": "markdown",
   "metadata": {},
   "source": [
    "### Qiskit Applications Modules"
   ]
  },
  {
   "cell_type": "markdown",
   "metadata": {},
   "source": [
    "In this notebook, we will use the `Qiskit Optimization` applications module for a specific problem to illustrate how\n",
    "\n",
    "1. classical and mathematical problem definitions are represented in Qiskit,\n",
    "2. some quantum algorithms are defined,\n",
    "3. to execute a quantum algorithm for a given problem definition,\n",
    "4. and algorithms and Qiskit problems are executed on real and simulated quantum computers.\n",
    "\n",
    "We will also be using Qiskit Terra and Aer as they provide the foundation of Qiskit and high-performance quantum simulators respectively."
   ]
  },
  {
   "cell_type": "markdown",
   "metadata": {},
   "source": [
    "## Quadratic Problems"
   ]
  },
  {
   "cell_type": "markdown",
   "metadata": {},
   "source": [
    "Some computational problems can be formulated into quadratic equations such that the minimum of the quadratic equations is the optimal solution, if any exist. These problems are encountered in finance, agriculture, operations and production management, and economics.\n",
    "\n",
    "Quadratic programming is also used to identify an optimal financial portfolio with minimum risk and optimizing the layout of production components in a factory to minimize the travel distance of resources. This notebook focuses on agriculture as it is a relevant application of quantum computing to problems facing the African continent. However, all of these applications share two common characteristics: the system can be modelled as a quadratic equation and the system variables may be constrained, with their values limited to within a given range.\n",
    "\n",
    "---\n",
    "\n",
    "Quadratic problems take on the following structure. Given a vector of $n$ variables $x\\in\\mathbb{R}^n$, the quadratic function to minimize is as follows.\n",
    "\n",
    "$$\n",
    "\\begin{align}\n",
    "\\text{minimize}\\quad & f\\left(x\\right)=\\frac{1}{2}x^\\top{}\\mathbf{Q}x + c^\\top{}x &\\\\\n",
    "\\text{subject to}\\quad & \\mathbf{A}x\\leq{}b&\\\\\n",
    "& x^\\top{}\\mathbf{Q}_ix + c_{i}^\\top{}x\\leq{}r_i,\\quad&\\forall{}i\\in[1,k_q]\\\\\n",
    "& l_i\\leq{}x_i\\leq{}u_i,\\quad&\\forall{}i\\in[1,k_l]\\\\\n",
    "\\end{align}\n",
    "$$\n",
    "\n",
    "$\\mathbf{Q}$, $\\mathbf{Q}_i$, and $\\mathbf{A}$ are $n\\times{}n$ symmetric matrices. $c$ and $c_i$ are $n\\times{}1$ column vectors. $\\mathbf{Q}_i$, $\\mathbf{A}$, $c_i$, $l_i$, and $u_i$ define constraints on the variables in $x$. The quadratic equation at the core of the quadratic problem is found by multiplying out the matrices in the minimization function. Though '$\\leq{}$' is used in the constraint equations above, any identity relationship may be used for any number of constraints: i.e. \"$<$\", \"$=$\", \"$>$\", \"$\\geq$\", or \"$\\leq$\".\n",
    "\n",
    "A valid solution to the quadratic must satisfy all conditions for the problem. Examples of some constraints are given below. The first two are linear constraints whereas the third example is a quadratic constraint.\n",
    "\n",
    "$$ x_1 + x_4 \\leq{} 10$$\n",
    "\n",
    "$$ x_2 - 3x_6 = 10$$\n",
    "\n",
    "$$x_1x_2 - 4x_3x_4 + x_5 \\leq{} 15 $$\n"
   ]
  },
  {
   "cell_type": "markdown",
   "metadata": {},
   "source": [
    "Qiskit has Python code that allows you to implement a quadratic problem as a `QuadraticProgram` instance. Though our definition above used matrices to define the coefficients, `QuadraticProgram` allows you to define the objective (function overwhich to minimize) directly. To illustrate how to use `QuadraticProgram`, we will use the following quadratic problem definition, with three integer variables.\n",
    "\n",
    "$$\\begin{align}\n",
    "\\text{minimize}\\quad{} & f(x)=(x_1)^2 + (x_2)^2 - x_1x_2 - 6x_3 \\\\\n",
    "\\text{subject to}\\quad{} & x_1 + x_2 = 2             \\\\\n",
    "                         & x_2x_3 \\geq{} 1           \\\\\n",
    "                         & -2 \\leq{} x_2 \\leq{} 2    \\\\\n",
    "                         & -2 \\leq{} x_3 \\leq{} 4    \\\\\n",
    "\\end{align}$$"
   ]
  },
  {
   "cell_type": "markdown",
   "metadata": {},
   "source": [
    "The figure below shows the constraints on $x_1$ and $x_3$, with some simplifcation. The shaded area denotes valid values for $x_1$ and $x_3$, within which $f(x)$ must be minimized."
   ]
  },
  {
   "cell_type": "markdown",
   "metadata": {},
   "source": [
    "<img src=\"quadratic_example.svg\" width=512px/>"
   ]
  },
  {
   "cell_type": "markdown",
   "metadata": {},
   "source": [
    "In the following code, the above quadratic problem is defined as a `QuadraticProgram` instance. Have a look at the [Qiskit documentation for `QuadraticProgram`](https://qiskit.org/documentation/stubs/qiskit.optimization.QuadraticProgram.html), as it can be very useful in helping your understanding of its interface.\n",
    "\n",
    "The quadratic to minimize, called an objective, is implemented using dictionaries. This allows you, the developer, to explicitly define coefficients for specific variables and terms. The keys in the dictionaries are the variable names identifying a term in $f(x)$. For example, `(\"x_1\",\"x_2\")` is for $x_1x_2$. The values for each item are the coefficients for said terms. Terms that are subtracted in $f(x)$ must have a negative coefficient."
   ]
  },
  {
   "cell_type": "code",
   "execution_count": 3,
   "metadata": {},
   "outputs": [
    {
     "data": {
      "text/plain": [
       "<qiskit_optimization.problems.quadratic_constraint.QuadraticConstraint at 0x7f2d2409d4f0>"
      ]
     },
     "execution_count": 3,
     "metadata": {},
     "output_type": "execute_result"
    }
   ],
   "source": [
    "quadprog = QuadraticProgram(name=\"example 1\")\n",
    "quadprog.integer_var(name=\"x_1\", lowerbound=0, upperbound=4)\n",
    "quadprog.integer_var(name=\"x_2\", lowerbound=-2, upperbound=2)\n",
    "quadprog.integer_var(name=\"x_3\", lowerbound=-2, upperbound=4)\n",
    "quadprog.minimize(\n",
    "    linear={\"x_3\": -6},\n",
    "    quadratic={(\"x_1\", \"x_1\"): 1, (\"x_2\", \"x_2\"): 1, (\"x_1\", \"x_2\"): -1},\n",
    ")\n",
    "quadprog.linear_constraint(linear={\"x_1\": 1, \"x_2\": 1}, sense=\"=\", rhs=2)\n",
    "quadprog.quadratic_constraint(quadratic={(\"x_2\", \"x_3\"): 1}, sense=\">=\", rhs=1)"
   ]
  },
  {
   "cell_type": "markdown",
   "metadata": {},
   "source": [
    "A `QuadraticProgram` can have three types of variables: binary, integer, and continuous. The Qiskit implementation of the algorithms we are going to use currently only support binary and integer variables. There are other algorithms that allow for the simulation of continuous variables, but they are not covered in this notebook. If you want to know more about them though, have a look at this Qiskit tutorial on [algorithms to solve mixed-variable quadratic problems](https://qiskit.org/documentation/tutorials/optimization/5_admm_optimizer.html)."
   ]
  },
  {
   "cell_type": "markdown",
   "metadata": {},
   "source": [
    "We can visualize the `QuadraticProgram` as an LP string, a portable text-based format used representating the model as a **L**inear **P**rogramming problem."
   ]
  },
  {
   "cell_type": "code",
   "execution_count": 4,
   "metadata": {},
   "outputs": [
    {
     "name": "stdout",
     "output_type": "stream",
     "text": [
      "\\ This file has been generated by DOcplex\n",
      "\\ ENCODING=ISO-8859-1\n",
      "\\Problem name: example 1\n",
      "\n",
      "Minimize\n",
      " obj: - 6 x_3 + [ 2 x_1^2 - 2 x_1*x_2 + 2 x_2^2 ]/2\n",
      "Subject To\n",
      " c0: x_1 + x_2 = 2\n",
      " q0: [ x_2*x_3 ] >= 1\n",
      "\n",
      "Bounds\n",
      "       x_1 <= 4\n",
      " -2 <= x_2 <= 2\n",
      " -2 <= x_3 <= 4\n",
      "\n",
      "Generals\n",
      " x_1 x_2 x_3\n",
      "End\n",
      "\n"
     ]
    }
   ],
   "source": [
    "print(quadprog.export_as_lp_string())"
   ]
  },
  {
   "cell_type": "markdown",
   "metadata": {},
   "source": [
    "Any optimization problem that can be represented as a single second-order equation, in that the greatest exponent of any term is 2, can be transformed into a quadratic problem or program of the form given above. The above example is arbitrary and does not necessarily represent a given real-world problem. The main problem of this notebook focuses on optimizing the yield of a farm, though only the problem definition need be changed to apply this technique to other quadratic problem applications."
   ]
  },
  {
   "cell_type": "markdown",
   "metadata": {},
   "source": [
    "## Crop-Yield Problem as a Quadratic Problem"
   ]
  },
  {
   "cell_type": "markdown",
   "metadata": {},
   "source": [
    "To show how to solve your quadratic program using a quantum computer, we will use two algorithms to solve the crop-yield problem. It is a common need to optimize the crops and management of a farm to reduce risk while increasing profits. One of the big challenges facing Africa and the whole world is how to produce enough food for everyone. The problem here focuses not on profits but on the tonnage of crops harvested. Imagine you have a farm with three hectares of land suitable for farming. You need to choose which crops to plant from a selection of four. Furthermore, you also need to determine how many hectares of each you should plant. The four crops you can plant are wheat, soybeans, maize, and a push-pull crop. The fourth cannot be sold once harvested but it can help increase the yield of the other crops.\n",
    "\n",
    "<table>\n",
    "    <tr>\n",
    "        <th>\n",
    "            <img src=\"farm_template.svg\" width=\"384px\"/>\n",
    "        </th>\n",
    "    </tr>\n",
    "    <tr>\n",
    "        <th>\n",
    "            Our beautiful three hectare farm\n",
    "        </th>\n",
    "    </tr>\n",
    "</table>\n",
    "\n",
    "<table>\n",
    "    <tr>\n",
    "        <th>\n",
    "        <img src=\"crop_wheat.svg\" width=\"256px\"/>\n",
    "        </th>\n",
    "        <th>\n",
    "            <img src=\"crop_soybeans.svg\" width=\"256px\"/>\n",
    "        </th>\n",
    "        <th>\n",
    "            <img src=\"crop_maize.svg\" width=\"256px\"/>\n",
    "        </th>\n",
    "        <th>\n",
    "            <img src=\"crop_pushpull.svg\" width=\"256px\"/>\n",
    "        </th>\n",
    "    </tr>\n",
    "    <tr>\n",
    "        <th>\n",
    "            Wheat\n",
    "        </th>\n",
    "        <th>\n",
    "            Soybeans\n",
    "        </th>\n",
    "        <th>\n",
    "            Maize\n",
    "        </th>\n",
    "        <th>\n",
    "            Push-Pull\n",
    "        </th>\n",
    "<!--         <th>\n",
    "            <p align=\"right\" style=\"height:32px;padding-top:10px;\">Wheat<img src=\"wheat.svg\" width=\"32px\" style=\"float:left;margin-top:-10px;margin-right:8px;\"/></p>\n",
    "        </th>\n",
    "        <th>\n",
    "            <p style=\"height:32px;padding-top:10px;\">Soybeans<img src=\"soybeans.svg\" width=\"32px\" style=\"float:left;margin-top:-10px;margin-right:8px;\"/></p>\n",
    "        </th>\n",
    "        <th>\n",
    "            <p style=\"height:32px;padding-top:10px;\">Maize<img src=\"maize.svg\" width=\"32px\" style=\"float:left;margin-top:-10px;margin-right:8px;\"/></p>\n",
    "        </th>\n",
    "        <th>\n",
    "            <p style=\"height:32px;padding-top:10px;\">Push-Pull<img src=\"pushpull.svg\" width=\"32px\" style=\"float:left;margin-top:-10px;margin-right:8px;\"/></p>\n",
    "        </th> -->\n",
    "    </tr>\n",
    "</table>\n",
    "\n",
    "There are three types of farming methods we can use: monocropping, intercropping, and push-pull farming. These are shown below. Monocropping is where only one crop is farmed. This is can make the farm susceptible to disease and pests as the entire yield would be affected. In some instances, growing two different plants nearby each other will increase the yield of both, though sometimes it can decrease the yield. Intercropping is the process where different plants are chosen to _increase_ the yield. Push-Pull crops are pairs of plants that repel pests and attract pests respectively. Integrating them into a larger farm increases the yield of harvested food but with the cost of not necessarily being able to use the harvest of Push-Pull crops as part of the total yield. This is because the Push-Pull crop may not be usable or even edible.\n",
    "\n",
    "<table>\n",
    "    <tr>\n",
    "        <th>\n",
    "        <img src=\"farm_mono.svg\" width=\"256px\"/>\n",
    "        </th>\n",
    "        <th>\n",
    "            <img src=\"farm_intercrop.svg\" width=\"256px\"/>\n",
    "        </th>\n",
    "        <th>\n",
    "            <img src=\"farm_intercrop_pushpull.svg\" width=\"256px\"/>\n",
    "        </th>\n",
    "    </tr>\n",
    "    <tr>\n",
    "        <th>\n",
    "            Monocropping\n",
    "        </th>\n",
    "        <th>\n",
    "            Intercropping\n",
    "        </th>\n",
    "        <th>\n",
    "            Push-Pull farming\n",
    "        </th>\n",
    "    </tr>\n",
    "</table>"
   ]
  },
  {
   "cell_type": "markdown",
   "metadata": {},
   "source": [
    "---\n",
    "Only in certain cases can quadratic programming problems be solved easily using classical problems. In their general sense, they are NP-Hard; a class of problems that is difficult to solve using classical computational methods. In fact, the best classical method to solve these problems involves heuristics, a technique that finds an approximate solution. Quantum Computers have been shown to provide significant speed-up and better scaling for some heuristic problems. The crop-yield problem is a combinatorial problem, in that the solution is a specific combination of input parameters. Though the problem shown here is small enough to solve classically, larger problems become intractable on a classical computer owing to the number of combinations of which to optimize.\n",
    "\n",
    "\n",
    "Solving the above problem using quantum computing involves three components:\n",
    "\n",
    "1. Defining the problem\n",
    "2. Defining the algorithm\n",
    "3. Executing the algorithm on a backend\n",
    "\n",
    "Many problems in Qiskit follow this structure as the algorithm you use can typically be swapped for another without significantly redefining your problem. Execution on different backends is the easiest, as long as the device has sufficient resource. The first component is given below, with the second and third in sections 1.5 and 1.6."
   ]
  },
  {
   "cell_type": "markdown",
   "metadata": {},
   "source": [
    "### Define the Crop-Yield problem"
   ]
  },
  {
   "cell_type": "markdown",
   "metadata": {},
   "source": [
    "The following problem is defined for you but the `QuadraticProgram` is not implemented. Your task at the end of this section is to implement the `QuadraticProgram` for the given crop-yield model.\n",
    "\n",
    "Your farm has three hectares available, $3~ha$, with each crop taking up $0~ha$ or $1~ha$. We define the yield of the farm as a quadratic function where the influence of each crop on eachother is represented by the quadratic coefficients. The variables in this quadratic are the number of hectares of the crop to be planted and the objective function to maximize is the yield of usable crops in tons. Here is the mathematical model for the problem. In this scenario, all crops increase the yield of other crops. However, the problem to solve is which crops to use to achieve the maximum yield."
   ]
  },
  {
   "cell_type": "markdown",
   "metadata": {},
   "source": [
    "<img src=\"qubo_problem_graphical_variables.svg\" width=\"534px\"/>\n",
    "\n",
    "The farm yield, in tons, is modelled as a quadratic equation, given below, with constraints on the hectares used by each crop and the total hectares available. Each crop is shown using a different symbol, as shown above, representing the number of hectares to be planted of said plant. Note that we can only plant up to 1 hectare of each crop and that our farm is constrained to 3 hectares.\n",
    "\n",
    "<img src=\"qubo_problem_graphical.svg\" width=\"400px\"/>"
   ]
  },
  {
   "cell_type": "markdown",
   "metadata": {},
   "source": [
    "----\n",
    "#### Non-graphical notation\n",
    "Here is a non-graphical representation of the above model, if you are struggling to interpret the above graphic.\n",
    "\n",
    "$$\n",
    "\\begin{align}\n",
    "    \\text{maximize} \\quad & 2(\\operatorname{Wheat}) + \\operatorname{Soybeans} + 4(\\operatorname{Maize}) \\\\\n",
    "    & + 2.4(\\operatorname{Wheat}\\times\\operatorname{Soybeans}) \\\\ & + 4(\\operatorname{Wheat}\\times\\operatorname{Maize})\\\\\n",
    "    &+ 4(\\operatorname{Wheat}\\times\\operatorname{PushPull}) \\\\ & + 2(\\operatorname{Soybeans}\\times\\operatorname{Maize}) \\\\\n",
    "                          & + (\\operatorname{Soybeans}\\times\\operatorname{PushPull}) \\\\ & + 5(\\operatorname{Maize}\\times\\operatorname{PushPull})\n",
    "\\end{align}\n",
    "$$\n",
    "\n",
    "$$\n",
    "\\begin{align}\n",
    "\\text{subject to} \\quad & \\operatorname{Wheat} + \\operatorname{Soybeans} + \\operatorname{Maize} + \\operatorname{PushPull} \\leq{} 3\\\\\n",
    "& 0\\leq{}\\operatorname{Wheat}\\leq{}1\\\\\n",
    "& 0\\leq{}\\operatorname{Soybeans}\\leq{}1\\\\\n",
    "& 0\\leq{}\\operatorname{Maize}\\leq{}1\\\\\n",
    "& 0\\leq{}\\operatorname{PushPull}\\leq{}1\n",
    "\\end{align}\n",
    "$$"
   ]
  },
  {
   "cell_type": "markdown",
   "metadata": {},
   "source": [
    "### Exercise 1b: Create Quadratic Program from crop-yield variables"
   ]
  },
  {
   "cell_type": "markdown",
   "metadata": {},
   "source": [
    "Your first exercise is to create a `QuadraticProgram` that represents the above model. Write your implementation in the `cropyield_quadratic_program` function below. Remember to use the example as a guide, and to look at the [QuadraticProgram documentation](https://qiskit.org/documentation/tutorials/optimization/1_quadratic_program.html?highlight=quadraticprogram) and [Qiskit reference](https://qiskit.org/documentation/stubs/qiskit.optimization.QuadraticProgram.html?highlight=quadraticprogram#qiskit.optimization.QuadraticProgram).\n",
    "\n",
    "**Note:** Ensure your variables are named `Wheat`, `Soybeans`, `Maize,` and `PushPull`. This is necessary for the grader to work."
   ]
  },
  {
   "cell_type": "code",
   "execution_count": 6,
   "metadata": {},
   "outputs": [
    {
     "name": "stdout",
     "output_type": "stream",
     "text": [
      "\\ This file has been generated by DOcplex\n",
      "\\ ENCODING=ISO-8859-1\n",
      "\\Problem name: Crop Yield\n",
      "\n",
      "Maximize\n",
      " obj: 2 Wheat + Soybeans + 4 Maize + [ 4.800000000000 Wheat*Soybeans\n",
      "      + 8 Wheat*Maize + 8 Wheat*PushPull + 4 Soybeans*Maize\n",
      "      + 2 Soybeans*PushPull + 10 Maize*PushPull ]/2\n",
      "Subject To\n",
      " c0: Wheat + Soybeans + Maize + PushPull <= 3\n",
      "\n",
      "Bounds\n",
      "       Wheat <= 1\n",
      "       Soybeans <= 1\n",
      "       Maize <= 1\n",
      "       PushPull <= 1\n",
      "\n",
      "Generals\n",
      " Wheat Soybeans Maize PushPull\n",
      "End\n",
      "\n"
     ]
    }
   ],
   "source": [
    "def cropyield_quadratic_program():\n",
    "    cropyield = QuadraticProgram(name=\"Crop Yield\")\n",
    "    ##############################\n",
    "    # Put your implementation here\n",
    "    \n",
    "    cropyield.integer_var(name=\"Wheat\", lowerbound=0, upperbound=1)\n",
    "    cropyield.integer_var(name=\"Soybeans\", lowerbound=0, upperbound=1)\n",
    "    cropyield.integer_var(name=\"Maize\", lowerbound=0, upperbound=1)\n",
    "    cropyield.integer_var(name=\"PushPull\", lowerbound=0, upperbound=1)\n",
    "    cropyield.maximize(\n",
    "        linear={\"Wheat\": 2, \"Soybeans\":1, \"Maize\":4},\n",
    "        quadratic={(\"Wheat\", \"Soybeans\"):2.4, \n",
    "                   (\"Wheat\", \"Maize\"):4, \n",
    "                   (\"Wheat\", \"PushPull\"):4, \n",
    "                   (\"Soybeans\", \"Maize\"):2, \n",
    "                   (\"Soybeans\", \"PushPull\"):1,\n",
    "                   (\"Maize\", \"PushPull\"):5}\n",
    "    )\n",
    "    cropyield.linear_constraint(linear={\"Wheat\":1, \"Soybeans\":1, \"Maize\":1, \"PushPull\":1}, sense=\"<=\", rhs=3)\n",
    "    #cropyield.quadratic_constraint(quadratic={\"Wheat\":1, \"Soybeans\":1, \"Maize\":1, \"PushPull\":1}, sense=\"<=\", rhs=3)\n",
    "    \n",
    "    \n",
    "\n",
    "\n",
    "    #\n",
    "    ##############################\n",
    "    return cropyield\n",
    "\n",
    "cropyield = cropyield_quadratic_program()\n",
    "print(cropyield.export_as_lp_string())"
   ]
  },
  {
   "cell_type": "markdown",
   "metadata": {},
   "source": [
    "Once you feel your implementation is correct, you can grade your solution in the following cell."
   ]
  },
  {
   "cell_type": "code",
   "execution_count": 64,
   "metadata": {},
   "outputs": [
    {
     "name": "stdout",
     "output_type": "stream",
     "text": [
      "Submitting your answer for ex1/partB. Please wait...\n",
      "Congratulations 🎉! Your answer is correct and has been submitted.\n"
     ]
    }
   ],
   "source": [
    "# Execute this cell to grade your solution\n",
    "from qc_grader import grade_ex1b\n",
    "\n",
    "cropyield = cropyield_quadratic_program()\n",
    "grade_ex1b(cropyield)"
   ]
  },
  {
   "cell_type": "markdown",
   "metadata": {},
   "source": [
    "### Converting QuadraticPrograms"
   ]
  },
  {
   "cell_type": "markdown",
   "metadata": {},
   "source": [
    "If we want to estimate how many qubits this quadratic program requires, we can convert it to an Ising Model and print the `num_qubits` parameter. An [ising model](https://qiskit.org/documentation/apidoc/qiskit.optimization.applications.ising.html?highlight=ising) is a special system model type that is well suited for quantum computing. Though we will not be using an ising model explicitly, the algorithms and Qiskit classes we are using do this conversion internally."
   ]
  },
  {
   "cell_type": "code",
   "execution_count": 7,
   "metadata": {},
   "outputs": [
    {
     "name": "stdout",
     "output_type": "stream",
     "text": [
      "Number of qubits required is 6\n"
     ]
    }
   ],
   "source": [
    "# Estimate the number of qubits required\n",
    "ising_operations, _ = (\n",
    "    QuadraticProgramToQubo()\n",
    "    .convert(\n",
    "        cropyield,\n",
    "    )\n",
    "    .to_ising()\n",
    ")\n",
    "print(f\"Number of qubits required is {ising_operations.num_qubits}\")"
   ]
  },
  {
   "cell_type": "markdown",
   "metadata": {},
   "source": [
    "Even though quadratic programs are widely used in Qiskit, the algorithms we are going to use require binary variables. Qiskit provides an automated method for converting our integer variables into binary variables. The binary-only form is called a _Quadratic Unconstrained Binary Optimization_ problem, or `QUBO`. The conversion is done using `QuadraticProgramToQUBO` from the Qiskit optimization module. Every integer variable, and their associated constraints, are transformed into binary variables.\n",
    "\n",
    "Run the following code to see how the QUBO version of the cropyield problem looks. Notice how the quadratic becomes longer and more variables are added. This is to account for the bits in each variable, including the constraints. When we run our quantum algorithm to solve this QuadraticProgram, it is converted to a QUBO instance within the Qiskit algorith implementation, implicitly."
   ]
  },
  {
   "cell_type": "code",
   "execution_count": 8,
   "metadata": {},
   "outputs": [
    {
     "data": {
      "text/plain": [
       "\\ This file has been generated by DOcplex\n",
       "\\ ENCODING=ISO-8859-1\n",
       "\\Problem name: Crop Yield\n",
       "\n",
       "Minimize\n",
       " obj: - 160.400000000000 Wheat@0 - 159.400000000000 Soybeans@0\n",
       "      - 162.400000000000 Maize@0 - 158.400000000000 PushPull@0\n",
       "      - 158.400000000000 c0@int_slack@0 - 316.800000000000 c0@int_slack@1 + [\n",
       "      52.800000000000 Wheat@0^2 + 100.800000000000 Wheat@0*Soybeans@0\n",
       "      + 97.600000000000 Wheat@0*Maize@0 + 97.600000000000 Wheat@0*PushPull@0\n",
       "      + 105.600000000000 Wheat@0*c0@int_slack@0\n",
       "      + 211.200000000000 Wheat@0*c0@int_slack@1 + 52.800000000000 Soybeans@0^2\n",
       "      + 101.600000000000 Soybeans@0*Maize@0\n",
       "      + 103.600000000000 Soybeans@0*PushPull@0\n",
       "      + 105.600000000000 Soybeans@0*c0@int_slack@0\n",
       "      + 211.200000000000 Soybeans@0*c0@int_slack@1 + 52.800000000000 Maize@0^2\n",
       "      + 95.600000000000 Maize@0*PushPull@0\n",
       "      + 105.600000000000 Maize@0*c0@int_slack@0\n",
       "      + 211.200000000000 Maize@0*c0@int_slack@1 + 52.800000000000 PushPull@0^2\n",
       "      + 105.600000000000 PushPull@0*c0@int_slack@0\n",
       "      + 211.200000000000 PushPull@0*c0@int_slack@1\n",
       "      + 52.800000000000 c0@int_slack@0^2\n",
       "      + 211.200000000000 c0@int_slack@0*c0@int_slack@1\n",
       "      + 211.200000000000 c0@int_slack@1^2 ]/2 + 237.600000000000\n",
       "Subject To\n",
       "\n",
       "Bounds\n",
       " 0 <= Wheat@0 <= 1\n",
       " 0 <= Soybeans@0 <= 1\n",
       " 0 <= Maize@0 <= 1\n",
       " 0 <= PushPull@0 <= 1\n",
       " 0 <= c0@int_slack@0 <= 1\n",
       " 0 <= c0@int_slack@1 <= 1\n",
       "\n",
       "Binaries\n",
       " Wheat@0 Soybeans@0 Maize@0 PushPull@0 c0@int_slack@0 c0@int_slack@1\n",
       "End"
      ]
     },
     "execution_count": 8,
     "metadata": {},
     "output_type": "execute_result"
    }
   ],
   "source": [
    "QuadraticProgramToQubo().convert(cropyield)"
   ]
  },
  {
   "cell_type": "markdown",
   "metadata": {},
   "source": [
    "## Solving the Crop-Yield Problem using a Quantum Computer"
   ]
  },
  {
   "cell_type": "markdown",
   "metadata": {},
   "source": [
    "There are three ways to _run_ a quantum algorithm using Qiskit:\n",
    "1. on a simulator locally on your own machine\n",
    "2. on a simulator hosted in the cloud by IBM\n",
    "3. on an actual quantum computer accessible through IBM Quantum.\n",
    "\n",
    "All of these are called backends. In all cases, the _backend_ can easily be swapped for another as long as the simulator or device has appropriate resources (number of qubits etc.). In the code below, we show how to access different backends. We demonstrate this using the local Aer QASM simulator from Qiskit. The Aer QASM simulator models the physical properties of a real quantum computer so you, researchers, and developers can test their quantum computing code and algorithms before running on real devices."
   ]
  },
  {
   "cell_type": "code",
   "execution_count": 9,
   "metadata": {},
   "outputs": [],
   "source": [
    "# We will use the Aer provided QASM simulator\n",
    "backend = Aer.get_backend(\"qasm_simulator\")\n",
    "\n",
    "# Given we are using a simulator, we will fix the algorithm seed to ensure our results are reproducible\n",
    "algorithm_globals.random_seed = 271828"
   ]
  },
  {
   "cell_type": "markdown",
   "metadata": {},
   "source": [
    "We would like to compare our quantum solution to that obtained classically. Secondly, we also want to try different algorithms. The following three subsections show how these different methods for solving the Crop-Yield problem are implemented in Qiskit. The two algorithms used are the [_Quantum Approximate Optimization Algorithm_](https://qiskit.org/documentation/stubs/qiskit.algorithms.QAOA.html?highlight=qaoa#qiskit.algorithms.QAOA) `QAOA` and the [_Variational Quantum Eigensolver_](https://qiskit.org/documentation/stubs/qiskit.algorithms.VQE.html?highlight=vqe#qiskit.algorithms.VQE) `VQE`.\n",
    "\n",
    "Both of these algorithms are hybrid, in that they use a classical _optimizer_ to alter parameters that affect the quantum computation. The VQE algorithm is used to find the lowest eigenvalue of a matrix, which can describe a system to optimize. The QAOA also finds the lowest eigenvalue, but achieves this is a different way to VQE. Both are very popular algorithms, with varying applications and strengths."
   ]
  },
  {
   "cell_type": "markdown",
   "metadata": {},
   "source": [
    "### Classical Solution"
   ]
  },
  {
   "cell_type": "markdown",
   "metadata": {},
   "source": [
    "The classical solution to the crop-yield problem can easily be found using Numpy and Qiskit. The QUBO problem can be solved by finding the minimum eigenvalue of its underlying matrix representation. Fortunately, we don't have to know what this matrix looks like. We only need to pass it to a `MinimumEigensolver` and `MinimumEigenOptimizer`.\n",
    "\n",
    "The optimizer translates the provided problem into a parameterised representation which is then passed to the solver. By optimizing the paramters, the solver will eventually give the minimum eigenvalue for the parameterized representation and thus the solution to the original problem. Here we use a classical solver from NumPy, the `NumPyMinimumEigensolver`."
   ]
  },
  {
   "cell_type": "code",
   "execution_count": 10,
   "metadata": {},
   "outputs": [],
   "source": [
    "def get_classical_solution_for(quadprog: QuadraticProgram):\n",
    "    # Create solver\n",
    "    solver = NumPyMinimumEigensolver()\n",
    "\n",
    "    # Create optimizer for solver\n",
    "    optimizer = MinimumEigenOptimizer(solver)\n",
    "\n",
    "    # Return result from optimizer\n",
    "    return optimizer.solve(quadprog)"
   ]
  },
  {
   "cell_type": "markdown",
   "metadata": {},
   "source": [
    "If we execute the classical method for our crop-yield problem, we get a valid solution that maximises the yield."
   ]
  },
  {
   "cell_type": "code",
   "execution_count": 11,
   "metadata": {},
   "outputs": [
    {
     "name": "stdout",
     "output_type": "stream",
     "text": [
      "Solution found using the classical method:\n",
      "\n",
      "Maximum crop-yield is 19.0 tons\n",
      "Crops used are: \n",
      "\t1.0 ha of Wheat\n",
      "\t0.0 ha of Soybeans\n",
      "\t1.0 ha of Maize\n",
      "\t1.0 ha of PushPull\n"
     ]
    }
   ],
   "source": [
    "# Get classical result\n",
    "classical_result = get_classical_solution_for(cropyield)\n",
    "\n",
    "# Format and print result\n",
    "print(\"Solution found using the classical method:\\n\")\n",
    "print(f\"Maximum crop-yield is {classical_result.fval} tons\")\n",
    "print(f\"Crops used are: \")\n",
    "\n",
    "_crops = [v.name for v in cropyield.variables]\n",
    "for cropIndex, cropHectares in enumerate(classical_result.x):\n",
    "    print(f\"\\t{cropHectares} ha of {_crops[cropIndex]}\")"
   ]
  },
  {
   "cell_type": "markdown",
   "metadata": {},
   "source": [
    "### QAOA Solution"
   ]
  },
  {
   "cell_type": "markdown",
   "metadata": {},
   "source": [
    "To solve our problem using QAOA, we need only replace the classical_solver with a `QAOA` class instance. Now that we are running a quantum algorithm, we need to tell the solver where to execute the quantum component. We use a `QuantumInstance` to store the backend information. The QAOA is an iterative algorithm, and thus is run multiple times with different internal parameters. The parameters are tuned classically during the optimization step of the computation by `optimizer`. If we leave `optimizer` as `None`, our algorithms will use the default optimization algorithm. To determine how many iterations there are, we define a callback function that runs for each iteration and stores the number of evaluations thus far. At the end of our algorithm execution, we return the result and the number of iterations."
   ]
  },
  {
   "cell_type": "code",
   "execution_count": 12,
   "metadata": {},
   "outputs": [],
   "source": [
    "def get_QAOA_solution_for(\n",
    "    quadprog: QuadraticProgram, quantumInstance: QuantumInstance, optimizer=None,\n",
    "):\n",
    "    _eval_count = 0\n",
    "\n",
    "    def callback(eval_count, parameters, mean, std):\n",
    "        nonlocal _eval_count\n",
    "        _eval_count = eval_count\n",
    "\n",
    "    # Create solver\n",
    "    solver = QAOA(\n",
    "        optimizer=optimizer, quantum_instance=quantumInstance, callback=callback,\n",
    "    )\n",
    "\n",
    "    # Create optimizer for solver\n",
    "    optimizer = MinimumEigenOptimizer(solver)\n",
    "\n",
    "    # Get result from optimizer\n",
    "    result = optimizer.solve(quadprog)\n",
    "    return result, _eval_count"
   ]
  },
  {
   "cell_type": "markdown",
   "metadata": {},
   "source": [
    "If we execute the QAOA method for our crop-yield problem, we get the same result as the classical method, showing that 1) the quantum solution is correct and 2) that you now know how to use a quantum algorithm! 🌟"
   ]
  },
  {
   "cell_type": "code",
   "execution_count": 13,
   "metadata": {},
   "outputs": [
    {
     "name": "stdout",
     "output_type": "stream",
     "text": [
      "Solution found using the QAOA method:\n",
      "\n",
      "Maximum crop-yield is 19.0 tons\n",
      "Crops used are: \n",
      "\t1.0 ha of Wheat\n",
      "\t0.0 ha of Soybeans\n",
      "\t1.0 ha of Maize\n",
      "\t1.0 ha of PushPull\n",
      "\n",
      "The solution was found within 3 evaluations of QAOA.\n"
     ]
    }
   ],
   "source": [
    "# Create a QuantumInstance\n",
    "simulator_instance = QuantumInstance(\n",
    "    backend=backend,\n",
    "    seed_simulator=algorithm_globals.random_seed,\n",
    "    seed_transpiler=algorithm_globals.random_seed,\n",
    ")\n",
    "\n",
    "# Get QAOA result\n",
    "qaoa_result, qaoa_eval_count = get_QAOA_solution_for(cropyield, simulator_instance)\n",
    "\n",
    "# Format and print result\n",
    "print(\"Solution found using the QAOA method:\\n\")\n",
    "print(f\"Maximum crop-yield is {qaoa_result.fval} tons\")\n",
    "print(f\"Crops used are: \")\n",
    "for cropHectares, cropName in zip(qaoa_result.x, qaoa_result.variable_names):\n",
    "    print(f\"\\t{cropHectares} ha of {cropName}\")\n",
    "\n",
    "print(f\"\\nThe solution was found within {qaoa_eval_count} evaluations of QAOA.\")"
   ]
  },
  {
   "cell_type": "markdown",
   "metadata": {},
   "source": [
    "### VQE Solution"
   ]
  },
  {
   "cell_type": "markdown",
   "metadata": {},
   "source": [
    "The `VQE` algorithm works in a very similar way to the `QAOA`. Not only in a mathematical modelling and algorithmic perspective, but also programmatically. There is a quantum solver and a classical optimizer. The `VQE` instance is also iterative, and so we can measure how many iterations are needed to find a solution to the Crop-Yield problem."
   ]
  },
  {
   "cell_type": "code",
   "execution_count": 14,
   "metadata": {},
   "outputs": [],
   "source": [
    "def get_VQE_solution_for(\n",
    "    quadprog: QuadraticProgram, quantumInstance: QuantumInstance, optimizer=None,\n",
    "):\n",
    "    _eval_count = 0\n",
    "\n",
    "    def callback(eval_count, parameters, mean, std):\n",
    "        nonlocal _eval_count\n",
    "        _eval_count = eval_count\n",
    "\n",
    "    # Create solver and optimizer\n",
    "    solver = VQE(\n",
    "        optimizer=optimizer, quantum_instance=quantumInstance, callback=callback\n",
    "    )\n",
    "\n",
    "    # Create optimizer for solver\n",
    "    optimizer = MinimumEigenOptimizer(solver)\n",
    "\n",
    "    # Get result from optimizer\n",
    "    result = optimizer.solve(quadprog)\n",
    "    return result, _eval_count"
   ]
  },
  {
   "cell_type": "markdown",
   "metadata": {},
   "source": [
    "And we should get the exact same answer as before."
   ]
  },
  {
   "cell_type": "code",
   "execution_count": 15,
   "metadata": {},
   "outputs": [
    {
     "name": "stdout",
     "output_type": "stream",
     "text": [
      "Solution found using the VQE method:\n",
      "\n",
      "Maximum crop-yield is 19.0 tons\n",
      "Crops used are: \n",
      "\t1.0 ha of Wheat\n",
      "\t0.0 ha of Soybeans\n",
      "\t1.0 ha of Maize\n",
      "\t1.0 ha of PushPull\n",
      "\n",
      "The solution was found within 25 evaluations of VQE\n"
     ]
    }
   ],
   "source": [
    "# Create a QuantumInstance\n",
    "simulator_instance = QuantumInstance(\n",
    "    backend=backend,\n",
    "    seed_simulator=algorithm_globals.random_seed,\n",
    "    seed_transpiler=algorithm_globals.random_seed,\n",
    ")\n",
    "\n",
    "# Get VQE result\n",
    "vqe_result, vqe_eval_count = get_VQE_solution_for(cropyield, simulator_instance)\n",
    "\n",
    "# Format and print result\n",
    "print(\"Solution found using the VQE method:\\n\")\n",
    "print(f\"Maximum crop-yield is {vqe_result.fval} tons\")\n",
    "print(f\"Crops used are: \")\n",
    "for cropHectares, cropName in zip(vqe_result.x, vqe_result.variable_names):\n",
    "    print(f\"\\t{cropHectares} ha of {cropName}\")\n",
    "\n",
    "print(f\"\\nThe solution was found within {vqe_eval_count} evaluations of VQE\")"
   ]
  },
  {
   "cell_type": "markdown",
   "metadata": {},
   "source": [
    "### Exercise 1c: Classical and Quantum Computational Results"
   ]
  },
  {
   "cell_type": "markdown",
   "metadata": {},
   "source": [
    "From the above computations you received six results, the maximum crop-yield and the number of evaluations for three different methods. The maximum yield values should be the same. If your yield values aren't all the same, rerun the algorithms. Sometimes the optimization process can miss the correct answer because of the randomness used to initialize the algorithm parameters.\n",
    "\n",
    "Run the code cell below to see if the maximum yields you computed are correct."
   ]
  },
  {
   "cell_type": "code",
   "execution_count": 74,
   "metadata": {},
   "outputs": [
    {
     "name": "stdout",
     "output_type": "stream",
     "text": [
      "Submitting your answer for ex1/partC. Please wait...\n",
      "Congratulations 🎉! Your answer is correct and has been submitted.\n"
     ]
    }
   ],
   "source": [
    "from qc_grader import grade_ex1c\n",
    "\n",
    "max_yield_qaoa = qaoa_result.fval\n",
    "max_yield_vqe = vqe_result.fval\n",
    "\n",
    "grade_ex1c(tonnage_qaoa=max_yield_qaoa, tonnage_vqe=max_yield_vqe)"
   ]
  },
  {
   "cell_type": "markdown",
   "metadata": {},
   "source": [
    "_You could always verify your result with the classical method, though this is only possible here given the size of the problem. Larger problems become more difficult to verify._"
   ]
  },
  {
   "cell_type": "markdown",
   "metadata": {},
   "source": [
    "## Simulating a Real Quantum Computer for the Crop-Yield Problem"
   ]
  },
  {
   "cell_type": "markdown",
   "metadata": {},
   "source": [
    "Sometimes one would want to _simulate_ a real quantum computer to see how the actual hardware may impact the performance of the algorithm. All quantum computers have an underlying architecture, different noise characeristics, and error rates. These three aspects impact how well the algorithm can perform on a given deivce. To test the impact a given quantum computer has on the QAOA instance, we can utilize a _fake_ instance of the device in Qiskit to tell our simulator what parameters to use. In this example we will be simulating `ibmq_johannesburg`, a device named after the city of Johannesburg in South Africa."
   ]
  },
  {
   "cell_type": "code",
   "execution_count": 16,
   "metadata": {},
   "outputs": [],
   "source": [
    "fake_device = Fake.FakeJohannesburg()"
   ]
  },
  {
   "cell_type": "markdown",
   "metadata": {},
   "source": [
    "We can inspect what this device _looks_ like using the Qiskit Jupyter tools, shown below. You do not need to know about this structure to execute quantum programs on a device, but it is useful to visualize the parameters."
   ]
  },
  {
   "cell_type": "code",
   "execution_count": 17,
   "metadata": {},
   "outputs": [
    {
     "data": {
      "application/vnd.jupyter.widget-view+json": {
       "model_id": "55224792f7f14ef68de4ba89c9baf6bd",
       "version_major": 2,
       "version_minor": 0
      },
      "text/plain": [
       "VBox(children=(HTML(value=\"<h1 style='color:#ffffff;background-color:#000000;padding-top: 1%;padding-bottom: 1…"
      ]
     },
     "metadata": {},
     "output_type": "display_data"
    },
    {
     "data": {
      "text/plain": [
       "<FakeJohannesburg('fake_johannesburg')>"
      ]
     },
     "execution_count": 17,
     "metadata": {},
     "output_type": "execute_result"
    }
   ],
   "source": [
    "import qiskit.tools.jupyter\n",
    "\n",
    "fake_device"
   ]
  },
  {
   "cell_type": "markdown",
   "metadata": {},
   "source": [
    "The three aforementioned components of a quantum computer are represented as a noise model, coupling map, and the basis gate set. The noise model is a representation of how the noise and errors in the computer behave. The coupling map and basis gate set are core to the architecture of the device. The coupling map represents how the physical qubits can interact whereas the basis gate set is analogous to the set of fundamental computatonal instructions we can use. You can see the coupling map in the above widget as the lines connecting each qubit in the architecture diagram.\n",
    "\n",
    "To simulate `ibmq_johannesburg`, we must pass these three components to our Aer simulator."
   ]
  },
  {
   "cell_type": "code",
   "execution_count": 18,
   "metadata": {},
   "outputs": [],
   "source": [
    "# Create the noise model, which contains the basis gate set\n",
    "noise_model = NoiseModel.from_backend(fake_device)\n",
    "\n",
    "# Get the coupling map\n",
    "coupling_map = fake_device.configuration().coupling_map"
   ]
  },
  {
   "cell_type": "markdown",
   "metadata": {},
   "source": [
    "Next we create a new `QuantumInstance` with these parameters"
   ]
  },
  {
   "cell_type": "code",
   "execution_count": 19,
   "metadata": {},
   "outputs": [],
   "source": [
    "fake_instance = QuantumInstance(\n",
    "    backend=backend,\n",
    "    basis_gates=noise_model.basis_gates,\n",
    "    coupling_map=coupling_map,\n",
    "    noise_model=noise_model,\n",
    "    seed_simulator=algorithm_globals.random_seed,\n",
    "    seed_transpiler=algorithm_globals.random_seed,\n",
    ")"
   ]
  },
  {
   "cell_type": "markdown",
   "metadata": {},
   "source": [
    "We can then execute the `QAOA` from before on this new _fake_ quantum device."
   ]
  },
  {
   "cell_type": "code",
   "execution_count": 20,
   "metadata": {},
   "outputs": [
    {
     "name": "stdout",
     "output_type": "stream",
     "text": [
      "Solution found using the QAOA method:\n",
      "\n",
      "Maximum crop-yield is 19.0 tons\n",
      "Crops used are: \n",
      "\t1.0 ha of Wheat\n",
      "\t0.0 ha of Soybeans\n",
      "\t1.0 ha of Maize\n",
      "\t1.0 ha of PushPull\n",
      "\n",
      "The solution was found within 3 evaluations of QAOA.\n"
     ]
    }
   ],
   "source": [
    "# Get QAOA result\n",
    "qaoa_result, qaoa_eval_count = get_QAOA_solution_for(cropyield, fake_instance)\n",
    "\n",
    "# Format and print result\n",
    "print(\"Solution found using the QAOA method:\\n\")\n",
    "print(f\"Maximum crop-yield is {qaoa_result.fval} tons\")\n",
    "print(f\"Crops used are: \")\n",
    "for cropHectares, cropName in zip(qaoa_result.x, qaoa_result.variable_names):\n",
    "    print(f\"\\t{cropHectares} ha of {cropName}\")\n",
    "\n",
    "print(f\"\\nThe solution was found within {qaoa_eval_count} evaluations of QAOA.\")"
   ]
  },
  {
   "cell_type": "markdown",
   "metadata": {},
   "source": [
    "### Scaling of the Quantum Solution vs Classical"
   ]
  },
  {
   "cell_type": "markdown",
   "metadata": {},
   "source": [
    "When we created our quadratic program for the crop-yield problem, we saw that the Ising Model required 6 qubits. We had constrained our problem such that we could only plant up to 1 hectare per crop. However, we could change the model so that we can plot 3 hectares per crop, upto our maximum available farm area of 3 hectares.\n",
    "\n",
    "How many qubits would this ising model require?\n",
    "\n",
    "---\n",
    "\n",
    "Furthermore, what if we had more land to farm? We know that this problem is NP-Hard and thus classical solutions are mostly found using heuristics. This is the core reason why quantum computers are promising to solve these kinds of problems. But what are the resource requirements for the quantum solution, with a larger farm and crops that can be planted in more hectares?\n",
    "\n",
    "To illustrate this, we've provided a function that returns the number of qubits required by the underlying Ising Model for the Crop-Yield Problem. We then see the estimated number of qubits needed for different problem parameters. Feel free to modify the variables being used to see how the qubit resource requirements change."
   ]
  },
  {
   "cell_type": "code",
   "execution_count": 21,
   "metadata": {
    "scrolled": true
   },
   "outputs": [
    {
     "name": "stdout",
     "output_type": "stream",
     "text": [
      "Optimizing a 10 ha farm with each crop taking up to 10 ha each, the computation is estimated to require 20 qubits.\n"
     ]
    }
   ],
   "source": [
    "# Function to estimate the number of qubits required\n",
    "def estimate_number_of_qubits_required_for(max_hectares_per_crop, hectares_available):\n",
    "    return int(\n",
    "        4 * np.ceil(np.log2(max_hectares_per_crop + 1))\n",
    "        + np.ceil(np.log2(hectares_available + 1))\n",
    "    )\n",
    "\n",
    "\n",
    "# Our new problem parameters\n",
    "hectares_available = 10\n",
    "max_hectares_per_crop = 10\n",
    "\n",
    "# Retrieving the number of qubits required\n",
    "number_of_qubits_required = estimate_number_of_qubits_required_for(\n",
    "    max_hectares_per_crop=max_hectares_per_crop, hectares_available=hectares_available\n",
    ")\n",
    "\n",
    "print(\n",
    "    f\"Optimizing a {hectares_available} ha farm with each crop taking up to {max_hectares_per_crop} ha each,\",\n",
    "    f\"the computation is estimated to require {number_of_qubits_required} qubits.\",\n",
    ")"
   ]
  },
  {
   "cell_type": "markdown",
   "metadata": {},
   "source": [
    "The number of qubits required is related to the constraints in the quadratic program and how the integer variables are converted to binary variables. In fact, the scaling of the number of qubits, as a function of the hectares available, is logarithmic in nature; owing to this conversion."
   ]
  },
  {
   "cell_type": "markdown",
   "metadata": {},
   "source": [
    "## Running on real quantum hardware"
   ]
  },
  {
   "cell_type": "markdown",
   "metadata": {},
   "source": [
    "To use the IBM Quantum platform is easy. First you need to load the account you enabled in the week 0 content. If you didn't complete this, follow this [quick guide](https://quantum-computing.ibm.com/lab/docs/iql/manage/account/ibmq) on connecting your IBM Quantum account with Qiskit in python and Jupyter."
   ]
  },
  {
   "cell_type": "code",
   "execution_count": 24,
   "metadata": {},
   "outputs": [
    {
     "name": "stderr",
     "output_type": "stream",
     "text": [
      "ibmqfactory.load_account:WARNING:2021-09-13 08:47:44,561: Credentials are already in use. The existing account in the session will be replaced.\n"
     ]
    },
    {
     "data": {
      "text/plain": [
       "<AccountProvider for IBMQ(hub='ibm-q', group='open', project='main')>"
      ]
     },
     "execution_count": 24,
     "metadata": {},
     "output_type": "execute_result"
    }
   ],
   "source": [
    "IBMQ.load_account()"
   ]
  },
  {
   "cell_type": "markdown",
   "metadata": {},
   "source": [
    "IBM Quantum backends are accessed through a provider, which manages the devices to which you have access. For this challenge, you have access to the new `ibm_perth` quantum computer! Typically, you would find your provider details under your [IBM Quantum account details](https://quantum-computing.ibm.com/account). Under your account you can see the different hubs, groups, and projects you are a part of. Qiskit allows us to retrieve a provider using just the hub, group, and project as follows:\n",
    "\n",
    "```python\n",
    "provider = IBMQ.get_provider(hub=\"ibm-q\", group=\"open\", project=\"main\")\n",
    "```\n",
    "\n",
    "However, because we have given you special access for this challenge, we are going to retrive the provider using a different method. Execute the code cell below to retrieve the correct provider."
   ]
  },
  {
   "cell_type": "code",
   "execution_count": 25,
   "metadata": {},
   "outputs": [
    {
     "name": "stdout",
     "output_type": "stream",
     "text": [
      "Yay! The expected provider was found!\n"
     ]
    }
   ],
   "source": [
    "provider = None\n",
    "for prov in IBMQ.providers():\n",
    "    if (\n",
    "        \"iqc-africa-21\" in prov.credentials.hub\n",
    "        and \"q-challenge\" in prov.credentials.group\n",
    "        and \"ex1\" in prov.credentials.project\n",
    "    ):\n",
    "        # Correct provider found\n",
    "        provider = prov\n",
    "        \n",
    "if provider == None:\n",
    "    print(\"ERROR: The expected provider was not found!\")\n",
    "else:\n",
    "    print(\"Yay! The expected provider was found!\")"
   ]
  },
  {
   "cell_type": "markdown",
   "metadata": {},
   "source": [
    "If the above code cell returned an error, you may not yet have access to the real quantum computer. The list of participants is updated daily, so you may have to wait some time before the correct provider appears. If you need assistance, send a message to the challenge Slack channel [#challenge-africa-2021](https://qiskit.slack.com/archives/C02C8MKP153) and make sure to tag the admin team with [@africa_admin](#)."
   ]
  },
  {
   "cell_type": "markdown",
   "metadata": {},
   "source": [
    "------\n",
    "\n",
    "To retrieve a backend from the provider, one needs only request it by name. For example, we can request `ibm_perth` as follows."
   ]
  },
  {
   "cell_type": "code",
   "execution_count": 26,
   "metadata": {},
   "outputs": [],
   "source": [
    "backend_real = provider.get_backend(\"ibm_perth\")"
   ]
  },
  {
   "cell_type": "markdown",
   "metadata": {},
   "source": [
    "We can also list all backends available through a given backend. In this example we use the _open_ provider as it has access to all open devices and simulators, instead of the limited few for the challenge."
   ]
  },
  {
   "cell_type": "code",
   "execution_count": 27,
   "metadata": {},
   "outputs": [
    {
     "name": "stdout",
     "output_type": "stream",
     "text": [
      "ibmq_qasm_simulator\n",
      "ibmq_armonk\n",
      "ibmq_santiago\n",
      "ibmq_bogota\n",
      "ibmq_lima\n",
      "ibmq_belem\n",
      "ibmq_quito\n",
      "simulator_statevector\n",
      "simulator_mps\n",
      "simulator_extended_stabilizer\n",
      "simulator_stabilizer\n",
      "ibmq_manila\n"
     ]
    }
   ],
   "source": [
    "for _backend in IBMQ.get_provider(hub='ibm-q', group='open', project='main').backends():\n",
    "    print(_backend.name())"
   ]
  },
  {
   "cell_type": "markdown",
   "metadata": {},
   "source": [
    "Qiskit provides visual tools to view backend information in a jupyter notebook. To accomplish this, one needs to import the `jupyter` submodule and call the appropriate _magic comment_. With `qiskit_backend_overview` you can view all devices accessible by the current IBMQ account. Notice how it does not include simulators. Furthermore, you should see that all devices available through the _open group_ have at most 5 qubits. This is a problem for solving the crop-yield problem we created earlier, as we showed it requires 6 qubits.\n",
    "\n",
    "To demonstrate how a real quantum device is used, a smaller `QuadraticProgram` is provided, requiring a maximum of 4 qubits."
   ]
  },
  {
   "cell_type": "code",
   "execution_count": 28,
   "metadata": {},
   "outputs": [
    {
     "data": {
      "application/vnd.jupyter.widget-view+json": {
       "model_id": "af0ecfc278dd433b8212044ff2dc81ba",
       "version_major": 2,
       "version_minor": 0
      },
      "text/plain": [
       "VBox(children=(HTML(value=\"<h2 style ='color:#ffffff; background-color:#000000;padding-top: 1%; padding-bottom…"
      ]
     },
     "metadata": {},
     "output_type": "display_data"
    }
   ],
   "source": [
    "%qiskit_backend_overview"
   ]
  },
  {
   "cell_type": "markdown",
   "metadata": {},
   "source": [
    "<div class=\"alert alert-block alert-warning\">\n",
    "    \n",
    "If you want access to larger and more sophisticated quantum computers through IBM, see if your university or company is part of the [IBM Quantum Network](https://www.ibm.com/quantum-computing/network/members/). Researchers are institutions that are part of the [African Research Universities Alliance (ARUA)](https://arua.org.za/) can also apply for access through the University of the Witwatersrand, in South Africa; which is a member of the IBM Quantum Network. If you are a researcher, you can also apply for access through the [IBM Quantum Researchers Program](https://www.ibm.com/quantum-computing/researchers-program/). If you're a student at a highschool or university, you can ask your teachers or lecturers to apply for access through the [IBM Quantum Educators Program](https://www.ibm.com/quantum-computing/educators-program/).\n",
    "\n",
    "</div>"
   ]
  },
  {
   "cell_type": "markdown",
   "metadata": {},
   "source": [
    "Given that we have imported `qiskit.tools.jupyter`, Jupyter will now display a helpful widget when an IBMQ backend is displayed. We do not have to use a _magic comment_ here as the jupyter submodule defines how some variables are displayed in a jupyter notebook, without requiring a _magic comment_."
   ]
  },
  {
   "cell_type": "code",
   "execution_count": 29,
   "metadata": {},
   "outputs": [
    {
     "data": {
      "application/vnd.jupyter.widget-view+json": {
       "model_id": "e938091433d5467d9f8528cc76d21f71",
       "version_major": 2,
       "version_minor": 0
      },
      "text/plain": [
       "VBox(children=(HTML(value=\"<h1 style='color:#ffffff;background-color:#000000;padding-top: 1%;padding-bottom: 1…"
      ]
     },
     "metadata": {},
     "output_type": "display_data"
    },
    {
     "data": {
      "text/plain": [
       "<IBMQBackend('ibm_perth') from IBMQ(hub='iqc-africa-21-8', group='q-challenge-2', project='ex1-recnPEbPGZpUOAAaH')>"
      ]
     },
     "execution_count": 29,
     "metadata": {},
     "output_type": "execute_result"
    }
   ],
   "source": [
    "backend_real"
   ]
  },
  {
   "cell_type": "markdown",
   "metadata": {},
   "source": [
    "We can create a new `QuantumInstance` object to contain our real quantum computer backend, similar to how we created one to manage our simulator. For real devices, there is an extra parameter we can set: `shots`. The output of a quantum computing algorithm is probabilistic. Therefore, we must execute the quantum computation multiple times, sampling the outputs to estimate their probabilities. The number of `shots` is the number of executions of the quantum computation. Here we set out `QuantumInstance` to use the least busy backend with 2048 shots."
   ]
  },
  {
   "cell_type": "code",
   "execution_count": 30,
   "metadata": {},
   "outputs": [],
   "source": [
    "quantum_instance_real = QuantumInstance(backend_real, shots=2048)"
   ]
  },
  {
   "cell_type": "markdown",
   "metadata": {},
   "source": [
    "The VQE algorithm and QAOA are iterative, meaning that they incorporate a classical-quantum loop which repeats certain computations, _hopefully_ converging to a valid solution. In each iteration, or evaluation, the quantum backend will execute the quantum operations 2048 times. Each shot is quite fast, so we do not have to worry about a significant increase in processing time by using more shots."
   ]
  },
  {
   "cell_type": "markdown",
   "metadata": {},
   "source": [
    "----\n",
    "We now define our small crop-yield problem, which only requires 4 qubits. In this example, only Wheat and Maize are used. The model is altered to illustrate the impact of growing too much of a single crop, with the yield decreasing as the number of hectares of a single crop is increased. However, utilizing both wheat and maize increases yield, showing the benefits of intercropping.\n",
    "\n",
    "**NB:** The maximum number of hectares available is 4, but given that the model would never exceed this limit, the linear constraint defining the maximum number of hectares is not included. This reduces the number of qubits required from 6 to 4."
   ]
  },
  {
   "cell_type": "code",
   "execution_count": 31,
   "metadata": {},
   "outputs": [
    {
     "name": "stdout",
     "output_type": "stream",
     "text": [
      "\\ This file has been generated by DOcplex\n",
      "\\ ENCODING=ISO-8859-1\n",
      "\\Problem name: Small Crop-Yield\n",
      "\n",
      "Maximize\n",
      " obj: 3 Wheat + 3 Maize + [ - 4 Wheat^2 + 2 Wheat*Maize - 4 Maize^2 ]/2\n",
      "Subject To\n",
      "\n",
      "Bounds\n",
      "       Wheat <= 2\n",
      "       Maize <= 2\n",
      "\n",
      "Generals\n",
      " Wheat Maize\n",
      "End\n",
      "\n"
     ]
    }
   ],
   "source": [
    "# Create a small crop-yield example quadratic program\n",
    "cropyield_small = QuadraticProgram(name=\"Small Crop-Yield\")\n",
    "\n",
    "# Add two variables, indicating whether we grow 0, 1, or 2 hectares for two different crops\n",
    "cropyield_small.integer_var(lowerbound=0, upperbound=2, name=\"Wheat\")\n",
    "cropyield_small.integer_var(lowerbound=0, upperbound=2, name=\"Maize\")\n",
    "\n",
    "# Add the objective function defining the yield in tonnes\n",
    "cropyield_small.maximize(\n",
    "    linear={\"Wheat\": 3, \"Maize\": 3},\n",
    "    quadratic={(\"Maize\", \"Wheat\"): 1, (\"Maize\", \"Maize\"): -2, (\"Wheat\", \"Wheat\"): -2},\n",
    ")\n",
    "\n",
    "# This linear constraint is not used as the model never reaches this. This is because the\n",
    "# sum of the upperbounds on both variables is 4 already. If this constraint is applied, the\n",
    "# model would require 6 qubits instead of 4.\n",
    "# cropyield_small.linear_constraint(linear={\"Wheat\": 1, \"Maize\": 1}, sense=\"<=\", rhs=4)\n",
    "\n",
    "print(cropyield_small)"
   ]
  },
  {
   "cell_type": "markdown",
   "metadata": {},
   "source": [
    "Here we verify that our small crop-yield problem requires only 4 qubits."
   ]
  },
  {
   "cell_type": "code",
   "execution_count": 32,
   "metadata": {},
   "outputs": [
    {
     "name": "stdout",
     "output_type": "stream",
     "text": [
      "Number of qubits required is 4\n"
     ]
    }
   ],
   "source": [
    "# Estimate the number of qubits required\n",
    "ising_operations_small, _ = (\n",
    "    QuadraticProgramToQubo()\n",
    "    .convert(\n",
    "        cropyield_small,\n",
    "    )\n",
    "    .to_ising()\n",
    ")\n",
    "print(f\"Number of qubits required is {ising_operations_small.num_qubits}\")"
   ]
  },
  {
   "cell_type": "markdown",
   "metadata": {},
   "source": [
    "### Exercise 1d: Submitting a job to a real quantum computer"
   ]
  },
  {
   "cell_type": "markdown",
   "metadata": {},
   "source": [
    "Now that we know the problem can be run on our chosen device, we can execute the VQE algorithm. In this case we will set the optimizer, with a maximum number of iterations of 1, so that we do not occupy the device for too long. Our answer will be incorrect, but we only want to see how to send a quantum program to a real quantum computer."
   ]
  },
  {
   "cell_type": "code",
   "execution_count": 33,
   "metadata": {},
   "outputs": [
    {
     "name": "stderr",
     "output_type": "stream",
     "text": [
      "/opt/conda/lib/python3.8/site-packages/qiskit/utils/run_circuits.py:695: UserWarning: max_credits is not a recognized runtime option and may be ignored by the backend.\n",
      "  return backend.run(circuits, **run_kwargs)\n",
      "FAILURE: Job id: 613f10ade3f915b111349621 is cancelled. Re-submit the circuits.\n",
      "FAILURE: Can not get job id, Resubmit the qobj to get job id.Error: Expecting value: line 1 column 1 (char 0) \n",
      "FAILURE: Job id: 613f307217e5886a6fba5ba3 is cancelled. Re-submit the circuits.\n"
     ]
    }
   ],
   "source": [
    "# Create our optimizer\n",
    "optimizer = COBYLA(maxiter=1)\n",
    "\n",
    "## Get result from real device with VQE\n",
    "vqe_result_real, vqe_eval_count_real = get_VQE_solution_for(\n",
    "    cropyield_small, quantum_instance_real, optimizer=optimizer\n",
    ")"
   ]
  },
  {
   "cell_type": "markdown",
   "metadata": {},
   "source": [
    "Qiskit uses `jobs` to track computations and their results on remote devices and simulators. We can query the backend object for the jobs it received, which would be those created by the VQE algorithm."
   ]
  },
  {
   "cell_type": "code",
   "execution_count": null,
   "metadata": {},
   "outputs": [],
   "source": [
    "# Retrieve the VQE job sent\n",
    "job_real = backend_real.jobs()[0]\n",
    "\n",
    "print(f\"VQE job created at {job_real.creation_date()} and has a job id of {job_real.job_id()}\")"
   ]
  },
  {
   "cell_type": "markdown",
   "metadata": {},
   "source": [
    "Put the job id for your the above job into the cell below and execute the code cell."
   ]
  },
  {
   "cell_type": "code",
   "execution_count": 34,
   "metadata": {},
   "outputs": [
    {
     "name": "stderr",
     "output_type": "stream",
     "text": [
      "/opt/conda/lib/python3.8/site-packages/pyscf/lib/misc.py:47: H5pyDeprecationWarning: Using default_file_mode other than 'r' is deprecated. Pass the mode to h5py.File() instead.\n",
      "  h5py.get_config().default_file_mode = 'a'\n"
     ]
    },
    {
     "name": "stdout",
     "output_type": "stream",
     "text": [
      "Submitting your answer for ex1/partD. Please wait...\n",
      "Congratulations 🎉! Your answer is correct and has been submitted.\n"
     ]
    }
   ],
   "source": [
    "from qc_grader import grade_ex1d\n",
    "\n",
    "job_id = '613f31526feb7e17126f42a2'\n",
    "\n",
    "grade_ex1d(job_id)"
   ]
  },
  {
   "cell_type": "markdown",
   "metadata": {},
   "source": [
    "You have now completed the first lab of the IBM Quantum Challenge Africa 2021! Make sure that you are on the [Qiskit Slack channel](https://ibm.co/Africa_Slack) so you can ask questions and talk to other participants. There are two more labs left in the challenge, which are more difficult than this introductory lab, covering quantum computing for finance and HIV."
   ]
  },
  {
   "cell_type": "markdown",
   "metadata": {},
   "source": [
    "## References"
   ]
  },
  {
   "cell_type": "markdown",
   "metadata": {},
   "source": [
    "[1] A. A. Nel, ‘Crop rotation in the summer rainfall area of South Africa’, South African Journal of Plant and Soil, vol. 22, no. 4, pp. 274–278, Jan. 2005, doi: 10.1080/02571862.2005.10634721.\n",
    "\n",
    "[2] H. Ritchie and M. Roser, ‘Crop yields’, Our World in Data, 2013, [Online]. Available: https://ourworldindata.org/crop-yields.\n",
    "\n",
    "[3] G. Brion, ‘Controlling Pests with Plants: The power of intercropping’, UVM Food Feed, Jan. 09, 2014. https://learn.uvm.edu/foodsystemsblog/2014/01/09/controlling-pests-with-plants-the-power-of-intercropping/ (accessed Feb. 15, 2021).\n",
    "\n",
    "[4] N. O. Ogot, J. O. Pittchar, C. A. O. Midega, and Z. R. Khan, ‘Attributes of push-pull technology in enhancing food and nutrition security’, African Journal of Agriculture and Food Security, vol. 6, pp. 229–242, Mar. 2018."
   ]
  },
  {
   "cell_type": "code",
   "execution_count": 35,
   "metadata": {},
   "outputs": [
    {
     "name": "stderr",
     "output_type": "stream",
     "text": [
      "/opt/conda/lib/python3.8/site-packages/qiskit/aqua/__init__.py:86: DeprecationWarning: The package qiskit.aqua is deprecated. It was moved/refactored to qiskit-terra For more information see <https://github.com/Qiskit/qiskit-aqua/blob/main/README.md#migration-guide>\n",
      "  warn_package('aqua', 'qiskit-terra')\n"
     ]
    },
    {
     "data": {
      "text/html": [
       "<h3>Version Information</h3><table><tr><th>Qiskit Software</th><th>Version</th></tr><tr><td><code>qiskit-terra</code></td><td>0.18.1</td></tr><tr><td><code>qiskit-aer</code></td><td>0.8.2</td></tr><tr><td><code>qiskit-ignis</code></td><td>0.6.0</td></tr><tr><td><code>qiskit-ibmq-provider</code></td><td>0.16.0</td></tr><tr><td><code>qiskit-aqua</code></td><td>0.9.4</td></tr><tr><td><code>qiskit</code></td><td>0.29.0</td></tr><tr><td><code>qiskit-nature</code></td><td>0.1.5</td></tr><tr><td><code>qiskit-finance</code></td><td>0.2.0</td></tr><tr><td><code>qiskit-optimization</code></td><td>0.2.1</td></tr><tr><td><code>qiskit-machine-learning</code></td><td>0.2.0</td></tr><tr><th>System information</th></tr><tr><td>Python</td><td>3.8.10 | packaged by conda-forge | (default, May 11 2021, 07:01:05) \n",
       "[GCC 9.3.0]</td></tr><tr><td>OS</td><td>Linux</td></tr><tr><td>CPUs</td><td>8</td></tr><tr><td>Memory (Gb)</td><td>31.400043487548828</td></tr><tr><td colspan='2'>Mon Sep 13 15:04:27 2021 UTC</td></tr></table>"
      ],
      "text/plain": [
       "<IPython.core.display.HTML object>"
      ]
     },
     "metadata": {},
     "output_type": "display_data"
    },
    {
     "data": {
      "text/html": [
       "<div style='width: 100%; background-color:#d5d9e0;padding-left: 10px; padding-bottom: 10px; padding-right: 10px; padding-top: 5px'><h3>This code is a part of Qiskit</h3><p>&copy; Copyright IBM 2017, 2021.</p><p>This code is licensed under the Apache License, Version 2.0. You may<br>obtain a copy of this license in the LICENSE.txt file in the root directory<br> of this source tree or at http://www.apache.org/licenses/LICENSE-2.0.<p>Any modifications or derivative works of this code must retain this<br>copyright notice, and modified files need to carry a notice indicating<br>that they have been altered from the originals.</p></div>"
      ],
      "text/plain": [
       "<IPython.core.display.HTML object>"
      ]
     },
     "metadata": {},
     "output_type": "display_data"
    }
   ],
   "source": [
    "import qiskit.tools.jupyter\n",
    "\n",
    "%qiskit_version_table\n",
    "%qiskit_copyright"
   ]
  },
  {
   "cell_type": "code",
   "execution_count": null,
   "metadata": {},
   "outputs": [],
   "source": []
  }
 ],
 "metadata": {
  "kernelspec": {
   "display_name": "Qiskit v0.29.0",
   "language": "python",
   "name": "python3"
  },
  "language_info": {
   "codemirror_mode": {
    "name": "ipython",
    "version": 3
   },
   "file_extension": ".py",
   "mimetype": "text/x-python",
   "name": "python",
   "nbconvert_exporter": "python",
   "pygments_lexer": "ipython3",
   "version": "3.8.10"
  },
  "toc": {
   "base_numbering": 1,
   "nav_menu": {},
   "number_sections": true,
   "sideBar": true,
   "skip_h1_title": false,
   "title_cell": "Table of Contents",
   "title_sidebar": "Contents",
   "toc_cell": false,
   "toc_position": {
    "height": "calc(100% - 180px)",
    "left": "10px",
    "top": "150px",
    "width": "195px"
   },
   "toc_section_display": true,
   "toc_window_display": true
  },
  "varInspector": {
   "cols": {
    "lenName": 16,
    "lenType": 16,
    "lenVar": 40
   },
   "kernels_config": {
    "python": {
     "delete_cmd_postfix": "",
     "delete_cmd_prefix": "del ",
     "library": "var_list.py",
     "varRefreshCmd": "print(var_dic_list())"
    },
    "r": {
     "delete_cmd_postfix": ") ",
     "delete_cmd_prefix": "rm(",
     "library": "var_list.r",
     "varRefreshCmd": "cat(var_dic_list()) "
    }
   },
   "oldHeight": 676.85,
   "position": {
    "height": "698.85px",
    "left": "2014px",
    "right": "20px",
    "top": "158px",
    "width": "477px"
   },
   "types_to_exclude": [
    "module",
    "function",
    "builtin_function_or_method",
    "instance",
    "_Feature"
   ],
   "varInspector_section_display": "block",
   "window_display": false
  },
  "widgets": {
   "application/vnd.jupyter.widget-state+json": {
    "state": {
     "001e76ae41f14dcc91947a252c79ffe5": {
      "model_module": "@jupyter-widgets/base",
      "model_module_version": "1.2.0",
      "model_name": "LayoutModel",
      "state": {
       "width": "145px"
      }
     },
     "004f5112443a42a8a1e2bfa108250222": {
      "model_module": "@jupyter-widgets/base",
      "model_module_version": "1.2.0",
      "model_name": "LayoutModel",
      "state": {
       "grid_gap": "0px 0px",
       "grid_template_areas": "\n                               \"left right right right\"\n                               \"bottom bottom bottom bottom\"\n                               ",
       "grid_template_columns": "31% 23% 23% 23%",
       "grid_template_rows": "auto auto"
      }
     },
     "00d3d085b0a74f8c8ed9d2fd5b6f1676": {
      "model_module": "@jupyter-widgets/base",
      "model_module_version": "1.2.0",
      "model_name": "LayoutModel",
      "state": {
       "justify_content": "center"
      }
     },
     "00db3096724a4bc086f25a47de98ef83": {
      "model_module": "@jupyter-widgets/controls",
      "model_module_version": "1.5.0",
      "model_name": "ButtonModel",
      "state": {
       "icon": "close",
       "layout": "IPY_MODEL_dd9f2d6eb7014f448ba86be1d30f86cc",
       "style": "IPY_MODEL_71a898574b9e443b9d2bbdd700258d49"
      }
     },
     "00fc84de9ce245e1be499e42bec17d1c": {
      "model_module": "@jupyter-widgets/base",
      "model_module_version": "1.2.0",
      "model_name": "LayoutModel",
      "state": {
       "width": "95px"
      }
     },
     "023ec16d4e274baa80b607e39cef44ee": {
      "model_module": "@jupyter-widgets/controls",
      "model_module_version": "1.5.0",
      "model_name": "ButtonStyleModel",
      "state": {
       "button_color": "white"
      }
     },
     "023fd582d36b423b8cd97552711aba0e": {
      "model_module": "@jupyter-widgets/controls",
      "model_module_version": "1.5.0",
      "model_name": "DescriptionStyleModel",
      "state": {
       "description_width": ""
      }
     },
     "03b993ae06cb4ffdbcf0639895b95ef1": {
      "model_module": "@jupyter-widgets/controls",
      "model_module_version": "1.5.0",
      "model_name": "HTMLModel",
      "state": {
       "layout": "IPY_MODEL_e121caba7cd8469697971089715e1eed",
       "style": "IPY_MODEL_6d1f83c578c14817a17b9ddce3d19f92",
       "value": "<h4>ibmq_lima</h4>"
      }
     },
     "044147f067714a35af913debc0834a77": {
      "model_module": "@jupyter-widgets/output",
      "model_module_version": "1.0.0",
      "model_name": "OutputModel",
      "state": {
       "layout": "IPY_MODEL_2f4dae3133d14c96bf62809c36facd99",
       "outputs": [
        {
         "data": {
          "image/png": "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\n",
          "text/plain": "<Figure size 360x360 with 1 Axes>"
         },
         "metadata": {},
         "output_type": "display_data"
        }
       ]
      }
     },
     "045d7dd8159a4c7d9a823e335e965c16": {
      "model_module": "@jupyter-widgets/base",
      "model_module_version": "1.2.0",
      "model_name": "LayoutModel",
      "state": {
       "overflow_x": "scroll"
      }
     },
     "0463dcb95ca4417ebe491fc32076f98c": {
      "model_module": "@jupyter-widgets/controls",
      "model_module_version": "1.5.0",
      "model_name": "DescriptionStyleModel",
      "state": {
       "description_width": ""
      }
     },
     "04b667c26c8d4a43a5430b336376db0c": {
      "model_module": "@jupyter-widgets/base",
      "model_module_version": "1.2.0",
      "model_name": "LayoutModel",
      "state": {
       "justify_content": "center"
      }
     },
     "04c47fc3078246b18a91cea56d271690": {
      "model_module": "@jupyter-widgets/base",
      "model_module_version": "1.2.0",
      "model_name": "LayoutModel",
      "state": {
       "grid_area": "top"
      }
     },
     "052757d971db46b3af2e8f410a2bdbea": {
      "model_module": "@jupyter-widgets/controls",
      "model_module_version": "1.5.0",
      "model_name": "DescriptionStyleModel",
      "state": {
       "description_width": ""
      }
     },
     "0579c30c33e042df8edf8394396c8032": {
      "model_module": "@jupyter-widgets/controls",
      "model_module_version": "1.5.0",
      "model_name": "HTMLModel",
      "state": {
       "layout": "IPY_MODEL_5e9a284a45a84f4f805005bdbe40479a",
       "style": "IPY_MODEL_c15420c787c34a058ba3c32efee36b2d",
       "value": "<h1 style='color:#ffffff;background-color:#000000;padding-top: 1%;padding-bottom: 1%;padding-left: 1%; margin-top: 0px'>ibm_perth</h1>"
      }
     },
     "05d82c4ed2e34436b38cf4466df40ccd": {
      "model_module": "@jupyter-widgets/controls",
      "model_module_version": "1.5.0",
      "model_name": "HTMLModel",
      "state": {
       "layout": "IPY_MODEL_2b76517357bf428596db4a75979918a4",
       "style": "IPY_MODEL_a2423c88235c44dc856deffdf00ab712",
       "value": "<font style='color:#34BC6E'>DONE</font>"
      }
     },
     "05fd8accf57d4cd1a5a7e7f68691f04c": {
      "model_module": "@jupyter-widgets/base",
      "model_module_version": "1.2.0",
      "model_name": "LayoutModel",
      "state": {
       "max_width": "180px"
      }
     },
     "066961700c7a415f970246a4cc34f0aa": {
      "model_module": "@jupyter-widgets/controls",
      "model_module_version": "1.5.0",
      "model_name": "TabModel",
      "state": {
       "layout": "IPY_MODEL_9ae9075dac2f4680a89cd26d13fa2ed3"
      }
     },
     "06823e050df548c78b260d937a5eecc2": {
      "model_module": "@jupyter-widgets/controls",
      "model_module_version": "1.5.0",
      "model_name": "LabelModel",
      "state": {
       "layout": "IPY_MODEL_7c2f742fda7941f0b10566ad2905ccd1",
       "style": "IPY_MODEL_19d924e967d54e07965b2fc5969c4fd5",
       "value": "50"
      }
     },
     "070204ebc7e247d3983c3a4e0ade6820": {
      "model_module": "@jupyter-widgets/base",
      "model_module_version": "1.2.0",
      "model_name": "LayoutModel",
      "state": {
       "justify_content": "center"
      }
     },
     "0759d391f4b34279aa99b9be1d4a51ea": {
      "model_module": "@jupyter-widgets/controls",
      "model_module_version": "1.5.0",
      "model_name": "DescriptionStyleModel",
      "state": {
       "description_width": ""
      }
     },
     "07d8eb1dc51f4b71ab867e4829dae04c": {
      "model_module": "@jupyter-widgets/controls",
      "model_module_version": "1.5.0",
      "model_name": "LabelModel",
      "state": {
       "layout": "IPY_MODEL_13cacdc53c8a4c01a2dfde8885769130",
       "style": "IPY_MODEL_ed684a3931cf4740ba0e886046f68cea",
       "value": "9"
      }
     },
     "08192da90e174de593c4ae87ebf28148": {
      "model_module": "@jupyter-widgets/controls",
      "model_module_version": "1.5.0",
      "model_name": "IntProgressModel",
      "state": {
       "layout": "IPY_MODEL_05fd8accf57d4cd1a5a7e7f68691f04c",
       "max": 289,
       "style": "IPY_MODEL_38286d678207452d81c51a21748d9c08",
       "value": 247
      }
     },
     "08cb3ebbad054f9c9efbd67b2f407054": {
      "model_module": "@jupyter-widgets/controls",
      "model_module_version": "1.5.0",
      "model_name": "DescriptionStyleModel",
      "state": {
       "description_width": ""
      }
     },
     "097731d00227436bab774c1621f45b77": {
      "model_module": "@jupyter-widgets/base",
      "model_module_version": "1.2.0",
      "model_name": "LayoutModel",
      "state": {
       "align_items": "center",
       "display": "inline-flex",
       "flex_flow": "column"
      }
     },
     "0b5835eba58e48e99d2884b31fdfead0": {
      "model_module": "@jupyter-widgets/base",
      "model_module_version": "1.2.0",
      "model_name": "LayoutModel",
      "state": {
       "justify_content": "center"
      }
     },
     "0b7705ccbbd8429d8d0ea8a78476bce0": {
      "model_module": "@jupyter-widgets/controls",
      "model_module_version": "1.5.0",
      "model_name": "HTMLModel",
      "state": {
       "layout": "IPY_MODEL_ed1fcac54b3b4f80bced261bebee62d4",
       "style": "IPY_MODEL_dc2027663f7f44608cb23d34011abfdc",
       "value": "<table><style>\ntable {\n    border-collapse: collapse;\n    width: auto;\n}\n\nth, td {\n    text-align: left;\n    padding: 8px;\n}\n\ntr:nth-child(even) {background-color: #f6f6f6;};\n</style><tr><th></th><th>Type</th><th>Gate error</th></tr><tr><td><font style='font-weight:bold'>cx5_6</font></td><td>cx</td><td>0.01078</td></tr><tr><td><font style='font-weight:bold'>cx6_5</font></td><td>cx</td><td>0.01078</td></tr><tr><td><font style='font-weight:bold'>cx4_5</font></td><td>cx</td><td>0.0106</td></tr><tr><td><font style='font-weight:bold'>cx5_4</font></td><td>cx</td><td>0.0106</td></tr></table>"
      }
     },
     "0b962c2f768e443890f92109be57d82a": {
      "model_module": "@jupyter-widgets/base",
      "model_module_version": "1.2.0",
      "model_name": "LayoutModel",
      "state": {
       "max_width": "180px"
      }
     },
     "0bc7e1a2c44c4d96be725ccd087e99af": {
      "model_module": "@jupyter-widgets/controls",
      "model_module_version": "1.5.0",
      "model_name": "HTMLModel",
      "state": {
       "layout": "IPY_MODEL_d5791b97153f4970b9f27e6eb1a15e77",
       "style": "IPY_MODEL_2da6bdc569e14f09ac9b2aa83574d2cf",
       "value": "-"
      }
     },
     "0de59f82650041388ecf77168d6c3f0e": {
      "model_module": "@jupyter-widgets/controls",
      "model_module_version": "1.5.0",
      "model_name": "HTMLModel",
      "state": {
       "layout": "IPY_MODEL_001e76ae41f14dcc91947a252c79ffe5",
       "style": "IPY_MODEL_ce2b8f7c8e7d4691ad8c63e723a13d5f",
       "value": "ibm_perth"
      }
     },
     "0e3621ff846f41828d24ec146bfe9858": {
      "model_module": "@jupyter-widgets/controls",
      "model_module_version": "1.5.0",
      "model_name": "DescriptionStyleModel",
      "state": {
       "description_width": ""
      }
     },
     "0e9e9b21d5834f96a3e409ecf1467ce0": {
      "model_module": "@jupyter-widgets/controls",
      "model_module_version": "1.5.0",
      "model_name": "DescriptionStyleModel",
      "state": {
       "description_width": ""
      }
     },
     "0fd9df739bac49569618676277e37faf": {
      "model_module": "@jupyter-widgets/controls",
      "model_module_version": "1.5.0",
      "model_name": "DescriptionStyleModel",
      "state": {
       "description_width": ""
      }
     },
     "10a9a14eb6e5435bb2ea89b4533c311d": {
      "model_module": "@jupyter-widgets/base",
      "model_module_version": "1.2.0",
      "model_name": "LayoutModel",
      "state": {
       "margin": "5px 0px 0px 0px"
      }
     },
     "11e675cea1ad44fbb8f7a674ec6ac9fa": {
      "model_module": "@jupyter-widgets/controls",
      "model_module_version": "1.5.0",
      "model_name": "HTMLModel",
      "state": {
       "layout": "IPY_MODEL_bd5d6c9a3ccb4f78bcd84334bdfa4087",
       "style": "IPY_MODEL_3cbd29d38ef444a79b9b8377dcd2d912",
       "value": "-"
      }
     },
     "121c39850f9745cfb81457a237a65ca6": {
      "model_module": "@jupyter-widgets/base",
      "model_module_version": "1.2.0",
      "model_name": "LayoutModel",
      "state": {
       "align_items": "center",
       "display": "flex-inline"
      }
     },
     "13cacdc53c8a4c01a2dfde8885769130": {
      "model_module": "@jupyter-widgets/base",
      "model_module_version": "1.2.0",
      "model_name": "LayoutModel",
      "state": {
       "min_width": "auto"
      }
     },
     "14453614d62847ffbf9be196400e7d63": {
      "model_module": "@jupyter-widgets/controls",
      "model_module_version": "1.5.0",
      "model_name": "VBoxModel",
      "state": {
       "children": [
        "IPY_MODEL_91a32eccb9434248a96cf73602fc5ea0",
        "IPY_MODEL_fe91ae7ffa474a31857145bee4692677",
        "IPY_MODEL_66726beaa6434fc89b66dd24851d72fb",
        "IPY_MODEL_4fc41097848e438abd1f7bcb0c43d8b1",
        "IPY_MODEL_8c6ae0567aef437fa46cd9c8ab245d59",
        "IPY_MODEL_5e04a1b07c814ccba8ece3af1676c5d9",
        "IPY_MODEL_f21ca116f41d4da0b6a175c80007097a",
        "IPY_MODEL_8a2a6f26e95a46d4b3c0792405a633d5",
        "IPY_MODEL_a630ee2754054a9aac6a667e0e9d69f6",
        "IPY_MODEL_65f22e289316465996e8a594aa4b0791"
       ],
       "layout": "IPY_MODEL_29131b24d3bc4324a1e942a996425815"
      }
     },
     "14f7cd481859463cbe1d8e44ac5c57d0": {
      "model_module": "@jupyter-widgets/controls",
      "model_module_version": "1.5.0",
      "model_name": "HTMLModel",
      "state": {
       "layout": "IPY_MODEL_daa784898dde4b7e9fa92df39db8c2f5",
       "style": "IPY_MODEL_e901ca9f13974386b7644f92071a4f60",
       "value": "<h5 style='color:#dc267f'>False</h5>"
      }
     },
     "157b57c4e4984e369348498ba32b222a": {
      "model_module": "@jupyter-widgets/controls",
      "model_module_version": "1.5.0",
      "model_name": "DescriptionStyleModel",
      "state": {
       "description_width": ""
      }
     },
     "15b8503e77c24d2f9ab2da02d630ea2d": {
      "model_module": "@jupyter-widgets/controls",
      "model_module_version": "1.5.0",
      "model_name": "HTMLModel",
      "state": {
       "layout": "IPY_MODEL_04c47fc3078246b18a91cea56d271690",
       "style": "IPY_MODEL_395d03c6a30348bab5bd237b30188892",
       "value": "<div><font style='font-weight:bold'>last_update_date</font>: 2020-08-09 14:09:32-04:00</div>"
      }
     },
     "164418d4dd134a11b680cdc6683a4094": {
      "model_module": "@jupyter-widgets/base",
      "model_module_version": "1.2.0",
      "model_name": "LayoutModel",
      "state": {
       "width": "145px"
      }
     },
     "16a1799726914ed7a87a7079267a0594": {
      "model_module": "@jupyter-widgets/base",
      "model_module_version": "1.2.0",
      "model_name": "LayoutModel",
      "state": {
       "width": "190px"
      }
     },
     "172fc173d4a248b2bc3850c892e69f2a": {
      "model_module": "@jupyter-widgets/controls",
      "model_module_version": "1.5.0",
      "model_name": "DescriptionStyleModel",
      "state": {
       "description_width": ""
      }
     },
     "1755ef4ec8a243258e215ee653b0629b": {
      "model_module": "@jupyter-widgets/output",
      "model_module_version": "1.0.0",
      "model_name": "OutputModel",
      "state": {
       "layout": "IPY_MODEL_ea26eab1e03140b6b313c058d2ba73ff",
       "outputs": [
        {
         "data": {
          "image/png": "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\n",
          "text/plain": "<Figure size 360x360 with 1 Axes>"
         },
         "metadata": {},
         "output_type": "display_data"
        }
       ]
      }
     },
     "179d93c22110453899d1ae10a6846db5": {
      "model_module": "@jupyter-widgets/controls",
      "model_module_version": "1.5.0",
      "model_name": "DescriptionStyleModel",
      "state": {
       "description_width": ""
      }
     },
     "1861873472f048ea9f3d65286085e172": {
      "model_module": "@jupyter-widgets/controls",
      "model_module_version": "1.5.0",
      "model_name": "LabelModel",
      "state": {
       "layout": "IPY_MODEL_247890bc61f34da796c819a741f49c93",
       "style": "IPY_MODEL_28023f89ec054d9e9a00d0b10bdd8d6b",
       "value": "50"
      }
     },
     "1881449844ff46a38a1a61fdaa6aadf3": {
      "model_module": "@jupyter-widgets/controls",
      "model_module_version": "1.5.0",
      "model_name": "LabelModel",
      "state": {
       "layout": "IPY_MODEL_fa1c974e80f746ccacd06348ad2200e6",
       "style": "IPY_MODEL_4c7c6f1fbcf14d8da17e71a65434d8c1",
       "value": "289"
      }
     },
     "1932b4e8967345438c0453d1bffa7f9e": {
      "model_module": "@jupyter-widgets/base",
      "model_module_version": "1.2.0",
      "model_name": "LayoutModel",
      "state": {}
     },
     "1946d8f8cfcf46848e3da9996614916e": {
      "model_module": "@jupyter-widgets/base",
      "model_module_version": "1.2.0",
      "model_name": "LayoutModel",
      "state": {}
     },
     "19d18cd9dba540e286c48cce5246c2bf": {
      "model_module": "@jupyter-widgets/base",
      "model_module_version": "1.2.0",
      "model_name": "LayoutModel",
      "state": {
       "min_width": "auto"
      }
     },
     "19d924e967d54e07965b2fc5969c4fd5": {
      "model_module": "@jupyter-widgets/controls",
      "model_module_version": "1.5.0",
      "model_name": "DescriptionStyleModel",
      "state": {
       "description_width": ""
      }
     },
     "1a2a2c38554b4cbfb477336ad9607a4a": {
      "model_module": "@jupyter-widgets/controls",
      "model_module_version": "1.5.0",
      "model_name": "DescriptionStyleModel",
      "state": {
       "description_width": ""
      }
     },
     "1aa8ad2b82dc4758a7457a80ab2c3dc6": {
      "model_module": "@jupyter-widgets/controls",
      "model_module_version": "1.5.0",
      "model_name": "HTMLModel",
      "state": {
       "layout": "IPY_MODEL_ab342361f9f54c9ca3b8fa367d9dcae3",
       "style": "IPY_MODEL_2ae53dc23a9b452195ed051f1e2d88ed",
       "value": "<h5>0.0098</h5>"
      }
     },
     "1b7c8cd30277475ca4cdb19ce93cd56b": {
      "model_module": "@jupyter-widgets/controls",
      "model_module_version": "1.5.0",
      "model_name": "DescriptionStyleModel",
      "state": {
       "description_width": ""
      }
     },
     "1ba0c76d56f44b93a5f00270dd0f9eed": {
      "model_module": "@jupyter-widgets/controls",
      "model_module_version": "1.5.0",
      "model_name": "DescriptionStyleModel",
      "state": {
       "description_width": ""
      }
     },
     "1c1cab75cf9547e3a2ccb498cca43d69": {
      "model_module": "@jupyter-widgets/controls",
      "model_module_version": "1.5.0",
      "model_name": "DescriptionStyleModel",
      "state": {
       "description_width": ""
      }
     },
     "1cd878a77fc54484ab7245e2f87d3148": {
      "model_module": "@jupyter-widgets/controls",
      "model_module_version": "1.5.0",
      "model_name": "DescriptionStyleModel",
      "state": {
       "description_width": ""
      }
     },
     "1d9b5d18ed0f470a92848b2904dc270a": {
      "model_module": "@jupyter-widgets/base",
      "model_module_version": "1.2.0",
      "model_name": "LayoutModel",
      "state": {
       "width": "70px"
      }
     },
     "1e981229c5464b0492b4940e00c2cd1f": {
      "model_module": "@jupyter-widgets/base",
      "model_module_version": "1.2.0",
      "model_name": "LayoutModel",
      "state": {}
     },
     "20301f5bcb434e9b92304db4ebe58628": {
      "model_module": "@jupyter-widgets/controls",
      "model_module_version": "1.5.0",
      "model_name": "DescriptionStyleModel",
      "state": {
       "description_width": ""
      }
     },
     "206d089c90f944e19c8fbae838fdf8ff": {
      "model_module": "@jupyter-widgets/controls",
      "model_module_version": "1.5.0",
      "model_name": "HTMLModel",
      "state": {
       "layout": "IPY_MODEL_d6f9e7c3113848f3a30491eef18e503d",
       "style": "IPY_MODEL_813c181e77024376b312079aebd25d2c",
       "value": "<h5 style='color:#34bc6e'>True</h5>"
      }
     },
     "21b32962467048d78c27b061accc43c1": {
      "model_module": "@jupyter-widgets/base",
      "model_module_version": "1.2.0",
      "model_name": "LayoutModel",
      "state": {
       "align_items": "center",
       "justify_content": "center",
       "margin": "0px 0px 0px 0px",
       "max_height": "250px",
       "max_width": "250px",
       "min_height": "250px",
       "min_width": "250px"
      }
     },
     "22192a9f87f1494e84f0f38f1925f616": {
      "model_module": "@jupyter-widgets/base",
      "model_module_version": "1.2.0",
      "model_name": "LayoutModel",
      "state": {
       "justify_content": "center"
      }
     },
     "23407675b0bc4ec49ffcaaf6df8d5722": {
      "model_module": "@jupyter-widgets/controls",
      "model_module_version": "1.5.0",
      "model_name": "DescriptionStyleModel",
      "state": {
       "description_width": ""
      }
     },
     "23b16f93693241b79bb78a60d9b3eec1": {
      "model_module": "@jupyter-widgets/base",
      "model_module_version": "1.2.0",
      "model_name": "LayoutModel",
      "state": {
       "grid_area": "middle"
      }
     },
     "23ff19141edc488ab18d11f7fc5c0825": {
      "model_module": "@jupyter-widgets/controls",
      "model_module_version": "1.5.0",
      "model_name": "DescriptionStyleModel",
      "state": {
       "description_width": ""
      }
     },
     "247890bc61f34da796c819a741f49c93": {
      "model_module": "@jupyter-widgets/base",
      "model_module_version": "1.2.0",
      "model_name": "LayoutModel",
      "state": {
       "min_width": "auto"
      }
     },
     "257cb3db6f9b4c4c97a951093499273d": {
      "model_module": "@jupyter-widgets/controls",
      "model_module_version": "1.5.0",
      "model_name": "HBoxModel",
      "state": {
       "children": [
        "IPY_MODEL_72e47f0db4ab4c1a9b143f72ab73a64d",
        "IPY_MODEL_c7fd45ba9362413dab647c661ed1f810",
        "IPY_MODEL_f400f6bb0fb04497a3f1ad22fe322245",
        "IPY_MODEL_c743462799a44964819309d5d9b27e78",
        "IPY_MODEL_0bc7e1a2c44c4d96be725ccd087e99af",
        "IPY_MODEL_db0622e9e34a46208e20b840a43073f1"
       ],
       "layout": "IPY_MODEL_c6bae7884021466caf87830857ff7b3d"
      }
     },
     "25f41d35e57f40c48e3ea191b5403a77": {
      "model_module": "@jupyter-widgets/controls",
      "model_module_version": "1.5.0",
      "model_name": "DescriptionStyleModel",
      "state": {
       "description_width": ""
      }
     },
     "26facf4c6d46479a873c6bd3c9ba0bc2": {
      "model_module": "@jupyter-widgets/base",
      "model_module_version": "1.2.0",
      "model_name": "LayoutModel",
      "state": {
       "justify_content": "center"
      }
     },
     "271c523805cc4b8fa2250f3ab5ee736b": {
      "model_module": "@jupyter-widgets/controls",
      "model_module_version": "1.5.0",
      "model_name": "DescriptionStyleModel",
      "state": {
       "description_width": ""
      }
     },
     "28023f89ec054d9e9a00d0b10bdd8d6b": {
      "model_module": "@jupyter-widgets/controls",
      "model_module_version": "1.5.0",
      "model_name": "DescriptionStyleModel",
      "state": {
       "description_width": ""
      }
     },
     "285aab4bb5e345e79bd9a6110ab3d8f7": {
      "model_module": "@jupyter-widgets/controls",
      "model_module_version": "1.5.0",
      "model_name": "LabelModel",
      "state": {
       "layout": "IPY_MODEL_d60730700a804073b9741f231ff00d4c",
       "style": "IPY_MODEL_f7a0bc92919d4491bf240fa8ec22a0b6",
       "value": "283"
      }
     },
     "28a1a59d4a84461b9ad37ec9c0d145b6": {
      "model_module": "@jupyter-widgets/base",
      "model_module_version": "1.2.0",
      "model_name": "LayoutModel",
      "state": {
       "min_width": "auto"
      }
     },
     "29131b24d3bc4324a1e942a996425815": {
      "model_module": "@jupyter-widgets/base",
      "model_module_version": "1.2.0",
      "model_name": "LayoutModel",
      "state": {
       "align_items": "center",
       "display": "inline-flex",
       "flex_flow": "column"
      }
     },
     "2920255e12dc4125ae67dd3fff354a3f": {
      "model_module": "@jupyter-widgets/base",
      "model_module_version": "1.2.0",
      "model_name": "LayoutModel",
      "state": {
       "min_width": "auto"
      }
     },
     "2ae53dc23a9b452195ed051f1e2d88ed": {
      "model_module": "@jupyter-widgets/controls",
      "model_module_version": "1.5.0",
      "model_name": "DescriptionStyleModel",
      "state": {
       "description_width": ""
      }
     },
     "2b76517357bf428596db4a75979918a4": {
      "model_module": "@jupyter-widgets/base",
      "model_module_version": "1.2.0",
      "model_name": "LayoutModel",
      "state": {
       "width": "95px"
      }
     },
     "2cba8aeb47b8440e8e72e699eb8a58da": {
      "model_module": "@jupyter-widgets/base",
      "model_module_version": "1.2.0",
      "model_name": "LayoutModel",
      "state": {
       "width": "145px"
      }
     },
     "2cc0d07e87eb4e358620088fdf63f2e6": {
      "model_module": "@jupyter-widgets/controls",
      "model_module_version": "1.5.0",
      "model_name": "IntProgressModel",
      "state": {
       "layout": "IPY_MODEL_d72e55219c364d7ab26a9cfcd3b76dab",
       "max": 283,
       "style": "IPY_MODEL_6fdd2b4984c840fab775d9f319d25354",
       "value": 196
      }
     },
     "2ccdc779164c4e549e4ecbbfc9dbedbd": {
      "model_module": "@jupyter-widgets/controls",
      "model_module_version": "1.5.0",
      "model_name": "DescriptionStyleModel",
      "state": {
       "description_width": ""
      }
     },
     "2ce776d3df2b45fcaf764b68f56db02e": {
      "model_module": "@jupyter-widgets/controls",
      "model_module_version": "1.5.0",
      "model_name": "DescriptionStyleModel",
      "state": {
       "description_width": ""
      }
     },
     "2d2f723431214219aac181335b289ecc": {
      "model_module": "@jupyter-widgets/controls",
      "model_module_version": "1.5.0",
      "model_name": "HTMLModel",
      "state": {
       "layout": "IPY_MODEL_d89c4c45d4c3472cad5f15bd74b88011",
       "style": "IPY_MODEL_bdfa16db9d4b477088b49dba3a72cd25",
       "value": "<table><style>\ntable {\n    border-collapse: collapse;\n    width: auto;\n}\n\nth, td {\n    text-align: left;\n    padding: 8px;\n}\n\ntr:nth-child(even) {background-color: #f6f6f6;};\n</style><tr><th></th><th>Type</th><th>Gate error</th></tr><tr><td><font style='font-weight:bold'>cx13_12</font></td><td>cx</td><td>0.01666</td></tr><tr><td><font style='font-weight:bold'>cx13_14</font></td><td>cx</td><td>0.05884</td></tr><tr><td><font style='font-weight:bold'>cx14_9</font></td><td>cx</td><td>0.03955</td></tr><tr><td><font style='font-weight:bold'>cx14_13</font></td><td>cx</td><td>0.05884</td></tr><tr><td><font style='font-weight:bold'>cx14_19</font></td><td>cx</td><td>0.02031</td></tr><tr><td><font style='font-weight:bold'>cx15_10</font></td><td>cx</td><td>0.02979</td></tr><tr><td><font style='font-weight:bold'>cx15_16</font></td><td>cx</td><td>0.02217</td></tr><tr><td><font style='font-weight:bold'>cx16_15</font></td><td>cx</td><td>0.02217</td></tr><tr><td><font style='font-weight:bold'>cx16_17</font></td><td>cx</td><td>0.02326</td></tr><tr><td><font style='font-weight:bold'>cx17_16</font></td><td>cx</td><td>0.02326</td></tr><tr><td><font style='font-weight:bold'>cx17_18</font></td><td>cx</td><td>0.04465</td></tr><tr><td><font style='font-weight:bold'>cx18_17</font></td><td>cx</td><td>0.04465</td></tr><tr><td><font style='font-weight:bold'>cx18_19</font></td><td>cx</td><td>0.02858</td></tr><tr><td><font style='font-weight:bold'>cx19_14</font></td><td>cx</td><td>0.02031</td></tr><tr><td><font style='font-weight:bold'>cx19_18</font></td><td>cx</td><td>0.02858</td></tr></table>"
      }
     },
     "2d66fcc4e72b42b399fcb8699701967b": {
      "model_module": "@jupyter-widgets/controls",
      "model_module_version": "1.5.0",
      "model_name": "HTMLModel",
      "state": {
       "layout": "IPY_MODEL_ffddfe41a327469683dd4a860c19f03d",
       "style": "IPY_MODEL_9eb5cd93a7924cab9d1d103d8d3097dd",
       "value": "<div><font style='font-weight:bold'>last_update_date</font>: Sun 09 August 2020 at 14:09 </div>"
      }
     },
     "2da6bdc569e14f09ac9b2aa83574d2cf": {
      "model_module": "@jupyter-widgets/controls",
      "model_module_version": "1.5.0",
      "model_name": "DescriptionStyleModel",
      "state": {
       "description_width": ""
      }
     },
     "2e4bdfc8ef4b4855b542d47a277abd92": {
      "model_module": "@jupyter-widgets/controls",
      "model_module_version": "1.5.0",
      "model_name": "HBoxModel",
      "state": {
       "children": [
        "IPY_MODEL_4d6cd8dca5c8451cb82044b66ae07490",
        "IPY_MODEL_54f3fe32ae984f47821b27678b391c03",
        "IPY_MODEL_b00ea8a184f249d89c2b0abc066c7aef",
        "IPY_MODEL_59ff3238702d4660bc46265804186b03",
        "IPY_MODEL_11e675cea1ad44fbb8f7a674ec6ac9fa",
        "IPY_MODEL_b70922694fea418eb627811ae29f513a"
       ],
       "layout": "IPY_MODEL_fcc38b3abeff47dea5f973d1e4b3253e"
      }
     },
     "2e5ed661bfdd48d3b9bc60543b81c7f9": {
      "model_module": "@jupyter-widgets/controls",
      "model_module_version": "1.5.0",
      "model_name": "HTMLModel",
      "state": {
       "layout": "IPY_MODEL_8c8b54653860496eba3920854bb4b7c6",
       "style": "IPY_MODEL_cb9d76d24f034863a2f3aca7b552b547",
       "value": "<h5>0.0127</h5>"
      }
     },
     "2e8e1e93102e45e7ba5f8c1820415876": {
      "model_module": "@jupyter-widgets/base",
      "model_module_version": "1.2.0",
      "model_name": "LayoutModel",
      "state": {
       "min_width": "auto"
      }
     },
     "2f4dae3133d14c96bf62809c36facd99": {
      "model_module": "@jupyter-widgets/base",
      "model_module_version": "1.2.0",
      "model_name": "LayoutModel",
      "state": {
       "align_items": "center",
       "justify_content": "center",
       "margin": "0px 0px 0px 0px",
       "max_height": "250px",
       "max_width": "250px",
       "min_height": "250px",
       "min_width": "250px"
      }
     },
     "2f7c2f030214499d92999d5fbad1f571": {
      "model_module": "@jupyter-widgets/controls",
      "model_module_version": "1.5.0",
      "model_name": "HTMLModel",
      "state": {
       "layout": "IPY_MODEL_7cc18a74d1144bcfa9d0dad0156814db",
       "style": "IPY_MODEL_4aec058a47684344b746d1992e868e93",
       "value": "<h4>ibmq_belem</h4>"
      }
     },
     "30070f8da5e34a4ca4161dc7e21c2a8e": {
      "model_module": "@jupyter-widgets/controls",
      "model_module_version": "1.5.0",
      "model_name": "HTMLModel",
      "state": {
       "layout": "IPY_MODEL_d5b7f7decc774d54a0bab7a5f0894abe",
       "style": "IPY_MODEL_ba5ca1d802e042e29d60f716daf143c5",
       "value": "<h5>0.0227</h5>"
      }
     },
     "31e20403632c4631af8b69f860f1e92b": {
      "model_module": "@jupyter-widgets/output",
      "model_module_version": "1.0.0",
      "model_name": "OutputModel",
      "state": {
       "layout": "IPY_MODEL_eebb09bddc5a4e8f87b10f4beee14e11",
       "outputs": [
        {
         "data": {
          "image/png": "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\n",
          "text/plain": "<Figure size 360x360 with 1 Axes>"
         },
         "metadata": {},
         "output_type": "display_data"
        }
       ]
      }
     },
     "31f0798f0f48460c84dff4bce7359d1e": {
      "model_module": "@jupyter-widgets/controls",
      "model_module_version": "1.5.0",
      "model_name": "DescriptionStyleModel",
      "state": {
       "description_width": ""
      }
     },
     "3218c3eb803c4f418f5600b723e4fa0b": {
      "model_module": "@jupyter-widgets/base",
      "model_module_version": "1.2.0",
      "model_name": "LayoutModel",
      "state": {
       "max_width": "700px",
       "min_width": "700px"
      }
     },
     "324dd9e4d4cb4f41b6b45bd357efed2a": {
      "model_module": "@jupyter-widgets/controls",
      "model_module_version": "1.5.0",
      "model_name": "LabelModel",
      "state": {
       "layout": "IPY_MODEL_849de9817d124970a17b629ea9d69a5b",
       "style": "IPY_MODEL_023fd582d36b423b8cd97552711aba0e",
       "value": "Quantum Vol."
      }
     },
     "32d056d6f3ca4b029a3e3d8ba00243a4": {
      "model_module": "@jupyter-widgets/controls",
      "model_module_version": "1.5.0",
      "model_name": "DescriptionStyleModel",
      "state": {
       "description_width": ""
      }
     },
     "3342ce53706e4de7b93ce0eb220dd32b": {
      "model_module": "@jupyter-widgets/base",
      "model_module_version": "1.2.0",
      "model_name": "LayoutModel",
      "state": {
       "margin": "0px 5px 0px 0px",
       "width": "32px"
      }
     },
     "33574638d9c348899fee1a530f5b266d": {
      "model_module": "@jupyter-widgets/base",
      "model_module_version": "1.2.0",
      "model_name": "LayoutModel",
      "state": {}
     },
     "33585853a2d64e4ea100579ff67c7ad4": {
      "model_module": "@jupyter-widgets/controls",
      "model_module_version": "1.5.0",
      "model_name": "HTMLModel",
      "state": {
       "layout": "IPY_MODEL_48c71de2ec014b3a9751f1a0e45b2052",
       "style": "IPY_MODEL_dd1cb9073db4445596a3524148de88c6",
       "value": "<h5>91.8 / 112.3 us</h5>"
      }
     },
     "3376bd07e4a142b9b84202fc4d29272f": {
      "model_module": "@jupyter-widgets/controls",
      "model_module_version": "1.5.0",
      "model_name": "HBoxModel",
      "state": {
       "children": [
        "IPY_MODEL_b9293ebd1f3c41cc80f9d102ec8d2164",
        "IPY_MODEL_4b183fb8723f4c59a62e9c5e24ad498d",
        "IPY_MODEL_dd0ded360e7948e8835889f238967aad"
       ],
       "layout": "IPY_MODEL_9048e51da8c7478e81ddfa8125764a42"
      }
     },
     "343f93b148e244928704d842b4b91d72": {
      "model_module": "@jupyter-widgets/base",
      "model_module_version": "1.2.0",
      "model_name": "LayoutModel",
      "state": {
       "width": "70px"
      }
     },
     "358d0ff5280c4ad295d9f84b2504c3c1": {
      "model_module": "@jupyter-widgets/controls",
      "model_module_version": "1.5.0",
      "model_name": "DescriptionStyleModel",
      "state": {
       "description_width": ""
      }
     },
     "3598d386eb0b41f198c843e5c90ef8e8": {
      "model_module": "@jupyter-widgets/base",
      "model_module_version": "1.2.0",
      "model_name": "LayoutModel",
      "state": {
       "justify_content": "center"
      }
     },
     "3780890bc052438688b80c4b7c0df963": {
      "model_module": "@jupyter-widgets/controls",
      "model_module_version": "1.5.0",
      "model_name": "LabelModel",
      "state": {
       "layout": "IPY_MODEL_10a9a14eb6e5435bb2ea89b4533c311d",
       "style": "IPY_MODEL_a377363d49a74846945d4e8a63e18cb7",
       "value": "Pending Jobs"
      }
     },
     "37b38937ee934e399f29393bfb9f65cc": {
      "model_module": "@jupyter-widgets/base",
      "model_module_version": "1.2.0",
      "model_name": "LayoutModel",
      "state": {
       "justify_content": "center"
      }
     },
     "38286d678207452d81c51a21748d9c08": {
      "model_module": "@jupyter-widgets/controls",
      "model_module_version": "1.5.0",
      "model_name": "ProgressStyleModel",
      "state": {
       "bar_color": "#71cddd",
       "description_width": ""
      }
     },
     "389b539ade69485cb1ad0db64a54d65d": {
      "model_module": "@jupyter-widgets/controls",
      "model_module_version": "1.5.0",
      "model_name": "HTMLModel",
      "state": {
       "layout": "IPY_MODEL_a084907c32844f76a380cbe33eaf7873",
       "style": "IPY_MODEL_23ff19141edc488ab18d11f7fc5c0825",
       "value": "<h5>Job ID</h5>"
      }
     },
     "38f9afe95f71475f85cab22501adf5e1": {
      "model_module": "@jupyter-widgets/base",
      "model_module_version": "1.2.0",
      "model_name": "LayoutModel",
      "state": {}
     },
     "38fbd4baa42545d2bbe77afc5d2159b6": {
      "model_module": "@jupyter-widgets/controls",
      "model_module_version": "1.5.0",
      "model_name": "LabelModel",
      "state": {
       "layout": "IPY_MODEL_b58889c77725495e836cc478e5f51c32",
       "style": "IPY_MODEL_f96cc803e378489b961001a1546f9866",
       "value": "Least Busy"
      }
     },
     "395d03c6a30348bab5bd237b30188892": {
      "model_module": "@jupyter-widgets/controls",
      "model_module_version": "1.5.0",
      "model_name": "DescriptionStyleModel",
      "state": {
       "description_width": ""
      }
     },
     "3a0eeeafedb544259b392cceee7df55a": {
      "model_module": "@jupyter-widgets/base",
      "model_module_version": "1.2.0",
      "model_name": "LayoutModel",
      "state": {}
     },
     "3aad42b0e17f42ec91386365dfd870de": {
      "model_module": "@jupyter-widgets/controls",
      "model_module_version": "1.5.0",
      "model_name": "HTMLModel",
      "state": {
       "layout": "IPY_MODEL_343f93b148e244928704d842b4b91d72",
       "style": "IPY_MODEL_65ac37b4876e4a699f50df51e3b16028",
       "value": "<h5>Queue</h5>"
      }
     },
     "3adac731bdda4f038a8d89194e80610b": {
      "model_module": "@jupyter-widgets/controls",
      "model_module_version": "1.5.0",
      "model_name": "HTMLModel",
      "state": {
       "layout": "IPY_MODEL_0b5835eba58e48e99d2884b31fdfead0",
       "style": "IPY_MODEL_48c4aa97578e40daa53441a8df28f6bb",
       "value": "<h5 style='color:#dc267f'>False</h5>"
      }
     },
     "3b725dac9ea842298210f29a79a40f74": {
      "model_module": "@jupyter-widgets/base",
      "model_module_version": "1.2.0",
      "model_name": "LayoutModel",
      "state": {
       "align_items": "center",
       "display": "flex-inline",
       "grid_area": "right",
       "max_height": "325px",
       "padding": "10px 10px 10px 10px",
       "width": "auto"
      }
     },
     "3c00e9415b9e42ebbda623b3ae6419aa": {
      "model_module": "@jupyter-widgets/controls",
      "model_module_version": "1.5.0",
      "model_name": "DescriptionStyleModel",
      "state": {
       "description_width": ""
      }
     },
     "3c3bdf2648c2412d8ddfdca9c6cca4cf": {
      "model_module": "@jupyter-widgets/controls",
      "model_module_version": "1.5.0",
      "model_name": "DescriptionStyleModel",
      "state": {
       "description_width": ""
      }
     },
     "3c70e3e03e3143a29cc282da93117943": {
      "model_module": "@jupyter-widgets/base",
      "model_module_version": "1.2.0",
      "model_name": "LayoutModel",
      "state": {
       "overflow_y": "scroll"
      }
     },
     "3cbd29d38ef444a79b9b8377dcd2d912": {
      "model_module": "@jupyter-widgets/controls",
      "model_module_version": "1.5.0",
      "model_name": "DescriptionStyleModel",
      "state": {
       "description_width": ""
      }
     },
     "3cd3ccb3533d45848d15083c4902e132": {
      "model_module": "@jupyter-widgets/controls",
      "model_module_version": "1.5.0",
      "model_name": "HTMLModel",
      "state": {
       "layout": "IPY_MODEL_a36980c6a620478d88c1d4673bf43d80",
       "style": "IPY_MODEL_c3c2b402fe654ad1afb1c66063a22436",
       "value": "<h5>Message</h5>"
      }
     },
     "3d994f7f10664566a14bf2fc17848589": {
      "model_module": "@jupyter-widgets/base",
      "model_module_version": "1.2.0",
      "model_name": "LayoutModel",
      "state": {
       "max_width": "180px"
      }
     },
     "3e7a4dce9e0a404cab203a69a4e6acd4": {
      "model_module": "@jupyter-widgets/controls",
      "model_module_version": "1.5.0",
      "model_name": "ProgressStyleModel",
      "state": {
       "bar_color": "#71cddd",
       "description_width": ""
      }
     },
     "3edf538251244813b5cb6b60daf7b56a": {
      "model_module": "@jupyter-widgets/controls",
      "model_module_version": "1.5.0",
      "model_name": "HTMLModel",
      "state": {
       "layout": "IPY_MODEL_a6007b7eb3ae4eebbf1357edcbe7e30b",
       "style": "IPY_MODEL_aed8c7b872644a9290c9461ddcd8bce6",
       "value": "ibm_perth"
      }
     },
     "40393136230a486eb90406af623f01a0": {
      "model_module": "@jupyter-widgets/controls",
      "model_module_version": "1.5.0",
      "model_name": "DescriptionStyleModel",
      "state": {
       "description_width": ""
      }
     },
     "417a73c5782b4c7c94a2d413883f5168": {
      "model_module": "@jupyter-widgets/output",
      "model_module_version": "1.0.0",
      "model_name": "OutputModel",
      "state": {
       "layout": "IPY_MODEL_650e0f244ae34300b105f48ab93e4e32",
       "outputs": [
        {
         "data": {
          "image/png": "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\n",
          "text/plain": "<Figure size 360x360 with 1 Axes>"
         },
         "metadata": {},
         "output_type": "display_data"
        }
       ]
      }
     },
     "41d1ec2758934b64b1f54d400f0660b1": {
      "model_module": "@jupyter-widgets/base",
      "model_module_version": "1.2.0",
      "model_name": "LayoutModel",
      "state": {
       "margin": "0px 0px 0px 0px"
      }
     },
     "43db6d6fbf0241f4bceea0a159a0a59d": {
      "model_module": "@jupyter-widgets/controls",
      "model_module_version": "1.5.0",
      "model_name": "DescriptionStyleModel",
      "state": {
       "description_width": ""
      }
     },
     "4430fe0398394aec986ae929ec5082e1": {
      "model_module": "@jupyter-widgets/base",
      "model_module_version": "1.2.0",
      "model_name": "LayoutModel",
      "state": {}
     },
     "44a552490e63441c8e48aeb0d8380131": {
      "model_module": "@jupyter-widgets/controls",
      "model_module_version": "1.5.0",
      "model_name": "HBoxModel",
      "state": {
       "children": [
        "IPY_MODEL_58e3bc679f1e4c8eb127fb6b2a71c983",
        "IPY_MODEL_b8983f9c917b4418b99f92f6f36f07df",
        "IPY_MODEL_1861873472f048ea9f3d65286085e172"
       ],
       "layout": "IPY_MODEL_d3b41c7d7a914c6aa181cb0c9657eae0"
      }
     },
     "45acc9cc371041faae9a99a6ffc02279": {
      "model_module": "@jupyter-widgets/controls",
      "model_module_version": "1.5.0",
      "model_name": "HTMLModel",
      "state": {
       "layout": "IPY_MODEL_f6d045dbb775432cba48a9101a6c7ac3",
       "style": "IPY_MODEL_b6e330ff65d347af9bcaa32298d02d2d",
       "value": "<table><style>\ntable {\n    border-collapse: collapse;\n    width: auto;\n}\n\nth, td {\n    text-align: left;\n    padding: 8px;\n}\n\ntr:nth-child(even) {background-color: #f6f6f6;};\n</style><tr><th></th><th>Type</th><th>Gate error</th></tr><tr><td><font style='font-weight:bold'>cx2_1</font></td><td>cx</td><td>0.00641</td></tr><tr><td><font style='font-weight:bold'>cx1_2</font></td><td>cx</td><td>0.00641</td></tr><tr><td><font style='font-weight:bold'>cx0_1</font></td><td>cx</td><td>0.00686</td></tr><tr><td><font style='font-weight:bold'>cx1_0</font></td><td>cx</td><td>0.00686</td></tr></table>"
      }
     },
     "465d3740896747628e8f255ba26169a3": {
      "model_module": "@jupyter-widgets/base",
      "model_module_version": "1.2.0",
      "model_name": "LayoutModel",
      "state": {
       "grid_area": "left",
       "width": "100%"
      }
     },
     "46d1e41ad45a4382a0e3c1cc9770a0e0": {
      "model_module": "@jupyter-widgets/controls",
      "model_module_version": "1.5.0",
      "model_name": "VBoxModel",
      "state": {
       "children": [
        "IPY_MODEL_2f7c2f030214499d92999d5fbad1f571",
        "IPY_MODEL_d078b9960ba640759553c8b0f6a2813d",
        "IPY_MODEL_4f42a61975be4323a7a15d2450802b92",
        "IPY_MODEL_ad9e6d21136a4729a98c7ed811955573",
        "IPY_MODEL_ed86035e835e44c4b4d3b03866c3a2d0",
        "IPY_MODEL_206d089c90f944e19c8fbae838fdf8ff",
        "IPY_MODEL_48d38f913135499b8c3dbac28aa32e8a",
        "IPY_MODEL_632959a3155c499cb9c3f2575b2d36bf",
        "IPY_MODEL_fa515d507c3e455c86309274a8554591",
        "IPY_MODEL_b6c6d82e48d44f38bc92763591bafa23"
       ],
       "layout": "IPY_MODEL_ca5a0e69f45e4de89a1fbb558a00f938"
      }
     },
     "4700586199724cd8b31a68567b7e338b": {
      "model_module": "@jupyter-widgets/base",
      "model_module_version": "1.2.0",
      "model_name": "LayoutModel",
      "state": {
       "justify_content": "center"
      }
     },
     "479e5220a3664240aba0b9b95e2e5d67": {
      "model_module": "@jupyter-widgets/controls",
      "model_module_version": "1.5.0",
      "model_name": "HTMLModel",
      "state": {
       "layout": "IPY_MODEL_b6ba54160a52441086d6f71d4e1c700e",
       "style": "IPY_MODEL_ed463d7d48134b15b5920cba75167c91",
       "value": "<h2 style ='color:#ffffff; background-color:#000000;padding-top: 1%; padding-bottom: 1%;padding-left: 1%;margin-top: 0px'>Backend Overview</h2>"
      }
     },
     "47aa018020824769beb9aa97c5828239": {
      "model_module": "@jupyter-widgets/controls",
      "model_module_version": "1.5.0",
      "model_name": "HTMLModel",
      "state": {
       "layout": "IPY_MODEL_d18c4a1219f04664b3499fa393ef2799",
       "style": "IPY_MODEL_b97961bb35474b319749a8f02ce48dce",
       "value": "<h5><b>7</b></h5>"
      }
     },
     "48c4aa97578e40daa53441a8df28f6bb": {
      "model_module": "@jupyter-widgets/controls",
      "model_module_version": "1.5.0",
      "model_name": "DescriptionStyleModel",
      "state": {
       "description_width": ""
      }
     },
     "48c71de2ec014b3a9751f1a0e45b2052": {
      "model_module": "@jupyter-widgets/base",
      "model_module_version": "1.2.0",
      "model_name": "LayoutModel",
      "state": {}
     },
     "48d38f913135499b8c3dbac28aa32e8a": {
      "model_module": "@jupyter-widgets/controls",
      "model_module_version": "1.5.0",
      "model_name": "HTMLModel",
      "state": {
       "layout": "IPY_MODEL_949b43a671114748a44e3d6c894e0253",
       "style": "IPY_MODEL_de895961977249b2a289427b02ef7352",
       "value": "<h5 style='color:#dc267f'>False</h5>"
      }
     },
     "49122ae376864e948fe624f3439e3c44": {
      "model_module": "@jupyter-widgets/controls",
      "model_module_version": "1.5.0",
      "model_name": "HTMLMathModel",
      "state": {
       "layout": "IPY_MODEL_ca92e9f4861e4e03a82b409fe5c069af",
       "style": "IPY_MODEL_5e3cb56f4c9e41e3b86d54d104ec9141",
       "value": "<table><style>\ntable {\n    border-collapse: collapse;\n    width: auto;\n}\n\nth, td {\n    text-align: left;\n    padding: 8px;\n}\n\ntr:nth-child(even) {background-color: #f6f6f6;}\n</style><tr><th></th><th></th></tr><tr><td>dt</td><td>0.2222222222222222</td></tr><tr><td>backend_name</td><td>ibm_perth</td></tr><tr><td>online_date</td><td>2021-07-22 04:00:00+00:00</td></tr><tr><td>pulse_num_qubits</td><td>3</td></tr><tr><td>qubit_lo_range</td><td>[[4.657382740525327, 5.657382740525327], [4.5343315333873395, 5.5343315333873395], [4.361852128342077, 5.361852128342077], [4.6244263532779435, 5.624426353277944], [4.659408090551706, 5.659408090551706], [4.478872512399842, 5.478872512399842], [4.65667015731727, 5.65667015731727]]</td></tr><tr><td>qubit_channel_mapping</td><td>[['m0', 'u1', 'u0', 'd0'], ['u1', 'u2', 'u5', 'u0', 'd1', 'm1', 'u4', 'u3'], ['m2', 'u2', 'u4', 'd2'], ['m3', 'd3', 'u5', 'u6', 'u8', 'u3'], ['u9', 'm4', 'd4', 'u7'], ['u11', 'd5', 'u6', 'u10', 'u8', 'u7', 'u9', 'm5'], ['d6', 'u11', 'u10', 'm6']]</td></tr><tr><td>meas_kernels</td><td>['hw_qmfk']</td></tr><tr><td>allow_object_storage</td><td>True</td></tr><tr><td>conditional</td><td>False</td></tr><tr><td>description</td><td>7 qubit device</td></tr><tr><td>open_pulse</td><td>False</td></tr><tr><td>measure_esp_enabled</td><td>True</td></tr><tr><td>local</td><td>False</td></tr><tr><td>rep_delay_range</td><td>[0.0, 500.0]</td></tr><tr><td>coupling_map</td><td>[[0, 1], [1, 0], [1, 2], [1, 3], [2, 1], [3, 1], [3, 5], [4, 5], [5, 3], [5, 4], [5, 6], [6, 5]]</td></tr><tr><td>rep_times</td><td>[1000.0]</td></tr><tr><td>meas_map</td><td>[[0, 1, 2, 3, 4, 5, 6]]</td></tr><tr><td>allow_q_object</td><td>True</td></tr><tr><td>n_registers</td><td>1</td></tr><tr><td>timing_constraints</td><td>{'acquire_alignment': 16, 'granularity': 16, 'min_length': 64, 'pulse_alignment': 1}</td></tr><tr><td>sample_name</td><td>family: Falcon, revision: 5.11, segment: H</td></tr><tr><td>meas_lo_range</td><td>[[6.663115502, 7.663115502], [6.6164476510000005, 7.6164476510000005], [6.84928468, 7.84928468], [6.719581694, 7.719581694], [6.637153809000001, 7.637153809000001], [6.78180398, 7.78180398], [6.6522457170000004, 7.6522457170000004]]</td></tr><tr><td>dynamic_reprate_enabled</td><td>True</td></tr><tr><td>u_channel_lo</td><td>[[{'q': 1, 'scale': (1+0j)}], [{'q': 0, 'scale': (1+0j)}], [{'q': 2, 'scale': (1+0j)}], [{'q': 3, 'scale': (1+0j)}], [{'q': 1, 'scale': (1+0j)}], [{'q': 1, 'scale': (1+0j)}], [{'q': 5, 'scale': (1+0j)}], [{'q': 5, 'scale': (1+0j)}], [{'q': 3, 'scale': (1+0j)}], [{'q': 4, 'scale': (1+0j)}], [{'q': 6, 'scale': (1+0j)}], [{'q': 5, 'scale': (1+0j)}]]</td></tr><tr><td>meas_levels</td><td>[1, 2]</td></tr><tr><td>parametric_pulses</td><td>['gaussian', 'gaussian_square', 'drag', 'constant']</td></tr><tr><td>dtm</td><td>0.2222222222222222</td></tr><tr><td>acquisition_latency</td><td>[]</td></tr><tr><td>memory</td><td>True</td></tr><tr><td>hamiltonian</td><td>$$\\begin{align} \\mathcal{H}/\\hbar = & \\sum_{i=0}^{6}\\left(\\frac{\\omega_{q,i}}{2}(\\mathbb{I}-\\sigma_i^{z})+\\frac{\\Delta_{i}}{2}(O_i^2-O_i)+\\Omega_{d,i}D_i(t)\\sigma_i^{X}\\right) \\\\ & + J_{0,1}(\\sigma_{0}^{+}\\sigma_{1}^{-}+\\sigma_{0}^{-}\\sigma_{1}^{+}) + J_{1,2}(\\sigma_{1}^{+}\\sigma_{2}^{-}+\\sigma_{1}^{-}\\sigma_{2}^{+}) + J_{4,5}(\\sigma_{4}^{+}\\sigma_{5}^{-}+\\sigma_{4}^{-}\\sigma_{5}^{+}) + J_{5,6}(\\sigma_{5}^{+}\\sigma_{6}^{-}+\\sigma_{5}^{-}\\sigma_{6}^{+}) \\\\ & + J_{1,3}(\\sigma_{1}^{+}\\sigma_{3}^{-}+\\sigma_{1}^{-}\\sigma_{3}^{+}) + J_{3,5}(\\sigma_{3}^{+}\\sigma_{5}^{-}+\\sigma_{3}^{-}\\sigma_{5}^{+}) \\\\ & + \\Omega_{d,0}(U_{0}^{(0,1)}(t))\\sigma_{0}^{X} + \\Omega_{d,1}(U_{1}^{(1,0)}(t)+U_{3}^{(1,3)}(t)+U_{2}^{(1,2)}(t))\\sigma_{1}^{X} \\\\ & + \\Omega_{d,2}(U_{4}^{(2,1)}(t))\\sigma_{2}^{X} + \\Omega_{d,3}(U_{5}^{(3,1)}(t)+U_{6}^{(3,5)}(t))\\sigma_{3}^{X} \\\\ & + \\Omega_{d,4}(U_{7}^{(4,5)}(t))\\sigma_{4}^{X} + \\Omega_{d,5}(U_{8}^{(5,3)}(t)+U_{10}^{(5,6)}(t)+U_{9}^{(5,4)}(t))\\sigma_{5}^{X} \\\\ & + \\Omega_{d,6}(U_{11}^{(6,5)}(t))\\sigma_{6}^{X} \\\\ \\end{align}$$</td></tr><tr><td>simulator</td><td>False</td></tr><tr><td>channels</td><td>{'acquire0': {'operates': {'qubits': [0]}, 'purpose': 'acquire', 'type': 'acquire'}, 'acquire1': {'operates': {'qubits': [1]}, 'purpose': 'acquire', 'type': 'acquire'}, 'acquire2': {'operates': {'qubits': [2]}, 'purpose': 'acquire', 'type': 'acquire'}, 'acquire3': {'operates': {'qubits': [3]}, 'purpose': 'acquire', 'type': 'acquire'}, 'acquire4': {'operates': {'qubits': [4]}, 'purpose': 'acquire', 'type': 'acquire'}, 'acquire5': {'operates': {'qubits': [5]}, 'purpose': 'acquire', 'type': 'acquire'}, 'acquire6': {'operates': {'qubits': [6]}, 'purpose': 'acquire', 'type': 'acquire'}, 'd0': {'operates': {'qubits': [0]}, 'purpose': 'drive', 'type': 'drive'}, 'd1': {'operates': {'qubits': [1]}, 'purpose': 'drive', 'type': 'drive'}, 'd2': {'operates': {'qubits': [2]}, 'purpose': 'drive', 'type': 'drive'}, 'd3': {'operates': {'qubits': [3]}, 'purpose': 'drive', 'type': 'drive'}, 'd4': {'operates': {'qubits': [4]}, 'purpose': 'drive', 'type': 'drive'}, 'd5': {'operates': {'qubits': [5]}, 'purpose': 'drive', 'type': 'drive'}, 'd6': {'operates': {'qubits': [6]}, 'purpose': 'drive', 'type': 'drive'}, 'm0': {'operates': {'qubits': [0]}, 'purpose': 'measure', 'type': 'measure'}, 'm1': {'operates': {'qubits': [1]}, 'purpose': 'measure', 'type': 'measure'}, 'm2': {'operates': {'qubits': [2]}, 'purpose': 'measure', 'type': 'measure'}, 'm3': {'operates': {'qubits': [3]}, 'purpose': 'measure', 'type': 'measure'}, 'm4': {'operates': {'qubits': [4]}, 'purpose': 'measure', 'type': 'measure'}, 'm5': {'operates': {'qubits': [5]}, 'purpose': 'measure', 'type': 'measure'}, 'm6': {'operates': {'qubits': [6]}, 'purpose': 'measure', 'type': 'measure'}, 'u0': {'operates': {'qubits': [0, 1]}, 'purpose': 'cross-resonance', 'type': 'control'}, 'u1': {'operates': {'qubits': [1, 0]}, 'purpose': 'cross-resonance', 'type': 'control'}, 'u10': {'operates': {'qubits': [5, 6]}, 'purpose': 'cross-resonance', 'type': 'control'}, 'u11': {'operates': {'qubits': [6, 5]}, 'purpose': 'cross-resonance', 'type': 'control'}, 'u2': {'operates': {'qubits': [1, 2]}, 'purpose': 'cross-resonance', 'type': 'control'}, 'u3': {'operates': {'qubits': [1, 3]}, 'purpose': 'cross-resonance', 'type': 'control'}, 'u4': {'operates': {'qubits': [2, 1]}, 'purpose': 'cross-resonance', 'type': 'control'}, 'u5': {'operates': {'qubits': [3, 1]}, 'purpose': 'cross-resonance', 'type': 'control'}, 'u6': {'operates': {'qubits': [3, 5]}, 'purpose': 'cross-resonance', 'type': 'control'}, 'u7': {'operates': {'qubits': [4, 5]}, 'purpose': 'cross-resonance', 'type': 'control'}, 'u8': {'operates': {'qubits': [5, 3]}, 'purpose': 'cross-resonance', 'type': 'control'}, 'u9': {'operates': {'qubits': [5, 4]}, 'purpose': 'cross-resonance', 'type': 'control'}}</td></tr><tr><td>supported_instructions</td><td>['acquire', 'u3', 'reset', 'u1', 'u2', 'setf', 'measure', 'id', 'x', 'rz', 'play', 'sx', 'shiftf', 'cx', 'delay']</td></tr><tr><td>url</td><td>None</td></tr><tr><td>pulse_num_channels</td><td>9</td></tr><tr><td>multi_meas_enabled</td><td>True</td></tr><tr><td>uchannels_enabled</td><td>True</td></tr><tr><td>discriminators</td><td>['quadratic_discriminator', 'linear_discriminator', 'hw_qmfk']</td></tr><tr><td>default_rep_delay</td><td>250.0</td></tr><tr><td>n_uchannels</td><td>12</td></tr><tr><td>conditional_latency</td><td>[]</td></tr><tr><td>input_allowed</td><td>['job']</td></tr><tr><td>processor_type</td><td>{'family': 'Falcon', 'revision': '5.11', 'segment': 'H'}</td></tr><tr><td>credits_required</td><td>True</td></tr></table>"
      }
     },
     "4a47edbccff5490b8468968057e2c48f": {
      "model_module": "@jupyter-widgets/base",
      "model_module_version": "1.2.0",
      "model_name": "LayoutModel",
      "state": {}
     },
     "4ac9438dc20349ad9c800c0847814508": {
      "model_module": "@jupyter-widgets/controls",
      "model_module_version": "1.5.0",
      "model_name": "HTMLModel",
      "state": {
       "layout": "IPY_MODEL_909fb60555224d0386c9333b7425df1b",
       "style": "IPY_MODEL_0759d391f4b34279aa99b9be1d4a51ea",
       "value": "<h5>0.0535</h5>"
      }
     },
     "4aec058a47684344b746d1992e868e93": {
      "model_module": "@jupyter-widgets/controls",
      "model_module_version": "1.5.0",
      "model_name": "DescriptionStyleModel",
      "state": {
       "description_width": ""
      }
     },
     "4b09572763744ece838bd7d58f365f0e": {
      "model_module": "@jupyter-widgets/controls",
      "model_module_version": "1.5.0",
      "model_name": "DescriptionStyleModel",
      "state": {
       "description_width": ""
      }
     },
     "4b183fb8723f4c59a62e9c5e24ad498d": {
      "model_module": "@jupyter-widgets/controls",
      "model_module_version": "1.5.0",
      "model_name": "IntProgressModel",
      "state": {
       "layout": "IPY_MODEL_d1c98cacb6074056a298095307e8cf9a",
       "max": 80,
       "style": "IPY_MODEL_87b831d9ec7b48cab80ba2b3bf072a6a"
      }
     },
     "4b2a80593eb94396a1e1855246000629": {
      "model_module": "@jupyter-widgets/controls",
      "model_module_version": "1.5.0",
      "model_name": "IntProgressModel",
      "state": {
       "layout": "IPY_MODEL_9b308218442048a7b3a6fa826234c22d",
       "max": 50,
       "style": "IPY_MODEL_767a6dcb0f2c4a22b3bc71612278bfd6",
       "value": 9
      }
     },
     "4c12e8a66cd0468c986f8126c3435c4f": {
      "model_module": "@jupyter-widgets/controls",
      "model_module_version": "1.5.0",
      "model_name": "DescriptionStyleModel",
      "state": {
       "description_width": ""
      }
     },
     "4c7c6f1fbcf14d8da17e71a65434d8c1": {
      "model_module": "@jupyter-widgets/controls",
      "model_module_version": "1.5.0",
      "model_name": "DescriptionStyleModel",
      "state": {
       "description_width": ""
      }
     },
     "4d5a8425b2594390bc59c575fc2057be": {
      "model_module": "@jupyter-widgets/base",
      "model_module_version": "1.2.0",
      "model_name": "LayoutModel",
      "state": {
       "grid_gap": "0px 0px",
       "grid_template_areas": "\n                                                   \"top top top\"\n                                                   \"left middle right\"\n                                                   ",
       "grid_template_columns": "33% 33% 33%",
       "grid_template_rows": "auto auto"
      }
     },
     "4d6cd8dca5c8451cb82044b66ae07490": {
      "model_module": "@jupyter-widgets/controls",
      "model_module_version": "1.5.0",
      "model_name": "ButtonModel",
      "state": {
       "icon": "close",
       "layout": "IPY_MODEL_c86479d5fea24c60ae58f51deb9074c9",
       "style": "IPY_MODEL_023ec16d4e274baa80b607e39cef44ee"
      }
     },
     "4dcb0f0ef782481d86f2090151af60de": {
      "model_module": "@jupyter-widgets/controls",
      "model_module_version": "1.5.0",
      "model_name": "VBoxModel",
      "state": {
       "children": [
        "IPY_MODEL_fcd6c542c5964d81980446b469ffda2f",
        "IPY_MODEL_324dd9e4d4cb4f41b6b45bd357efed2a",
        "IPY_MODEL_3780890bc052438688b80c4b7c0df963",
        "IPY_MODEL_937918dbe6694feebf4e7da2b6b6494c",
        "IPY_MODEL_38fbd4baa42545d2bbe77afc5d2159b6",
        "IPY_MODEL_a69f47bb94dd4700b65b4df4381ac0ae",
        "IPY_MODEL_f2459f06a24b4163a4baed8039b60520",
        "IPY_MODEL_ec9fe2ea99ea4646a32e7925c5555835"
       ],
       "layout": "IPY_MODEL_735aacfd61fd40b5ad12092dd0e4340a"
      }
     },
     "4de9471e0ce14dc7a6405442907008fb": {
      "model_module": "@jupyter-widgets/base",
      "model_module_version": "1.2.0",
      "model_name": "LayoutModel",
      "state": {
       "width": "145px"
      }
     },
     "4e3ba5a27a4d48b399924657e5df0432": {
      "model_module": "@jupyter-widgets/base",
      "model_module_version": "1.2.0",
      "model_name": "LayoutModel",
      "state": {
       "justify_content": "center"
      }
     },
     "4f1bc6b073ef4157b9c0a7ff451c3db9": {
      "model_module": "@jupyter-widgets/base",
      "model_module_version": "1.2.0",
      "model_name": "LayoutModel",
      "state": {}
     },
     "4f42a61975be4323a7a15d2450802b92": {
      "model_module": "@jupyter-widgets/controls",
      "model_module_version": "1.5.0",
      "model_name": "HTMLModel",
      "state": {
       "layout": "IPY_MODEL_ba5fd6d05dbd4f3d96db55b64bacb3e3",
       "style": "IPY_MODEL_f32675712019437da7fad7efefc80323",
       "value": "<h5><b>5</b></h5>"
      }
     },
     "4fbbde46f14f4e128986559fa1dd4554": {
      "model_module": "@jupyter-widgets/base",
      "model_module_version": "1.2.0",
      "model_name": "LayoutModel",
      "state": {
       "min_width": "auto"
      }
     },
     "4fc41097848e438abd1f7bcb0c43d8b1": {
      "model_module": "@jupyter-widgets/controls",
      "model_module_version": "1.5.0",
      "model_name": "HTMLModel",
      "state": {
       "layout": "IPY_MODEL_614a17ad643643fa852eda7b51c227e4",
       "style": "IPY_MODEL_67cb526089ba4e91b6740fa7d6449189",
       "value": "<h5>1</h5>"
      }
     },
     "50d5d29a6b23435e899f1ec009845f91": {
      "model_module": "@jupyter-widgets/base",
      "model_module_version": "1.2.0",
      "model_name": "LayoutModel",
      "state": {}
     },
     "517f90c4a4bf40bcb8c1848a3c64cd57": {
      "model_module": "@jupyter-widgets/controls",
      "model_module_version": "1.5.0",
      "model_name": "DescriptionStyleModel",
      "state": {
       "description_width": ""
      }
     },
     "5239cc065beb473f80288fd9a720c57a": {
      "model_module": "@jupyter-widgets/controls",
      "model_module_version": "1.5.0",
      "model_name": "HTMLModel",
      "state": {
       "layout": "IPY_MODEL_f30b766d8d0c4096a1cd7c2ba3a4f72f",
       "style": "IPY_MODEL_e5d7ca099a9c483fa8a62772225b8e06",
       "value": "<h5>16</h5>"
      }
     },
     "53b95236190347a4b34274f233a7f2ac": {
      "model_module": "@jupyter-widgets/controls",
      "model_module_version": "1.5.0",
      "model_name": "DescriptionStyleModel",
      "state": {
       "description_width": ""
      }
     },
     "54c6773942e84ce6b7e1241e552ccf2d": {
      "model_module": "@jupyter-widgets/controls",
      "model_module_version": "1.5.0",
      "model_name": "HTMLModel",
      "state": {
       "layout": "IPY_MODEL_4430fe0398394aec986ae929ec5082e1",
       "style": "IPY_MODEL_5c882f1744a34162a85e0d2ad3f4424a",
       "value": "<table><style>\ntable {\n    border-collapse: collapse;\n    width: auto;\n}\n\nth, td {\n    text-align: left;\n    padding: 8px;\n}\n\ntr:nth-child(even) {background-color: #f6f6f6;}\n</style><tr><th></th><th>Frequency</th><th>T1</th><th>T2</th><th>U1</th><th>U2</th><th>U3</th><th>Readout error</th></tr><tr><td><font style='font-weight:bold'>Q0</font></td><td>4.66492 GHz</td><td>65.02615 µs</td><td>17.70905 µs</td><td>0</td><td>0.00075</td><td>0.00151</td><td>0.0334 </td><tr><td><font style='font-weight:bold'>Q1</font></td><td>4.76767 GHz</td><td>43.9688 µs</td><td>15.58758 µs</td><td>0</td><td>0.00068</td><td>0.00137</td><td>0.0867 </td><tr><td><font style='font-weight:bold'>Q2</font></td><td>4.61803 GHz</td><td>52.93976 µs</td><td>13.80566 µs</td><td>0</td><td>0.00087</td><td>0.00174</td><td>0.0926 </td><tr><td><font style='font-weight:bold'>Q3</font></td><td>5.02263 GHz</td><td>48.80939 µs</td><td>14.67257 µs</td><td>0</td><td>0.00088</td><td>0.00175</td><td>0.0765 </td><tr><td><font style='font-weight:bold'>Q4</font></td><td>4.65579 GHz</td><td>76.5053 µs</td><td>15.55758 µs</td><td>0</td><td>0.00074</td><td>0.00149</td><td>0.0681 </td><tr><td><font style='font-weight:bold'>Q5</font></td><td>4.74578 GHz</td><td>62.26546 µs</td><td>9.21099 µs</td><td>0</td><td>0.00101</td><td>0.00203</td><td>0.0701 </td><tr><td><font style='font-weight:bold'>Q6</font></td><td>4.83168 GHz</td><td>51.07522 µs</td><td>14.30637 µs</td><td>0</td><td>0.00131</td><td>0.00261</td><td>0.0672 </td><tr><td><font style='font-weight:bold'>Q7</font></td><td>4.70569 GHz</td><td>34.47778 µs</td><td>12.42501 µs</td><td>0</td><td>0.00097</td><td>0.00194</td><td>0.0175 </td><tr><td><font style='font-weight:bold'>Q8</font></td><td>4.8984 GHz</td><td>22.00524 µs</td><td>5.4628 µs</td><td>0</td><td>0.00185</td><td>0.0037</td><td>0.0902 </td><tr><td><font style='font-weight:bold'>Q9</font></td><td>4.7406 GHz</td><td>61.6795 µs</td><td>12.31188 µs</td><td>0</td><td>0.00098</td><td>0.00197</td><td>0.097 </td><tr><td><font style='font-weight:bold'>Q10</font></td><td>4.84131 GHz</td><td>39.29521 µs</td><td>8.29331 µs</td><td>0</td><td>0.0011</td><td>0.0022</td><td>0.0724 </td><tr><td><font style='font-weight:bold'>Q11</font></td><td>4.75709 GHz</td><td>71.76919 µs</td><td>13.57695 µs</td><td>0</td><td>0.00074</td><td>0.00147</td><td>0.1013 </td><tr><td><font style='font-weight:bold'>Q12</font></td><td>4.61986 GHz</td><td>82.39661 µs</td><td>17.04141 µs</td><td>0</td><td>0.00076</td><td>0.00153</td><td>0.0884 </td><tr><td><font style='font-weight:bold'>Q13</font></td><td>4.85395 GHz</td><td>51.26071 µs</td><td>12.95339 µs</td><td>0</td><td>0.0007</td><td>0.00141</td><td>0.0265 </td><tr><td><font style='font-weight:bold'>Q14</font></td><td>4.40127 GHz</td><td>35.98483 µs</td><td>12.06972 µs</td><td>0</td><td>0.00106</td><td>0.00212</td><td>0.1173 </td><tr><td><font style='font-weight:bold'>Q15</font></td><td>4.69354 GHz</td><td>56.86022 µs</td><td>17.28385 µs</td><td>0</td><td>0.00065</td><td>0.0013</td><td>0.0644 </td><tr><td><font style='font-weight:bold'>Q16</font></td><td>4.51267 GHz</td><td>69.36949 µs</td><td>15.96325 µs</td><td>0</td><td>0.00085</td><td>0.0017</td><td>0.1727 </td><tr><td><font style='font-weight:bold'>Q17</font></td><td>4.72421 GHz</td><td>44.24938 µs</td><td>14.42326 µs</td><td>0</td><td>0.00083</td><td>0.00165</td><td>0.0681 </td><tr><td><font style='font-weight:bold'>Q18</font></td><td>4.3351 GHz</td><td>62.35078 µs</td><td>14.96326 µs</td><td>0</td><td>0.00082</td><td>0.00164</td><td>0.1678 </td><tr><td><font style='font-weight:bold'>Q19</font></td><td>4.58623 GHz</td><td>78.6054 µs</td><td>20.57852 µs</td><td>0</td><td>0.00076</td><td>0.00153</td><td>0.1042 </td></table>"
      }
     },
     "54f3fe32ae984f47821b27678b391c03": {
      "model_module": "@jupyter-widgets/controls",
      "model_module_version": "1.5.0",
      "model_name": "HTMLModel",
      "state": {
       "layout": "IPY_MODEL_d73b38247e154ab4b71b5d4479f58d3c",
       "style": "IPY_MODEL_c21b6ebee8954d68bdcf4a8f6c4100be",
       "value": "613f31526feb7e17126f42a2"
      }
     },
     "55224792f7f14ef68de4ba89c9baf6bd": {
      "model_module": "@jupyter-widgets/controls",
      "model_module_version": "1.5.0",
      "model_name": "VBoxModel",
      "state": {
       "children": [
        "IPY_MODEL_95709ce8d8574fa2adbd86bf8d2afbca",
        "IPY_MODEL_f57d4d630cb846fbba282b9cc874be33"
       ],
       "layout": "IPY_MODEL_646d5fe6d3624ffb8eaf759d6434c245"
      }
     },
     "57b27d2ab765487988ceb1fbb72a380d": {
      "model_module": "@jupyter-widgets/controls",
      "model_module_version": "1.5.0",
      "model_name": "DescriptionStyleModel",
      "state": {
       "description_width": ""
      }
     },
     "5845b22ed1614516aa6664c1bd94d901": {
      "model_module": "@jupyter-widgets/controls",
      "model_module_version": "1.5.0",
      "model_name": "HTMLModel",
      "state": {
       "layout": "IPY_MODEL_1932b4e8967345438c0453d1bffa7f9e",
       "style": "IPY_MODEL_172fc173d4a248b2bc3850c892e69f2a",
       "value": "<table><style>\ntable {\n    border-collapse: collapse;\n    width: auto;\n}\n\nth, td {\n    text-align: left;\n    padding: 8px;\n}\n\ntr:nth-child(even) {background-color: #f6f6f6;}\n</style><tr><th></th><th>Frequency</th><th>T1</th><th>T2</th><th>RZ</th><th>SX</th><th>X</th><th>Readout error</th></tr><tr><td><font style='font-weight:bold'>Q0</font></td><td>5.15738 GHz</td><td>126.43255 us</td><td>88.41019 us</td><td>0</td><td>0.00037</td><td>0.00037</td><td>0.0129 </td><tr><td><font style='font-weight:bold'>Q1</font></td><td>5.03433 GHz</td><td>167.22411 us</td><td>127.89855 us</td><td>0</td><td>0.00026</td><td>0.00026</td><td>0.013 </td><tr><td><font style='font-weight:bold'>Q2</font></td><td>4.86185 GHz</td><td>173.11732 us</td><td>127.12971 us</td><td>0</td><td>0.00026</td><td>0.00026</td><td>0.0113 </td><tr><td><font style='font-weight:bold'>Q3</font></td><td>5.12443 GHz</td><td>182.70781 us</td><td>274.31922 us</td><td>0</td><td>0.00029</td><td>0.00029</td><td>0.0097 </td><tr><td><font style='font-weight:bold'>Q4</font></td><td>5.15941 GHz</td><td>121.24462 us</td><td>164.71292 us</td><td>0</td><td>0.00031</td><td>0.00031</td><td>0.0108 </td><tr><td><font style='font-weight:bold'>Q5</font></td><td>4.97887 GHz</td><td>127.87397 us</td><td>150.86926 us</td><td>0</td><td>0.00025</td><td>0.00025</td><td>0.0143 </td><tr><td><font style='font-weight:bold'>Q6</font></td><td>5.15667 GHz</td><td>128.75691 us</td><td>211.37765 us</td><td>0</td><td>0.00032</td><td>0.00032</td><td>0.0063 </td></table>"
      }
     },
     "58899fe7eb0749219dddcdd6582c062a": {
      "model_module": "@jupyter-widgets/controls",
      "model_module_version": "1.5.0",
      "model_name": "DescriptionStyleModel",
      "state": {
       "description_width": ""
      }
     },
     "58d2f6654afd48c5b7db7f7f779e741f": {
      "model_module": "@jupyter-widgets/controls",
      "model_module_version": "1.5.0",
      "model_name": "HTMLModel",
      "state": {
       "layout": "IPY_MODEL_3a0eeeafedb544259b392cceee7df55a",
       "style": "IPY_MODEL_9c97a9eb47dd472c8c1e56aec6515f9b",
       "value": "<h5>93.5 / 124.5 us</h5>"
      }
     },
     "58e3bc679f1e4c8eb127fb6b2a71c983": {
      "model_module": "@jupyter-widgets/controls",
      "model_module_version": "1.5.0",
      "model_name": "LabelModel",
      "state": {
       "layout": "IPY_MODEL_9459e8a011f84ca9aa730fb829bf33cb",
       "style": "IPY_MODEL_8e6ab33f66da4ca79e5d5b129f1ee1a2",
       "value": "4"
      }
     },
     "593378d7ae0045e2ae89f1f17a5b3cd9": {
      "model_module": "@jupyter-widgets/base",
      "model_module_version": "1.2.0",
      "model_name": "LayoutModel",
      "state": {}
     },
     "5976c8bc7cd14dc9be95b4e76de7ac63": {
      "model_module": "@jupyter-widgets/base",
      "model_module_version": "1.2.0",
      "model_name": "LayoutModel",
      "state": {
       "grid_gap": "0px 25px",
       "grid_template_columns": "250px 250px 250px 250px 250px 250px 250px 250px ",
       "grid_template_rows": "auto"
      }
     },
     "59ad3611f9cf41598848c59e5a462f84": {
      "model_module": "@jupyter-widgets/base",
      "model_module_version": "1.2.0",
      "model_name": "LayoutModel",
      "state": {
       "align_items": "center",
       "display": "inline-flex",
       "flex_flow": "column"
      }
     },
     "59ff3238702d4660bc46265804186b03": {
      "model_module": "@jupyter-widgets/controls",
      "model_module_version": "1.5.0",
      "model_name": "HTMLModel",
      "state": {
       "layout": "IPY_MODEL_8be494f715d541f399b04b23058c2d74",
       "style": "IPY_MODEL_f464d757d31a447f9ff4ac6b21a75004",
       "value": "<font style='color:#34BC6E'>DONE</font>"
      }
     },
     "5a2c6563eb4c45e180d08461fcc5de10": {
      "model_module": "@jupyter-widgets/controls",
      "model_module_version": "1.5.0",
      "model_name": "DescriptionStyleModel",
      "state": {
       "description_width": ""
      }
     },
     "5a3bc777454b46e28e12b342659aeb0d": {
      "model_module": "@jupyter-widgets/base",
      "model_module_version": "1.2.0",
      "model_name": "LayoutModel",
      "state": {}
     },
     "5abd7ade919a408193dc547e47578549": {
      "model_module": "@jupyter-widgets/controls",
      "model_module_version": "1.5.0",
      "model_name": "HBoxModel",
      "state": {
       "children": [
        "IPY_MODEL_4dcb0f0ef782481d86f2090151af60de",
        "IPY_MODEL_8f36addf1a844b0084d5dc1d45bb107e"
       ],
       "layout": "IPY_MODEL_6d4b117732554f8393a2136bc81314b8"
      }
     },
     "5b30594da4cb427ab0f20c52757fa1c4": {
      "model_module": "@jupyter-widgets/base",
      "model_module_version": "1.2.0",
      "model_name": "LayoutModel",
      "state": {}
     },
     "5c0b1677a0f742d3852ceade81c43c2d": {
      "model_module": "@jupyter-widgets/controls",
      "model_module_version": "1.5.0",
      "model_name": "LabelModel",
      "state": {
       "layout": "IPY_MODEL_d4b8f8e5934e4ce29ec0be5f5629bec5",
       "style": "IPY_MODEL_052757d971db46b3af2e8f410a2bdbea",
       "value": "50"
      }
     },
     "5c2d6af0c46049309c52edbfdc22995a": {
      "model_module": "@jupyter-widgets/base",
      "model_module_version": "1.2.0",
      "model_name": "LayoutModel",
      "state": {}
     },
     "5c4478e9e245461fb2ff4ab191bb9c8e": {
      "model_module": "@jupyter-widgets/controls",
      "model_module_version": "1.5.0",
      "model_name": "LabelModel",
      "state": {
       "layout": "IPY_MODEL_deb33e16902a45f684c918b9c6c0f183",
       "style": "IPY_MODEL_d4d2eea86e074cbc9d99e48602b313ab",
       "value": "376"
      }
     },
     "5c882f1744a34162a85e0d2ad3f4424a": {
      "model_module": "@jupyter-widgets/controls",
      "model_module_version": "1.5.0",
      "model_name": "DescriptionStyleModel",
      "state": {
       "description_width": ""
      }
     },
     "5d0aaa2204b04946a0b6e8b8f41232f2": {
      "model_module": "@jupyter-widgets/controls",
      "model_module_version": "1.5.0",
      "model_name": "IntProgressModel",
      "state": {
       "layout": "IPY_MODEL_cde306cb4bb144398bb592c795b63042",
       "max": 50,
       "style": "IPY_MODEL_b1fcbbfdb5784001b700430539cec757",
       "value": 13
      }
     },
     "5e04a1b07c814ccba8ece3af1676c5d9": {
      "model_module": "@jupyter-widgets/controls",
      "model_module_version": "1.5.0",
      "model_name": "HTMLModel",
      "state": {
       "layout": "IPY_MODEL_6aa3fbda0cf74e8f868c4661cf904a67",
       "style": "IPY_MODEL_c4a353224c164ad4870f210f4b66ccac",
       "value": "<h5 style='color:#34bc6e'>True</h5>"
      }
     },
     "5e17bad9d9f940249993f8e88b5ce397": {
      "model_module": "@jupyter-widgets/output",
      "model_module_version": "1.0.0",
      "model_name": "OutputModel",
      "state": {
       "layout": "IPY_MODEL_a9fd51f19886480087a996ea9f35d590",
       "outputs": [
        {
         "data": {
          "image/png": "iVBORw0KGgoAAAANSUhEUgAAAR4AAAEeCAYAAABcyXrWAAAAOXRFWHRTb2Z0d2FyZQBNYXRwbG90bGliIHZlcnNpb24zLjQuMywgaHR0cHM6Ly9tYXRwbG90bGliLm9yZy/MnkTPAAAACXBIWXMAAAsTAAALEwEAmpwYAAASC0lEQVR4nO3df7BmdV3A8ffdXdhfLEiak1n+IFglBBVNEy01UgcGRZgUHc0f6WkyazyWUqkj+HtEydNokhwpMrIUE4VkQgdGKksZwAQVEyQd1JTRRoV7d5f98fTH91z2cndd7u7zPJ/vOc/3/ZphmNl793y/e+7zvO/59ZwzNxqNkKRIq3JPQFJ5DI+kcIZHUjjDIymc4ZEUzvBICmd4JIUzPJLCGR5J4QyPpHCGR1I4wyMpnOGRFM7wSApneCSFMzySwhkeSeEMj6RwhkdSOMMjKZzhkRTO8EgKZ3gkhTM8ksIZHknhDI+kcIZHUjjDIymc4ZEUzvBICmd4JIUzPJLCGR5J4QyPpHCGR1I4wyMpnOGRFM7wSApneCSFMzySwhkeSeEMj6RwhkdSOMMjKZzhkRTO8EgKZ3gkhTM8ksIZHknhDI+kcIZHUjjDIymc4ZEUzvBICmd4JIUzPJLCrck9AQ1D1TAH/ALwGOCXgUOBOWAeuAW4Dri5rdmVbZIajLnRaJR7DuqxquFRwB8Bzyb9oroLOARY3X3LCLiTtPW8BrgaeDdwpRHST2N4tFdVw9OBc4EjgLXsDs29GZG2gu4AzgI+2Nb4ItM9GB7dQ9VwGPA+4HRgw5iLmwduBJ7X1nxr3Llpdhge3a1qOB64grQrtW5Ci90BbANe0tZ8bELL1MB5VksAVA0nkI7P3I/JRQfScZ+NwIeqhpdOcLkaMLd4tHgA+d9IWzrTtEDa8rl4yuOo5wxP4aqGDcDNwANIp8enbQE4tq25NWAs9ZS7WnoXcDgx0YF0huwjVeNrr2T+8AtWNTwBeCmwPnDY1cDRwCsCx1TPGJ6yvZnJHkheqY3AWVWz4muDNGMMT6GqhgcBTyJuF2u5dcBJmcZWZoanXK8gX3QANgFnZhxfGRmecp1OOtCb069WDQdlnoMyMDwFqhoOBh6aex7AVuCY3JNQPMNTpmNIb/rcVpFus6HCGJ4ybYZefGJ8I+nePiqM4SnTevrzs9+UewKK15cXn2L1YWtnkTcLK5DhKdMC/XjDj0g3DFNhDE+ZbqIfP/vFG4WpMH148Sne14CDc0+ic13uCSie4SlQW7ODdCuM3A4mRVCFMTzl+kdgS8bxR8BVbc3OjHNQJoanXOeT97Na88A5GcdXRoanUG3N7cC/kO/s1o+Az2YaW5kZnrK9kfQEiGjzwJk+b6tchqdgbc2NpFufzgcOexfwOdIxJhXK8OitpN2eKNuAF7u1UzbDo5OA+weNtQCc1tZ8L2g89ZThKVjV8CzgYxByM64F4Iy25sqAsdRza3JPQHnsIzq3kx7sN+5z0xdtY/eWztUTWqYGzi2eAu0jOi8HfhFoSBcXjnscZgG4DDjS6GgpnyRamH1Fp625YMn3PQp4O/BU0oWGK70/8w5gO+mjEG9oay4fd86aPYanICuNzrK/80DSEymeT9oa2gIcuuzbfkzaNfsBcDnQtDVfnuDUNWMMTyEOJDp7WcY64FjgmmVfegrwxbbmJ+POU2UwPAWYRHSWLe8eL5q2zvqZLw2QB5dn3KSjI02C4ZlhRkd9ZXhmlNFRnxmeGWR01HeGZ8YYHQ2B4ZkhRkdDYXhmhNHRkBieGWB0NDSGZ+CMjobI8AyY0dFQGZ6BMjoaMsMzQEZHQ2d4BqZqeCtwCUZHA+atTweki87r9/Ilo6NBcYtnIKqGt2B0NCMMzwBUDacCf7qXL11odDREhqfnuuhczJ67xRe2NS/NMCVpbIanx5ZEZ+mB5BFwgdHRkHlwuaf2EZ2XtzV/nWdW0mS4xdNDRkezzvD0jNFRCQxPjxgdlcLw9ITRUUkMTw8YHZXG8GRmdFQiw5OR0VGpDE8mRkclMzwZGB2VzvAEMzqS4QlldKTE8AQxOtJuc6PRKPcceqlqWAUcBTwGOA64D7AamAe+DlwL3NDWbF3BsgYfnaphNbAZeCzwoWVf/j3S+vhyW7Mtem45VA1rgIeTXh+PAA4F5oA7ga8C15HWx/Zsk+wxw7NE1TAHPB74Y+AUYCewCziE9KJatADsADYANwDnAJe0NXftZZmDjU63Pp4EvAZ4BrCdNPdNy751cX2sB64nrY9L25odcbOdvm59PBV4LfAbcPfPeyP3fH3Mk14764HPA+8CLm9rdsbNtt8MT6dqOBlogJ8nvWD2Zzf0DlKg3g28c/G33MCjcxpwLvCz7PnGujd3kEL0duA9Q3/DdcF5PvBO0pbvgayPbcDZwHltza4JT3Fwig9P1XA4cB7wTNIWzDjmgW8DzwUeygCjUzXcD7gAOJH0BhvHPHAr8Ny25mvjzi2HquEBpF3LJzCZ9XETcEZbc+u4cxuyosNTNRwPfJq0K7V2QosdkXZJVnf/Lf3zvkfnBOByYB2TWx+7SL/tf7+tuXBCywxRNZxIepTQOvZ8nNCB2klaHy9pay6e0DIHp9izWt2b7GrgvkzuTQZpE/xghhedE0kRPozJro9VpF3Xv6waXjXB5U5V1XAKcCnpeNakogPpdbEBuLBqyr19bZFbPFXDI4F/J23pTNsQovN44CrG39W8NwvAK/u+5VM1PAX4FNNfH1uAF7U1H5vyOL1T3BZP1bAeuIzx99dXajvwxaCx9lvVsIm0Pqb9JqMb4/1Vw8MDxjogVcPPAB8nZn2sJ235PCRgrF4pLjzAO0i7V/tzVmIcBwEXVw0HB423v/6CmC2/RWuBj3bXBfXR+cREZ9Fa4MPdmbNiFBWequGxwO8S+8KaAx4AvCFwzBWpGp4MnEH6zRtlFXAEUAeOuSLdJRUnMdljXPdmDekC1ZcHjpldUeEBziKdoYi2AXh1t5vXJ28mNsKLNgKv767+7ZO3kW99nN1dLV+EYv6hVcPPAU8jbhdrb56Tcex7qBqOAB6XcQprSNdO9ULVcCzwsIxTOJR07VQRigkPaRcr5ym8Q4A/yTj+cq8k789/E/1aH69isqfN99dG0kdTilBSeE4jz27WUkdVDYdmnsOiZ0H2A97HV03o8ZR9OZm8T9adA369lN2tIv6R3Q/z6NzzIF3H8ujck+je7A/OPQ/SdSyPyD2JquEw4H6550G6qvnI3JOIUER4SLe36MMnpdeRbqOQ2yNIb/rc1tCP9fFo0i+F3HbRj/UxdX07qzAtR9KP8KwlnTrN7SjyHmRftAH4QNXwgdwT6YlDSD+bmVfKFs86+vFGg7grpvelT+tDu83Rj9fH1JUSnhF5z2gt1Yd7sfRlXWhPg7530UqVEp753BNY4se5J0BaH30IoO5pB+nWqTOvlGM8XyX/qWNIBzCvzz0J4Cv045fOHaT79FyUcxJVw+OAz0D2Sx3mST+bmdeHF1+Eb9OPg8s7SDcBz+3r5L1YbtEc6Sbxud1Ano9KLLeWfrw+pq6I8LQ1I9KLK7f1wI25J9HdA/nruedBil/2eXRPCrkt9zxIN4//Tu5JRCgiPJ2/I//+8+dW8jicIBeR99qVXcAVPbrx+Ych689mB/DJ7pfkzCspPH9P3n/vHaTHvvTFBeRdHwukx770xXmZx78L+PPMcwhTTHjamjtJv+VzPWBtAbgi09h7aGt+CHySfKdvbwc+l2nsPbQ13wE+S75LDb7R1vxXprHDFROeztthz4fuBZgHzuzRbsWis8izPhaA1/Rwt+LPyLO7tUB6iGQxigpPW/Mt0lMgI6/r2Q5cQzrG1CttzX+TbgYWuT62AZ9pay4JHHNFui2O9xB77Gsr8E9tzWcCx8yuqPB0/op0Zilql2sb8MIe/nZf9C7SQ/eiLjfYSr9v8/km4k5CjLqx/iBovN4oLjxdAE4Fvs/0j28sAM9ua7475XEOWHdq/WTg/5j+1czzwMltzQ+mPM44fhu4f9BY88DT25qfBI3XG8WFB6CtuR04Afge09vyWSA9qvbKKS1/YtqabwNPBH7I9LZ85oFntTX/MaXlj61qeBnwwYChRqSznM9o6/4++miaigwPQFtzG+neJ19issc4tpK2Hk5ua/55gsudqrbmFuB40rO9J7k+tpDOYJ3Y1lw1weVO1E+JznbSBX2TXh/fBX6tzxGetmLDA9DWfB94PPA60hbKuLteC8AngF9qa64ec1nhui2fRwNvJb1BJrE+/gE4sq35wpjLmpp9ROe3gIcC55LWxzi7oqNuGRcAm9uaL42xrMEr8hHGe9M9deFs0pMgdrLy+6LcRXpBXg+cPStnJ6qGh5EOtJ5K+vet9LNMi+vjC8BZfQ/wvqLT1ly65PuOJa2Pk0gRWemjirZ13/+vpPXx+bEnPQMMzzJVw32AF3f/HU2K0E52bx0u3ttnPenzPZ8C3tvW3Bw+2QBVw32BlwEvID3+ZTspLHtbH98kPQ75fW3N/4RPdj+tNDrL/s79gQp4HrCZ3aFduj4g3WztVuAS4P3drr06hmcfupvEH0m6R/FGYDXpGM43gBt79LmrEN362AwcQ1ofq0i7DzcDX27rLBcjHpADic5elrEaeDjpF9QG0vpYIH3w9Sttne0q+d4zPCrOJKKj8RR9cFnlMTr9YHhUDKPTH4ZHRTA6/WJ4NPOMTv8YHs00o9NPhkczy+j0l+HRTDI6/WZ4NHOMTv8ZHs0UozMMhkczw+gMh+HRTDA6w2J4NHhGZ3jW5J6ANI6q4W+Alyz7Y6PTc27xaLCMznAZHg1S1XABe0ZnF0ZnEAyPBqc7pvM7e/nSO4zOMBgeDco+HkHztrbmDdHz0YHx4LIG46dEZwdpS+eNGaakA2R4NAieMp8t7mqp94zO7DE86jWjM5sMj3rL6Mwuw6NeMjqzzfCod4zO7DM86hWjUwbDo94wOuUwPOoFo1MWw6PsjE55DI+yMjplMjzKxuiUy/AoC6NTNj8kqhWpGtYBxwGPAY4HDgPmgHngRuA64Pq25icrWJbRKdzcaDTKPQf1VNWwGngGcCZwArCF9Mtqw7Jv3QZs7f78ZuAc4KNtzZa9LNPoyPBoT1XDHPAiUkDWA5v2cxF3dv9vgLe0NXd1yzU6AgyPlqkaHghcBPwKsHHMxS0A/ws8h7R7ZnQEGB4tUTX8JnAJsBY4aEKLHZHuErh8eUanYIZHAFQNpwAfYc/jN9NgdApneETV8GTgcmKisxM43eiUzet4Clc1HA58nJjoQArPN4PGUk8ZHp3H+AeR98dBwMVVM7FjSBogw1OwquFpwDNJB5OjzAEPJF0bpEIZnrK9ibhdrKU2Aq+tGg7OMLZ6wPAUqmrYDDwq4xRWAc/OOL4yMjzl+kPyflZvE+5uFcvwlOtkJneR4IE6rvvwqQpjeArUvdkflHsepA+dHpt7EopneMp0HOlzVLmtAR6bexKKZ3jKdATptHZuG4DNuSeheIanTOvpR3gg9uJF9YThKdPO3BNYok9zURDDU6Y7gV25J0G6ZcaPck9C8QxPmb4CrM49CVIAb8g9CcUzPGW6mX6EZxXpJvEqjOEpUFuzC/ha7nmQ4ndL7kkonuEp19+SHk2Tyy7gsi6CKozhKdeF5N3d2gKcm3F8ZWR4CtXW/Ai4mHyns78DXJNpbGVmeMp2NulhfNEWgFe3Nd7wu1CGp2Btza3A64g91rMVuLStuTxwTPWM4dF7gZtIj5yJMA+8Imgs9ZThKVx3VukU4Hamf7znTuDp3fElFczwiLbm+8ATSI8bnsaWzwi4gxSd66ewfA2M4REAbc1tpHvjXMtkj/ksALcBT2pr/nOCy9WAGR7drdvyeSLwGlJ8doyxuBHpWp3zgYe1tZ/J0m4+wlh7VTU8mHTG64Wkq4wPWeFf3dr9/9PAW9qaa6cwPQ2c4dE+VQ2HAC8gBeiRpBvEL177M0fasllDugr6JuATwPltzffCJ6vBMDxasaq5+ymgx5BuW7qKtDt1C3CLn7vSShkeSeE8uCwpnOGRFM7wSApneCSFMzySwhkeSeEMj6RwhkdSOMMjKZzhkRTO8EgKZ3gkhTM8ksIZHknhDI+kcIZHUjjDIymc4ZEUzvBICmd4JIUzPJLCGR5J4QyPpHCGR1I4wyMpnOGRFM7wSApneCSFMzySwhkeSeEMj6RwhkdSOMMjKZzhkRTO8EgKZ3gkhTM8ksIZHknhDI+kcIZHUjjDIymc4ZEUzvBICmd4JIUzPJLCGR5J4QyPpHCGR1I4wyMpnOGRFM7wSApneCSFMzySwhkeSeEMj6RwhkdSuP8H4ejhn5CawyYAAAAASUVORK5CYII=\n",
          "text/plain": "<Figure size 360x360 with 1 Axes>"
         },
         "metadata": {},
         "output_type": "display_data"
        }
       ]
      }
     },
     "5e3cb56f4c9e41e3b86d54d104ec9141": {
      "model_module": "@jupyter-widgets/controls",
      "model_module_version": "1.5.0",
      "model_name": "DescriptionStyleModel",
      "state": {
       "description_width": ""
      }
     },
     "5e9a284a45a84f4f805005bdbe40479a": {
      "model_module": "@jupyter-widgets/base",
      "model_module_version": "1.2.0",
      "model_name": "LayoutModel",
      "state": {
       "margin": "0px 0px 0px 0px"
      }
     },
     "5ed4aec4d18f45719fe3783f43593622": {
      "model_module": "@jupyter-widgets/controls",
      "model_module_version": "1.5.0",
      "model_name": "DescriptionStyleModel",
      "state": {
       "description_width": ""
      }
     },
     "5f1c3c08cab44b6297d256438ef7d30f": {
      "model_module": "@jupyter-widgets/controls",
      "model_module_version": "1.5.0",
      "model_name": "HTMLModel",
      "state": {
       "layout": "IPY_MODEL_adf0689dc1574d1fa5b8806199f3d1e7",
       "style": "IPY_MODEL_6bda65af1eba4318afd8c09ed05d9689",
       "value": "<h5 style='color:#34bc6e'>True</h5>"
      }
     },
     "5fdc45e69371423f8fc96dd5a7a780fa": {
      "model_module": "@jupyter-widgets/controls",
      "model_module_version": "1.5.0",
      "model_name": "HTMLModel",
      "state": {
       "layout": "IPY_MODEL_a1c3febcc3574ea3971b5c4fdd9d5ed5",
       "style": "IPY_MODEL_ba61ad44670b423bb699b92a3fb5f6b4",
       "value": "<h5 style='color:#34bc6e'>True</h5>"
      }
     },
     "60511ad2d1cd4f078eb39e2c5f922b3a": {
      "model_module": "@jupyter-widgets/controls",
      "model_module_version": "1.5.0",
      "model_name": "DescriptionStyleModel",
      "state": {
       "description_width": ""
      }
     },
     "606e6bf53250441ab1a6951c22a972cc": {
      "model_module": "@jupyter-widgets/controls",
      "model_module_version": "1.5.0",
      "model_name": "VBoxModel",
      "state": {
       "children": [
        "IPY_MODEL_6939b8dbd3a54633bba9b4d4f55c3c90",
        "IPY_MODEL_5845b22ed1614516aa6664c1bd94d901"
       ],
       "layout": "IPY_MODEL_f656b74721804881a3aaf096fa712e08"
      }
     },
     "614a17ad643643fa852eda7b51c227e4": {
      "model_module": "@jupyter-widgets/base",
      "model_module_version": "1.2.0",
      "model_name": "LayoutModel",
      "state": {
       "justify_content": "center"
      }
     },
     "62e841d867e440d0bb6da40502bf7f89": {
      "model_module": "@jupyter-widgets/controls",
      "model_module_version": "1.5.0",
      "model_name": "HTMLModel",
      "state": {
       "layout": "IPY_MODEL_23b16f93693241b79bb78a60d9b3eec1",
       "style": "IPY_MODEL_74494f634e49478ea1a9f195f3d04984",
       "value": "<table><style>\ntable {\n    border-collapse: collapse;\n    width: auto;\n}\n\nth, td {\n    text-align: left;\n    padding: 8px;\n}\n\ntr:nth-child(even) {background-color: #f6f6f6;};\n</style><tr><th></th><th>Type</th><th>Gate error</th></tr><tr><td><font style='font-weight:bold'>cx3_5</font></td><td>cx</td><td>0.00719</td></tr><tr><td><font style='font-weight:bold'>cx5_3</font></td><td>cx</td><td>0.00719</td></tr><tr><td><font style='font-weight:bold'>cx3_1</font></td><td>cx</td><td>0.00743</td></tr><tr><td><font style='font-weight:bold'>cx1_3</font></td><td>cx</td><td>0.00743</td></tr></table>"
      }
     },
     "632959a3155c499cb9c3f2575b2d36bf": {
      "model_module": "@jupyter-widgets/controls",
      "model_module_version": "1.5.0",
      "model_name": "HTMLModel",
      "state": {
       "layout": "IPY_MODEL_d8e25bf0be7541d8b89b2ee2b7a7b772",
       "style": "IPY_MODEL_358d0ff5280c4ad295d9f84b2504c3c1",
       "value": "<h5>70.0 / 74.4 us</h5>"
      }
     },
     "638f94953c184418b8d53d57868e8fc9": {
      "model_module": "@jupyter-widgets/base",
      "model_module_version": "1.2.0",
      "model_name": "LayoutModel",
      "state": {
       "justify_content": "center"
      }
     },
     "646c7e1143f344bb8b676741bcfda8b7": {
      "model_module": "@jupyter-widgets/controls",
      "model_module_version": "1.5.0",
      "model_name": "HTMLModel",
      "state": {
       "layout": "IPY_MODEL_16a1799726914ed7a87a7079267a0594",
       "style": "IPY_MODEL_271c523805cc4b8fa2250f3ab5ee736b",
       "value": "613f4a9c9664971776f63b62"
      }
     },
     "646d5fe6d3624ffb8eaf759d6434c245": {
      "model_module": "@jupyter-widgets/base",
      "model_module_version": "1.2.0",
      "model_name": "LayoutModel",
      "state": {
       "border": "4px solid #000000",
       "max_height": "650px",
       "min_height": "650px",
       "overflow_y": "hidden"
      }
     },
     "64e7a2b345b548cca0e90e5b8a564a60": {
      "model_module": "@jupyter-widgets/controls",
      "model_module_version": "1.5.0",
      "model_name": "DescriptionStyleModel",
      "state": {
       "description_width": ""
      }
     },
     "650e0f244ae34300b105f48ab93e4e32": {
      "model_module": "@jupyter-widgets/base",
      "model_module_version": "1.2.0",
      "model_name": "LayoutModel",
      "state": {
       "align_items": "center",
       "justify_content": "center",
       "margin": "0px 0px 0px 0px",
       "max_height": "250px",
       "max_width": "250px",
       "min_height": "250px",
       "min_width": "250px"
      }
     },
     "65ac37b4876e4a699f50df51e3b16028": {
      "model_module": "@jupyter-widgets/controls",
      "model_module_version": "1.5.0",
      "model_name": "DescriptionStyleModel",
      "state": {
       "description_width": ""
      }
     },
     "65f22e289316465996e8a594aa4b0791": {
      "model_module": "@jupyter-widgets/controls",
      "model_module_version": "1.5.0",
      "model_name": "HTMLModel",
      "state": {
       "layout": "IPY_MODEL_b6db8da1492547c6be5c9361111fd95a",
       "style": "IPY_MODEL_1b7c8cd30277475ca4cdb19ce93cd56b",
       "value": "<h5>0.0364</h5>"
      }
     },
     "664d74dbd5e74d7a9b5f322360d59b63": {
      "model_module": "@jupyter-widgets/controls",
      "model_module_version": "1.5.0",
      "model_name": "HTMLModel",
      "state": {
       "layout": "IPY_MODEL_1d9b5d18ed0f470a92848b2904dc270a",
       "style": "IPY_MODEL_517f90c4a4bf40bcb8c1848a3c64cd57",
       "value": "-"
      }
     },
     "66726beaa6434fc89b66dd24851d72fb": {
      "model_module": "@jupyter-widgets/controls",
      "model_module_version": "1.5.0",
      "model_name": "HTMLModel",
      "state": {
       "layout": "IPY_MODEL_04b667c26c8d4a43a5430b336376db0c",
       "style": "IPY_MODEL_a6cb6f6363a3420cbc89deab3637fc7c",
       "value": "<h5><b>1</b></h5>"
      }
     },
     "66b3b27afb6648d98f4261e3300c94b3": {
      "model_module": "@jupyter-widgets/output",
      "model_module_version": "1.0.0",
      "model_name": "OutputModel",
      "state": {
       "layout": "IPY_MODEL_21b32962467048d78c27b061accc43c1",
       "outputs": [
        {
         "data": {
          "image/png": "iVBORw0KGgoAAAANSUhEUgAAAR4AAAEeCAYAAABcyXrWAAAAOXRFWHRTb2Z0d2FyZQBNYXRwbG90bGliIHZlcnNpb24zLjQuMywgaHR0cHM6Ly9tYXRwbG90bGliLm9yZy/MnkTPAAAACXBIWXMAAAsTAAALEwEAmpwYAAAVWUlEQVR4nO3de5QmRX3G8e/s7G12diHeL6sSUVnuyHIRFyPKGjTIGvUgyIHEcEyphKilAl4wgIB4IcbyBEyk9AiEBAUTIyAHMKAkB1DkEuXOLhsJYJTDfXfe2fubP6oHltllmeHt/lW/U8/nHP5hdrt+W9P9dHV1dfdAt9tFRMTStNwFiEh5FDwiYk7BIyLmFDwiYk7BIyLmFDwiYk7BIyLmFDwiYk7BIyLmFDwiYk7BIyLmFDwiYk7BIyLmFDwiYk7BIyLmFDwiYk7BIyLmFDwiYk7BIyLmFDwiYk7BIyLmFDwiYk7BIyLmFDwiYk7BIyLmFDwiYk7BIyLmFDwiYk7BIyLmFDwiYk7BIyLmFDwiYk7BIyLmFDwiYk7BIyLmFDwiYk7BIyLmFDwiYk7BIyLmFDwiYk7BIyLmFDwiYk7BIyLmFDwiYk7BIyLmFDwiYk7BIyLmFDwiYk7BIyLmFDwiYk7BIyLmFDwiYk7BIyLmFDwiYk7BIyLmFDwiYm567gLazAVeDuwJ7ATMI/XXCLAcuBG4K3rW56vQjgsMAK8A9gB2BLYCBkj9sYzUH0ujZ0O2Ig1V/fEq0v6xPWn/GABWAkuBG4B7oqebrcgWG+h21S8bc4GdAQ8cDMwCVgPDPBXSXdLONQDMAK4DTgcun4oh5AKvBz4JvJvUB2uAucBg9UfG+mNa9fOrgb8FrpyKIeQCewGfAg4i/ZvXkvaPsf7YQOqPwernPyXtH1crhJ6i4Km4wH7A10lnrxlMbjS4AhgFTgXOnAoHnAscAHwN2JYUwINb/htP6pJGQSuAE4FvT4UDzgWWkAJ1PjDExKcpxvrjUeBzwD9Phf7oVfHB4wLDpMA5grRD9WIEuBs4NHqW9lpbDi6wNXAG8F5gTo+bGwFuAd4fPff2WlsOLvB84CzgT6inP64Hjoie3/ZaWz8rOnhcYCfgP4Ct6T10xqwnXY4cFT3n1LRNEy6wELicdCk1u6bNriNdrv5F9Pygpm2acIFFwCWkwJlV02bXkvrj0Oi5tKZt9p1i72pVB9m1wEuoL3QgXZIMAd90gY/XuN1GVQfZ1cALqS90IF2yDgPnusCRNW63US6wGPgJ8DzqCx1Il/FzgR+4wCE1brevFDnicYHtgZ+TRjpN6gB/HT3fbbidnlQTyP9FOiCa1CGNfC5suJ2euMA+wJX0fmn1bEaBg0sc+RQXPC4wE7idNGk6YNDkKLBX9Nxm0NakucAc0u3fl2HTHx1gl+hZbtDWpFVzXMtIIz8LK4EFpc35lHipdRJ2BxmkYfqFLrR2zdTppMsJy/74vgut3ffOoPmR38ZmAedV64KK0dZffiNcYFfSGp2mh9Abm0ZaaHasYZsT4gJvBI6k3jmuZzMI7AAcZdjmhFTzOu+l3jmuZzMD2Bs43LDN7IoKHuAE6p0onKhh4DMuZGl7S07G9iAbMwyc6MKE1wZZ+RK2J6Uxw8AXSxr1FBM8LvAi4J3k+zcPkM6mreACrwLehN0l1nizSWtjWsEFdgB2zljC84E3Z2zfVDHBA3wQsq4YnQd8OmP74x1FvtCB1B/HZWx/vI+R99nFYeCYjO2bKil43oftXMbm7OiC6cTllryXPJedG9vHBWZkrmHMEshaywCwuJTLrSKCp/pl7pC7DtKt5N1zF1EtKXh17jqAVaQn/7NygXnAi3PXQXrA9DW5i7BQRPCQfplteHBzNum1ErntRDroc5tGO/pjd9JJIbf1tKM/GlfEAkIXOBD4F5pfqSzSiw3ASdFzSu5CmlbKiGeIvBOpIhMxjTTJPOWVEjxTf1gnU0UbpgQaV0rwdFD4SPutJ72zZ8pr6/NDdbuDvLdKx4wCx0bPmTmLqF7veh22zyRtzkrg6Og5N2cR1aMjl5HeI53TCGlfnfJKGfH8L+0Y8awlvQQ8tzuBmbmLqNyYuwDgV+R5VGK8GbRj/2hcEcFTveP217nrIO3c2euInnXQilezziSFYFbR0wEeyF0H6VLrvtxFWCgieCrnk//6+froGc1cw5jvQdZausBVLfoyx4WkV5Lmsh74cSkvgi8peM4l7793BfCVjO2PdxZ5lxiMAF/N2P54Z5D3cnwV6SsWRSgmeKLnceACyHaGXQ38OFPbm4ieB0kTqrlu3z4G/CxT25uovoJxbcYS7o++jPkdKCh4KqeSZzg9Any+RZcVY04gX38c18LLis+S5/KzQ0FPpkNhwRM9y4C/wXauZx1pQvkswzYnJHpuIb361LI/1gDXkOaYWiV6rge+he1zW6uBS6PnEsM2sysqeCrfIN3RWWfU3mrgsBae3cecSrqjY3XJtRr4QIv747PAQ9jN93SADxu11RrFBU91ubMEeITmD7ZRUui09iua0bOW9CbAx2j+YOsA74me3zXcznMWPauAdwBPGDTXAQ6KnkcM2mqV4oIHIHruB/YFHqa5kc8o6RtSFze0/dpUn5p5M+n73k2FcYf09cwrG9p+baLnDmB/4HGaC+MRYEn0WSe0synitRjPxAVeQfpk7zbU91TwGtKt0UOj57KatmnCBV5D6o+XUd9K3tU8NdK5uqZtmqjew3wZ6RtbdfXHKtKjIgdFzy9q2mbfKXLEM6Ya+exG+rrAKL2f7UdIn719Xb+FDkD03APsCARSf/R6VuoAFwOv7bfQgSdHPgtINwbquNvVIS3peE3JoQOFj3g25gI7AqcBbycdcBN9P/N60ll9OXBC9PywmQptVZ81Pg14K2mh4UTfz7yO9EzanaQlBFPi87wusDfpBLWIdMKe6LNua3nqzubx/XCpaUHBM44LvBT4EPBnpEuwUdKONkg6ANeTdqQ5pAnqy4EQPTdnKbhhLjCf9EWKw4BXkvpj/FPcj5P64yHgUlJ/3GpZpxUX2AY4GjgEmE8axQxW/8HT94/fA5eQ+uMu+2rbS8GzBdUH+Hau/hsm7VyrgHuAm6LnsXzV2XOB2cAuwPXjfvQW4OboTe4EtYYLDJEu1XcgBc00UhDdDfx39KzIWF6rKXhk0lx4+txP9HqtrExO0ZPLIpKHgkdEzCl4RMScgkdEzCl4RMScgkdEzCl4RMScgkdEzCl4RMScgkdEzCl4RMScgkdEzCl4RMScgkdEzCl4RMScgkdEzCl4RMScgkdEzCl4RMScgkdEzCl4RMScgkdEzCl4RMScgkdEzCl4RMScgkdEzCl4RMScgkdEzCl4RMScgkdEzCl4RMTcQLfbzV2D9AEXGAS2A/YEzh33448ANwC3Rs9q69qk/yh45Bm5wADwJuAY4O3AWqALzBv3RzvAOmAIuAn4KnBR9Kyzq1b6iYJHNssF3gN8DXgRMAwMTOKvryAF0WnA16Nnff0VSj9T8MjTuMALge8Ai0mB04sRYDlwSPTc2WttMnUoeORJLrAIuBSYDcyqabMbgNXAX0XP2TVtU/qc7moJAC6wGLgC2Jr6QgfSPjYEnOkCH69xu9LHNOIRXOANwFXAnIab6gBHa+QjCp7CucA84B7SJLKFUWCh5nzKpkst+QYw17C9WcAF1bogKZSCp2AusB9wKGkOxso0YFvAG7YpLaPgKdvJND+vsznDwPEuMD1D29ICCp5CucC2wN4ZS5gOLMnYvmSk4CnX0eT9/c8DPp2xfclIwVOudwEzM9ew0IVa1wxJn1DwFKg62LfJXQfp1vrOuYsQewqeMu1MOuhzmw7skbsIsafgKdPrmNzT5k2ZA2yfuwixp+Ap02zaETxgu3hRWkLBU6Y2PSejd/UUSMFTphHS6ypy6wJP5C5C7Cl4ynQb7fjdrwRuyV2E2GvDzif27gZm5C6CNM90Q+4ixJ6Cp0DVO5Dvzl0HKfzaUIcYU/CU6zzSi7ly2QBcHn0r5prEmIKnXN8h7++/A5yesX3JSMFTqOh5GPgR+W5nPwhck6ltyUzBU7YTgTUZ2u0Ax0TfqvVEYkjBU7DouYv0MrARw2ZXAz+Jnh8atikto+CR00kf3bP63PAq4C+N2pKWUvAUrrq1fiDwCM2vZh4BDoyehxpuR1pOwSNEz/3AvsDDNDfyGQHeFT3XNrR96SMKHgEgepYBC4E7qHfOZ5R0B2tx9FxV43aljyl45EnVyGd34FRSYPR6q70DnA+8Nnp+0eO2ZArRl0Rls1xgAfAF4E9Jcz8T/QzOmurP/wI4MXqubqZC6WcKHtkiF3gB8EHgcGABsJZNX971BOmjgL8BLgbOiJ7/MSxT+oyCRybMBaYB25HmgTa2B3Br9FkWI0ofUvDIpLnw9BXH0bfmNarSJzS5LCLmFDwiYk7BIyLmFDwiYk7BIyLmFDwiYk7BIyLmFDwiYk7BIyLmFDwiYk7BIyLmFDwiYk7BIyLmFDwiYk7BIyLmFDwiYk7BIyLmFDwiYk7BIyLmFDwiYk7BIyLmFDwiYk7BIyLmFDwiYk7BIyLmFDwiYk7BIyLmFDwiYk7BIyLmFDwiYk7BIyLmBrrdbu4aWskFZgE7A3sCuwPPAwaBEeA24Ebgpuh5NFuRhlxgNrArsAfwzXE/Poan+uMJ69pycIEhYDfS/vF6YCtgAFgJ/Bq4Abg5elbmqrHNFDwbcYFpwGLgWOAtwCgwHZgz7o+uqX42B/gN8FXg/OgZsarVggsMAm8HjgMW8cz9sRpYVf3/paT+uCB6Ru2qbZ4LTAfeSeqPvYEOMAMYGvdHN+6P20n98a/Rs9qu2nZT8AAuMAAcAvwd6cw1TDp7TdRK0mXrmcAJ0bOq9iINVf3x56QDZgiYN8lNjJ3lA3BK9Kyprzp7VX98CPgiMJPJ98cKoAt8GTg9etbVW2H/KT54XOAlwNnAH5ECpxcd4GHgkOj5eY/bysIF5gPnAXtRT3/8H/C+6Lm519pycIE/BM4HdqH3/hgB7iXtH7f1uK2+VvTksgvsC9wN7E/vOxWkofUrgatc4HM1bM+UC7wNuBPYl/r6Y1vgGhf4aA3bM+UCS4BbSfM4dfTHMLA98EsXOLKG7fWtYoPHBfYHriBdWs2sefNDwPEu8JWat9sYFzgI+BEwlzRvUZcBUn982QWOr3G7jXKBQ4Dvk8Jieo2bnkbqjzNc4GM1brevFHmp5QJ7A1dRz1lsSzrAF6PntIbb6YkL7AdcyqaTxnXrAMdFz5kNt9MTF3gH8G9sOmlct1HgI9FzbsPttE5xweMCw8Ay4KVGTY4C+7d1zscFnkfqj+cbNTkK7BM9vzZqb1Jc4MWkO3NbGTU5CuwWPUuN2muFEi+1vg5sbdjeEHBBtQ6mjf6B5kd+G5sNXOhCrZdztajuXp0Npr+rmcD3q6UcxSjqH+sCi4DDaX4IPd4LgC8Yt/msXOCPgSXALMNmB4D5pLUwbfNu4M3UP+e3JYPAdsDRhm1mV1TwACdgHzqQ5k6Ori7z2uQLND+vsznDwLEumB7gE3EKtqO/McPA50sa9RTzD3WBVwD7MbmFgXXqAu/P1PYmXGA70lL/XKaRRhit4AILgVdnLGGItEq8CMUED/CRzO3PpV2XFx+l3tvEkzWPdvWHx/aSc7x5pEd1ilBS8LwL20nDzXm1C/xB5hrGHEi963Wei11bNOl+AGm+JadF1fNxU14RwVP9MrfLXQdpHcvC3EVUB/urctdBupW8S+4iqiUFVssJtmQt7dhPG1dE8AALSL/U3IZIr5XIbVdSCOY2nfQ4Qm4LaUd/dGnH/tG4IhYQVo8DnIft+h2RyeoCJ0XPybkLaVopI57Z5LubJTJRA+S5nW+ulOBZn7sAkQkq4l09pQTPCGkYK9Jm60gvDZvycq7jsHQreddojOkAn4ies3IW4QILSO9Izj2sXwF8OHrOz1mEC+wJXIndg6HPZOx93lNeESOe6PkttOJ9t+tILwHPbSn516xA2v9uzF0EcAt5HqUZbzbt6I/GFRE8lV/lLoC0c9+au4jo2UB602Bug6RXcmRVvYT93tx1AKPVSXLKKyl4zoGsnxrpAj9t0YvPz4GsX8XYAFxchWAbnAdZX9K/DvhBxvZNlRQ83yPvLfWVwOkZ2x/vbPJebo0CX8vY/njfytz+WtJXOYpQTPBETwf4LvlWMD9BmsBsheh5DLiQfEsNHgCuz9T2JqLnd6R3cOcagd1R0pcnigmeypfIM8k8Anwq+tbd0j+JPP0xdnevbf3xWfL0xyjwiQztZlNU8FQTdx/Fdm5jDXA1cIFhmxMSPcuBz2HbH6uAi6LnUsM2JyR6bgdOw7Y/RoF/ip7/NGwzu6KCp3IOaYhvNcm7CjiyhWf3MX8P3IHdJegIcJRRW8/Fl0l3uCxWEHeBx4BPGrTVKsUFTxUABwP30fzO1QEOjJ4HG27nOavuKh0EPEjz8z0rgQOq+aVWqj4v/A7gUZqf71kBvC36rHcXsygueACi5xHS1zLvpbmRzwiwJHquaWj7tYme3wNvJH1uuImRT5d0kB0QPTc1sP1aRc99wCLgIZo5OXWBx4G3VJd3xSkyeODJg21v4BrqvaYfJR3Ab42eq2rcbqOqg21P0srqOvujQxpdvil6rqtxu42KnmWkd+PcQv39sRx4Q79+T74OxQYPPDnyWUz6tMhKejvbd0k71bnA66Lnl71XaKsK432BY0gHWy9n+y4phM8CFrT1A35bEj33A3uRvk7SobdL0Q2k/gjAjtFzV88F9rEiXgQ2ES4wH/gMcCTpoJk7wb86ttr1Z8DJ/XRW3xIX2IZ0x+sI0kEz2f64Ajgl+lY8m9YzF3gtcDxwKKk/JvqA7Shp4eolpP7ouwBugoJnHBeYQ9q5PkD6/Mss0tqOsVXPXdKK3xnAXcBFwD9GzwPmxRpwgbmkjyAeAexG+nePrXUZIPXHdFKf3AH8O3BWtSBvynGBrUj7xmGk90UPkuYJN94/ppOuJm4nPQbx7eh5yL7a9lLwPAsXeDmwE+kMN0g6o98DLI2+rBeMVZ/4nU/qjzmkg2uU9KDnshY9d2Wi6o9XAjuSHgAe64+7gOUtXkKRnYJHRMwVPbksInkoeETEnIJHRMwpeETEnIJHRMwpeETEnIJHRMwpeETEnIJHRMwpeETEnIJHRMwpeETEnIJHRMwpeETEnIJHRMwpeETEnIJHRMwpeETEnIJHRMwpeETEnIJHRMwpeETEnIJHRMwpeETEnIJHRMwpeETEnIJHRMwpeETEnIJHRMwpeETEnIJHRMwpeETEnIJHRMwpeETEnIJHRMwpeETEnIJHRMwpeETEnIJHRMwpeETEnIJHRMwpeETEnIJHRMwpeETEnIJHRMwpeETEnIJHRMwpeETEnIJHRMwpeETEnIJHRMwpeETEnIJHRMwpeETEnIJHRMwpeETE3P8D3lu74ezIJWwAAAAASUVORK5CYII=\n",
          "text/plain": "<Figure size 360x360 with 1 Axes>"
         },
         "metadata": {},
         "output_type": "display_data"
        }
       ]
      }
     },
     "674cd5684d334aea82a1de6ce110ff89": {
      "model_module": "@jupyter-widgets/controls",
      "model_module_version": "1.5.0",
      "model_name": "DescriptionStyleModel",
      "state": {
       "description_width": ""
      }
     },
     "67ab76b766ce4548bd01a1f5b715c12a": {
      "model_module": "@jupyter-widgets/controls",
      "model_module_version": "1.5.0",
      "model_name": "HTMLModel",
      "state": {
       "layout": "IPY_MODEL_ed4c3c3512f0421b8ae4d8ae09254790",
       "style": "IPY_MODEL_20301f5bcb434e9b92304db4ebe58628",
       "value": "<h4>ibmq_bogota</h4>"
      }
     },
     "67cb526089ba4e91b6740fa7d6449189": {
      "model_module": "@jupyter-widgets/controls",
      "model_module_version": "1.5.0",
      "model_name": "DescriptionStyleModel",
      "state": {
       "description_width": ""
      }
     },
     "6939b8dbd3a54633bba9b4d4f55c3c90": {
      "model_module": "@jupyter-widgets/controls",
      "model_module_version": "1.5.0",
      "model_name": "HTMLModel",
      "state": {
       "layout": "IPY_MODEL_5c2d6af0c46049309c52edbfdc22995a",
       "style": "IPY_MODEL_708970a4185e46e9b068bfe604bfefcf",
       "value": "<div><font style='font-weight:bold'>last_update_date</font>: Mon 13 September 2021 at 08:40 UTC</div>"
      }
     },
     "6a84adba67f54beeaf70a2901daf7cad": {
      "model_module": "@jupyter-widgets/base",
      "model_module_version": "1.2.0",
      "model_name": "LayoutModel",
      "state": {}
     },
     "6aa3fbda0cf74e8f868c4661cf904a67": {
      "model_module": "@jupyter-widgets/base",
      "model_module_version": "1.2.0",
      "model_name": "LayoutModel",
      "state": {
       "justify_content": "center"
      }
     },
     "6b17c238fab04969a0ddbe346b292b5f": {
      "model_module": "@jupyter-widgets/base",
      "model_module_version": "1.2.0",
      "model_name": "LayoutModel",
      "state": {}
     },
     "6bb6705dbb06430ca5a3a7a1cb829aa0": {
      "model_module": "@jupyter-widgets/base",
      "model_module_version": "1.2.0",
      "model_name": "LayoutModel",
      "state": {}
     },
     "6bda65af1eba4318afd8c09ed05d9689": {
      "model_module": "@jupyter-widgets/controls",
      "model_module_version": "1.5.0",
      "model_name": "DescriptionStyleModel",
      "state": {
       "description_width": ""
      }
     },
     "6c5858d490874de9b45d65aa02619e47": {
      "model_module": "@jupyter-widgets/controls",
      "model_module_version": "1.5.0",
      "model_name": "HTMLModel",
      "state": {
       "layout": "IPY_MODEL_4e3ba5a27a4d48b399924657e5df0432",
       "style": "IPY_MODEL_179d93c22110453899d1ae10a6846db5",
       "value": "<h5><b>5</b></h5>"
      }
     },
     "6c6a99d080314f848fb423b62d3647b2": {
      "model_module": "@jupyter-widgets/controls",
      "model_module_version": "1.5.0",
      "model_name": "GridBoxModel",
      "state": {
       "children": [
        "IPY_MODEL_cf0efc8a95cc496e9b63f71249adc1f1"
       ],
       "layout": "IPY_MODEL_6e5fccb6585b490c8e36569fc449d001"
      }
     },
     "6d1f83c578c14817a17b9ddce3d19f92": {
      "model_module": "@jupyter-widgets/controls",
      "model_module_version": "1.5.0",
      "model_name": "DescriptionStyleModel",
      "state": {
       "description_width": ""
      }
     },
     "6d4b117732554f8393a2136bc81314b8": {
      "model_module": "@jupyter-widgets/base",
      "model_module_version": "1.2.0",
      "model_name": "LayoutModel",
      "state": {}
     },
     "6d81e7f3790b441392861fbeb3bb7a2c": {
      "model_module": "@jupyter-widgets/controls",
      "model_module_version": "1.5.0",
      "model_name": "HTMLModel",
      "state": {
       "layout": "IPY_MODEL_638f94953c184418b8d53d57868e8fc9",
       "style": "IPY_MODEL_e3bca55e216d42a1a99975858bcce7de",
       "value": "<h5 style='color:#34bc6e'>True</h5>"
      }
     },
     "6d901fb3ee91415e9fa3e148c961dbf4": {
      "model_module": "@jupyter-widgets/base",
      "model_module_version": "1.2.0",
      "model_name": "LayoutModel",
      "state": {
       "grid_area": "right",
       "padding": "0px 0px 0px 0px",
       "width": "70px"
      }
     },
     "6df2cea34f0d4c81ad62c15b923edd3a": {
      "model_module": "@jupyter-widgets/controls",
      "model_module_version": "1.5.0",
      "model_name": "DescriptionStyleModel",
      "state": {
       "description_width": ""
      }
     },
     "6e5fccb6585b490c8e36569fc449d001": {
      "model_module": "@jupyter-widgets/base",
      "model_module_version": "1.2.0",
      "model_name": "LayoutModel",
      "state": {
       "grid_template_areas": "\n                                       \". . . . right \"\n                                        ",
       "grid_template_columns": "20% 20% 20% 20% 20%",
       "width": "100%"
      }
     },
     "6ebd8e07c01b4bb7a2cd3dc0bd9510b7": {
      "model_module": "@jupyter-widgets/controls",
      "model_module_version": "1.5.0",
      "model_name": "HTMLModel",
      "state": {
       "layout": "IPY_MODEL_38f9afe95f71475f85cab22501adf5e1",
       "style": "IPY_MODEL_8c3adf692db844d1ad942a6ee4eab4bf",
       "value": "<h4>ibm_perth</h4>"
      }
     },
     "6fdd2b4984c840fab775d9f319d25354": {
      "model_module": "@jupyter-widgets/controls",
      "model_module_version": "1.5.0",
      "model_name": "ProgressStyleModel",
      "state": {
       "bar_color": "#71cddd",
       "description_width": ""
      }
     },
     "708970a4185e46e9b068bfe604bfefcf": {
      "model_module": "@jupyter-widgets/controls",
      "model_module_version": "1.5.0",
      "model_name": "DescriptionStyleModel",
      "state": {
       "description_width": ""
      }
     },
     "715c395be0fa4c06a752be7b0b4643fa": {
      "model_module": "@jupyter-widgets/controls",
      "model_module_version": "1.5.0",
      "model_name": "DescriptionStyleModel",
      "state": {
       "description_width": ""
      }
     },
     "71a898574b9e443b9d2bbdd700258d49": {
      "model_module": "@jupyter-widgets/controls",
      "model_module_version": "1.5.0",
      "model_name": "ButtonStyleModel",
      "state": {
       "button_color": "white"
      }
     },
     "72e47f0db4ab4c1a9b143f72ab73a64d": {
      "model_module": "@jupyter-widgets/controls",
      "model_module_version": "1.5.0",
      "model_name": "ButtonModel",
      "state": {
       "icon": "close",
       "layout": "IPY_MODEL_3342ce53706e4de7b93ce0eb220dd32b",
       "style": "IPY_MODEL_e4307850bcc74b2b97fd23eeb9d04a79"
      }
     },
     "735aacfd61fd40b5ad12092dd0e4340a": {
      "model_module": "@jupyter-widgets/base",
      "model_module_version": "1.2.0",
      "model_name": "LayoutModel",
      "state": {
       "margin": "295px 0px 0px 0px",
       "min_width": "100px"
      }
     },
     "73fea8998ac14ebab9a104478f493549": {
      "model_module": "@jupyter-widgets/controls",
      "model_module_version": "1.5.0",
      "model_name": "VBoxModel",
      "state": {
       "children": [
        "IPY_MODEL_6ebd8e07c01b4bb7a2cd3dc0bd9510b7",
        "IPY_MODEL_66b3b27afb6648d98f4261e3300c94b3",
        "IPY_MODEL_47aa018020824769beb9aa97c5828239",
        "IPY_MODEL_74f52b141a3f4ad2a25c1e2fd76c9e96",
        "IPY_MODEL_3376bd07e4a142b9b84202fc4d29272f",
        "IPY_MODEL_aa2492a3f501420dacf4a7c4526cd647",
        "IPY_MODEL_6d81e7f3790b441392861fbeb3bb7a2c",
        "IPY_MODEL_8f5757cc8e314bc19bdd5f78c8489530",
        "IPY_MODEL_ebffac1bef9541b384ad58a2425f0c30",
        "IPY_MODEL_ddcf6cb8607a4918862daf7d459b3743"
       ],
       "layout": "IPY_MODEL_59ad3611f9cf41598848c59e5a462f84"
      }
     },
     "74494f634e49478ea1a9f195f3d04984": {
      "model_module": "@jupyter-widgets/controls",
      "model_module_version": "1.5.0",
      "model_name": "DescriptionStyleModel",
      "state": {
       "description_width": ""
      }
     },
     "7462c34330554f8c92f5a1a54b518f64": {
      "model_module": "@jupyter-widgets/controls",
      "model_module_version": "1.5.0",
      "model_name": "DescriptionStyleModel",
      "state": {
       "description_width": ""
      }
     },
     "74b504f261104da3a305821cec3f02ed": {
      "model_module": "@jupyter-widgets/output",
      "model_module_version": "1.0.0",
      "model_name": "OutputModel",
      "state": {
       "layout": "IPY_MODEL_eec5926d74ab4ffbb7af46e50735f7cc",
       "outputs": [
        {
         "data": {
          "image/png": "iVBORw0KGgoAAAANSUhEUgAAApsAAAHbCAYAAACEIlGVAAAAOXRFWHRTb2Z0d2FyZQBNYXRwbG90bGliIHZlcnNpb24zLjQuMywgaHR0cHM6Ly9tYXRwbG90bGliLm9yZy/MnkTPAAAACXBIWXMAAAsTAAALEwEAmpwYAACdI0lEQVR4nOzde5xP1f7H8deaGYxBpEK6yEg1FGEK3YhRkjSdUVJEKd10IamkJI5Tjji/rlKKKCnTmSTHyRCdCjUohUpN6SqV+9wws35/rD31NWbM97L3d+3x/Twfj3kw38van/nOnu/3vddea22ltUYIIYQQQggvxNkuQAghhBBCHLokbAohhBBCCM9I2BRCCCGEEJ6RsCmEEEIIITwjYVMIIYQQQnhGwqYQQgghhPCMhE0hhBBCCOEZCZtCCCGEEMIzEjaFEEIIIYRnJGwKIYQQQgjPSNgUQgghhBCekbAphBBCCCE8I2FTCCGEEEJ4RsKmEEIIIYTwjIRNIYQQQgjhGQmbQgghhBDCMxI2hRBCCCGEZyRsCiGEEEIIz0jYFEIIIYQQnpGwKYQQQgghPCNhUwghhBBCeEbCphBCCCGE8IyETSGEEEII4RkJm0IIIYQQwjMSNoUQQgghhGckbAohhBBCCM9I2BRCCCGEEJ6RsCmEEEIIITwjYVMIIYQQQnhGwqYQQgghhPCMr8KmUkorpU60XUc0KaVmK6XSw3heDaXUF0qpozwoSwghhDhkSd4I6XkR541Kw6ZS6julVIFSardSarNSarpSqna4G4wGpdRSpdT1B7n/BGdH213mq0+U62wFtAbedL5vrZRap5T6XSk1LOBx1ZRSK5VSx5XeprUuAl4A7o1mzUIIIYQXJG94WqfVvBFsz+YlWuvawOlAG+C+cDfoM/W01rUDvuaU9yClVHyZ7xNC2chBHn8j8LLWWjvf/wMYjtkh7ldKNXJuHwZkaq1/KPP8V4ABSqkaodQjhBBC+JTkjf2/PyTyRkin0bXWm4H/YnYCAJRSHZRSHyqltiulPlVKdQ6471ql1Aal1C6lVK5S6sbA9pRSdyulflFK/ayUuq7MfXWVUi8ppX5TSm1SSo1SSsU59z2klJoV8NjSI4cEpdTfgXOBJ52jhydD+Rmd9qYrpZ5RSi1QSuUB5ztHXPcopdYCec62ejlHBtudo5uUgDYOeHw5m7oIWBbwfVNgidb6J2AjcLxSqgmQAUwu+2St9Y/ANqBDqD+jEEII4VeSNw6tvBFS2FRKHesU/LXz/THA28A4oD4mJWeqv87rbwF6AocB1wKTlVJtned2dx7fDWgOpJXZ3BNAXSAZ6ARc47RxUFrr+4H/AUOco4chofyMAa4C/g7UAd53busLXAzUc+qaDdwJHAUsAN5SSlUPaOPPx2ut9wU2rpSqhfllfxlw8+fABc7rfALwDfB/wN1a670V1LkBc2QihBBCHBIkbxxaeSPYsJmllNoF/ID5hY52bu8HLNBaL9Bal2itFwE5QA8ArfXbWutvtLEMeAdzFABwBfCi1vpzrXUe8FDpxpxu5CuB+7TWu7TW3wGPAf3D+SEP4nfnKKH0KyXgvje11h84P1ehc9vjWusftNYFQB/gba31IucXMxGoCZwV0Ebg48uq5/y7K+C24cDNwDxgKHC2c/+3Sqk3lVLLlFKXl2lnV0BbQgghRFUmecM4pPJGsGMB0rXW2UqpTpjz9kcC24EmwOVKqUsCHlsNeBdAKXURZkc5CRNsk4DPnMc1BlYFPG9TwP+PdNrZVOb+Y4KsN1hHlj0CCFB2vELZ2xoTUJ/WukQp9QP711heG6W2O//WAQqdNjbh/OEopZKA5cAFmKOuOZijus+VUou11lsDnr8dIYQQouqTvHHgbVU+b4Q6ZnMZMB2TqsH8cDO11vUCvmpprR9RZhBppvPYhlrrepiuX+U89xfguIDmjw/4/+/AXszOFXj/T87/8zA7UqlG7E8TufLaCLztZwLqU0opzM/zUwWP378hc3T1DeYPozwPAs9prX8FTgNytNY7gB+BwOUaUoBPK/4xhBBCiKpF8sahlTfCWWfzX0A3pVRrYBZwiVLqQqVUvFIqUSnV2RkDUB2oAfwG7HOOOi4IaOc1YKBSqoWTqku7ytFaFzv3/10pVccZtDrM2R7AJ8B5SqnjlVJ1OXC22q+YMQ5eeg24WCnVVSlVDbgLKAI+DKGNBZjxIftRSrUAOgPPODd9C3RRSjXEjDf53nncMZixKyvC/BmEEEIIv/oXkjdK66/SeSPksKm1/g14CXjQmRp/KTAS80v+AbgbiNNa7wJux7xI2zADYOcFtPMfzI60BDMAeEmZTd2GOaLIxQyYfQWzzhPOWI05wFpM1/j8Ms/9P6C3UmqbUurxg/w429X+614NO8hjy74OX2LGkDyBOTK6BLNkw55g2wCmAlc7RymBngLucP4IwOzctwPrgPHOLD0wr+kMZw0sIYQQ4pAheePP+qt83lB/LbkkbFBKvQK8prXOCvF5NTDd2edprbd4UZsQQgghDg0284aETSGEEEII4RlfXRtdCCGEEEIcWiRsCiGEEEIIz0jYFEIIIYQQnpGwKYQQQgghPBPsFYQi4ZsZSH379gVg9uzZlispV9nlCIQQQggRPN/kjUA+zB5RzxvSsymEEEIIITwTjaWPfHOksXWrubxn/fr1LVdSLunZFEIIIcLnm7wRyIfZI+p5I6bCps9J2BRCCCHCJ3kjOHIa3Utz585l7ty5tssQQgghRIyQ7BFjYTMzM5PMzEzbZQghhBAiRkj2iLGwKYQQQgghokvCphBCCCGE8IyETSGEEEII4RkJm0IIIYQQwjMxtfRRQUEBADVr1rRcSblk6SMhhBAifL7JG4F8mD1knc0YJmFTCCGECJ/kjeBEPW9E49rovjFz5kwA+vfvb7kS4ZauLTKSgNOBdkAKUAeoDuQD24BPgRzgi8XrM4stlekL7ZLTjsK8TqnA8UAtzJtOPrAZ8zqtAn5clZsds2/a/doPVkAy5rVqBxyJea32AXnA15jXafWslVO3WyrTFwZ0uKk6cCrmdToVqAvUBAqBncDnmP3q8xkrphTZqtMPOqekHwa0xbxWzYHamM/gPOAPYDVmv/pm6YasElt1CvdJ9oixns2+ffsCMHv2bMuVlEt6NoPUtUVGM+A24DKgMebNujrmQy6Qdu7TQA3gS2AaMGPx+szt0arXlnbJaQo4D7jD+bcOUAAkAdXKPLwY81pVw4Sqj4EngPmrcrP3RatmW/q1H5wIXA7cCrTC7DP7MIGg7Nj2Pfz1Ov4BLAL+NWvl1NVRK9iiAR1uagjcCFwNNMW8FvGYQF5WPuZ1rAlsAmYDU2asmPJzdKq1q3NKemvgTuBCzEFLPpCIeT8KpIHdmH0tDhPSnwFeXbohqyBa9R4CfJM3Avkwe8hpdC/58BceSMLmQXRtkREP9ABGYHoG4jEBM1R5znNfByYtXp/5iVs1+kW75LTDgGuAu4H6/NWDGapdwF7gceDZVbnZm10r0if6tR/cFHPgcoNzU+0wmikGioDvgEeB12atnFroSoE+MaDDTQo4G7NPXYB5Xw9nAFrp67IE+CewbMaKKb75jHBD55T0GkBv4B6gGSZYxofR1G7n3xeBx5duyPranQoPab7cl3yYPSRsesmHv/BAEjYr0LVFRgtMODye8MJAeUoDwpvALYdKT2e75LQMTO9tAuX3NIWjECgB7gceX5WbXeVP8fVrP7g6MAbT6xvugUt5djtffWetnLrUpTatGtDhpsbATKA9pjfXjfeq0rMOa4CrZ6yY8oMLbVrXOSX9bGAOcBjmTIIb9mDer54B7l+6IeuQOpBxmW/yRiAfZo9DL2zmZi8KawPJad3cLsWPv/BAEjbL6NoiIwHTO3A/pnfAi6W6CjEfev0Xr8/8jwftR0W75LQjMSGzK+6FzLLyMEMR+qzKza6yvSz92g9uizl4aYQJT17IB14Ghs1aOXV3ZQ/2I6c3sx/wNObvr+zQCzfsxYSpO4FpVbWXs3NKehIwAbgWb/ep34Arlm7I+sijbVR1vtx/KsoeudmLbJRDclq3qOcNWWdT+FLXFhkNMb0e92FO13m1ryYCRwBzu7bImOacrq9S2iWnnYeZtHIh3gVNnLZbA5+2S07r5+F2PNOv/eB7gfcxYw29CgU4bfcDNvZrP7ilh9vxxIAONyUBCzC9abXxJmjitFsL+BeweECHm9w6cxE1nVPST8IchHkZNHHaPh5Y2jkl/aHOKenSQSGqjJjq2fQ5eeNwdG2RcTzwIdAA7z7kypMPLAUuW7w+c08Utxu2dslpPTC9dF5+yJUnH7hvVW7241HeblicGeaPYSa2RPO10pixr2mzVk79OIrbDduADjfVxYypTCG8cZnhKgQ2Ap1nrJiyNYrbDVvnlPTTgXcxp82j2XmTB7wEDJGZ6/vxZc9mRaRnUwhLurbIOBpYiTnFGc2gCSaEnA/82zmF72vtzBHZXKIfNHG2+Y92yWk3W9h2OCYAg4n+a6UwQWRxv/aDW0d52yEb0OGmWpjw1JLoBk0wZxlOAt4b0OEmt8Y7eqZzSnpLYBlmuadof5bWwkwCfEJ6OEVVEFNh87nnnuO5556zXYaoQNcWGbUwpziPILzZm26oCXQGfL2jtEtOawtkEf1AECgJeKxdctplFmuoVL/2g4cCt+DtEIPK1AaW9ms/+HiLNRzUgA43xQHzMT2aZZfmiZYamBnc/x3Q4SbfDmnpnJJ+NCZo1sHeWalawABgpKXtiyBJ9oixsLlkyRKWLFliuwxRsUnA0US/R7OsJOCKri0yLrZcR7naJafVADKxGzRL1QRmtEtOa2i7kPL0az+4BfB37PT+BlKYwPmKc0rfj24FzsD0MNqUiFnrdJjlOsrl9CTOwvRY2/5d1gLud07nC5+S7BFjYVP4V9cWGZ2A/vgjQIEJJy91bZFxuO1CyjEWM57V9gddqRrAdGcRed/o135wAmY8q61eurISMFe7uqGSx0XdgA43JQOPYLf3N1AtYMyADjedbLuQcvTDLANl+6C4VCLweueUdLeW7xLCdRI2hXXO6fPZ+CdolkoCptguIlC75LRUYAj2e+oCVQfOBfrYLqSMEcAJ+Ot9rhYwyU+n053T56/in1Beqgbwmp9Op3dOSW+MWQrKL6EczEFnY2C07UKEqEhIb8JKqfpKqX8rpfKUUpuUUld5VZiIKXcB9WwXUY5EoGfXFhmptgsJ8Bz2T3OWpxbwTLvkNF/0rvRrP/hI4AH8FcpL1cAs9eMXl2HGafom1DniMOM3r7RdSIBH8V8oB7OfD3PGkgoREaXUEKVUjlKqSCk1vcx9XZVSXyil8pVS7yqlmgTTZqhH/E9hFuBtiLku7jNKqSqzhlxiYiKJiX78nI5dzqzv2/Ffr2apGsBw20UAtEtOa4WZreur09UB4oF020U4rse/y6AkABf1az+4ge1CHPfi3pW53FYLU591nVPSD8dchtIvp8/Lc5PtAsSBqmD2+BkYB7wQeKNS6kjgDcyBfH0gB3PFrEoFHTaVUrWADOABrfVurfX7wDzMOLsq4cUXX+TFF1+0XYbY38W4d6lAL8QDl3ZtkXGE7UIwEyb8/FrVwVzxyap+7QfHA0Px7wEMmCB8ve0iBnS4KQWzzJGfJQ/ocFMb20UAAzGXjfSrROC2zinpfg7DMamqZQ+t9Rta6yzgjzJ3/Q1Yp7V+XWtdCDwEtFZKnVJZm6H0bJ4E7NNafxVw26f4/41K+Ns9uHcNYa+UANfZLKBdclpd4ApMr5ifpbRLTrP9nnAh/g6aYOq70wnGNt2Jv3vqwJxdGGqzgM4p6XGYMxx+GqtZngTgEttFiENWS0zuA0BrnQd8QxA5MJSwWRvYWea2HZQTFJRSg53z/Tmz3347hE1464knnuCJJ56wXYZwdG2RUR9oZ7uOICRhvxeqB7DPcg3BqAb0tVzDtfj/AAZMT1R7Wxt3rn1+Jf4/gIkHejsTmWxpjVnqyO/qYP+9SpTht+wRmNGcr8FBPrU2JvcFKjcHlhXKm8xuDvxjOwxzKbb9aK2nAlMh/MtVeuHDDz8E4LbbbrNciXC0Awpw6dRwterVuPHua+jc/WySaiWycf23PDNhOl+s3ehG8027tsiobvEylh1xaVxd32v/xqWXdye5eRPi4+N59v9eYur/veRG02DeUzq71ViYXAtw14/sT/NWJ3JEw8PZu3cf36z7llefyOTH3J/daL4a5m/gQzcaC8OxuNirecMDA2h5Rgq169WiML+Ibzds4vVnsvj+qx/caL4EM1nIlT/mMKTiwVjpLj3O5cHH7gJg7ktv8eQ/prnRbFU4gI8pfssegRktREHnwLJCOVL8CkhQSjUPuK01sC6ENoQIlIqLs4Vvve9aLru6B9v+2M4Hiz+mxeknMeH5BzmsniudXIXYHTJyLi592KWc2pwd23fx6y+/udFceVrZWnOzX/vBtTAXBnBF50vPJX93Psvf+ZiCvEJOP+s0RvzfHVSr7kpnYCJwnhsNhSkV2OtWY0ccfQRfrPmK/83/kN07dtOqY0vueNS1+SolmHptOQeXT6Ef1fAIhj54I/v2un7Cop4zmUkIt63D5D7gz7k8zQgiBwb9jqm1zlNKvQE8rJS6HrM48aXAWaFWK4SjEy71rNSrfxjd/9aF4uJi7r7uIbZv3UlxcTHdenUi/eqLeOmp1yLdRBymx2BNxMWGqF1yWhxQ6QDsYD1416MAPDZlDI2PbeRWs4GqAccAP3rReCVOB/Jx6ZTnqAHj+O6L7wE48ugj+FfWP6jf4HCOadqY77783o1NnOlGIxFs27UA9cgtk/78f5OTj+PhGfdTv8HhxMfHUVxcEmnztTE91rMjbShMHd1u8N5/3MHvv23l26820aXHuW42XQC0BRa72aiIHUqpBEw+jAfilVKJmGFc/wb+qZTKAN4GHgTWaq2/qKzNUMfA3IIZ2L4F80d/s9ZaejZFuE5zq6ETTjyeatWqseWX39m+1Qwt/urzbwA48ZSmbmyiFvZ6Vo7H9OxUFUW4+LsN0Wm4OAaxNGgCJCSYuTzF+4rZ/nvZYUthO8a50pENHXB5bc203p255u6+3PzwIAD+MzvbjaAJple/gxsNhcq5PKUrbyKleg+4hNPapfD3uyezp8i1zuVSpZf7FCJcozAHLfdirphVAIzSWv+GWZXo78A2zAFgUOvghvQmp7Xein/W0QtZvXr1bJcg9ufaKfTDj6gLQEF+4Z+3FRaY/x9+ZD1XtlG4r+jGVk063ehKYyFKiEtAKb8ur7m/eBVXN6VBkwUjuo2I+rYPq5HIzqLCyh8Yoho1azD4gYGACVDb/3AnbCpF/CVtUvb+e8jjrrQXirpJiezId/e1Su3SlpS2JwHwx69b2fjpN661XS0+vv24Sx6M+hyALs1OY8k3n7nWXtPmxzN4aH9efOIVvv7iW9faDVAd/66bGpOqWvbQWj+EWdaovPuyCeNMm99nIbrqmWeesV2C2J9rkxO2OR/+NZP+Wjg30fn/tt+3u7INW1FP+XYN94qVaDsdsV4kkTr1anP35NtJbnECS7Le49UnM11rW6EoLtFUs7AAUkmJ+7+jR26ZRLXqCZzaviW3P3IjQ/4xmBG9H+CPzVsjbltrO3NNS3QJCvf2rfO6dSShWgKtzziVVu1a0Oxk02l61vlnUFRYxHOTZ0W6CYX/l/6KKZI9YixsCt9xbYHkTd/8wN69e2lw9JEcfkRdtv2xg5NPOxGAb778zpVt2FpWQfv2QjgVq4oBuTxHNKrPvY/fydFNGjFv+gJeeybL9W3EWeqxdrOnvFqNauzbuw9dotm7Zx+frVhHYUERSbVrclTjI10Jm7Z69hXK1b9ApRRxcXF0OG//SeONj2tEy9NdG5pta9UMIcoVU2FzwoQJAIwYEf3Te6Jcrr0hbvtjB//991J6XtGNf77wEN9t/J5O3c8iP6+ArJf/48o2bPWsuC39ios4PfVUTjnVLCzRudtZND6mIUsXfcDSRe6swhMfZ2dJRLdD7ujn7qF+g8P5/Zc/qJ5YnX5DrwDgw/9+RO767yJuX2tNfJydEOXm76hZy6bcNOY6vvxkI/m78jmp9Ykk1a7Jzq072eTORCprhy9uHwxMf+pVpj/16p/f3zv+drpf1sXNpY/2YVbPED4h2SPGwuaaNVGfSCwObhNwpFuNPfWPFyjet49O3c/imOPPZMOnXzFlwgx2bCt7LYLQaa0p1n6+Ul3wTk89lUt6X/jn9ye3OJGTW5zIzz/96lrYTEywc1XNhLg4V0951m9gVpA58ugj6H5l2p+3b/rqB1fCZkJ8nLVgXqdmDbblFbjS1rbftrP5hy2cemYKiUmJ7Nq2m4+yV5H1wtsU5LmTe6rH2/m4UkpRLT6evcVV5u8/H3NVF+ETkj1Aed1bE+6i7slp3dwuhb59zYVNZs+2tXrGQR0a5x1D0LVFxiTgDkJfFcGGHUDG4vWZVpYTaZec9h3QxMa2w7AXSFqVmx31Kx71az+4MeaDNrGyx/rEslkrp3a2seEBHW66Dngc/1+CEcxs2OEzVkx52sbGO6ek/wfobmPbYcgHTlu6ISvXdiEW+PL0U0XZIzd7kY1ySE7rFvW8URU+5MWhayXmigRVQRKw2uL2V1rcdqi+thE0AWatnPozZumlqmAfsMzi9ldRdZbU2oup15alVK1xkJ5McxciXJ6fl/Cih1IcMnKoOkM5ti5en7nN4vbfAy6haswy/cDy9j/F7pV5gpUHfGxx++upOj3AScBai9tfhYuX1vXYuqUbsnzZwyf2F0v5KKZ6Nhs1akSjRp5cMUWEJxeIfECl9/YBCyzXYOd8S+h2AW9ZriETE+T8rgbwvq2Nz1gxZS+w3Nb2Q/TJjBVT3BlgGp4VVI2gWQC8YbsIsT/JHjEWNidPnszkyZNtlyEci9dnamASZoyRn+0FrO44q3KzvwLcW1naO0WYy5jZ9BIuXxnHA8VA5qyVU7dbruOfmAMEP9sFPGqzgKUbsnYDL2MOPP1MAc/bLkLsT7JHjIVN4Usv4P/98MvF6zP9EPQewd/BoAB4fFVuttVpu06Aew0X13H1QBHmQMu2/+D/ZXKKgTdtF4E54HT92pIuKgHmL92Q9bvtQoQoy+8f8q56+OGHefjhh22XIQIsXp/5B+aDxK/BYDeWe1UCvIW/P+wUMNV2EY7J+Hui0HezVk61OeEMgBkrphRjXiubp6gPphB40jnlb9XSDVnrMeNc/aoAmGi7CHEgyR4xFjY3bNjAhg0bbJchDvQQ/pzpqYHf8ckYKGeG9yj8OR6xAJi+Kjf7V9uFAMxaOfUTzEQl6yGlHPnA3baLCDAF/wbzPZjlmfxiBP4c9rMPWAN8ZLsQcSDJHjEWNoU/LV6f+QUwFv+FqEKg9+L1mX4Kws8Cn+O/sWPbgeG2iyhjAP4LUYXAvFkrp9qecPanGSumbAMG4r8QlQcMnrFiym+2Cym1dEPWEmAO/usJLgKullnowq88X3bG1qKl5SnYZnPlGlGJCcBVQAv8cRCUDzy5eH2mzbX9DrAqN7ukXXJaX0zg9MuyUQXAlatys311sDBr5dRf+rUffDOm584vC5fnAzfbLqKsGSumvDmgw00LgYsxs+Rt24NZg/Q124WU4w7M6+SXZcjygKFLN2S5c11QEbaK8k5p9vBLHrKx5JIfPtSFYPH6zGLgcvwxWaEY+AV40HYh5VmVm/0tphfRD+EuH5ixKjf7PduFVOBlzOl0P+xX+UB/H8xAr8gNmH3KD71jBcC1M1ZM8UMt+1m6IWsX0Bd/9AQXYS42ITPQha/FVNg8tmEDjm3YwHYZogLO6fQ+2D1FVQJsA7osXp/pt1OwgaYAM7AbOAsw6w/ebrGGg5q1cqoGemPWdLU5HCIfeNBPp8/LmrFiylagK/av6pUHdJuxYsoWy3VUyDmdfjd2A+de4Hugl5w+9zfJHj6+NrqXfLpqf8xdG70iXVtk9AFeJPqnqYoxYw/PXrw+88sobztk7ZLT4jCvUwbRP01cgJmQkLYqN9tv49cO0K/94CMwC5gfT/RPE+cD/5y1cupDUd5uWAZ0uOks4L+YfSra70t5QM8ZK6YsjfJ2w9I5JX0EMBpzhaNo2gP8DHRYuiHLF5PyfMJq3vDLafLKyLXRhQAWr8+cA1yB+ZCO1rWbC4EtwBlVIWiCGb+Jmdgxjej2sORhxtN1qQpBE2DWyql/AGdilq6J5muVD9xfVYImwIwVUz4EOgE7iN5s/n2YNWS7VpWgCbB0Q9YEzJCWaO9TG4FUCZqiqoipsDlp5kwmzZxpuwwRhMXrM+djwsGXeH+qOB/IAlosXp/5rcfbctWq3Gy9Kjf7DszM6x14e6q4GPNaPQBcvCo328/DDA7gjJXsCDyB6Zn1shekAPgV6Dlr5dR/ebgdT8xYMWU10BJzOU2v//7yMMMxTp2xYspKj7fluqUbsp4BLsT0NHp98JWPWcs2demGrD883pZwiWSPGAubP/66hR9/9e0wIFHG4vWZ64BWmCvnFOB+L2cRsBW4fPH6zL6L12dud7n9qFmVmz0XaI45/elFOMgDPgVar8rNnuz0qlY5s1ZOLZq1cuq9wLnAd3jTI5WPmZh04qyVU9/1oP2omLFiys+YMZy3YsZxut3LuQ9nJjVw3owVU6rsbOqlG7Lex/z9vYg3gTMfMz6zy9INWUOXbsjyw4Q3ESTJHjEWNkXVs3h95r7F6zPHAamY3sdCIn8z3+V8PQE0W7w+07eTNkKxKjf7t1W52b0wM2XXYD6gIlmPU2NCxrfAncAZq3Kzv460Tj+YtXLqKiAFc0GBLUR+GdA9mH1zGXDRrJVTb5i1cqrtiTYRm7Fiip6xYsoM4BRgOmafivRgJg/zNzwLaDFjxZTn/DjrPFRLN2TlL92QdSsmoC/B7A+RnmnYhbmwxDjg5KUbsqpcz68QEOIEIaXUEMwYsdOA2VrrgZU9x08ThIZNfAyArIULLVdSLpkgFISuLTKOAq7H9IbUxASi2hz89SvGfMBVB77CXH4y0+ezzSPWLjntVExIvArTK1WNyiddFWE+JBOBhZjL332wKjfbN3/HbuvXfnAc5jToCMxp9kLMhI9qlTw1D7NvKeA54MlZK6dWqWEYoRrQ4abawNXAPUBDzMFMbQ7ecVGCOWhJwASnCcDMGSum7PS2Wrs6p6Q3AW4BbsLsI3FUPpFvLybQJwIfY96r/rN0Q5ZfL+frN76cIFSaPSYNvyua5VSosglCFWU9pVR14BVM508T4Hyt9dJgthlq2Pwb5o3jQqCmhE1XSdgMQdcWGXHAyUA7TEA4F/OHUdb7wFLMG/eqxeszf4pWjX7RLjmtJmY4QipwDtABOAITphTmA24nsArTM7cKWL0qN/uQDgPlcWatt8O8Vp2A1piAUB3z3rcH2IyZ2f4+5rX6fNbKqX68LKZnBnS4SQEnYF6r9sB5mNPINTChch/mwOUb4D1gJea1yj0UejFD0TklvRrmYhWpwFnA2QpODnwRFAqNzsb8/eUAq5ZuyPLNlZOqEAmbQQgibJab9ZyweQtmH30d6OtJ2AwoZBxwbFULm0/PmQPAxOd8uf6thM0I9WjV94B9bcHa2fK6CiF8pXe7aw94r5q76kV5r4qcL8Nmafa4pU+faJZToWCXPjpY1lNK/Qj0CzZs+uVyd1Hhl1+0EEIIIWKDZA+PJggppQYrpXKUUjmz337bi00IIYQQQogQBWY052uw19v0pGdTaz0VsxaYr06j/2PaNACe8+cVhIQQQghxiCnNHvcNGmS5EiMwo0VLTJ1G/23bdtslCCGEECKGSPYIMWwqpRKc58QD8UqpRGCf1jqStfyEEEIIIYQPHCzrKaVq8NeE5urOfUW6ktnmoY7ZHIVZjPdeoJ/z/1EhtiGEEEIIIfzpYFnvS+f7YzBXrCvArLl5UCH1bGqtH8JccUMIIYQQQhxiDpb1tNYnhNNmTI3ZbJGcbLsEIYQQQsQQyR4xFjav/9tltksQQgghRAyR7OHROptCCCGEEEJAjPVsPvTMFABeknU2hRBCCBEFpdnjoZtvslyJPTEVNnfm5dkuQQghhBAxRLKHnEYXQgghhBAekrAphBBCCCE84/lp9GQfjY+sOe0F2yUIIYQQ4hBUUd4pzR5+ykPRFlNjNs866yzbJQghhBAihkj2iLGwedttt9kuQQghhBAxRLKHjNkUQgghhBAeiqmwee2113LttdfaLkMIIYQQMUKyR4ydRi8sLLRdghBCCCFiiGSPKITN3OxFXm8iaAXbtgH71xTLs8OEEEII4a3ysodNNnJPTJ1GF0IIIYQQ0SVhUwghhBBCeCamxmx2aHWa7RKEEEIIEUMke8RY2LziggtslyCEEEKIGCLZQ06jCyGEEEIID8VU2Bw28TGGTXzMdhlCCCGEiBGSPWIsbAohhBBCiOiSsCmEEEIIITwT9AQhpVQN4GkgDagPfAPcp7X+j0e1CVGhUd1HKqAx0A44A+h8asPjiEOBAq2hRJcwqvvIt4ClwCpg9biF43faq9qO+UOfjAdOxrxWHYFzgAZAdUABe4BtwArgA8xr9XnPyUP2WCnYomFdhtcEWmNeq3OBVOAwzGtVAhQBPwL/w7xeq4DcSUsmaisFW7R1bc4R/PX31wk4BagJVAP2AoXAl5i/vxxgVf1Wqb9ZKdaiEd1GKKAp5rVqD5x3fL36KNSfjynRmhHdRryG2a9WAZ9MWDQh30a9QiilhgADgdOA2Vrrgc7tHYCxmH25GPO3fbvW+pdK29Q6uPdIpVQt4G5gOvA90AOYDZymtf6uouflZi/yzZtw6ZiJScPv+vM2H11BSFX+EDGq+8jDgH6YfbER5sO/NhB/kKcVYT74kjABYQLwn3ELxxd7W61d84c+eQIwBLgBcxZDY16rg+1reZg3kerAHGByz8lDPvW2UruGdRmugLOA4Zj3tUJMYKp5kKeVALsx+10h8Djw7KQlE3/1tlq7tq7NqQH8DbgHSAEKMH9X1Q7ytL1APub13Ag8Crxev1XqIX0NvxHdRhwFXA8MBWoB+zB/fwc7o1iAOfirCbwDTATem7Bogm8+R33Ol69TevfuwP7Zw6bktG4HzRtKqb9h3uMuBGoGhM2LMPvwfzH785NAY61198q2GXTYrKCgtcAYrXVmRY/xU9h8c+lSAC7t3PnP2yRsVg2juo9sCowC+mL+CGpF0NwuTED4F/B/4xaOz4u4QB+ZP/TJzsBooAPmg616mE3tw3zwfQOMA17vOXmIb/6eIzWsy/B44DrgPkxPb03CH1pUgPkbfgcYM2nJxNWuFOkTTi/mCOAmzM9ZJ4Lmdjn/Pg88Ur9V6pYIy/OVEd1GtAIeBC7GhJ+DHbQcjMYc/G3FBPSpExZN2OdKkYcuX74/TR51P7B/9rCpsrBZSik1Dji2NGyWc39bYJnWutL3g7DDplKqIbAJOF1r/UWZ+wYDgwHG3XlHu74XXxzWNqJBwqa/jeo+Mg64FXgEE5rcXBu2ANgO9Bm3cPz/XGzXivlDnzwMeArT85TkcvN5wMdAv56Th/zkcttRN6zL8FOA1zGnNyM5cCmr9FT7U8CoSUsmFrnYthVb1+ZcBryACU01XGx6D+ag74b6rVJfc7FdK0Z0G1Edc5A3FPM6uTknIg/4Abh8wqIJn7vY7qHGl2HTL9dEL9Ws2wU34mQ0x1St9dSyjwsibN4JXKm17lDZNsMKm0qpasB/gG+01jce7LF+6tksLDJD0BJr/NXRI2HTv5zezDlAC9wNBGXlAy8Bw6tqL+f8oU9eALyMOcWR6NFm9mICwu3Ai1Wxl9Ppzbwb0/PkdiAIlA9sAa6YtGTixx5tw1NOb+ZzmFNpbh+8BMrDjP26rqr2co7oNuJ0zMFLY7x7rTQmnD8K/F16Ocvly/ek9W+/DeyfPWxyo2dTKdUK83d7qda60s6akN9olVJxwEzMh86QUJ9v08gnnmDkE0/YLkMEYVT3kecDa4G2eBs0wXw4DADWjuo+srHH23LV/KFPqvlDn3wI+DdwJN4FTTDj8mphxie+On/ok1XqCmTDugyvhXlzHEVkp8yDkQQ0AZYN6zL8Og+344mta3NSgA2YMaxeBk0w+1Q34Iuta3Naebwt143oNuJq4EOgGd6+Vgqz394NfDCi24jDPNyWcNGhlj2UUidiOhzvCCZoQohvtkopBUwDGgIZWuu9IVcpRCVGdR95MTCfyif+uKkmcDywalT3kU2itM2IzB/6pAImYya2eB0IAtUCegJvzx/6pD8O1SsxrMvwwzAz7VPx/uClVGk4eGJYl+F3RmmbEdu6NqcNsBxz8OLmafODqQ7UA97fujbnzChtM2Ijuo24CdP7W5PonZ2qBbQClo/oNuLwKG1TCACUUk2AbGCs1npmsM8L9cj+GcwMxEu01gUhPleISjk9mq8R3fBUKgE4CvhwVPeRjSxsP1R/x8x2jVZ4CpSEWULpdWdpJd9yljNajFmax8ue34okAX8f1mX49Ra2HZKta3NOAd4F6hL9oT2lE4+yt67NOS3K2w7ZiG4j+gOTCH8CUCQSMT2pS0d0G1HbwvbFIUwplaCUSsR09sQrpRKd244BlgBPaq2nhNJm0GHTSbM3AqcDm5VSu52vq0PZoBAVGdV9ZDNgHnaCZql4TOBcPKr7yIMt52LV/KFPDgDuwE7QLJWEWXf3UYs1BOMVoCXR66UrTxLwf8O6DD/fYg0HtXVtzmGYYQa2T8/WBt7dujanvuU6KjSi24izgCnYCZqlagAnAXOdtTyFcMsozATaezFLDRY4t10PJAMPBWTA3cE0GHTY1Fpv0lorrXWi1rp2wNfLof8cQuzPmXU+B7tv3qWqYcbbjbRdSHnmD33yGMxsZ5uhvFQScMv8oU+2t11IeYZ1GZ6BGQ/oh/0qCXh1WJfhfu2Jego7PZplKUzgPGB2rB+M6DYiCXtnX8pKxJxhuMp2IeLQobV+yMl7gV8Paa3HOP8PzIBBvZ/F1OUqLzyrIxee1dF2GaJ8QzCnOf1ySrYWcM+o7iNPtV1IIGec5izCXzvTCzWBOfOHPmnjFHWFhnUZfiRmjLnN3t+y6mDWd/WVrWtzLsAsmeWX32EN4KKta3N62S6kHI8CfhorWQt4ZkS3EVVh6E9MkuwRc2HzLC486yzbZYgyRnUfmQz8A3+FAjAfvK+P6j7ST7OuB2AuD+i3U/xHAeNtF1HG8/gnPJWqCfT10+l05/T5y/ijpy5QEjB969oc3wQ75/T5IPz3WiVilm8TPiTZI8bC5o5du9mxK6jhBSK6RmN3PF1FFHAs4IveFWcizgT8F8rBfPjePH/ok0fYLgRgWJfhLYAL8Od+lYSZWOIX1+O/8FQqEXNRB7/4J/4YklFWNeDsEd1GtLVdiDiQZI8YC5tjnn2WMc8+a7sMEWBU95F1gSvwz+nzsmpjrgPtB93xX09doBJMr48f3In/en8DnTSsy3DrM663rs2JI/pLZ4WiJnDH1rU51t8fRnQb0RxoY7uOg6gBDLNdhDiQZI8YC5vClwZgQoqfnTaq+8hTbBeBCb2RXJPaa0nAsPlDn7T6vjKsy/A6mBmUfhr+UFZ1TCC2LQ1zQOVnNTDXGbftDvy9T8UDGbL2pvAjCZvCmlHdRyr83atSKgHzQWPN/KFPJmPGavpdEub0tU1X4/8DmATM2E3bBw934/+wWQcYYbOAEd1G1AQG4u/ecoBiTJ1C+IrnR2k+uvY4Nae9APirphjXBHOVEr+rBlwK3Gyxhgvwf4ACE1wuBRZarOFy/Dmutay9mGVr/mNj41vX5iQA52F/qaNgnLl1bU6N+q1SiyxtvwNQFa5FXgszLGmy7ULEX2oebjqbYzl7+PmUgDj0pWI+cF0ZcD9owvU0bZW8322/fvcrT9z0f240f+So7iPrjls4focbjYXhXFzuAW50WjInprWjTqMjKCkuZtcvf/Dx82+ztyCiz3OFCVA2uTKurlnrZtw6ufzji9mPvsrH/82JdBNJmL8BK2ETs9TYHlxaRis+sSZJRx9LfM1aqDhFyZ49FP6xhaI/fnOj+QLgNCDiFz1M7XBxYlCD4xvQ4/oeNGnRhIRqCWxcs5F5T89j+5btbjR/2ohuI9SERRO0G40J4YaYCptXXy0XO/KZM/HgFN6H//7gz//v2rrLrWbzMSFmqVsNhqiDm401btOcttdcSPHefWz+LJfiPXupd3xD4qsnRBo2AU6aP/TJ+J6ThxS7UWsohnUZ3hCXQvmO37bzXuZ7f35fPbEGHS42a9f//tPvbmwiAegEjHWjsTC0c7Ox2iecSHz1GuzLz6O4qJDq9epT65gmFBcWsi8v4r/DBEy9tsJmJ1wK5Ym1Ernh0Ruoe2Rd1i9fT/G+Yk479zSObHwkk2+cjNYRZ8Q44HhgU+TVCjdI9oixsNmzZ0/bJYj9dcKDccMLnn3b7SbBzAJvh4Ww6SyWfpybbaZcYtZ8++jZt/jjm5/cbBpMb9kpwDq3Gw5CO6AQF5Y8+v3nP8h6at6f359z2dkA/PDVj3z7+XeRNl/K5uzms3DtYE8RV81ksbwfvqW4qJD4GokkJNUirnp1yIt4A0mY3n1bU3pT3WrohJYnUPfIumz9ZSvTH5wOwJ1T7qRxs8a0PLsln7//eaSb2Iv5O5Cw6ROSPWIsbP78888ANG7c2HIlwtHUi0bvf/0BUPDzxp9558WF/PSVK2Gqxt7i4ol3drlrohuNhSKpegJnnnQMCfHu5PJaR9Wj5uF1KN6zl2Zd2nDGDRdTtDOf3GWfsumDz9zYRO2aNRM+f2/0c260FZLTkhuw7tstlHhwAvHcy8zogMDezkhpretf3Kpv5H1ZYRg9+kqaNz/GpdY0Rb//SuJRjah1XFMTNmsmsa8gn707truyhd9+3n710/c/GPUuIhd6Gvezb68Z+pl0WBL1G9WneF8xh9U3l6Nv3KyxG2GzJtA80kaEeyR7xFjYvOuuuwCYPXu25UqEw9UFt4vyi/hixQZ2/rGT41KOp1mbZgw48VoeH/wvdm+rugvqxsXFoXHvA696LbNUZ3z1aiQdUZefP/maY9qcxGm9O1G4Yze/fv6ta9uKtuKSEk+CZouOLTjq2KPY8fsOPnn3U9fa1YBSyvVAE4xq1dx9+9+zczvV6h5OQlItEpJqoUtK2LtzO7rEndEU8QnWl9p0Re6nuXz7+bc0PbUp9868d7/76hzuyuIE1fD3erwxR7JHFMJmbvYirzdRqVieAeZzrn56zHpo5l8NJ8Rz57RhHN7wcJJbJ7N26dqI27c1ZTdOubv1PbsL/vz/mpcXseOHLZTs3ccJ57Si4alNXQmbVrrqgBKPNnxexrkAfDhvOcX73B2KqlDg4sFEsBJcDG8qPp46TZuj4uLZ+fUXFBcVUKfpSdRs2JiSfXtdmSQU71LPvm0lJSU8O/xZWndqTYMmDdi+ZTvJpyXTpmsbdu9w7aDYj1fOEh4KJWvZyEQx1bMpfGevWw1Vq1GNxFqJ5U4IKnGpq8vW1M4SrV0NuvnbdrG3oIhqNQ/8PCoucudXoiwl83jlfnQ7umkjTmrbnL1Fe/nwreUutoxTq509a+9e90JzXPUaqLh4dEkJ+wryQGuKCwtISKpFfA13OtmK91WFlb+Co5RizZI1ANSqW4sLB14IwNerv3ajeY0ZtyyEb0jYFDYVAPXcaKhWvVrc+dwwcj/9hu1btnNcyvEc3vBwdm3dRe4n37ixCWths9jl88K6uIRv3/uUky48k9OvTmPbd5s5ps1JlBSX8NOqr1zdVrTFx8e5flq6tFdzVfZq8nZEPtOlLK96YytTWLjHtbaKCwsp2bePuIQE6iSfRElREdXr1QdgX547vXV791SFZS6Dc/0j15O/M5+C3QWccuYp1K5Xmw0rNvDNp668V+0Fqu64IXFIkrApbFoHHO1GQ/k78/lk8RqSWyfTtFUyhXmFrP9gHdkvLSJ/Z74rm6geHz9swqJHoz4bdv7QJ+Mx83ldOzW28Z2PiYuP59gzT6Hx6c3ZtfkPvlr4Edu//9WN5gsKCvaldB1/U9Rnw2Z1GX4eMA+o60Z7tQ5Lom3XtgC8l/k/N5rcj1LqpwVrZx/resNB2Lo2ZwJwF26sCKFL2PXtRpIaHUN8zSQSaiZRsqeIwj9+Y8+ObRE3D+iGxx3+9Ki3Hh7iRmOhGtFtxDdAcqUPDNIvub/QunNrkuoksXPrTt599V0WveTakLMCIOJZRkK4KabC5vXXX2+7BLG/ZZjljyK+BNyegj1k/d+/I6+oYvuAVV5uoCI9Jw8pnj/0ya8wi1q7Qpdovnh7OV+87e5pYUcJ8L0XDQdhDS4ufp+3M597LrrPrebK87GXjVfiI0wP2GFuNFZckMeubz3rGd8NrPCq8SCswMWwOe/pecx7el7lDwxPTSy9V4nySfaIsWujd+3ala5du9ouQ/wlB7NYelVQE3BlXaAwvY+9M/mh+qzn5CFWap20ZOIuwJVL1kRBEeaAy5Ycqk6Hg8Legu4A/6PqvFftnLBowh+2ixB/kewRY2EzNzeX3Nxc22WIv6yi6izR8f24heNtXZcZ4EOqxjisYsC9hSjD85Hl7QerCLs9UJuoOgcw1QCbA4pzMPt2VbDadgFif5I9Yixs3n///dx///22yxCOcQvH/0bVGFtUALxouYYFuDDcIAqKANuLyc0AXLtOqYeKAU/GMQSjfqtUDczFDBHxsxLgzfqtUm1OR1+DeR/wu13Yf68SZUj2iLGwKXzpUfwfDOKA6F8OJ0DPyUO2Aln4v3clt+fkIZ9YrmE+Li6r5ZFC4IlJSybaDnqTMZcX9bMC4DGbBUxYNKEY81r5PXBq4A3bRQhRVkhhUyk1Syn1i1Jqp1LqK6WUjHoVkcrC3wGqBPjPuIXjt9guBPOBa/NUfmV2YQ4erHIC3OP4e61Bhb3rfP+pfqvUTwFXFnf00E/YnUhV6nnsXdshGEXAMxMWTfD7wYPwOaXUEKVUjlKqSCk1PeD2Fs7t25yvbKVUi2DaDLVn8x/ACVrrw4BewDilVLsQ2xDiT+MWjt8LPI1/g0EB8E/bRQD0nDwkB/jOdh2VmGu7AMcU2wUcRDGweNKSiT/bLsTxCP4dD7wbeNQ55W/VhEUTfgfewr/DDjTwlO0ixCHhZ2Ac8EI5t/cG6gNHYpaZezWYBkMKm1rrdVrr0p4V7Xw1C6UNIcrxKP78sNsDLBm3cPyHtgsJMBh/nsrLA+7sOXmILw4aJi2Z+CswCX/OIC4C7rBdRIDXgG8xvfh+ojG9mjMre2AU3Y0/zy7kA1MmLJrwg+1CRNWntX5Da50F/FHm9u1a6++0uWqGwhw4nxhMmyGP2VRKPa2Uyge+AH7BTFwo+5jBTldrzuy33w51E5659dZbufXWW22XIcoYt3D8TqAf/gsGBcAg20UE6jl5yAeYo00/Bc69mNm6fpuYMAbzHmW9VyxAHjBq0pKJvjl1Xb9VajFwBf4LUYXA5fVbpfpm/O2ERRM2AcMxv0c/+R3wdEFYET6/ZY/AjOZ8DQ7x+dtxxp0D44N5TshhU2t9C1AHOBczEPmANyit9VStdarWOrXvxReHugnPnHPOOZxzzjm2yxDlGLdw/H8x+5MvesYwHybXOzPm/WYEsNV2EQH2AP1sra1ZkUlLJu4BLsc/+1Qx8CXwf7YLKat+q9QvMOHcLyEqD5hQv1WqzbVtK/IssBb/nE4vAK6YsGiCX/ZzUYbfskdgRnO+pob4/HqYq7QNwazUUKmwZqNrrYu11u8DxwI3h9OGDevXr2f9+vW2yxAVuxUTomxPGCrATAryy/jD/fScPCQfE6L80BNcANzUc/KQH20XUp5JSyauwYxJ9EOIygf6TFoy0W+nq0tNxFxC1nZoKcJMWvq75TrKNWHRBA30xR/7VB7wfxMWTVhpuxBRsUMxe2it8zBj419SSjWo7PGRLn2UQBUaszl27FjGjh1ruwxRAed0+tnANuyNHyvEzHy92tL2g9Jz8pDlmBptnk7PB8b0nDxklsUagjEWs/anzXCQB1zgp9PnZTmn0y/ALPZua0bzXsw4zS5+On1elnM6vSt2x5rnA/8GRlqsQQThEM4ecZjLAx8TzAODopRqoJS6UilVWykVr5S6EHN0tzj8OoXY37iF47/DBM4/iH4PZz7m6jMXjVs43vfLh/ScPCQLGICdwJkPPNJz8hDrSx1VZtKSiRq4ETMRxkbgzAMunrRkos1rewelfqvUHcA5QC7RH8NZBHwPnF2/VaqfhomUa8KiCasw4XwX0R8XnAe8CQx0elqFcI1SKkEplQjEA/FKqUTntm5KqTZOBjwMMwlzG7ChsjZD6dnUmFPmPzqNTwTu1FrPC/knEeIgxi0c/xWQiulhidap4jxgIdBt3MLxfjg9HZSek4e8DmRgelii0ROkMeH27p6Th1SZQ3Xn1PUgzID2aP1+izDDQjpPWjLR5jXQQ1K/VervQAfMpTSjFc7zgM+AM+q3St0cpW1GbMKiCcsx8xf+IHrDD/IxF5no5yw2L4TbRmHe5+/FTN4tcG6rhzlLtAP4BnNmu7vWutJ9P+iwqbX+TWvdSWtdT2t9mNb6NK211auqiEPXuIXjvwdaYNaNK8C7noM9wE7gOqB3VejRLKvn5CH/AVKAD/A2HORhrk/dvufkIU97uB1PTFoyUU9aMvE+4CLMLHUve4TzMT1PJ05aMjHHw+14wunhPBczwzkf784ylGB+D6OBDvVbpW7zaDuembBowqeY5V/m4u2BTAGwBbhkwqIJQycsmuDXsb+iitNaP6S1VmW+HtJav661PkVrXVtrfZTW+mKt9dpg2pTLVQrfGrdwfNG4heNHAOdhejndHB+lMeFpMdB83MLxr41bOL7Kno5yJuh0AW7DvE5uBqk9/LW4/Wk9Jw/x4wzhoE1aMvE9TDiYgQkHbs4qzsOc+ekzacnEPpOWTKxy4alU/VapJfVbpT4BnIaZcer2+MTdmFndreu3Sn3MGTNaJU1YNGHHhEUT+gN/w/RyunnQV4zZT18Bmk1YNGGJi20LERXKrM3pndzsRdY/wJPTugGwatUqANq18+VFj/x8GTTrRnUfWR0zA/seTNd9dcwEtVCVdvcvAiaOWzj+PXcq9I/5Q588CrP4+51ADcxSZeEoDRfPA0/0nDwkN/Lq/GVYl+GnAcOAPphetlphNFN64LINE8hnTFoycadrRfrA1rU5cZge4RHAmZiOiuphNLUXE55WYV6r+VU5ZJZnRLcRtYH+mNfqSMw+Fc77ex5mzNzrwKQJiyZ84laNhzDreaM80cgeudmLgn5sclq3qOeNmAqbPidhM0ijuo88HRgKXIwJUgWYGXHVynl4AeYDLgkzy/VF4NlxC8dXmXFh4Zo/9Ml4oAcmTLXHvBHvA2pz4FkNjQmXChMi1gH/Al7vOXmInxaQ98SwLsMPA64BbsH0ehZiXqOKwudOzOu0F3gPM4Z9mTMZ6ZC2dW1OMqYH/QrgKEyvWyLmwKas0l7xJEyP3+vAE/VbpW6MTrX2jOg2QmEmW90FdMa8PkWYv7/4cp6ShzngScRc0ekZYPqERRO2R6HcQ8Uh//dXEQmbPgqb0rN56BnVfeRRQFsgNbFawjitNaXX0YpTioK9+27D9KJ8WpUm/rht/tAnFdAUaIcJnidgAkAcJiz8AqzEXAnoy56ThxxSvU2hGNZleHWgJc5rpRTX/7lTOf+UaNIx+9VPsRAwK7J1bc5hQBvMa9UOc/CXiAlVu4DVmNdpTf1WqdstlekLI7qNaIyZ+HhGg3pJo4pLNFpr4uPiSIiP45etu2/E/P19PmHRhCo3dtwnfPm3KD2bMRY2+/btC8Ds2bNtllMRCZsRevrKfxywr93y6n3yuoqI3HvBPQfsV4+886jsVyJs74x45oB96oIJN8s+FTnreaM80cgefg+bMkFICCGEEEJ4JpwJFiGpIuMlhRBCCCGqJL9nLenZFEIIIYQQnpGwKYQQQgghPOP5aXQ/eeCBB2yXIIQQQogYItkjxsJmixYtbJcghBBCiBgi2SPGTqO///77vP/++7bLEEIIIUSMkOwRhZ7NUNZ+cktFs7KeeuopAM4555xoliOEEEKIQ0SouWbixMcAaDz8Li/KCZmNmesx1bMphBBCCCGiS8KmEEIIIYTwjIRNIYQQQgjhGQmbQgghhBDCMzG19NHf//532yUIIYQQIoYM7Xe17RKsi6mwmZycbLsEIYQQQsSQ4xo1sl2CdTF1Gn3x4sUsXrzYdhlCCCGEiBHLP/2U5Z9+arsMq2KqZ/P5558HoGvXrpYrEUIIIUQseH1RNgAdW7e2XIk9YfVsKqWaK6UKlVKz3C5ICCGEEELYoZQaopTKUUoVKaWmV/CYB5VSWimVFkyb4fZsPgV8HOZzhRBCCCGEP/0MjAMuBGqWvVMp1Qy4HPgl2AZD7tlUSl0JbAdk8KMQQgghxCFEa/2G1joL+KOChzwF3APsCbbNkMKmUuow4GFgWCjPE0IIIYQQVZtS6nKgSGu9IJTnhXoafSwwTWv9o1LqYMUMBgYDjLvzDvpefHGIm/HGY489ZrsEIYQQQsSQe6+71nYJ+wnMaI6pWuupQTyvDjAe6BbqNoMOm0qp04E0oE1lj3WKngqQm71Ih1qUVxo3bmy7BCGEEELEkAb169suYT+BGS1EDwEztdbfhfrEUHo2OwMnAN87vZq1gXilVAutddtQN2zD/PnzAejZs6flSoQQQggRC9792MynPv+MMyxXErGuwLFKqVuc748CXlNKPaq1fvRgTwwlbE4FXg34fjgmfN4cQhtWvfzyy4CETSGEEEJEx1vL3gOqTthUSiVg8mE8plMxEdiHCZvVAh76MWYOz38qazPosKm1zgfyA4rZDRRqrX8Ltg0hhBBCCOFro4DRAd/3A8ZorR8KfJBSqhjYprXeXVmDYV9BqOxGhRBCCCFE1ebku4eCeNwJwbYZU9dGF0IIIYQQ0SVhUwghhBBCeCbs0+hV0VNPPWW7BOGRSRljq1VPiN/vNmVuV8MyH/DN8lt+0DklvQ7QAHMZMgUUAn8s3ZC11WphPpTWsneDUxscRwkahSJOKarFx1f+xBjTsXmPOOAYoBZQAyjCjPH/afnGBcU2a/Ob8b1GJ56WfCQlWqM1xMUp4uMU43uNViPnjZH3qkPQ6BtvtF2CdUprb/dtG+tsJqeFvN6oH1S8Sr44wKSMsccDFwBnOV/J7D9LrlQ+sA74H7ACWDgs84Fd0arTts4p6QpIBc4FzgPOwCxXUQSUOA+LA6oDu4A1wFJgObBs6YasmAkKaS17V8csVtwB6AS0AhLjlKoR+LgS8565CViJ2a/ezV43d110q7WrY/MeRwLdMa/VucDJQLHzpTHvZ/HO10bgfcw+tXD5xgVbbNRsy/heo08BumBepw7AsXFKJQS+42sTPHcCa4FlmH3rnZHzxhRFv+IqLSp5Izd7UTQ245nktG5RzxsxFTbnzp0LQO/evaNZTrAkbFZiUsbYOEzAvBsTMIsxPSnBKAF2YwLpy8C/hmU+cMgGhM4p6bWAqzDXr22E+dBPDPLpezG9nQXAZOD5pRuyfveiTj9Ia9n7OOAWzDJuCrNPBdt9WYD5gNsIPApkZq+bG/T1gquSjs17KOBMzLJ3PTH7SW2Ce+/SQB7mbNpCYCLw4fKNCw7JnrzxvUZXA9Ixf38tMD9/UpBPL8a8Vgqz5OCTI+eN+c79Kg9Jvgyb//3wQwAuPOssL8oJmYRNl1QUNvv27QvA7Nmzo1lOsCRsVmBSxliFWXphAiYI1ImwyX2YD8r1wI3DMh9YFWF7vtE5JT0Jc1nZmzABu3aETRZgej7/Ddy+dEPWIbPUWVrL3icAUzAXrABz+jcSuzAfdo8A/8xeN3dfhO35RsfmPdKApzCnymsS2Xj/Esx+9SswZPnGBZWu0VdVjO81Oh4YCtyPOWCJ9L2qCLNPfQDcOHLemG8ibO9Q58uwOWyiuVT2pOF3eVFOyA7JsEmUfvnBkLBZ9UzKGNsYmAm0J/hezGBpTA/e48DoYZkPVOlTVp1T0s8G5gCHE3wvSrD2YALCoKUbsjJdbjuq0lr2Vpgw/k9MwHR77Hoe5jT7FVX99HrH5j3qAE8CvXF/nwIzzOVN4JblGxds96D9qBnfa/TJwGtAM9x/ryrGBM+RwBMj540pqeTxsco3eSOQD7NH1POGzEYXvjUpY+zVwJeYsU5uv3mD+YOrCdwGbJiUMbaNB9vwXOeU9MTOKelPAIswPU9ehILqQF3gpc4p6fM6p6Qf4cE2PJfWsvfxwIeYoFkLbyZJ1gJOAT5Oa9l7VFrL3lXyfbZj8x5dgG+AK/Bmn8Jp9zLgm47Ne1zo0TY8Nb7X6LjxvUbfjRnvfCrevFfFY16rvwMfje81OtmDbQjhmSr5JigObZMyxqpJGWPHY8Yr1ab8iT9uSsJcevX9SRljq9TsMmdm+bvAIExw9loScCGwqnNK+rFR2J5r0lr2PhUTCFLxJhAEisP8Pu4D5qa17O31Puyqjs17DADewkwmC3asb7gSgfrAGx2b9xjs8bZcNb7X6ATMGPCHiHx4QTBqAacDq8b3Gl0lD45FbJKwKXzFGZ/5L+B2vOtNKY9ytvfmpIyxF0dxu2Fzgub7mA+faATNUtUxPairOqekHxfF7YYtrWXv1phxb4cT3SXfSsP521UlcHZs3uNG4Gmi+/eHs73JHZv3uDPK2w2LMz7zDaAX0X2t4jFnGd4b32t0ahS3K0TYYmrMZkFBAQA1a0bzczloMmYTmJQx9iHMbPNof9AFygd6DMt8YJnFGg6qc0p6IqZH83S873mqSDHwM5C6dEOWb5ezSWvZuznwEeYD2tbfWT7wH8w4Tt+Ot+vYvMeVwAtE9+ClrHzg1uUbF0y3WMNBje81WmHGkl+G3feqnUDHkfPGrLdYg5/4Jm8E8mH2kDGbXqpZs6afftmijEkZY7tjP2jibH/epIyxDSzXcTCTgdbYC5pgelgaAXOd9Tx9x1k7cyFwGHYP6JIw61LeabGGg+rYvEcK9oMmmNfq6Y7Ne7SyXMfB3IRZ2sj2e1UdYOH4XqNt/87EQUj2iMLpJFuLn5a3/NHMmTMB6N+/f7TLEZWYlDG2LjAL+2/epRIxH7w9bRdSVueU9HOBAdgPBWDG07bFjBl93nIt5XkIE4j9cGBdCxiX1rL3W9nr5m60XUygjs17xGNmUke6/JNbEoHXOzbvceryjQv22i4m0Pheo0/grwlmtingCMxyW3dYrkVUIJjsEc2sZOPCN354A46aBQsWsGDBAttliPI9hT/evEtVBzpPyhh7ue1CAjnraL6KP4JmqVrAv/w2fjOtZe+2mJ5EvxzAgNmvXktr2dtv17y8G2iKfz4TFGZc8CjbhQRyTp/Pxj+hHMz+fcP4XqM72i5ElE+yh3/eWEQMm5Qxtgtm7JPNU8LlqQU8Pylj7OG2CwkwHjPJxW+qAzNsF1HKWW5oDv7bp+KB5pgrFvlCx+Y9mgEP4q+DPTD13O2c3veL64DTiO4ks2DUBOY4s+OF8B0Jm8IPxuCv3qdACcBA20XAn7PPB+OvXs1S1YAOnVPS/RIMumFOn/txLGktYJSPejeH4b/wVKoaMMJ2EfBnr+ZD+C+Ul6oHVImVNETskbAprJqUMbYZZt1Dv0oChjvXZbetH+ZSf35VDf+MGxtB5Jfq9FJNzJJIVnVs3qMWZvyvX5dlSgD6dGze4zDbhWAua1rPcg0HUwdzLXYhfMcPH6Aitt2G//fDOkAXmwU4s71H4N9eFTDBoH/nlHSrIS+tZe8mwFk2awhCHfzRY3clPl0uJkAJcI3tIjDjWv389wdw+vheo5vbLkKIsvz+Ie+q2bNn++napDFvUsbYaphZzNVt11KJ2phTjTZ1AI60XEMwSjCXN7TpBvx5+rys9mkte9ueVHUX/u4BBhPw7rJZwPheoxsA5+P//SoBH40HFoZkjxgLm8J3WuD/XhUwHzBnO1c3suU8/B/KwQSX7pZruAh/zRauyB4s9sA6p9CrSi/YMR2b96hncfsdgSKL2w9WNXwwPEOIsvw6KNwTzz33HAA33HCD5UqEox1hHvC0ufhMTu16OkccexRx8XEsn7OM5a+99+f9zTum0LFPJ+o1Opy8bbv5dGEOOW8uj6TW6kBj4KdIGolAZ8IMm72vuYSL/taVE048jvj4eKY/+SrTn3oVgGYnn8At91xHSqvmJNWqyeaftnBlWsSXpz4z0gbC5cxCbxHu8//W/2K6X9aFJiceS3x8PC899RovPf0aAF0uPodL+lzIcU0bk1gzkV9+/JXMl+az8I0l4W6uNtAeM2vehtaYq/WENR6yz8BL6ZlxAU2bH098fDzPP/4y0554GYCuF53LoNuvpuHRR6GU4peffiVz1nzeeOXtcGvNx6znGvaLHaEzCLMH+IxeHWid1oYjj2tAXHwc/5v9Lv+bvXS/x9SsU5PrH7+FOkccRuHuAiZd9UgktZ44vtfohJHzxuyLpBHhHskeIX7QK6WWKqUKlVK7na8vvSrMC0uWLGHJElvvVaIcZxHmGKiGzY6mcFcBu/7YecB9R590DD2HZXDYkYfx5fvriIuP47xr0jitW9tIat2DCce2hF38SS2bsWvHbn7b/McB9zU4+ijqH1WPjRtyIyqujGOc9UBtaIa5jGZYmrdIrvC1andWaxo2PoqcDz7l89Vf0LT58QwfewsdOoe9W8RheqxtSSWC3vKTWzZn545dbPnl9wPua3RMAzb/tIWFby5h9cq1JDdvwt1jbqVt+7AvClQTuxMJO2OWrQpZo2aNKdhVwM7fd1T4mItuuYSkuq4NBy0E/LIqhKDqZQ+l1BClVI5SqkgpNT3g9hOUUjogA+5WSj0QTJvh9CoN0VrXdr5ODuP5QpQ6O9wnLnz8TV4fPZPfvvv1gPvOuOxsVJxi+Zz3+O+T81j4xJsAnPm3sDcHJhSfEUkD4eqckn44EaytOf6ef3HngFF8veHbA+5bvvRjrr3kdl6fPi+SEsvKx/Sa2dCOCGbsP3rfE9x17Wi++eK7A+57Y+bb9LvgFh6593HuHTyWTz9aZzbYMaIftUVay962hmecSwTrkD5890Ru7XcvX5VzoPLy85kMu/5B/jn6KYYPfoivvzD7XuPjGoa7uepAp3Cf7IKwU/Jbk9/g5fun8+u3m8u9/7QurTmpQwofvv5eufeHQWH3wFhUfT8D4zBX0StPvYAcODaYBmPqNLrwnaO8aLRBU/OB9us3Pzv//gJA3Qb1qJFUg6L8sIZexf+yc/uoi067MupXNKkRX52i4j3R3mzY4lXcYc3qN/rw3guivwrLsXWP4Kcdf3gyELhsAE2oZt4+f/v1wF7QYGmtaxbr4pLOKekRVBYehUJ7OGS6RauTuKDX+Rx7/NGceEpTvv36e97LXhF2eyc0adhj69qcqI/x1iXebfKwo+rS7YYerHzzQzZ99h3n9nWl2ZrA0a60JGKS1voNAKVUKnCsG22G07P5D6XU70qpD5RSnd0oQsQsTyZxJNU1Q6v2FJqAtrfwr6CWdHj4E2/j42Q+XTA0mhJtZ96X1l7Gp79kDOhJyzYn8+OmX5g/550obNEL3r5SJ5x4PH0GXMrZ559JcXExK95bRX5eQdjt7dljZwjivn3FqDgPOp+VotfQv7Hj120sm+XqKdZ4/HnhB3Ho2KSU+lEp9aJSKqhVUkL99LwHSMZcs3Yq8JZSqlnZBymlBjvn+3Nmvx32gHDXJSYmkpjot6vXCbfl79gNQPXE6vv9C5C/bbeVmmJNdCJfedv13jW3XMHNIwby8/ebGTFoTEQB6lC24I1szjrpYi7vOoiNG3Lpe91lXH19RtjtaUsHMF457MjDOP7UE0ApMu7rQ+dr0gCollidyx+4KtIxnH65OpXAf9kjMKM5X8HOCv0dM5ysCWaoRh3g5WCeGNJpdK31yoBvZyil+gI9gCfKPG4qJoySm73IN+8QL774ou0SxP72etHolm9/5bCj6tGo+TH8uP57Gp7YGICdv20P9xQ6AMUlfr54j7/EKTu9wHEeLoOolOK2UYPodWV3Nq7PZeTN49n2+3bPtuc9hVfxPKlWTfLzCtBa8+P3v/DF5xs55dTmHH/CMWG3Wb26nVFf8fFxnpxKV8rsqw2bNqJh00Z/bS8hnuZnnEy1GmFf1KkEM25a+ITfskdgRgvxebuBHOfbX5VSQ4BflFJ1tNa7DvbcSP96Nf5f5Fb413bCnPhyatfTOSbleBo4b9LNzjyZwxrU4+uPviQn60OapZ5Eh8vP44jjjqJJq6YAfPTvD8MuVGvNnn12TuOpCP/ELu6dxmltW9C8RTIA53RtT6NjGvD+4pV8n/sjV92QQYOjzZmQuvXqcO/429mxbSfP/HN62PUmWBpykBAXR5xSYZ/GvyijK6e2PYXmLcw+c1bXM2h4zFF8sPgjTj71RHpd2Z3i4mK+3vAtV16fDsDP32/mzVcWuvUjRE+EWfOSyy+kdWoLTm5pTm6d160DRx/bgPcWreDWEdfx84+b+fmHzRzV8AjO6mzm1q18f3XY26tT284CB3HxccQnxFG8L7yDzdbd2nJci+Np1MwMozyp/SnUbVCPr1Z8wfheo/983PGnnkC/8de6sfRREbA1kgaECFLpO0ilb/hBh02lVD3MmnDLgH1AH8yyHX65FnKlnnjCdMDedtttlisRjhygaThPPCbleFqe/9cs4AZNG9GgaSN2btnO8tfe4+3Jb9DxivM45ZxTydu+m//NWsza/64Ku1Cl1K4m9Y+88f/e/b+oXwbCuVTldsJcD/G0ti3oftlfV9s8MaUpJ6Y0ZfNPW9i9M2+/+2rWqkn3y7qw+actYYfNYl2yZ8NvPx69dENW1D/w0lr2Ph14D3N6J2Sntj2FC9PP//P7E09pyomnNOXXn37jyIb1AYiPj+eijK5/PubTj9aFHTaVUl8sXZ9lZZmajs173AeMIczrordObcHFf+v25/cnpTTjpJRm/PLjFj7+cA1ndTqDtu1bUZhfyBeff80bL8/nnbeWhltu8efrvxtfv1Xqg+E2EInifW+tAU4P57nHtTieVl3b/Pl9w+SjaZh8NDu2bOerlV+4VOF+9gJrvGhYhKeqZQ+lVAImH8YD8UqpREzua4f5LNqI6Sh6HFiqta54Xa/SNoMdB6OUOgpYAJyCWcfuC+ABrfWigz3P1mn05LRuB9zWt6+Z6ufTy0bFXA/xpIyxtwGPUjUGs+cBbYdlPvCVjY13Tkn/H3COjW2HYcvSDVlhr3ETibSWvathfldhn4OMsmnZ6+Zeb2PDHZv36Aa8DtS1sf0Q7QD6L9+44C0bGx/fa/TjwBCqxvv0PuCwkfPGxOJgYt8M2wsUTPbIzT5olHJVclq3g+7HSqmHgNFlbh4DfAmMBxoAO4FFwAitdfnregUI+lyX1vo3rfUZWus6Wut6WusOlQVNISqxCo/GbXogHvja4vaXEcFi5VEW/rnSCGWvm7sXcHWFeg/lAeGP7YjcaqrGgR6YlSvCPzURuRVAVZld+FOMBk3hEq31Q1prVebrIa31bK11U611La310Vrra4IJmiDXRhd2fULVuIY1wNphmQ/YnCH0ISac+F0hkG25hqoSzBWwstJHeWT5xgV/AOEvEhpd+cs3LvjZ4vZXUDXWpS4B3rddhBBlSdgU1gzLfCAfeIsIrvgSJbswY1NsWoT/X6dSQS2F4aFnMZMk/O777HVz11mu4RnA771ghZjfqTUj543JxZxC9Lt84GnbRQhRVkyFzXr16lGvXj3bZYj9TcT/H3YAc21ufOmGrL3AU5gPXr/SwKKlG7KCOq3ilex1c1cD39msIQi7MeOVbZtK1RiH6IcA9SjmwNPPfgWW2y5C7E+yR9U4LeCaZ555xnYJ4kAfYa7D2tx2IRUoAqYOy3zADz1lzwB32S7iIPIwBw9+8CgmnId/ySjvzbFdwPKNC37t2LzHf4FL8GfngwbeW75xwY+2CwHeAKbYLuIgdgMTRs4b48tJMrFMsoc/31xEDBmW+YAG/o5/xyOWUOaiBbYs3ZD1E/AO/pxUpYHNwP9sF+J4DTMr148KgOey1831S4/+I/i3xzwf+IftIgBGzhuzB/Ne4NcF00uwP4RFiHLFVNicMGECEyZMsF2GONBMYD3+m9SRB/xjWOYDm2wXEuBm/DkesRC4aumGLF/0qmSvm1sIXIc/D2J2AlbWiyzP8o0LVmCGifgl/JYqBN5evnHBUtuFBBiPPxdMzwNuGjlvjB/395gn2SMKp9HLW+/SljVrZJ1bPxqW+UDJpIyxVwKfAXYuE3KgEuB7fNKrUmrphqyfO6ek34oZwxbRxZNdlA88s3RD1se2CwmUvW7uv9Na9l4EXIR/Vj3IB67MXjfXb8vo3Ia59LCflkIqAG6yXUSgkfPGFIzvNboPZsUFv7xWe4APgFdtFyLKF0z28FNW8kJM9WwK/xqW+UAucC/+6YkqAi4flvmAH0/FzsSMdfXD6XQN/Abcb7uQCtyAf3rsCoFXstfNXWq7kLKWb1ywE7gK/5wizgeuWb5xwTbbhZQ1ct6YD4Hn8c9+VQQMkLGaws8kbAo/eQpYiv038Xxg2LDMB2wvS1Mu51T1VcDv2F8OKQ/otXRDlh9P7ZO9bu7vwOXYD1F7MIvND7VcR4WWb1ywCNNjbvuALw94cfnGBfMt13Ew9wBfYX6vNhUAV46cN8bqChBCVEbCpvANZ9H0DMw1020FznzMOE0/zzrFWV7obGAb9gJnPtB96YastZa2H5TsdXOzgWuwt0/txay4cJ4PT5+XNQIzucpW4Cxde/d2S9sPinOFns7AJuwFzgLghpHzxiywtH0hghZTYbNRo0Y0atTIdhniIJwlhi7AXDEn2r1R+cDDwzIfGBfl7YZl6Yasb4H2mB7OaJ7u15hlVi5YuiHrgyhuN2zZ6+ZmAv2IfuAsAr4FzsxeN9f3V+tZvnGBBq4HZhH9wJmHCbr9lm9cYLvHvlIj543ZDnTA9HBGezZ/AXDdyHljZPZ5FSDZA5TWng/zkHEkwakKCytHzaSMsdUwy4xcg/cD8fdhQsHNwzIfmOnxtlzXOSX9GGAecDLeTxrKx1zi8JKlG7I+9Xhbrktr2ft8zMzrJCDR483lYSZuXJG9bu4Oj7flqo7NeyhML+dozOQqLzsmNCasPQo87ATeKmN8r9F1MEsOdcX7CY5FOJPMRs4b847H26qKqtS+Y1HU84bnYTM3e1HUf/lVdFaXhM1yTMoY2xmYDdTFm9CZB6wG+g3LfOB7D9qPis4p6XGYGcXjMeEg3oPNFGAuG3jf0g1Zfl2XsVJpLXvXw4wPTsebcLAHEwpuBF7NXje3yn4AdmzeoyXwOnA83hzI5AM/AZcv37igyh28BBrfa3RvzMShmkB1DzaRD/wHGDxy3hg/Lr/kB3/+reVmL7JZh68lp3WTsOmGisLmww8/DMCDD/pmibtAEjYrMCljbC1gEjAA82biRo9U6di5ocA0Z3H5Kq9zSnozTC/LabgTOjUmkG/BrKO5MsL2fCOtZe+LgOmYcFDHhSb3YtaKXQJcl71u7q8utGldx+Y9EoD7nK8S3Amd+Zje0n8CY5dvXOCHlRUiNr7X6KOA54ALMT+fG6FzF+YA5rqR88bMc6G9Q5kvw+bTc8zFwm7p08dyJYaETZdUFDb79u0LwOzZs6NZTrAkbFZiUsbYozG9Rbdj1ogNNSCUYE7XfY85ZTdnWOYDtme+e6JzSnpbTJDujfm5Q+3BK8Tsk+9iAsG7flmw3U1pLXsnABdjThm3xYTzaiE2sxvzWk0HHs9eN/crN2v0i47Ne9TFHPDdDdTDhM5Q3rdKx/ruwlzWdLoflzZyw/heo5thzjQMcm4K9bKpezHDez7DvFe9NXLemEMikHvMl2Fz2MTHAJg03B9XG5aw6RIJm4e2SRljEzDXck4HOgInAIVa6wPCp1IqD9PDsB5zKcVXhmU+4KvFx73UOSW9HnA10B1oBxzJX71KpePwSpyvREwv5hpgMfCSc4nMmJDWsndzzBjh84FWmNBZRPmvVS3MDPOPgAXAnOx1c20vrxQVznjO8zFLSp0DNMeEoxLM66QwH/ql31cHNmLGr84FFleFCUBuGN9rdE3M63QxZjLfMUB+cUnJYYGP00BCXFwBfwXMZcBLI+eN+SK6FVd5EjaDIGHTJRI2Y8ukjLHVgVNLSvSqwNs1EB+nmgO5zrJKMa9zSnpdTA9eI0y4jMOMxfwDWLN0Q9YWi+X5RlrL3goTDE7nr/HC+/irZ/zT7HVzba9H6Qsdm/eIx0xOS8H0oNfAnPbNB74Avli+cYEfL44QdeN7jU4CWn+79fcPlVIooERrSrSm2RFHHQ/8KIuzR0TCZhBshE3PL1cphNeGZT6wB1j9z8seLu++r6NfkX8t3ZC1A3NqXByEM6nnR+dLHMTyjQuKMWcO1tuuxe9GzhuTDyzv3e7a8u77IfoVCREdMRU2mzZtarsEIYQQQsSQYxs2sF2CdTEVNsePH2+7BCGEEELEkGH9+9suwbqYuoKQEEIIIYSIrpDDplLqSqXUBqVUnlLqG6XUuV4U5oWRI0cycuRI22UIIYQQIkZMmjmTSTOrzsXplFJDlFI5SqkipdT0MvclKaWeVkr9rpTaoZR6L5g2QzqNrpTqhlnzqw9myY+jQ3m+bd9++63tEoQQQggRQ378tcot8vEzMA5zcYKyV+6bismOKcBWzIodlQp1zOYY4GGt9Qrn+5hZg08IIYQQ4lCntX4DQCmVChxbertS6hSgF3Cs1nqnc/OqA1s4UNCn0ZVS8UAqcJRS6mul1I9KqSeVUl5cr1oIIYQQQvjHmcAmYIxzGv0zpVRGME8MZcxmQ8wVNXoD52K6TtsAo8o+UCk12DnfnzP77bdD2IQQQgghhPBKYEZzvgYH+dRjgVOBHUBjYAgwQymVUtkTQzmNXnoN6Se01r84BU/ChM37Ax+otZ6KOa9v5QpCFUlJqfT1EEIIIYRwzYnHHVv5g6IoMKOFqABzadpxWut9wDKl1LvABcCGgz0x6LCptd6mlPqRgMtBlfm/7z344IO2SxBCCCFEDLmlTx/bJbhlbTm3BZUDQ1366EXgNqVUA6XU4cBQYH6IbQghhBBCCB9SSiUopRKBeCBeKZWolEoA3gO+B+5zHnM2cD7w38raDDVsjgU+Br7CdJmuAf4eYhvWDB06lKFDh9ouQwghhBAx4h/TpvGPadNslxGKUZhT5vcC/Zz/j9Ja7wUuBXpgxm0+B1yjtf6isgZDWvrI2dAtzleVs3nzZtslCCGEECKG/LZtu+0SQqK1fgh4qIL71gEdQ21TLlcphBBCCCE8I2FTCCGEEEJ4RsKmEEIIIYTwTKiXq6zS2rRpY7sEIYQQQsSQFsnJtkuwLqbC5ogRI2yXIIQQQogYcv3fLrNdgnVyGl0IIYQQQnjG857N5LRuXm8iaDfffDMAzzzzjOVKhBBCCOEVyR7+ElOn0bdv3267BCGEEELEEMkechpdCCGEEEJ4SMKmEEIIIYTwjIRNIYQQQgjhmZgas3nWWWfZLkEIIYQQMUSyR4yFzdtuu812CUIIIYSIIZI9ohA2c7MXVXifn5YmEEIIIYSItoPlJC/YyF4xNWbz2muv5dprr7VdhhBCCCFihGSPGDuNXlhYaLsE4YFWTTrVB9qdedzJFJeUUKJLiI+LIyEugVZNOrUH1q7dtKzAdp229UkdpIAmQDvgaCARUEAh8AewGvhqTs60EmtF+kRG24HVgBZAa6Ae5rUqxrxW3wOrMldP/9lagT6S3qZ/baANkAIkATWAPUA+8AWwJmvNzJ32KvSPtJa9jwba1UyogQZAo1AopUhr2ft0YF32url7bdYo3CfZI8bCpjg0tGrSqRbQF7gc8yFXFyhY9eNGtNZoNEop4pQCeAdIatWk04/AcmAGsGjtpmUxEaj6pA46Frge6A6cigmX+4DqQLzzsGJgr3NftT6pg74ElgDPzcmZtj7qRVuQ0XagAs7AvFbnAs0wwVJh3idLX6t9mNeqekbbgUXAWmAeMD1z9fTfo123Delt+lcDLgWuxrxmDTDBshrmtYoDSvjrtUpKb9P/NyAHmA28kbVm5h4LpUddWsve9YEBmNerNVATKCzYV1Tew98DEtNa9s4F3gdeAJZnr5uro1SuEJ5RWnu7H+dmL6pwA9EeN9C3b18AZs+eHdXtBknZLsDvWjXpdDJwB+bNuwSoHWITGtgN5AGPAS+s3bRsq6tF+oDTg9kVuBs4D7Nv1QixmdKgsA6YAGTNyZl2yPW4ZLQdmARcCdwDHIMJA6EOL8rHhNF5mP3qo8zV0w+5gJDepn9j4BbgVszPWyeMZnZh/nafAZ7OWjPzB/cq9I+0lr1TgbuAdMzPmxRiEyVAAbAZeBR4JXvd3Dw3azxE+fLvrrLsYWHMZtTzhoRN/5CwWYFWTTodATyH6Z1LwPSgRCofEyoeBv65dtOyfS60aV2f1EGnA3OAxkAt3NmvdmF6+frPyZn2Xxfas87pybwKeBqzH4R64FKe0oCwDuibuXp6rgttWpfepn9N4BFgsHNTogvNFmGCwQzgrqw1Mw+JIJXWsncT4GXMGZca/NUjHondzr+3A9Olp/OgfPnaSNiMsQlCXbp0oUuXLrbLECFo1aRTOvA10APT6+RG0ATT05AI3A+sadWkU4pL7VrRJ3VQ9T6pg/4OfAg0x4Qnt95Q6gBHAW/0SR00s0/qoLoutWtFRtuBjYD/As8Ch+FO0ATzfloLMyb2s4y2A2/LaDuwSr/Hprfp3wH4EjO8IBF3giaYIJYIXANsTG/T/1yX2rUirWVvlday942YA432mPcXN4ImmP2zNvAEsCStZe9jXGpXRIlkjxjr2fQ56dkM0KpJp5rATOAiQj8FFaoSTE/LyLWblv3L4225rk/qoBOB/2B6M71+rQoxwxAunZMz7QOPt+W6jLYDL8XsV4m4d+BSkTxgPdAzc/X0LR5vy1XpbfrHYYZP3II5yPNaAWaM4h1Za2YWR2F7rklr2fsI4E3gdMzBhpf2Yt6rrsteN/d1j7dVFfmyZ7My0rMZQCm1u8xXsVLqCS+LE7GpVZNOh2EGy/fA+/AE5u+gJvD3Vk06TWzVpFOVCf59Uge1Aj4GkonOa5UIHAG80yd10EVR2J5rMtoOHISZoFIH74MmmOBxOrAqo+3A46OwPVc4E4DmADcTnaCJs51rgX+nt+lfPUrbjJjTy5iDmSjlddAEs9/WBmaktex9axS2J2KQUmqIUipHKVWklJoecPvVZXJgvlJKK6XaVdZm0GFTa1279AtohDkSrVJHVn379v1z7ITwJ2em+XvAaUTvg65UEuYDdlKUtxuWPqmDWgL/w8zGj/bp2iQgs0/qoO5R3m5YnKD5ONHfp6phlpn6KKPtQN+f/kxv0z8e874erQO9QEmYiW1vprfp7/uVUtJa9m4IrASOxazuEE01gQlpLXsPifJ2RRiqYPb4GRiHOdvwJ631y2Wy4C1ALmbZvIMK9wMqA9iC+aATwhWtmnRKABYCJxP67Gm3JAGDWzXpdJ+l7QelT+qgJphQXgd7QzBqYgJnB0vbD0pG24HpmPFu0Q5PpeIxvcEfZLQdWM9SDcF6FuiGvdcqCbOCwoz0Nv19e4YhrWXvOpjliRpgbwnBJODRtJa9r7S0fXGI0lq/obXOwqy/fDADgJd0EOMxww2bQW9AiBCMANri3iSEcCUBD7Rq0inVch3l6pM6KA7T+1QX+2N9k4B/90kdFI1TiCHLaDuwMWaMZrR7NMtKwJwRetZyHRVKb9M/HbN+ra2gWSoJsy5lH8t1HMwTmB7NaAzHOJgk4Pm0lr2rzDANcWhQSjXBHBi+FMzjQw6bzgY6YZasqOgxg53z/Tmz33471E2IGNSqSacWwCjsf9CVSgReb9Wkk60e1oO5BXN1G7dmu0aqLjDZdhFlOcsbzcReL3lZNYCeGW0HXmy7kLLS2/Q/AngR//z91QKmprfp39B2IWWlteydhrmghO2D4lI1gFfSWva2feApqojAjOZ8Da78WQe4Bvif1vrbYB4cTs9mf+D9g21Aaz1Va52qtU7te7Hv3leFzzinz1/DP6EATI9hA2Cs7UIC9Ukd1BSzyLOfehJrAlf3SR3UyXYhZfTDLENju/cpUBLwUkbbgYfbLqSM57Df+1tWDWC6n06nO6fPX8E/oRxMr/npwA2W6xBVRGBGc76mhtHMNRyk07GscMJmSBvwkx49etCjRw/bZYgD3QCcgP/WfU0ChrRq0qm57UICTMVfobxUEjDLOcVvXUbbgbWAp/BXKC9VC/iH7SJKpbfp3xm4AP/tV9Uxlw710yS0MYR35SSv1QImpbXsXaXXwD1UHWrZQyl1NmapvbnBPiekDwal1FmYS7pVqVnopfr370///v1tlyECOMsM3Ys/QwGYXoM7bBcB0Cd10AnAOfjn9HlZdYE020U4rsL+eNaK1ACuyWg70C+h5V781VMXqBamPuvSWvauiTkw9svp8/IMsF2AOFBVyx5KqQSlVCLmsyZeKZWolAqcCDcAyNRa7wq2zVB7IQYAb4SyAT8pKCigoKDAdhlif+cB9W0XcRDVgIGtmnTyw4fxEPwboMCs/3e37SKcsZr34N6VgbxQAlxtu4j0Nv2PxYzB9/N+dWZ6m/7JtosArrBdQCVqAXfL2E3/qYLZYxRmect7McORCpzbcELoFYR4hjuksKm1vlFrXXXieRnXXXcd1113ne0yxP6G499ezVIasLq8SJ/UQTUw16b226nOQAo4p0/qoOMs19EBM/Pbz2oBI5xgbNPNlrcfjDjMgZZtfj+AAagHdLZcgyijqmUPrfVDWmtV5ush575CrXU9rfXiUNr0xfgqEZtaNelUGzNWzPYHbmVqY//DrjtV41JsCnMkbNNg/DfZpTxHAa0s1+D308Jgxm5eZ3OiUFrL3icDTWxtPwS1gJtsFyFEWRI2hU1tMN3zVUGLVk062Rwr2RH/96qA6XntYrmGc6ga720KONPWxtPb9G8AHGZr+yGqjlnX0pYzgapwzXaFea8Qwld8f0kwcUhrR5i9Kv2u6036FT1odtIJxMfH88zkF3nmX9MB6NW7O+MeO/ACQFf2HMz6z74Mt9a9wEnAhnAbiNB5hBmgevRNo3Ovczgu+Rji4uN4feqbzJ0678/7j2x0BFff3pvTzmxBjZo1+OPXrbzyZCYfLVkVbq1twn1ipDLaDqxBBD1QF191AV0vPZdjk48hPj6OOc9m8dqzWQA8M38iDRofecBzPs/5gtGDHwlnc7Uwwfi5cOuNUDugkDCGZlxy1YV0vfQ8jmt2LPHxcbw65Q1effbfACRUS2DAnVfS4fx21DuiLrt27OaT5Z/zwmMvs3tnXri17gVSgR/CbSBCZxHmwd7f+l9M98u60OTEY4mPj+elp17jpadfA6Ba9Wr0v/lyzu9xNkccdTg/fb+Zl56aw/8WrYyk1kZpLXvXyl43N+wXWwi3VYWjf3HoOo8wxyCmnHYyO7bvZPPPWyp8zIfvfcysaa//+fXH71vDrRPMKex2kTQQrj6pgxTmWvFhaZpyArt35vH7rwf+/HXq1ubhafdy1gVn8vOmzSyb/wGbf9hSbqgKQZ0+qYOOiqSBCJxKBL3lzVJOYNeOPP4o57Va8uZ7zH/lnT+/fvvFXMlt8w+/hl0sdnuhUglzFnozZ5/649cDr2bX+7pLuOSqC0lMSuTdt96npLiELr3O5brhEc2HqoXFXmDMQUFYp/Gbt0hm147d/Lb5wNfq5nsGcNXgv1G8r5hF85ZxxFGH88Cku0hpfVIktRZg1t0UwjdiqmczIyPDdglif2GHt/uH/h2Af00dxzHHHV3uYxa8mc28uQvD3URZtTEfdrPcajAEjYlguaOnHnwegOEThxwQIi/qm8YRDeuz9K0PeGbMCxEVGaD0w26RWw2G4HQieK0ef8CsbXzPY7cf8Fq9/txfvcGH1atDt791BmDBqxH9mE0z2g6Mz1w93cYp2nMIc8H7fz1grrp536Q7adB4/+OKRsc2AGDxm+8xffJsevRJY/C9Aw54XIjigbMjaSBCYae/R+97AoAxj4+g0TEN9rvvvAvMscak0VNYm7OeTd/8yC33XstVg//GA7eG1VsOZshBG+CDcBsQ7pLsEWNhs3fv3rZLEPvzdJ3Be0bfxqi/D+OXHzfz2qw3efnFzEiaU/US69w2oMNNt7lVX7Cqxyewp3ifJ22fekYKAIcfVY9nF04iPiGeTz78jBmPvcquHbvDbbZuUrXq7ww+J+ovFUnVapC/t8jz7VzQ+3xqJFZn7Ufr2bTxx7DbiVMqYejl5+zLeSz618k4un4dftnq/ip2C+cu4czO7eh66XnUTEqk3TmtKSwoImtGZJcuTkyodu64Sx6M+iS5Eu3dJvcU7QVM7+cXn31N8slmBEizkyOai1QdMytd+IRkjxg7jb5161a2bo3oVKpwV3UvGtUlms8+2cA7by/l/aUrOe6EY7jnodvJ6HtJRO16+aFzcN5tt049Mwwt5fTmrPnwM3Zu38W5PTpy4wMDI2rX3ivl/ZYTEuK58PLzAXj7lXciakspxb7iEjfKCplX2/0h9yc+WfEZderW5sLeXTiy0RF89dk3fP91+KEcQFv6+yvR2rPlMmY/9wYAN98zkAWrX6H7ZWZu3eFH1ouk2Tj8u0h/TJLsEYWezeS0bl5vImi33norALNnz7ZciXB48mn31hv/5a03/vvn97ePuIHrb+1H2kXnkTn7rbDbtbc+k3db3rV9FzRpxLvz3ueFCS/TrMUJjH/pAU4/61Ti4uMosRSEwhWN39HZF7an/lGH88v3m8l575MIW9MoZWfP8mq7N99/LWelncmCOdlMn/wKF/e9gAF3XMnwCUMY0f+h8Bu29Afo5WbfmvMOX63PJfWs1qAUf2zZyvCxt7Bj685Im97rRn3CHZVlDz/lJK/E1Gl04Tt7vGj0uCbH8MOmnw64PdKekTh16J0I2LTxR05ufeCl3/fu2RtR0DwUg3mpHn3NB8PbsyMfklqiISHezn7l1XaPa2ZWKPp6fS57ivay8fNcc3vTxhG1G2dpr4pTyrP+8oRqCXz52dd8+dnXANz9dxNKVq/4LJJmizGrDAjhGxI2hU2/AEeE88S/XXkxbVJPI+VUM27//AvOofGxjVjyzvv0u643desdxudrv+CwunXonHYWAG9nRRYOaiR4cta/UpF+xHa59FxOPr05TU85HoAzOrXhqKOP5OOla1jwyiK6pJ/L+b3OoXpidU46zVwV8L23l0dWs6XeurgIt9s1/TxSTj+JpqeYMXNndm5Lg6OP5KOlq/lo6WpS2pzEiS2asntnHu/Oez/iehPilLWwWa92TX7+I7wetLTLOtHi9JNJdl6n9ue3o0Hjo1j57iq++OQrmpx4LNfc3oeTTzuR1u1bArD+k68iqrd6gp2PK6UUCXFx7CsJ7+DrooyunNr2FJq3aArAWV3PoOExR/HB4o84suERdL34XL7duIkTmh/PqW1OYffOPGZNmRtJyQVAZGMWhHCZhE1h0/tAS8LIU21ST+PSyy/68/tTWjbnlJbN+fnHzbydtYiMvpeQ1v084uPj2fhFLi+/MJe3/x1R2NyxeffvV72zLnNBJI2Eq0/qoJ+B8qfdV+Lk05vT+ZK/JvKecPLxnHDy8fz2y+/kLFvDhDsfp++QDM6+sD3b/9jBv194m8zn5x2kxUrtzdtTdNicnGlR713JaDuwKfA5YY5ZSzn9JM7vdc6f3zc9+Xiannw8W375nY+WruZip1dzcdZ7FBZEPhFpb3HJR2cMH9g+4obCMG5W/1uAfxLGa9Xi9JPp0uvcP79venITmp7chC0//8aLk2ezb18xZ3RqQ5de57Jrx26WvPU/Zvzr1UjKLdpRWDBy1FsPT4qkkXCltey9FHMN+ZCd2vYULkw//8/vTzylKSee0pRff/qN9Z9+SZ26tbng0s7s3buP5UtzeH7SLH7+fnOkJedE2oAQblJRGHTtm0vs9e3bF/DtmE2/X7LRda2adLoGeIqqcWWcIqDJ2k3LIlpUMVx9UgfNAyKb4RQ9uXNypjWzsWHnWuO7MOsy+l0J8Fjm6ukjbGw8vU3/9sA7VI2rCO0ALs1aM3OZjY2ntew9BhhJ1eigKQJqZa+bWxWueOQ23+SNQD7MHlHPG1XhD8c1V18d0aLCwn1hX6LGgnxbQdOxDHMd+bAWwY+yFbY2nLl6us5oO3A9cIatGkKwG4joUjERWkvVmbWcBKyxuP2PgDygrsUagvVVjAZN35LsEYWwmZttY13n8rVINJ/TpTXFwgwwn/uCqnG9YY0JezYtBfbh/7C5G/iP5RrmY664FNalUKOoOhYX3s5aM7MgvU3/dUBrWzWE4NusNTMjnqIdgeX4/28PTK+mlaE+fuWHDFI2e9hmI/scetNrD2LL1q1sifG1rvxk7aZlxcAzmDdIP8sHrIwVC7AaOHCKvT9FNLvBBc/j/2EpGliauXp6xIPzIjQRM+zAz3ZjxpZak71u7lbMQZTf1wLTmPdU4SOSPWIsbD7ywos88sKLtssQ+3vadgFB+A0zmcmaOTnTNPAo5oPXr/YAz9uYGBQoc/X0n4HF+HT8liMPywHKYfvAIBhxgB8Gu03EHHj62fLsdXM32S5C7E+yR4yFTeE/azct+wH4H/4NBnnAhLWblvmhvlfxd49dCfCk7SIc/8T87vxqB/Cu7SKy1swsBJ7DozVvXbAXmJG1ZqYffpfLAZvjtiuzC5hguwghyiNhU/jBg/h3EeIiYJbtIgDm5EzLB/4Pf/au7AGy5+RM+8Z2IY5lwLf487RnHvBg5urpfjiAAfgXZjywH+3D9Chal71urgZG4c+DGA1sxqwuIITvSNgU1q3dtGw5MAOzGLGf5AP9125a5qcxbQ9jelf8ElRKFQKDbBdRyglyffDfeOB9mFnVvjmnlrVm5g/A3fgvROUBD2StmZlru5AAczA9nH67HGQhcHn2url+PLgSQsKm8I3hwHbbRQQoAuat3bTMVzM75+RMKwIux189wXnA4Dk507bYLiRQ5urpG4Cx+CtEFQFX+6hXs9QUYB3+6eEsATZiel19w+ndvAZ/HcTkA49lr5v7qe1ChKhITIXNy7ulcXm3NNtliHKs3bQsD9MT5ZdTxLuBm20XUZ45OdNWAU/gj9eqCHgPeM12IRX4J+Z0uh9CVB4wNHP19O9tF1JW1pqZJfirJ7gQ6JO1ZqbvlkbLXjf3F8x7gx/+/ooxq1Q8bLsQUTHJHiGGTaXUCUqpBUqpbUqpzUqpJ5VSVWZh+I6tW9OxdVVYUi42rd207H/Afdh/E88DLly7adl2y3UczP2YiVU2hx7sBb4D+jqz5X0nc/X0fcBFwFbsjt/Mx8yoft5iDQeVtWbmd8AV2B/OUgD0y1ozM7KLqXvrZWAadt+rNOZs0AXZ6+b67bS+CFDVsodSaohSKkcpVaSUml7mviuUUhuUUruUUuuVUunBtBlqz+bTwBbMNZpPx1wr9pYQ27Dmh82b+WGz7WXtxMGs3bTsceAR7L2J5wE91m5a5uurG83JmbYPSMdchclGONiD6VE5d07OtB0Wth+0zNXTfwTOAbZh5yIC+ZiF5m/04enz/WStmbkAGIi9wFkA3JS1Zua/LW0/KM7p9DswS0fZGKZRglnR4LzsdXO/s7B9EYIqmD1+BsYBLwTeqJQ6BjNhdhjmMrd3A68opRpU1mCoYbMp8JrWulBrvRlYCLQMsQ1rJs96mcmzXrZdhqjE2k3LxmJmfUYzcJZglg5JW7tp2XtR3G7YnPUsu2FOY0fztSoEvgFS5+RM+y2K2w1b5urpGzGXsPyN6C7zkwe8AvTNXD29SkzeyFoz8zXgSsw+Fc1wnA9ck7Vm5ktR3GbYnMA5EDPZK5qBcy/wB3Bm9rq566O4XRGmqpY9tNZvaK2zMPtZoGOB7Vrr/2jjbcy+36yyNkMNm/8CrlRKJTkJ9yJM4BTCVWs3LZuMmQizFe/HkeVhrhPdbu2mZdau6x0OJ3D2xCz4XoD34SAfE57OnJMzrewbka9lrp7+LdAKWIT34WCfs427gMFVJWiWylozcx5wHrAJ7w9k8oEfgbSsNTOrwiLzf3IC5+3AbZhx3l6fzs7DXLq2Vfa6uRs93pYQZeUAG5RSvZRS8c4p9CLM5+dBhRo238P0ZO7EvDnkAFllH6SUGuyc78+Z/fbbIW5CCMOZCX4i8CbefOCVYALaaCB17aZlVfLNe07OtH1zcqY9DJwJfIk3QaoAM4Tmkjk50wbNyZnm5ysZVShz9fTfMldP7wlci3kf86KXMw/4GGiZuXr6s34/dV6RrDUzVwGnYIZPeXUgU4AZx3pS1pqZyz1o33PZ6+bq7HVzXwRSgA/x5u9vL+bMy43Ahdnr5lapc7LCXwIzmvM1OJjnaa2LgZcwHQ5Fzr83aq0r3eeDDptKqThML+YbQC3gSOBwTI9K2YKmaq1TtdapfS++ONhNCHGAtZuWbVu7aVkfzMSFrzBv5JGOuyt0vrKB1ms3LXvMuU57lTYnZ9rnmJ67cZjxiW6sD7obE/SfA06ckzNtiQttWpe5evrrQHPMLPpCIj+Y0ZjX6hfgTuDszNXTq/xlA7PWzCzKWjPzbsz4/JWYcBhp790+p50coGvWmpl3ZK2ZaXtSUsSy1839ETgfuBUznnk3kQf0fMz++QZwUva6uS87valChC0wozlfU4N5nlIqDXOVqs5Adcz7wvNKqdMre24oM8nrA8cDT2qti4AipdSLmA+2ESG0I0TI1m5a9jbwdqsmnc7AnJq8FNMrVZvgDpr2YN60SzA9Nc+s3bTsR4/KtWZOzrS9wCN9Ugc9BvTC/G2ehgnotYNspnSs3i+Yg8nZc3Km+WmtSldkrp6+Beif0Xbg7Zixd8OBOkA1IDGIJkoDZjXgfcwyS9lV7ZR5MLLWzPwY6Jjepv9JmNPGAzH7VE3Mz1+ZfZj9KgEzweD/stbMPOTGGzpBcEZay94vAV0w+1RnTECvRXDvVYXO4/OBScC07HVzq9SQFXHIOh14T2ud43z/sVJqJZAGfHKwJyqtgz9IUkrlAlMxlw+rjRkYXaC1vqqi5+RmL/LNUdiq9RsAaNciBYDktG42yynLz9e89p1WTTrVxxxVnYkZW3YaJiDsw4SAOMyH4O+YGdvLMD0p/1u7aVlMLRPSJ3VQM8xs7I7Ov82du4oxr1W887UJWIFZUmkFsNavSxp5IaPtwDjM/nQmcK7z7zGYfaoY8zcajzlg2cBfr9P/nBnvMSO9Tf8kzN9fqvNvG8zs1H2Y1ycOEyx3AZ9i/v4+BpZlrZlZJYdghCutZe+jMe9R7Z1/W2D2o8C/vwTMDOCPMcPVPgZWyBWBQnbA+1Vu9iIbdeynbPawLTmt20HzhrOkZQJmiNmxwA2Yv+2zgUwgTWv9iVKqDeYMYV+t9UEvlRpq2DwdM0moNeYPZQlwm9b614qe46ewWZaEzUNHqyadFKZXKhHTvV8I5K3dtKzKn55zW5/UQfGY16omJhQUALucXlERIKPtwBqYA+ua/HX6d9eh2HsZqfQ2/WsBSUANzHiuglgLlsFIa9k7jr/+/hIw+9Tu7HVz/bKgflXmy7DpN0GEzYcwQTPQGK31Q0qpIZihQg0xq3s8pbV+rLJthhQ2w+GnsPn1Dz8AcOJxxwESNoUQQohDiC/DZtnsYVtlYdMLMXW5yqfnvMbTc/x6VT0hhBBCHGoke8RY2BRCCCGEENElYVMIIYQQQnhGwqYQQgghhPCMhE0hhBBCCOGZUBZ1r/IGXZZuuwQhhBBCxBDJHjEWNls2a2a7BCGEEELEEMkeUVhnk8ivDeuaVatWAdCuXTvLlZRL1tkUQgghwuebvBHIh9kj6nkjpsJm3759AZg9e7blSsolYVMIIYQIn2/yRiAfZg9Z1F0IIYQQQhw6JGwKIYQQQgjPSNgUQgghhBCekbAphBBCCCE84/kEodzsRb4ZsPv1Dz8AcOJxxx1wX3Jat2iXU5ZMEBJCCCHCZy1v5GYvqvC+g2UPG5LTukU9b8TUOpt++UULIYQQIjZI9oix0+ir1m9g1foNtssQQgghRIyQ7BFjPZsvL1gAQLsWKZYrEUIIIUQskOwRYz2bQgghhBAiuiRsCiGEEEIIz0jYFEIIIYQQnpGwKYQQQgghPBNTE4SG9rvadglCCCGEiCGSPULs2VRKpSilliildiilvlZKXeZVYV44rlEjjmvUyHYZQgghhIgRVS17KKWGKKVylFJFSqnpZe673sl/u5VSC5VSjYNpM+iwqZRKAN4E5gP1gcHALKXUScH/CHYt//RTln/6qe0yhBBCCBEjqmD2+BkYB7wQeKNSqjMwHrgUkwO/BWYH02Aop9FPARoDk7W5xuUSpdQHQH/ggRDaseb1RdkAdGzd2nIlQgghhIgFVS17aK3fAFBKpQLHBtzVE3hda73OuX8s8JNSqpnW+puDtRnpBCEFnHrAjUoNdrpgc2a//XaEmxBCCCGEEG4IzGjO1+BQnl7O/w/IgWWF0rP5JbAFuFspNRk4H+gEvFv2gVrrqcBUgNzsRTqEbQghhBBCCI8EZrQQLQReVUpNATYCDwIaSKrsiUH3bGqt9wLpwMXAZuAu4DXgx9DrFUIIIYQQVYXWOhsYDWQC3zlfuwgiB4Z0Gl1rvVZr3UlrfYTW+kIgGfgo1IKFEEIIIUTVorV+SmvdXGvdEBM6E4DPK3teSOtsKqVaAV9hQuotwNHA9JCrteTe6661XYIQQgghYkhVyx7O6kMJQDwQr5RKBPY5t50IrAOOw5yK/z+t9bbK2gx1glB/4BfM2M2uQDetdVGIbVjToH59GtSvb7sMIYQQQsSIKpg9RgEFwL1AP+f/o4BE4BVgN+as9nKCXI0opJ5NrfXdwN2hPMdP3v34YwDOP+MMy5UIIYQQIhZUteyhtX4IeKiCu1uF02ZMXa7yrWXvAVXnFy6EEEKIqk2yR+TrbAohhBBCCFEhCZtCCCGEEMIzEjaFEEIIIYRnJGwKIYQQQgjPxNQEodE33mi7BCGEEELEEMkeoLT2/NLlcm304KjKHyKEEEKICkjeCE7U80ZMnUafO3cuc+fOtV2GEEIIIWKEZI8YC5uZmZlkZmbaLkMIIYQQMUKyR4yFTSGEEEIIEV0SNoUQQgghhGckbAohhBBCCM9I2BRCCCGEEJ6JqaWPCgoKAKhZs6blSsolSx8JIYQQ4fNN3gjkw+wR9bwRU2HT5yRsCiGEEOGTvBEcWWfTSzNnzmTmzJm2yxBCCCFEjJDsEWNhc8GCBSxYsMB2GUIIIYSIEZI9YixsCiGEEEKI6JKwKYQQQgghPCNhUwghhBBCeEbCphBCCCGE8IznSx8ppQZrrad6upEQ+K2eUn6tSwghhKhq/PaZ6qd6bNQSjZ7NwVHYRij8Vk8pv9YlhBBCVDV++0z1Uz1Rr0VOowshhBBCCM9I2BRCCCGEEJ6JRtj0xRiFAH6rp5Rf6xJCCCGqGr99pvqpnqjXEo1rowshhBBCiBglp9GFEEIIIYRnIgqbSqnuSqkvlVJfK6XuLef+GkqpOc79K5VSJwTcd59z+5dKqQsjqSOgzaFKqXVKqc+VUrOVUokVPC5DKaWVUqnO90copd5VSu1WSj3pQh0vKKW2KKU+D7htjlLqE+frO6XUJ+U87zinjvXOz3FHKM8XQgghDjV+/0z1UfbwVSbbj9Y6rC8gHvgGSAaqA58CLco85hZgivP/K4E5zv9bOI+vATR12okPtxanzWOAb4GazvevAQPLeVwd4D1gBZDq3FYLOAe4CXgykjqc9s4D2gKfV3D/Y8CD5dx+NNA2oM6vyr6mB3u+fMmXfMmXfMnXofbl589Uv2QPv2Wysl+R9GyeCXyttc7VWu8BXgUuLfOYS4EZzv/nAl2VUsq5/VWtdZHW+lvga6e9SCUANZVSCUAS8HM5jxkLPAoUlt6gtc7TWr8feFsktNbvAVvLu8/5+a8AZpfzvF+01qud/+8CNmB25KCeL4QQQhxqqsBnqh+yhx8z2Z8iCZvHAD8EfP8jZX6JgY/RWu8DdgBHBPnckGitfwImAt8DvwA7tNbvBD5GKdUWOE5r/XYk24rQucCvWuuNB3uQ073dBlgZzvOFEEKIGGD1M9VH2cNXmaysQ2aCkFLqcEw6bwo0BmoppfoF3B8HTALuslPhn/pSyRGUUqo2kAncqbXeGerzhRBCiBhh9TO1CmUPqyIJmz8BxwV8f6xzW7mPcbqX6wJ/BPncUKUB32qtf9Na7wXeAM4KuL8OcCqwVCn1HdABmFc6UDcanNfgb8CcgzymGuaP4mWt9RuhPl8IIYSIBT75TPVL9vBbJttPJGHzY6C5UqqpUqo6ZrDpvDKPmQcMcP7fG1iizWjUecCVzsyopkBz4KMIagHThd1BKZXkjEHoihmfAYDWeofW+kit9Qla6xMwg3R7aa1zItxuKNKAL7TWP5Z3p1P3NGCD1npSqM8XQgghYogfPlP9kj38lsn2E3bYdM73DwH+i3lhX9Nar1NKPayU6uU8bBpwhFLqa2AYcK/z3HWYGVvrgYXArVrr4vB/DNBar8QMeF0NfIb52aaWqadCzhHHJGCgUupHpVSLcGtRSs0GlgMnO20Ncu66kjLd9UqpxkqpBc63ZwP9gS4BSzL0CHj4Ac8XQgghDmV+/kz1S/bwWyYrS64gJIQQQgghPHPITBASQgghhBD+I2FTCCGEEEJ4RsKmEEIIIYTwjIRNIYQQQgjhGQmbQgghhBDCMxI2hRBCCCGEZyRsCiGEEEIIz0jYFEIIIYQQnpGwKYQQQgghPCNhUwghhBBCeEbCphBCCCGE8IyETSGEEEII4RkJm0IIIYQQwjMSNoUQQgghhGckbAohhBBCCM9I2BRCCCGEEJ6RsCmEEEIIITwjYVMIIYQQQnhGwqaokFKqhVIqRymlwnjubUqpRw9y/wlKKa2U2q2UGhxZpbFNKTXIeR21UupE2/UIIfxD3serBqXUSc7rWKyUut52PW6LubCplPpOKZVW5raBSqn3bdXkBaXUQ0qpWRE2MxaYqLXWTpv/UkptU0otV0odG7Ctq5RSj5d57nPA1UqpBpVso57WemqZ2psqpUqUUs9EWL/nlFJDlVKblVI7lVIvKKVqHOSxXZVSXyil8pVS7yqlmgTcd4xS6k2l1Fal1I9KqZsC7jvJue835/7/KqVOLr1faz1Na13bu59SiNA47wk5zofnL0qp/yilznHue8gJKFcEPD7Bue2EgNvOUkotUUrtUkrtUEq9pZRq4dx3tdP2bqVUgfN+Ufr97qj/wB6R93HvKaUGKKVWOe/hPyqlJiilEg7y+C5KqdXO43PLhmznddyklMpTSmUppeoH3Jfi7NM7lFJfK6UuK71Pa/2V8z7+P09+UMtiLmx6TSkVX+b7CnfaCp5f6eNDbTMcSqmjgfOBLOf7M4F2QCPgfeBe5/a6wN3AqMDna60Lgf8A14Sx+WuAbUCfg4U325RSF2Jeh65AEyAZGFPBY48E3gAeAOoDOcCcgIfMAr4FGgIXA+OVUuc799UD5gEnO/d/BLzp7k8jhDuUUsOAfwHjMfvr8cDTwKUBD9sKjCn7fhnQRkfgHcx+3hhoCnwKfKCUStZav6y1ru18OF8E/Fz6vRsHXvI+bsTC+ziQBNwJHAm0x7yfDy/vgUqpasC/gWeBukAfYJJSqrVzf0vnvv6YfT8fs++X/r7fBOZjPgMGA7OUUid59HP5i9Y6pr6A74C0MrcNBN4/yHNOARZh3iC/BK4IuG868AywAMgD0pxt3AOsBYqABKAXsA7YDiwFUsrUtN/jy6lBA7cCG4Fvndv+D/gB2AmsAs51bu8O7AH2AruBT53b6wLTgF+An4BxQHwFP/M1QHbA932AfwS0v8D5/5PAVRW0cTXwbgX3neD8TAllblfAN8DNwK9A74Dt55R57FBg3v+3d+bRdlX1Hf98HySEITSRRARCSUFEZEhAAihjYQFh0lgRCKAp2LqUtra1lmKRQVus2qVQW1mONSIGGRQKOMSsAtaBITIFAgJJhIZ5EBCkYCC//rH3fTnvvnveuy/vnne4N9/PWnu9ffb+nX1+v3v2+d3fHs59Ob8ZcHX+LBZn20rvaYf60gLgU4Xjg4HHSmQ/APyicLwx8H+5b22SP4uphfqvAN8qaet1WX6zFn3kjXU/Y07rbso+5gXgPUPInAN8mxQ8zstl6+f+Oz0f/xS4oMW5PwQubCo7EHioDd3sx+3H2+nDHwGuLqnbPNu7UaFsMTA35z8FLCjUbZfv4URg53wfVaj/MfBPTde4HvizsbR5LJJnNodB0sYkB7UAeD1wPHBBYzkncwJwLqlDNZbj55JmqCaRZrwuJo2eppIc2tWSxhfa6JePiFdK1JlDGnk1rr0YmEkKPhYAl0maEBE/InX6SyKN9Gdk+fnAK8Abgd2AQ4GyvSG7kBxyg6XAfpI2JAVVSyXtAewQEQtK2rgHmFFSV8a+wDTgO8ClwLxcfjWwg6TtC7InkOwG+CLpS+IN+Zx5tImkfSU9O0Tat+TUnUhfmA3uADaXtNlwshHxO5Iz3onkmCn8beR3Lrnu/qSg9unhrTNmTHkbMIE0+zMUQZrlPzvPFvUjaSPg7cBlLc67FDhkpErZj/djPz48+5M+p0FExOOkPnCypPXyDPw2rOkvzX5+OSnYLJu9HMrP9xZ1R7tjnUijzxdII9NGepGS0RNpJPbTprIvA2fn/HwGj7QfAE4pHJ8JXFo47iONSA9sJV+iRwAHDSPzDDAj588BLirUbU4abW9YKJtL+Yj1q8Cnm8r+lvQgXUJytr8AdgQ+DPwPabZiUkF+e+DVkvan03pE/DXgypx/G2lU//p8fBFwVqHt50lLIOtluR0K7YzFzOZyYHbheByF2Zkm2a+3+Dx/Dvxpzv8M+HfSF/Xu5NmXFu1My31nbkkf8cymU22JNAvWcna/INPvm4CbSLNf/TObuY8H8OYW584GVjWVHcgwM5vYjxfL7MfLP/tTgIeAKUPIHE2arX0lpz8v1P038MEm+YdzHx0HrABOy/lDSYHowib56/HMZs8wJyImNRJw6hCy2wB7FUdIJIf6hoLMyhbnFcu2BB5sHETE6ly/1TBtDNUmkj4q6Z682fhZ0vLKlCHsGAc8WrDjy6RRfiueIY3w+4mI8yJiRkQcBxxLckx9pCXig0kj4NMLp0wEnmvDroY9GwLvITk7IuIG4H9JI19Io9+5OX8CyZm9SHKY6zPw82nn8xwtLwCbFo4b+efbkG3IN2RPJO1LW0lazruI5PT6kTSVtOxyQURcPCrNjamGp4EpI9iP+HHgDNIgq8EzwGpgixbyWwBPrYVe9uNr9LYfb4GkOcC/AIdHRMs+JunNpNna9wHjSTOZp0k6MouU+vmIWEWa1T4SeAz4O9Ks70OsA6yrweZIWAn8pBicRlrS+FBBJlqcVyx7hOQkAJAkYGvSiGeoNkrblLQfaYR0LDA5B83PsWYptrm9laQR8ZSCHZtGxE4l11pCydS/pM1JjumTpCWAJflBWgzsWhDdkYHLzMPxLtKDeYHSG96PkRx5YyllETBV0kySs2osvTxJGmFOK7S1dbsXlbSfCm+ytkj7lZy6lIHLSzOAx6P18vYA2byst10uJyIejIijImJqROxF+rK5uSA/mRRoXhUR57ZrmzFjzA0kPzOnHeGIWAQsozDgj7TF5AZSwNLMsaTZo5FiP96E/fiAc2eTZoGPjog7h7jMzsB9EbEwIlZHxL3A90kvqcFgP78tsAFwH0BELImIAyJis4g4jLQ142bWARxsDs81wJskvVfSuJxmSdpxBG1cChyp9NM340gjmpdJyxdry0TSg/kksL6ksxg4onocmC6pDyAiHiUFK5+TtKmkPknbSTqgpP1FwO6SJrSo+zxwTh6N/hqYJWkT0lLBioLcAaQN/e0yD/hP0j6jmTntA8yQtEt2hJcB/0ra37Qo2/Yq6U3vcyRtlEefbb89GRE/jcKbrC1S2U9RXAi8X+l37CaRZmnml8heAews6d35Mz2L5Nx/Bf0/iTFR0nhJJ5GWWD6f6zYFFgI/j4jTS9o3pnYi4jlS3/6ipDn5eRwn6XBJny057QxSwFXkdGCepA/n52KypH8mLcm2/MWHYbAfH4z9OOmnjEizsO+OiOECv9uA7ZV+/kiStgOOIgX15HaOzoHvxqRA/nsR8Xy+1q6SJmT7PkqaqZ/fro3djIPNYcid5FDShvJHSNPfnyGNVtpt417gJNKevKdIez6Ojojfj0K1hcCPSCOmB4GXGLjk0Nhc/7SkW3O+MfV/N2l55XJaL1URaSP0tQz8uZLGgzkpIq7IcjeTRnYrST+x8eksNwE4AvhmO8ZI2oq0hHN+RDxWSLdkOxuj4gWkN0Uvi4Eb8P+StPz0GPAt0ibulwvtL5V0Yju6tEukDfyfBa4jLRM9CJzd6poR8STwbtILCM+QXhA4vtDcYSQH/wzwQdJe0Cdz3buAWaRN6cWR+h920h5jOkFEfI70Ru/HSUHUStLzeWWJ/M9pmt2JiJ+Rnok/Ib11/SDpZZh9I+L+tdDJfryA/fgAzszX/EHBt/YH10q/EfuP0P/CzynAF0hvzP8E+C5pjyoRsZTkv78NPEEaTBS36b2X1J+fIH1Oh0TEy6wDKKKdWX+zLqL0puY3gT1jhB1F0l8BW0dE84xFo34b0luSLwF/HxFfHa2+Te1/BnhDRLT9NmO3Iulk4DzSvre3RMSKYU4xxqwj2I93B0pv6C8mDSROjYj59WrUWRxsmp4gL7mMB+4kzQL+gPRG35V16mWMMaY97Md7l8r/g4ExY8RE0pLLlqR9Tp/D/2XHGGO6CfvxHsUzm8YYY4wxpjL8gpAxxhhjjKkMB5vGGGOMMaYyKt+zOXHD18Wrq1flozX/+rk/pxZlhSMNqlRbcs1Sg6Q1QLyk7aJ6ra66Rqj11bJcqY2tdWolp9YKD25PalmuEgVVctHB7Q6+eyUfTdNnM7BkcF359VpoOKCu/JwWZ5UdlihUZttAAZXaM6BYJZWtdGrrQ239/LSWLdg0uFO1ea2yD7wdHcQdd9+zMCJml5xtxhj7ZIawsbVOreTskwfXVe6Tx9AfD76mffJoqDzYfHX1Krbf4q0ASH30NR4KiT71of4HMR2vqWuU9zUdl8kNbK9P6r8h7cr1SS1ky9rQwDYG1DHgnH45ms9hgA5D1a3RgzbbWCOX9Fijk8QAWwa00XSd5vOKciqtG1hebLOVHY18q/YG6dt8Xt/wbdBsV9/Q12rk800bpGcjjzTo+sU6KFyrpc5rvi3U0LGv6TjdpP5zaPpM6WuSK+jEkG0ISvQYWK6Sa7W4TsHmwgfJZjNmlf3rPVMD9sn2yV3rk6v2x+kGFK5tn9wpvIxujDHGGGMqw8GmMcYYY4ypDAebxhhjjDGmMhxsGmOMMcaYynCwaYwxxhhjKsPBpjHGGGOMqQwHm8YYY4wxpjIcbBpjjDHGmMpwsGmMMcYYYyrDwaYxxhhjjKkMB5vGGGOMMaYyHGwaY4wxxpjKcLBpjDHGGGMqw8GmMcYYY4ypDAebxhhjjDGmMhxsGmOMMcaYylBEVHsB6UfAlA43OwV4qsNtvhboRbt60SboTbuqsumpiJhdQbtmLajIJ4+WXnyeivS6fWAbu4kx98mVB5tVIOmXEbFH3Xp0ml60qxdtgt60qxdtMt1Br/e9XrcPbKMZGi+jG2OMMcaYynCwaYwxxhhjKqNbg82v1K1ARfSiXb1oE/SmXb1ok+kOer3v9bp9YBvNEHTlnk1jjDHGGNMddOvMpjHGGGOM6QJqDzYlzZZ0r6Rlkk5vUb+BpEty/U2SpufyEyXdXkirJc3MddfnNht1rx9bq9qya39Jt0p6RdIxTXXzJN2f07xC+Vsl3Znb/IIkjYUtTbqtlV2SZkq6QdJSSUskHVeomy/p14X7NXOMzGlcfzT36tWC3lcVyv8o99dluf+OHwtbmnRb23v1x03P1kuS5uS6Wu+V6R0kbS3pOkl3Z7/w13Xr1GkkTZB0s6Q7so2fqFunKpC0nqTbJF1Tty5VIOmB/N17u6Rf1q1PVxIRtSVgPWA5sC0wHrgDeEuTzKnAl3L+eOCSFu3sAiwvHF8P7PEat2s6sCtwIXBMofx1wIr8d3LOT851NwN7AwJ+CBzeRXa9Cdg+57cEHgUm5eP5RdlusSnXvVDS7qXA8Tn/JeBD3WRXU3/8DbBR3ffKqbcSsAWwe85PBO5r7qPdnrKv3iTnxwE3AXvXrVcFdn4EWABcU7cuFdn3ADClbj26OdU9s7knsCwiVkTE74HvAO9sknkn8M2cvxw4uMWM3tx87muFYe2KiAciYgmwuuncw4BFEfGbiHgGWATMlrQFsGlE3Bip918IzKnakCbW2q6IuC8i7s/5R4AngKljo/aQjOZetST3z4NI/RVS/53TMY3bo1N2HQP8MCJerE5Vsy4SEY9GxK05/zxwD7BVvVp1lki8kA/H5dRTL0pImgYcCXytbl3Ma5e6g82tgJWF44cY7Gz6ZSLiFeA5YLMmmeOAi5vKvpGnvM+sYbm5HbtGeu5WOb82bXaK0djVj6Q9SbNtywvF5+bl9fMkbTA6NUfEaG2aIOmXkm5sLDWT+uezub+uTZudoCP3irSa0Pxs1XWvTI+St0ftRpr56ynyEvPtpAH2oojoNRvPB06jzcF4lxLAjyXdIukDdSvTjdQdbI4aSXsBL0bEXYXiEyNiF2C/nN5bi3JmEHmG9lvAyRHRcE4fA94MzCIt2/5DTeqtDdtE+o8SJwDnS9quboU6Rb5XuwALC8XdfK/MaxBJmwDfBf4mIn5btz6dJiJejYiZwDRgT0k716xSx5B0FPBERNxSty4Vs29E7A4cDvyFpP3rVqjbqDvYfBjYunA8LZe1lJG0PvAHwNOF+kEzLxHxcP77PGkfyZ4d1Xp42rFrpOc+nPNr02anGI1dSNoU+D5wRkTc2CjPy2kRES8D32Bs79eobCr0tRWkvcK7kfrnpNxfR9xmhxiVXZljgSsiYlWjoOZ7ZXoMSeNIgea3I+J7detTJRHxLHAdMKb/k7pi9gHeIekB0ladgyRdVK9Knafg558ArsB+b8TUHWwuBrbPb+6OJwWOVzXJXAU03sg+Brg271lEUh/pC7F/v6ak9SVNyflxwFHAXYwt7dhVxkLgUEmTJU0GDgUWRsSjwG8l7Z23BbwP+K8qlB+CtbYry18BXBgRlzfVbZH/irS3cSzv12hsmtxYRs59bh/g7tw/ryP1V0j9t2vuVYG5NA3kar5XpofIfejrwD0R8fm69akCSVMlTcr5DYFDgF/VqlQHiYiPRcS0iJhO8jHXRsRJNavVUSRtLGliI0/6TrbfGyl1v6EEHEF6C3E5acYL4JPAO3J+AnAZsIz0Nva2hXMPBG5sam9j4BZgCbAU+DdgvdegXbNI++h+R5oJW1o495Rs7zLScnOjfA9SJ18O/Af5R/m7wS7gJGAVcHshzcx11wJ3ZtsuIr+92QU2vT3rfUf++/5Cm9vm/ros998NuuVe5brppJnQvqY2a71XTr2TgH1Je+GWFHzCEXXr1WEbdwVuyzbeBZxVt04V2nogPfg2evbld+S0tOFLnUaW/B+EjDHGGGNMZdS9jG6MMcYYY3oYB5vGGGOMMaYyHGwaY4wxxpjKcLBpjDHGGGMqw8GmMcYYY4ypDAebxhhjjDGmMhxsGmOMMcaYynCwaYwxxhhjKuP/ASQM2yDnYTOnAAAAAElFTkSuQmCC\n",
          "text/plain": "<Figure size 792x648 with 5 Axes>"
         },
         "metadata": {},
         "output_type": "display_data"
        }
       ]
      }
     },
     "74e28c51dedc410dad4baa27c89e191d": {
      "model_module": "@jupyter-widgets/controls",
      "model_module_version": "1.5.0",
      "model_name": "DescriptionStyleModel",
      "state": {
       "description_width": ""
      }
     },
     "74f52b141a3f4ad2a25c1e2fd76c9e96": {
      "model_module": "@jupyter-widgets/controls",
      "model_module_version": "1.5.0",
      "model_name": "HTMLModel",
      "state": {
       "layout": "IPY_MODEL_da0b6c417e5d4c48a3d00ebd9b817a9f",
       "style": "IPY_MODEL_3c3bdf2648c2412d8ddfdca9c6cca4cf",
       "value": "<h5>32</h5>"
      }
     },
     "7521476610ba45ccb99698a3f59d69af": {
      "model_module": "@jupyter-widgets/controls",
      "model_module_version": "1.5.0",
      "model_name": "DescriptionStyleModel",
      "state": {
       "description_width": ""
      }
     },
     "75428e56d323478b8311a6724df3df38": {
      "model_module": "@jupyter-widgets/controls",
      "model_module_version": "1.5.0",
      "model_name": "HTMLModel",
      "state": {
       "layout": "IPY_MODEL_26facf4c6d46479a873c6bd3c9ba0bc2",
       "style": "IPY_MODEL_be70d18f165b43c59aa1e656e3ce9721",
       "value": "<h5>32</h5>"
      }
     },
     "75cbd7993e964a029f2fd1b0f86503cf": {
      "model_module": "@jupyter-widgets/controls",
      "model_module_version": "1.5.0",
      "model_name": "HTMLModel",
      "state": {
       "layout": "IPY_MODEL_6bb6705dbb06430ca5a3a7a1cb829aa0",
       "style": "IPY_MODEL_b7f29eb68c0542f69969c5e0fd68cd37",
       "value": "<h5>0.0334</h5>"
      }
     },
     "763a02e7ab6848a399fc3bc0b9a9525f": {
      "model_module": "@jupyter-widgets/controls",
      "model_module_version": "1.5.0",
      "model_name": "DescriptionStyleModel",
      "state": {
       "description_width": ""
      }
     },
     "76790064be7a4232beb41e08784acd92": {
      "model_module": "@jupyter-widgets/base",
      "model_module_version": "1.2.0",
      "model_name": "LayoutModel",
      "state": {
       "grid_area": "bottom",
       "width": "auto"
      }
     },
     "767a6dcb0f2c4a22b3bc71612278bfd6": {
      "model_module": "@jupyter-widgets/controls",
      "model_module_version": "1.5.0",
      "model_name": "ProgressStyleModel",
      "state": {
       "bar_color": "#71cddd",
       "description_width": ""
      }
     },
     "770c31ee33414d108bdcf55ae5c4071b": {
      "model_module": "@jupyter-widgets/base",
      "model_module_version": "1.2.0",
      "model_name": "LayoutModel",
      "state": {
       "width": "95px"
      }
     },
     "77337ec35d6c45c3805fc117d02f2399": {
      "model_module": "@jupyter-widgets/controls",
      "model_module_version": "1.5.0",
      "model_name": "DescriptionStyleModel",
      "state": {
       "description_width": ""
      }
     },
     "7a33656039e84b42a750cfccb75d1f21": {
      "model_module": "@jupyter-widgets/controls",
      "model_module_version": "1.5.0",
      "model_name": "DescriptionStyleModel",
      "state": {
       "description_width": ""
      }
     },
     "7af203374697410480e0945fc4d78391": {
      "model_module": "@jupyter-widgets/controls",
      "model_module_version": "1.5.0",
      "model_name": "IntProgressModel",
      "state": {
       "layout": "IPY_MODEL_3d994f7f10664566a14bf2fc17848589",
       "max": 50,
       "style": "IPY_MODEL_b6ac885fc28840cfac3f46683abf4b91",
       "value": 19
      }
     },
     "7bc875eb86234d6b9d5282f775374b6b": {
      "model_module": "@jupyter-widgets/controls",
      "model_module_version": "1.5.0",
      "model_name": "HTMLModel",
      "state": {
       "layout": "IPY_MODEL_070204ebc7e247d3983c3a4e0ade6820",
       "style": "IPY_MODEL_a85ad79f804a481f9a71eda90c7087c7",
       "value": "<h5 style='color:#dc267f'>False</h5>"
      }
     },
     "7bca00cc44714c6caef0fcb0f346fc28": {
      "model_module": "@jupyter-widgets/base",
      "model_module_version": "1.2.0",
      "model_name": "LayoutModel",
      "state": {
       "grid_gap": "0px 0px",
       "grid_template_areas": "\n                                                   \"top top top\"\n                                                   \"left middle right\"\n                                                   ",
       "grid_template_columns": "33% 33% 33%",
       "grid_template_rows": "auto auto"
      }
     },
     "7be6d0d933ed465c97385104395fe931": {
      "model_module": "@jupyter-widgets/controls",
      "model_module_version": "1.5.0",
      "model_name": "DescriptionStyleModel",
      "state": {
       "description_width": ""
      }
     },
     "7c2f742fda7941f0b10566ad2905ccd1": {
      "model_module": "@jupyter-widgets/base",
      "model_module_version": "1.2.0",
      "model_name": "LayoutModel",
      "state": {
       "min_width": "auto"
      }
     },
     "7cc18a74d1144bcfa9d0dad0156814db": {
      "model_module": "@jupyter-widgets/base",
      "model_module_version": "1.2.0",
      "model_name": "LayoutModel",
      "state": {}
     },
     "7d5303e28473436b8de2c5ae5cc8f7d5": {
      "model_module": "@jupyter-widgets/base",
      "model_module_version": "1.2.0",
      "model_name": "LayoutModel",
      "state": {}
     },
     "7d685ddca2ca4e86a77b829eee9636c5": {
      "model_module": "@jupyter-widgets/controls",
      "model_module_version": "1.5.0",
      "model_name": "HTMLModel",
      "state": {
       "layout": "IPY_MODEL_80b12e6d4fd74e699f28b2a2adada5ec",
       "style": "IPY_MODEL_94bc9280956a4c959cb89d127dea8745",
       "value": "<div><font style='font-weight:bold'>last_update_date</font>: 2021-09-13 08:40:07+00:00</div>"
      }
     },
     "7de4d0b375834be7a1e3026b0078a267": {
      "model_module": "@jupyter-widgets/base",
      "model_module_version": "1.2.0",
      "model_name": "LayoutModel",
      "state": {}
     },
     "7e4f8f57b9734679b38f8314fa41fbac": {
      "model_module": "@jupyter-widgets/base",
      "model_module_version": "1.2.0",
      "model_name": "LayoutModel",
      "state": {
       "grid_area": "left",
       "width": "100%"
      }
     },
     "7f1c246d8d044e08983dda806d22d6a4": {
      "model_module": "@jupyter-widgets/controls",
      "model_module_version": "1.5.0",
      "model_name": "DescriptionStyleModel",
      "state": {
       "description_width": ""
      }
     },
     "7faa2f2632dc4be8b545dcbf91a518a9": {
      "model_module": "@jupyter-widgets/controls",
      "model_module_version": "1.5.0",
      "model_name": "HTMLMathModel",
      "state": {
       "layout": "IPY_MODEL_7e4f8f57b9734679b38f8314fa41fbac",
       "style": "IPY_MODEL_e36799e4ef8a44ca9f13c2991753fabb",
       "value": "<table><style>\ntable {\n    border-collapse: collapse;\n    width: auto;\n}\n\nth, td {\n    text-align: left;\n    padding: 8px;\n}\n\ntr:nth-child(even) {background-color: #f6f6f6;}\n</style><tr><th>Property</th><th>Value</th></tr><tr><td><font style='font-weight:bold'>n_qubits</font></td><td>20</td></tr><tr><td><font style='font-weight:bold'>quantum_volume</font></td><td>32</td></tr><tr><td><font style='font-weight:bold'>operational</font></td><td>True</td></tr><tr><td><font style='font-weight:bold'>status_msg</font></td><td></td></tr><tr><td><font style='font-weight:bold'>pending_jobs</font></td><td>0</td></tr><tr><td><font style='font-weight:bold'>backend_version</font></td><td>1.2.2</td></tr><tr><td><font style='font-weight:bold'>basis_gates</font></td><td>['id', 'u1', 'u2', 'u3', 'cx']</td></tr><tr><td><font style='font-weight:bold'>max_shots</font></td><td>8192</td></tr><tr><td><font style='font-weight:bold'>max_experiments</font></td><td>900</td></tr></table>"
      }
     },
     "7fb7f5853d8b47b48acd4ade65f0836a": {
      "model_module": "@jupyter-widgets/controls",
      "model_module_version": "1.5.0",
      "model_name": "HBoxModel",
      "state": {
       "children": [
        "IPY_MODEL_9640166c3c584782b4b93f49b437f0c9",
        "IPY_MODEL_5d0aaa2204b04946a0b6e8b8f41232f2",
        "IPY_MODEL_d2266e17252c4c9e93b49b875cf22e1b"
       ],
       "layout": "IPY_MODEL_8cba2016253d4798848eb5cdba7f2e53"
      }
     },
     "808e604c143f4c57b953d732d660008c": {
      "model_module": "@jupyter-widgets/controls",
      "model_module_version": "1.5.0",
      "model_name": "HTMLMathModel",
      "state": {
       "layout": "IPY_MODEL_465d3740896747628e8f255ba26169a3",
       "style": "IPY_MODEL_c64d99a688f7496e8e1ae3e654a82b0c",
       "value": "<table><style>\ntable {\n    border-collapse: collapse;\n    width: auto;\n}\n\nth, td {\n    text-align: left;\n    padding: 8px;\n}\n\ntr:nth-child(even) {background-color: #f6f6f6;}\n</style><tr><th>Property</th><th>Value</th></tr><tr><td><font style='font-weight:bold'>n_qubits</font></td><td>7</td></tr><tr><td><font style='font-weight:bold'>quantum_volume</font></td><td>32</td></tr><tr><td><font style='font-weight:bold'>operational</font></td><td>True</td></tr><tr><td><font style='font-weight:bold'>status_msg</font></td><td>internal</td></tr><tr><td><font style='font-weight:bold'>pending_jobs</font></td><td>41</td></tr><tr><td><font style='font-weight:bold'>backend_version</font></td><td>1.0.1</td></tr><tr><td><font style='font-weight:bold'>basis_gates</font></td><td>['id', 'rz', 'sx', 'x', 'cx', 'reset']</td></tr><tr><td><font style='font-weight:bold'>max_shots</font></td><td>2048</td></tr><tr><td><font style='font-weight:bold'>max_experiments</font></td><td>4</td></tr></table>"
      }
     },
     "80b12e6d4fd74e699f28b2a2adada5ec": {
      "model_module": "@jupyter-widgets/base",
      "model_module_version": "1.2.0",
      "model_name": "LayoutModel",
      "state": {
       "grid_area": "top"
      }
     },
     "81204c31c6994a13b0369dca7a4a6411": {
      "model_module": "@jupyter-widgets/base",
      "model_module_version": "1.2.0",
      "model_name": "LayoutModel",
      "state": {}
     },
     "813c181e77024376b312079aebd25d2c": {
      "model_module": "@jupyter-widgets/controls",
      "model_module_version": "1.5.0",
      "model_name": "DescriptionStyleModel",
      "state": {
       "description_width": ""
      }
     },
     "83f00894ac674024b391238e5d7aba7f": {
      "model_module": "@jupyter-widgets/controls",
      "model_module_version": "1.5.0",
      "model_name": "HTMLModel",
      "state": {
       "layout": "IPY_MODEL_37b38937ee934e399f29393bfb9f65cc",
       "style": "IPY_MODEL_9c611d076eae4e99ad3a83895978ac67",
       "value": "<h5><b>5</b></h5>"
      }
     },
     "845b264d541d42fdb32a8c6f37ab0b90": {
      "model_module": "@jupyter-widgets/controls",
      "model_module_version": "1.5.0",
      "model_name": "TabModel",
      "state": {
       "_titles": {
        "0": "Configuration",
        "1": "Qubit Properties",
        "2": "Multi-Qubit Gates",
        "3": "Error Map",
        "4": "Job History"
       },
       "children": [
        "IPY_MODEL_9a548b362c1d4424b67e6fb0bfcd9931",
        "IPY_MODEL_606e6bf53250441ab1a6951c22a972cc",
        "IPY_MODEL_db1e0d164c9947faadc653ae4e1d6bbf",
        "IPY_MODEL_9f32d9ab8d5f4b7ea117564f05a84ae9",
        "IPY_MODEL_b32def55700c4b29be4373ac852a9d6b"
       ],
       "layout": "IPY_MODEL_3c70e3e03e3143a29cc282da93117943"
      }
     },
     "849de9817d124970a17b629ea9d69a5b": {
      "model_module": "@jupyter-widgets/base",
      "model_module_version": "1.2.0",
      "model_name": "LayoutModel",
      "state": {}
     },
     "84c01e611f9b4ecdb418fb97155ac4a9": {
      "model_module": "@jupyter-widgets/base",
      "model_module_version": "1.2.0",
      "model_name": "LayoutModel",
      "state": {
       "grid_gap": "0px 0px",
       "grid_template_areas": "\n                               \"left right right right\"\n                               \"bottom bottom bottom bottom\"\n                               ",
       "grid_template_columns": "31% 23% 23% 23%",
       "grid_template_rows": "auto auto"
      }
     },
     "85be32b9dfc047588ceec04a6a014f21": {
      "model_module": "@jupyter-widgets/controls",
      "model_module_version": "1.5.0",
      "model_name": "DescriptionStyleModel",
      "state": {
       "description_width": ""
      }
     },
     "87309fd00af3454097a358fd08199374": {
      "model_module": "@jupyter-widgets/controls",
      "model_module_version": "1.5.0",
      "model_name": "LabelModel",
      "state": {
       "layout": "IPY_MODEL_ddf7d7194d3b467ca31bb31b33233b62",
       "style": "IPY_MODEL_0e3621ff846f41828d24ec146bfe9858",
       "value": "165"
      }
     },
     "87b831d9ec7b48cab80ba2b3bf072a6a": {
      "model_module": "@jupyter-widgets/controls",
      "model_module_version": "1.5.0",
      "model_name": "ProgressStyleModel",
      "state": {
       "bar_color": "#71cddd",
       "description_width": ""
      }
     },
     "8a0e710c80e0434a92a02ac43a8b8d97": {
      "model_module": "@jupyter-widgets/base",
      "model_module_version": "1.2.0",
      "model_name": "LayoutModel",
      "state": {
       "justify_content": "center"
      }
     },
     "8a2a6f26e95a46d4b3c0792405a633d5": {
      "model_module": "@jupyter-widgets/controls",
      "model_module_version": "1.5.0",
      "model_name": "HTMLModel",
      "state": {
       "layout": "IPY_MODEL_593378d7ae0045e2ae89f1f17a5b3cd9",
       "style": "IPY_MODEL_32d056d6f3ca4b029a3e3d8ba00243a4",
       "value": "<h5>144.0 / 250.8 us</h5>"
      }
     },
     "8a5e4d78c3ed4442aa87719e10ff8156": {
      "model_module": "@jupyter-widgets/controls",
      "model_module_version": "1.5.0",
      "model_name": "HBoxModel",
      "state": {
       "children": [
        "IPY_MODEL_07d8eb1dc51f4b71ab867e4829dae04c",
        "IPY_MODEL_4b2a80593eb94396a1e1855246000629",
        "IPY_MODEL_06823e050df548c78b260d937a5eecc2"
       ],
       "layout": "IPY_MODEL_f128f849693745a1aa3888dd3e46912b"
      }
     },
     "8a5f4ca278794a2e8c1ba18a12ce003e": {
      "model_module": "@jupyter-widgets/base",
      "model_module_version": "1.2.0",
      "model_name": "LayoutModel",
      "state": {
       "margin": "10px 0px 0px 0px"
      }
     },
     "8be494f715d541f399b04b23058c2d74": {
      "model_module": "@jupyter-widgets/base",
      "model_module_version": "1.2.0",
      "model_name": "LayoutModel",
      "state": {
       "width": "95px"
      }
     },
     "8c3adf692db844d1ad942a6ee4eab4bf": {
      "model_module": "@jupyter-widgets/controls",
      "model_module_version": "1.5.0",
      "model_name": "DescriptionStyleModel",
      "state": {
       "description_width": ""
      }
     },
     "8c6ae0567aef437fa46cd9c8ab245d59": {
      "model_module": "@jupyter-widgets/controls",
      "model_module_version": "1.5.0",
      "model_name": "HBoxModel",
      "state": {
       "children": [
        "IPY_MODEL_d647de7f32c243319b38e05c316a4287",
        "IPY_MODEL_7af203374697410480e0945fc4d78391",
        "IPY_MODEL_5c0b1677a0f742d3852ceade81c43c2d"
       ],
       "layout": "IPY_MODEL_fda42d372e6046b8aa9ff796fa2e42e8"
      }
     },
     "8c7b95a82219437db9865a1919e4939b": {
      "model_module": "@jupyter-widgets/controls",
      "model_module_version": "1.5.0",
      "model_name": "DescriptionStyleModel",
      "state": {
       "description_width": ""
      }
     },
     "8c8b54653860496eba3920854bb4b7c6": {
      "model_module": "@jupyter-widgets/base",
      "model_module_version": "1.2.0",
      "model_name": "LayoutModel",
      "state": {}
     },
     "8cba2016253d4798848eb5cdba7f2e53": {
      "model_module": "@jupyter-widgets/base",
      "model_module_version": "1.2.0",
      "model_name": "LayoutModel",
      "state": {
       "justify_content": "center",
       "max_width": "250px",
       "min_width": "250px"
      }
     },
     "8d336c297e0247f1b7c4071f17b4bcf5": {
      "model_module": "@jupyter-widgets/output",
      "model_module_version": "1.0.0",
      "model_name": "OutputModel",
      "state": {
       "layout": "IPY_MODEL_f5df65e72fa341199e98087a06883d57",
       "outputs": [
        {
         "data": {
          "image/png": "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\n",
          "text/plain": "<Figure size 360x360 with 1 Axes>"
         },
         "metadata": {},
         "output_type": "display_data"
        }
       ]
      }
     },
     "8e6ab33f66da4ca79e5d5b129f1ee1a2": {
      "model_module": "@jupyter-widgets/controls",
      "model_module_version": "1.5.0",
      "model_name": "DescriptionStyleModel",
      "state": {
       "description_width": ""
      }
     },
     "8f36addf1a844b0084d5dc1d45bb107e": {
      "model_module": "@jupyter-widgets/controls",
      "model_module_version": "1.5.0",
      "model_name": "GridBoxModel",
      "state": {
       "children": [
        "IPY_MODEL_73fea8998ac14ebab9a104478f493549",
        "IPY_MODEL_c74dbda437e743caa7ea660654609688",
        "IPY_MODEL_8f5cc7c534de423aa2fb875cd2014c10",
        "IPY_MODEL_46d1e41ad45a4382a0e3c1cc9770a0e0",
        "IPY_MODEL_fe694a74223540eaa03787ee5414f342",
        "IPY_MODEL_c102c4fcf66c419b8646a2d1d28795b2",
        "IPY_MODEL_d31f5831476b4330a67b3364f8fba66b",
        "IPY_MODEL_14453614d62847ffbf9be196400e7d63"
       ],
       "layout": "IPY_MODEL_5976c8bc7cd14dc9be95b4e76de7ac63"
      }
     },
     "8f5757cc8e314bc19bdd5f78c8489530": {
      "model_module": "@jupyter-widgets/controls",
      "model_module_version": "1.5.0",
      "model_name": "HTMLModel",
      "state": {
       "layout": "IPY_MODEL_5a3bc777454b46e28e12b342659aeb0d",
       "style": "IPY_MODEL_7462c34330554f8c92f5a1a54b518f64",
       "value": "<h5>146.8 / 163.5 us</h5>"
      }
     },
     "8f5cc7c534de423aa2fb875cd2014c10": {
      "model_module": "@jupyter-widgets/controls",
      "model_module_version": "1.5.0",
      "model_name": "VBoxModel",
      "state": {
       "children": [
        "IPY_MODEL_a28339201bab4f1f8780d7c2bff68943",
        "IPY_MODEL_044147f067714a35af913debc0834a77",
        "IPY_MODEL_83f00894ac674024b391238e5d7aba7f",
        "IPY_MODEL_5239cc065beb473f80288fd9a720c57a",
        "IPY_MODEL_d6fce80390304a148bbabb2fcc0bf120",
        "IPY_MODEL_5f1c3c08cab44b6297d256438ef7d30f",
        "IPY_MODEL_b46c4d5dbc0c45d8adcdba4d1f540807",
        "IPY_MODEL_b6d8462d8ad14e04b12cf753cbbf7852",
        "IPY_MODEL_30070f8da5e34a4ca4161dc7e21c2a8e",
        "IPY_MODEL_4ac9438dc20349ad9c800c0847814508"
       ],
       "layout": "IPY_MODEL_fb4a116d43084f3e964783821b4820a6"
      }
     },
     "902ec9ad679e490e8966a26d4d5dd013": {
      "model_module": "@jupyter-widgets/controls",
      "model_module_version": "1.5.0",
      "model_name": "HBoxModel",
      "state": {
       "children": [
        "IPY_MODEL_ab26ef7f8214441d879b2f850f933d53",
        "IPY_MODEL_976eab5c123f4b70ab8cf1e32a9b40d5",
        "IPY_MODEL_0de59f82650041388ecf77168d6c3f0e",
        "IPY_MODEL_fa337e9ff94945e7904dbbd554f871f2",
        "IPY_MODEL_fb02b277fb4a4fcf980d54a17bfcec44",
        "IPY_MODEL_9771c8adb3214967abefbcb60405d14c"
       ],
       "layout": "IPY_MODEL_d606b29f7dcf47a1b81f28093afb743f"
      }
     },
     "9048e51da8c7478e81ddfa8125764a42": {
      "model_module": "@jupyter-widgets/base",
      "model_module_version": "1.2.0",
      "model_name": "LayoutModel",
      "state": {
       "justify_content": "center",
       "max_width": "250px",
       "min_width": "250px"
      }
     },
     "9053955c43ce44218bb13f2dc69f22ba": {
      "model_module": "@jupyter-widgets/base",
      "model_module_version": "1.2.0",
      "model_name": "LayoutModel",
      "state": {
       "justify_content": "center"
      }
     },
     "907b6659f5124257b62772e3f6aa0fc7": {
      "model_module": "@jupyter-widgets/controls",
      "model_module_version": "1.5.0",
      "model_name": "DescriptionStyleModel",
      "state": {
       "description_width": ""
      }
     },
     "909de93536cc481ba2df225f3a51867b": {
      "model_module": "@jupyter-widgets/controls",
      "model_module_version": "1.5.0",
      "model_name": "HTMLModel",
      "state": {
       "layout": "IPY_MODEL_2cba8aeb47b8440e8e72e699eb8a58da",
       "style": "IPY_MODEL_d6554fe2f27a4f7f89f8a2919ffe601f",
       "value": "<h5>Backend</h5>"
      }
     },
     "909fb60555224d0386c9333b7425df1b": {
      "model_module": "@jupyter-widgets/base",
      "model_module_version": "1.2.0",
      "model_name": "LayoutModel",
      "state": {}
     },
     "91a32eccb9434248a96cf73602fc5ea0": {
      "model_module": "@jupyter-widgets/controls",
      "model_module_version": "1.5.0",
      "model_name": "HTMLModel",
      "state": {
       "layout": "IPY_MODEL_6b17c238fab04969a0ddbe346b292b5f",
       "style": "IPY_MODEL_a7469effa66a44d88d6c96e23d795295",
       "value": "<h4>ibmq_armonk</h4>"
      }
     },
     "91f0c9be8aa449579d92b4f8f822ddeb": {
      "model_module": "@jupyter-widgets/controls",
      "model_module_version": "1.5.0",
      "model_name": "DescriptionStyleModel",
      "state": {
       "description_width": ""
      }
     },
     "9247adfba3174c5a8fcc2ee199718d63": {
      "model_module": "@jupyter-widgets/base",
      "model_module_version": "1.2.0",
      "model_name": "LayoutModel",
      "state": {}
     },
     "92520602a63f4a6da92ec675c27bf307": {
      "model_module": "@jupyter-widgets/controls",
      "model_module_version": "1.5.0",
      "model_name": "DescriptionStyleModel",
      "state": {
       "description_width": ""
      }
     },
     "937918dbe6694feebf4e7da2b6b6494c": {
      "model_module": "@jupyter-widgets/controls",
      "model_module_version": "1.5.0",
      "model_name": "LabelModel",
      "state": {
       "layout": "IPY_MODEL_945a030c3ba24794afcb0de580ece7cc",
       "style": "IPY_MODEL_25f41d35e57f40c48e3ea191b5403a77",
       "value": "Operational"
      }
     },
     "9433d039c0554018984a54f3404d2232": {
      "model_module": "@jupyter-widgets/controls",
      "model_module_version": "1.5.0",
      "model_name": "HTMLModel",
      "state": {
       "layout": "IPY_MODEL_f29702d1723b4c2d94bcfcd16ff76977",
       "style": "IPY_MODEL_4c12e8a66cd0468c986f8126c3435c4f",
       "value": "<h5>90.7 / 114.3 us</h5>"
      }
     },
     "9459e8a011f84ca9aa730fb829bf33cb": {
      "model_module": "@jupyter-widgets/base",
      "model_module_version": "1.2.0",
      "model_name": "LayoutModel",
      "state": {
       "min_width": "auto"
      }
     },
     "945a030c3ba24794afcb0de580ece7cc": {
      "model_module": "@jupyter-widgets/base",
      "model_module_version": "1.2.0",
      "model_name": "LayoutModel",
      "state": {
       "margin": "5px 0px 0px 0px"
      }
     },
     "949b43a671114748a44e3d6c894e0253": {
      "model_module": "@jupyter-widgets/base",
      "model_module_version": "1.2.0",
      "model_name": "LayoutModel",
      "state": {
       "justify_content": "center"
      }
     },
     "94bc9280956a4c959cb89d127dea8745": {
      "model_module": "@jupyter-widgets/controls",
      "model_module_version": "1.5.0",
      "model_name": "DescriptionStyleModel",
      "state": {
       "description_width": ""
      }
     },
     "95709ce8d8574fa2adbd86bf8d2afbca": {
      "model_module": "@jupyter-widgets/controls",
      "model_module_version": "1.5.0",
      "model_name": "HTMLModel",
      "state": {
       "layout": "IPY_MODEL_41d1ec2758934b64b1f54d400f0660b1",
       "style": "IPY_MODEL_907b6659f5124257b62772e3f6aa0fc7",
       "value": "<h1 style='color:#ffffff;background-color:#000000;padding-top: 1%;padding-bottom: 1%;padding-left: 1%; margin-top: 0px'>fake_johannesburg</h1>"
      }
     },
     "95f45aa9798a40a481675e93a7a2a3f2": {
      "model_module": "@jupyter-widgets/base",
      "model_module_version": "1.2.0",
      "model_name": "LayoutModel",
      "state": {
       "align_items": "center",
       "justify_content": "center",
       "margin": "0px 0px 0px 0px",
       "max_height": "250px",
       "max_width": "250px",
       "min_height": "250px",
       "min_width": "250px"
      }
     },
     "9640166c3c584782b4b93f49b437f0c9": {
      "model_module": "@jupyter-widgets/controls",
      "model_module_version": "1.5.0",
      "model_name": "LabelModel",
      "state": {
       "layout": "IPY_MODEL_19d18cd9dba540e286c48cce5246c2bf",
       "style": "IPY_MODEL_96ea2198dc9a41c7b9b7cf8d5a93ceed",
       "value": "13"
      }
     },
     "96a09f6d9cf14e4598345ade7dc21aaf": {
      "model_module": "@jupyter-widgets/base",
      "model_module_version": "1.2.0",
      "model_name": "LayoutModel",
      "state": {
       "margin": "8px 0px 0px 0px"
      }
     },
     "96ea2198dc9a41c7b9b7cf8d5a93ceed": {
      "model_module": "@jupyter-widgets/controls",
      "model_module_version": "1.5.0",
      "model_name": "DescriptionStyleModel",
      "state": {
       "description_width": ""
      }
     },
     "976eab5c123f4b70ab8cf1e32a9b40d5": {
      "model_module": "@jupyter-widgets/controls",
      "model_module_version": "1.5.0",
      "model_name": "HTMLModel",
      "state": {
       "layout": "IPY_MODEL_a4001c8971294ef4b1fafc7f9aeb2406",
       "style": "IPY_MODEL_b81321a2826d44e28402a6399a7c6eb1",
       "value": "613f10ade3f915b111349621"
      }
     },
     "9771c8adb3214967abefbcb60405d14c": {
      "model_module": "@jupyter-widgets/controls",
      "model_module_version": "1.5.0",
      "model_name": "HTMLModel",
      "state": {
       "layout": "IPY_MODEL_045d7dd8159a4c7d9a823e335e965c16",
       "style": "IPY_MODEL_8c7b95a82219437db9865a1919e4939b",
       "value": "job has been cancelled"
      }
     },
     "985fdca09a5d4bbfa5b1d938c61158fe": {
      "model_module": "@jupyter-widgets/controls",
      "model_module_version": "1.5.0",
      "model_name": "DescriptionStyleModel",
      "state": {
       "description_width": ""
      }
     },
     "989d10d26e294e6c8bfc7bfab7c63312": {
      "model_module": "@jupyter-widgets/base",
      "model_module_version": "1.2.0",
      "model_name": "LayoutModel",
      "state": {
       "align_items": "center",
       "display": "inline-flex",
       "flex_flow": "column"
      }
     },
     "98c4fe96057a403381c9c145e5b8e699": {
      "model_module": "@jupyter-widgets/controls",
      "model_module_version": "1.5.0",
      "model_name": "ProgressStyleModel",
      "state": {
       "bar_color": "#71cddd",
       "description_width": ""
      }
     },
     "9a548b362c1d4424b67e6fb0bfcd9931": {
      "model_module": "@jupyter-widgets/controls",
      "model_module_version": "1.5.0",
      "model_name": "GridBoxModel",
      "state": {
       "children": [
        "IPY_MODEL_808e604c143f4c57b953d732d660008c",
        "IPY_MODEL_1755ef4ec8a243258e215ee653b0629b",
        "IPY_MODEL_49122ae376864e948fe624f3439e3c44"
       ],
       "layout": "IPY_MODEL_84c01e611f9b4ecdb418fb97155ac4a9"
      }
     },
     "9ae9075dac2f4680a89cd26d13fa2ed3": {
      "model_module": "@jupyter-widgets/base",
      "model_module_version": "1.2.0",
      "model_name": "LayoutModel",
      "state": {
       "max_height": "620px"
      }
     },
     "9b308218442048a7b3a6fa826234c22d": {
      "model_module": "@jupyter-widgets/base",
      "model_module_version": "1.2.0",
      "model_name": "LayoutModel",
      "state": {
       "max_width": "180px"
      }
     },
     "9b4effacebf446bda92f0952f855a5ed": {
      "model_module": "@jupyter-widgets/controls",
      "model_module_version": "1.5.0",
      "model_name": "HTMLModel",
      "state": {
       "layout": "IPY_MODEL_cc55867775fd487e8abec3d2c8c0c2f1",
       "style": "IPY_MODEL_e3d4a32ee28d45b89032d8ffaa9a766f",
       "value": "<table><style>\ntable {\n    border-collapse: collapse;\n    width: auto;\n}\n\nth, td {\n    text-align: left;\n    padding: 8px;\n}\n\ntr:nth-child(even) {background-color: #f6f6f6;};\n</style><tr><th></th><th>Type</th><th>Gate error</th></tr><tr><td><font style='font-weight:bold'>cx0_1</font></td><td>cx</td><td>0.01345</td></tr><tr><td><font style='font-weight:bold'>cx0_5</font></td><td>cx</td><td>0.01872</td></tr><tr><td><font style='font-weight:bold'>cx1_0</font></td><td>cx</td><td>0.01345</td></tr><tr><td><font style='font-weight:bold'>cx1_2</font></td><td>cx</td><td>0.02611</td></tr><tr><td><font style='font-weight:bold'>cx2_1</font></td><td>cx</td><td>0.02611</td></tr><tr><td><font style='font-weight:bold'>cx2_3</font></td><td>cx</td><td>0.03695</td></tr><tr><td><font style='font-weight:bold'>cx3_2</font></td><td>cx</td><td>0.03695</td></tr><tr><td><font style='font-weight:bold'>cx3_4</font></td><td>cx</td><td>0.02886</td></tr><tr><td><font style='font-weight:bold'>cx4_3</font></td><td>cx</td><td>0.02886</td></tr><tr><td><font style='font-weight:bold'>cx4_9</font></td><td>cx</td><td>0.02049</td></tr><tr><td><font style='font-weight:bold'>cx5_0</font></td><td>cx</td><td>0.01872</td></tr><tr><td><font style='font-weight:bold'>cx5_6</font></td><td>cx</td><td>0.02532</td></tr><tr><td><font style='font-weight:bold'>cx5_10</font></td><td>cx</td><td>0.03206</td></tr><tr><td><font style='font-weight:bold'>cx6_5</font></td><td>cx</td><td>0.02532</td></tr><tr><td><font style='font-weight:bold'>cx6_7</font></td><td>cx</td><td>0.04163</td></tr><tr><td><font style='font-weight:bold'>cx7_6</font></td><td>cx</td><td>0.04163</td></tr></table>"
      }
     },
     "9c611d076eae4e99ad3a83895978ac67": {
      "model_module": "@jupyter-widgets/controls",
      "model_module_version": "1.5.0",
      "model_name": "DescriptionStyleModel",
      "state": {
       "description_width": ""
      }
     },
     "9c97a9eb47dd472c8c1e56aec6515f9b": {
      "model_module": "@jupyter-widgets/controls",
      "model_module_version": "1.5.0",
      "model_name": "DescriptionStyleModel",
      "state": {
       "description_width": ""
      }
     },
     "9cc9595a14b54b29baaf9d9baad9617c": {
      "model_module": "@jupyter-widgets/base",
      "model_module_version": "1.2.0",
      "model_name": "LayoutModel",
      "state": {
       "justify_content": "center"
      }
     },
     "9dcc4f34f8f849f68644a23bfea3b386": {
      "model_module": "@jupyter-widgets/controls",
      "model_module_version": "1.5.0",
      "model_name": "DescriptionStyleModel",
      "state": {
       "description_width": ""
      }
     },
     "9dfc0c0b40ca4ea98e023745addfe703": {
      "model_module": "@jupyter-widgets/base",
      "model_module_version": "1.2.0",
      "model_name": "LayoutModel",
      "state": {
       "align_items": "center",
       "justify_content": "center",
       "margin": "0px 0px 0px 0px",
       "max_height": "250px",
       "max_width": "250px",
       "min_height": "250px",
       "min_width": "250px"
      }
     },
     "9dfe8a49947a472ca571ae07397f5515": {
      "model_module": "@jupyter-widgets/base",
      "model_module_version": "1.2.0",
      "model_name": "LayoutModel",
      "state": {
       "justify_content": "center"
      }
     },
     "9eb5cd93a7924cab9d1d103d8d3097dd": {
      "model_module": "@jupyter-widgets/controls",
      "model_module_version": "1.5.0",
      "model_name": "DescriptionStyleModel",
      "state": {
       "description_width": ""
      }
     },
     "9f32d9ab8d5f4b7ea117564f05a84ae9": {
      "model_module": "@jupyter-widgets/output",
      "model_module_version": "1.0.0",
      "model_name": "OutputModel",
      "state": {
       "layout": "IPY_MODEL_121c39850f9745cfb81457a237a65ca6",
       "outputs": [
        {
         "data": {
          "image/png": "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\n",
          "text/plain": "<Figure size 792x648 with 5 Axes>"
         },
         "metadata": {},
         "output_type": "display_data"
        }
       ]
      }
     },
     "9f3c8af9313d4b5783973d32a4acfbf2": {
      "model_module": "@jupyter-widgets/base",
      "model_module_version": "1.2.0",
      "model_name": "LayoutModel",
      "state": {
       "width": "70px"
      }
     },
     "a084907c32844f76a380cbe33eaf7873": {
      "model_module": "@jupyter-widgets/base",
      "model_module_version": "1.2.0",
      "model_name": "LayoutModel",
      "state": {
       "width": "190px"
      }
     },
     "a09cc71d44934e23b13ed46b4c216812": {
      "model_module": "@jupyter-widgets/controls",
      "model_module_version": "1.5.0",
      "model_name": "HTMLModel",
      "state": {
       "layout": "IPY_MODEL_d989781b6f64414e89957c2733cf85bb",
       "style": "IPY_MODEL_674cd5684d334aea82a1de6ce110ff89",
       "value": "<h5>32</h5>"
      }
     },
     "a1c3febcc3574ea3971b5c4fdd9d5ed5": {
      "model_module": "@jupyter-widgets/base",
      "model_module_version": "1.2.0",
      "model_name": "LayoutModel",
      "state": {
       "justify_content": "center"
      }
     },
     "a2423c88235c44dc856deffdf00ab712": {
      "model_module": "@jupyter-widgets/controls",
      "model_module_version": "1.5.0",
      "model_name": "DescriptionStyleModel",
      "state": {
       "description_width": ""
      }
     },
     "a28339201bab4f1f8780d7c2bff68943": {
      "model_module": "@jupyter-widgets/controls",
      "model_module_version": "1.5.0",
      "model_name": "HTMLModel",
      "state": {
       "layout": "IPY_MODEL_cf6f8e53bf6241aca8c7c78cd4464b0a",
       "style": "IPY_MODEL_3c00e9415b9e42ebbda623b3ae6419aa",
       "value": "<h4>ibmq_quito</h4>"
      }
     },
     "a353b1398b4843bebc73a12a0b3b2758": {
      "model_module": "@jupyter-widgets/base",
      "model_module_version": "1.2.0",
      "model_name": "LayoutModel",
      "state": {
       "border": "4px solid #000000",
       "max_height": "650px",
       "min_height": "650px",
       "overflow_y": "hidden"
      }
     },
     "a36980c6a620478d88c1d4673bf43d80": {
      "model_module": "@jupyter-widgets/base",
      "model_module_version": "1.2.0",
      "model_name": "LayoutModel",
      "state": {}
     },
     "a377363d49a74846945d4e8a63e18cb7": {
      "model_module": "@jupyter-widgets/controls",
      "model_module_version": "1.5.0",
      "model_name": "DescriptionStyleModel",
      "state": {
       "description_width": ""
      }
     },
     "a4001c8971294ef4b1fafc7f9aeb2406": {
      "model_module": "@jupyter-widgets/base",
      "model_module_version": "1.2.0",
      "model_name": "LayoutModel",
      "state": {
       "width": "190px"
      }
     },
     "a52abe597c6b45c19abee6ca2adf80da": {
      "model_module": "@jupyter-widgets/controls",
      "model_module_version": "1.5.0",
      "model_name": "HTMLModel",
      "state": {
       "layout": "IPY_MODEL_fd1a377d32d54704acc855db2fddfa82",
       "style": "IPY_MODEL_c29bae2c213248818d1be195d6df5f8b",
       "value": "<p style='font-family: IBM Plex Sans, Arial, Helvetica, sans-serif; font-size: 20px; font-weight: medium;'>Circuit Properties</p>"
      }
     },
     "a56abae6ece04f4ea11cba69447685fd": {
      "model_module": "@jupyter-widgets/base",
      "model_module_version": "1.2.0",
      "model_name": "LayoutModel",
      "state": {}
     },
     "a6007b7eb3ae4eebbf1357edcbe7e30b": {
      "model_module": "@jupyter-widgets/base",
      "model_module_version": "1.2.0",
      "model_name": "LayoutModel",
      "state": {
       "width": "145px"
      }
     },
     "a610580433704fb9a82f812c63145846": {
      "model_module": "@jupyter-widgets/base",
      "model_module_version": "1.2.0",
      "model_name": "LayoutModel",
      "state": {
       "justify_content": "center"
      }
     },
     "a630ee2754054a9aac6a667e0e9d69f6": {
      "model_module": "@jupyter-widgets/controls",
      "model_module_version": "1.5.0",
      "model_name": "HTMLModel",
      "state": {
       "layout": "IPY_MODEL_33574638d9c348899fee1a530f5b266d",
       "style": "IPY_MODEL_715c395be0fa4c06a752be7b0b4643fa",
       "value": "<h5>NA</h5>"
      }
     },
     "a69f47bb94dd4700b65b4df4381ac0ae": {
      "model_module": "@jupyter-widgets/controls",
      "model_module_version": "1.5.0",
      "model_name": "LabelModel",
      "state": {
       "layout": "IPY_MODEL_8a5f4ca278794a2e8c1ba18a12ce003e",
       "style": "IPY_MODEL_74e28c51dedc410dad4baa27c89e191d",
       "value": "Avg. T1 / T2"
      }
     },
     "a6cb6f6363a3420cbc89deab3637fc7c": {
      "model_module": "@jupyter-widgets/controls",
      "model_module_version": "1.5.0",
      "model_name": "DescriptionStyleModel",
      "state": {
       "description_width": ""
      }
     },
     "a7469effa66a44d88d6c96e23d795295": {
      "model_module": "@jupyter-widgets/controls",
      "model_module_version": "1.5.0",
      "model_name": "DescriptionStyleModel",
      "state": {
       "description_width": ""
      }
     },
     "a74f1d43ff524ba693065e497f216bc6": {
      "model_module": "@jupyter-widgets/output",
      "model_module_version": "1.0.0",
      "model_name": "OutputModel",
      "state": {
       "layout": "IPY_MODEL_3b725dac9ea842298210f29a79a40f74",
       "outputs": [
        {
         "data": {
          "image/png": "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\n",
          "text/plain": "<Figure size 360x360 with 1 Axes>"
         },
         "metadata": {},
         "output_type": "display_data"
        }
       ]
      }
     },
     "a78c48950dfb417a8e13482aa8eb4838": {
      "model_module": "@jupyter-widgets/controls",
      "model_module_version": "1.5.0",
      "model_name": "HTMLModel",
      "state": {
       "layout": "IPY_MODEL_f901671ff8d143c1a49f024b793f93aa",
       "style": "IPY_MODEL_fcb726a312394346b30e55a6235733ff",
       "value": "<table><style>\ntable {\n    border-collapse: collapse;\n    width: auto;\n}\n\nth, td {\n    text-align: left;\n    padding: 8px;\n}\n\ntr:nth-child(even) {background-color: #f6f6f6;};\n</style><tr><th></th><th>Type</th><th>Gate error</th></tr><tr><td><font style='font-weight:bold'>cx7_8</font></td><td>cx</td><td>0.01868</td></tr><tr><td><font style='font-weight:bold'>cx7_12</font></td><td>cx</td><td>0.02643</td></tr><tr><td><font style='font-weight:bold'>cx8_7</font></td><td>cx</td><td>0.01868</td></tr><tr><td><font style='font-weight:bold'>cx8_9</font></td><td>cx</td><td>0.02868</td></tr><tr><td><font style='font-weight:bold'>cx9_4</font></td><td>cx</td><td>0.02049</td></tr><tr><td><font style='font-weight:bold'>cx9_8</font></td><td>cx</td><td>0.02868</td></tr><tr><td><font style='font-weight:bold'>cx9_14</font></td><td>cx</td><td>0.03955</td></tr><tr><td><font style='font-weight:bold'>cx10_5</font></td><td>cx</td><td>0.03206</td></tr><tr><td><font style='font-weight:bold'>cx10_11</font></td><td>cx</td><td>0.01839</td></tr><tr><td><font style='font-weight:bold'>cx10_15</font></td><td>cx</td><td>0.02979</td></tr><tr><td><font style='font-weight:bold'>cx11_10</font></td><td>cx</td><td>0.01839</td></tr><tr><td><font style='font-weight:bold'>cx11_12</font></td><td>cx</td><td>0.02652</td></tr><tr><td><font style='font-weight:bold'>cx12_7</font></td><td>cx</td><td>0.02643</td></tr><tr><td><font style='font-weight:bold'>cx12_11</font></td><td>cx</td><td>0.02652</td></tr><tr><td><font style='font-weight:bold'>cx12_13</font></td><td>cx</td><td>0.01666</td></tr></table>"
      }
     },
     "a840c2f01fe940f3b843faff24669e4f": {
      "model_module": "@jupyter-widgets/controls",
      "model_module_version": "1.5.0",
      "model_name": "DescriptionStyleModel",
      "state": {
       "description_width": ""
      }
     },
     "a85ad79f804a481f9a71eda90c7087c7": {
      "model_module": "@jupyter-widgets/controls",
      "model_module_version": "1.5.0",
      "model_name": "DescriptionStyleModel",
      "state": {
       "description_width": ""
      }
     },
     "a8d27a244eeb4712b84d6545d1514f67": {
      "model_module": "@jupyter-widgets/base",
      "model_module_version": "1.2.0",
      "model_name": "LayoutModel",
      "state": {
       "margin": "0px 5px 0px 0px",
       "width": "32px"
      }
     },
     "a9fd51f19886480087a996ea9f35d590": {
      "model_module": "@jupyter-widgets/base",
      "model_module_version": "1.2.0",
      "model_name": "LayoutModel",
      "state": {
       "align_items": "center",
       "justify_content": "center",
       "margin": "0px 0px 0px 0px",
       "max_height": "250px",
       "max_width": "250px",
       "min_height": "250px",
       "min_width": "250px"
      }
     },
     "aa2492a3f501420dacf4a7c4526cd647": {
      "model_module": "@jupyter-widgets/controls",
      "model_module_version": "1.5.0",
      "model_name": "HTMLModel",
      "state": {
       "layout": "IPY_MODEL_22192a9f87f1494e84f0f38f1925f616",
       "style": "IPY_MODEL_1ba0c76d56f44b93a5f00270dd0f9eed",
       "value": "<h5 style='color:#34bc6e'>True</h5>"
      }
     },
     "aae6923fdd5c4e42b04903d132748243": {
      "model_module": "@jupyter-widgets/base",
      "model_module_version": "1.2.0",
      "model_name": "LayoutModel",
      "state": {
       "justify_content": "center"
      }
     },
     "ab26ef7f8214441d879b2f850f933d53": {
      "model_module": "@jupyter-widgets/controls",
      "model_module_version": "1.5.0",
      "model_name": "ButtonModel",
      "state": {
       "icon": "close",
       "layout": "IPY_MODEL_a8d27a244eeb4712b84d6545d1514f67",
       "style": "IPY_MODEL_b411a09672a4417c96ce3d87dcd05af5"
      }
     },
     "ab342361f9f54c9ca3b8fa367d9dcae3": {
      "model_module": "@jupyter-widgets/base",
      "model_module_version": "1.2.0",
      "model_name": "LayoutModel",
      "state": {}
     },
     "ace63653e2414228ac45f2c73dc23db3": {
      "model_module": "@jupyter-widgets/controls",
      "model_module_version": "1.5.0",
      "model_name": "HTMLModel",
      "state": {
       "layout": "IPY_MODEL_00fc84de9ce245e1be499e42bec17d1c",
       "style": "IPY_MODEL_58899fe7eb0749219dddcdd6582c062a",
       "value": "<h5>Status</h5>"
      }
     },
     "ad9e6d21136a4729a98c7ed811955573": {
      "model_module": "@jupyter-widgets/controls",
      "model_module_version": "1.5.0",
      "model_name": "HTMLModel",
      "state": {
       "layout": "IPY_MODEL_4700586199724cd8b31a68567b7e338b",
       "style": "IPY_MODEL_afa72c01ea8f4e66a5237b164dde4615",
       "value": "<h5>16</h5>"
      }
     },
     "adf0689dc1574d1fa5b8806199f3d1e7": {
      "model_module": "@jupyter-widgets/base",
      "model_module_version": "1.2.0",
      "model_name": "LayoutModel",
      "state": {
       "justify_content": "center"
      }
     },
     "aed8c7b872644a9290c9461ddcd8bce6": {
      "model_module": "@jupyter-widgets/controls",
      "model_module_version": "1.5.0",
      "model_name": "DescriptionStyleModel",
      "state": {
       "description_width": ""
      }
     },
     "af0ecfc278dd433b8212044ff2dc81ba": {
      "model_module": "@jupyter-widgets/controls",
      "model_module_version": "1.5.0",
      "model_name": "VBoxModel",
      "state": {
       "children": [
        "IPY_MODEL_479e5220a3664240aba0b9b95e2e5d67",
        "IPY_MODEL_5abd7ade919a408193dc547e47578549"
       ],
       "layout": "IPY_MODEL_d41a18f088934a248bc3732e5b1d65bb"
      }
     },
     "af226bbd408c41ebb11556fe0206219a": {
      "model_module": "@jupyter-widgets/controls",
      "model_module_version": "1.5.0",
      "model_name": "GridBoxModel",
      "state": {
       "children": [
        "IPY_MODEL_15b8503e77c24d2f9ab2da02d630ea2d",
        "IPY_MODEL_9b4effacebf446bda92f0952f855a5ed",
        "IPY_MODEL_a78c48950dfb417a8e13482aa8eb4838",
        "IPY_MODEL_2d2f723431214219aac181335b289ecc"
       ],
       "layout": "IPY_MODEL_4d5a8425b2594390bc59c575fc2057be"
      }
     },
     "af273156d2254458a9a270f5cf1ead81": {
      "model_module": "@jupyter-widgets/controls",
      "model_module_version": "1.5.0",
      "model_name": "HTMLModel",
      "state": {
       "layout": "IPY_MODEL_9247adfba3174c5a8fcc2ee199718d63",
       "style": "IPY_MODEL_1cd878a77fc54484ab7245e2f87d3148",
       "value": "<h5>0.0078</h5>"
      }
     },
     "afa72c01ea8f4e66a5237b164dde4615": {
      "model_module": "@jupyter-widgets/controls",
      "model_module_version": "1.5.0",
      "model_name": "DescriptionStyleModel",
      "state": {
       "description_width": ""
      }
     },
     "b00ea8a184f249d89c2b0abc066c7aef": {
      "model_module": "@jupyter-widgets/controls",
      "model_module_version": "1.5.0",
      "model_name": "HTMLModel",
      "state": {
       "layout": "IPY_MODEL_164418d4dd134a11b680cdc6683a4094",
       "style": "IPY_MODEL_a840c2f01fe940f3b843faff24669e4f",
       "value": "ibm_perth"
      }
     },
     "b026502510bd4076a01174d955db2410": {
      "model_module": "@jupyter-widgets/base",
      "model_module_version": "1.2.0",
      "model_name": "LayoutModel",
      "state": {
       "overflow_x": "scroll"
      }
     },
     "b1702c4576714b33b4276fb8e9c5b829": {
      "model_module": "@jupyter-widgets/base",
      "model_module_version": "1.2.0",
      "model_name": "LayoutModel",
      "state": {
       "align_items": "center",
       "display": "inline-flex",
       "flex_flow": "column"
      }
     },
     "b1fcbbfdb5784001b700430539cec757": {
      "model_module": "@jupyter-widgets/controls",
      "model_module_version": "1.5.0",
      "model_name": "ProgressStyleModel",
      "state": {
       "bar_color": "#71cddd",
       "description_width": ""
      }
     },
     "b320126fce464b6687938435d5aef03e": {
      "model_module": "@jupyter-widgets/controls",
      "model_module_version": "1.5.0",
      "model_name": "HBoxModel",
      "state": {
       "children": [
        "IPY_MODEL_00db3096724a4bc086f25a47de98ef83",
        "IPY_MODEL_646c7e1143f344bb8b676741bcfda8b7",
        "IPY_MODEL_3edf538251244813b5cb6b60daf7b56a",
        "IPY_MODEL_05d82c4ed2e34436b38cf4466df40ccd",
        "IPY_MODEL_664d74dbd5e74d7a9b5f322360d59b63",
        "IPY_MODEL_cb4015a321744ce9b07afcb11d485f52"
       ],
       "layout": "IPY_MODEL_3218c3eb803c4f418f5600b723e4fa0b"
      }
     },
     "b32def55700c4b29be4373ac852a9d6b": {
      "model_module": "@jupyter-widgets/controls",
      "model_module_version": "1.5.0",
      "model_name": "TabModel",
      "state": {
       "layout": "IPY_MODEL_e1c41e7f3794472b96ec87e2b402fe6e"
      }
     },
     "b411a09672a4417c96ce3d87dcd05af5": {
      "model_module": "@jupyter-widgets/controls",
      "model_module_version": "1.5.0",
      "model_name": "ButtonStyleModel",
      "state": {
       "button_color": "white"
      }
     },
     "b46c4d5dbc0c45d8adcdba4d1f540807": {
      "model_module": "@jupyter-widgets/controls",
      "model_module_version": "1.5.0",
      "model_name": "HTMLModel",
      "state": {
       "layout": "IPY_MODEL_3598d386eb0b41f198c843e5c90ef8e8",
       "style": "IPY_MODEL_9dcc4f34f8f849f68644a23bfea3b386",
       "value": "<h5 style='color:#dc267f'>False</h5>"
      }
     },
     "b4a25f5c14f7432b9fbee97462b13b25": {
      "model_module": "@jupyter-widgets/base",
      "model_module_version": "1.2.0",
      "model_name": "LayoutModel",
      "state": {
       "max_width": "180px"
      }
     },
     "b50ee9e429dd4c8fbf412e53df697c84": {
      "model_module": "@jupyter-widgets/base",
      "model_module_version": "1.2.0",
      "model_name": "LayoutModel",
      "state": {
       "overflow_x": "scroll"
      }
     },
     "b58889c77725495e836cc478e5f51c32": {
      "model_module": "@jupyter-widgets/base",
      "model_module_version": "1.2.0",
      "model_name": "LayoutModel",
      "state": {
       "margin": "10px 0px 0px 0px"
      }
     },
     "b6ac885fc28840cfac3f46683abf4b91": {
      "model_module": "@jupyter-widgets/controls",
      "model_module_version": "1.5.0",
      "model_name": "ProgressStyleModel",
      "state": {
       "bar_color": "#71cddd",
       "description_width": ""
      }
     },
     "b6ba54160a52441086d6f71d4e1c700e": {
      "model_module": "@jupyter-widgets/base",
      "model_module_version": "1.2.0",
      "model_name": "LayoutModel",
      "state": {
       "margin": "0px 0px 0px 0px"
      }
     },
     "b6c6d82e48d44f38bc92763591bafa23": {
      "model_module": "@jupyter-widgets/controls",
      "model_module_version": "1.5.0",
      "model_name": "HTMLModel",
      "state": {
       "layout": "IPY_MODEL_7de4d0b375834be7a1e3026b0078a267",
       "style": "IPY_MODEL_1c1cab75cf9547e3a2ccb498cca43d69",
       "value": "<h5>0.0241</h5>"
      }
     },
     "b6d8462d8ad14e04b12cf753cbbf7852": {
      "model_module": "@jupyter-widgets/controls",
      "model_module_version": "1.5.0",
      "model_name": "HTMLModel",
      "state": {
       "layout": "IPY_MODEL_81204c31c6994a13b0369dca7a4a6411",
       "style": "IPY_MODEL_157b57c4e4984e369348498ba32b222a",
       "value": "<h5>92.2 / 70.7 us</h5>"
      }
     },
     "b6db8da1492547c6be5c9361111fd95a": {
      "model_module": "@jupyter-widgets/base",
      "model_module_version": "1.2.0",
      "model_name": "LayoutModel",
      "state": {}
     },
     "b6e330ff65d347af9bcaa32298d02d2d": {
      "model_module": "@jupyter-widgets/controls",
      "model_module_version": "1.5.0",
      "model_name": "DescriptionStyleModel",
      "state": {
       "description_width": ""
      }
     },
     "b70922694fea418eb627811ae29f513a": {
      "model_module": "@jupyter-widgets/controls",
      "model_module_version": "1.5.0",
      "model_name": "HTMLModel",
      "state": {
       "layout": "IPY_MODEL_b50ee9e429dd4c8fbf412e53df697c84",
       "style": "IPY_MODEL_1a2a2c38554b4cbfb477336ad9607a4a",
       "value": "job has successfully run"
      }
     },
     "b7f29eb68c0542f69969c5e0fd68cd37": {
      "model_module": "@jupyter-widgets/controls",
      "model_module_version": "1.5.0",
      "model_name": "DescriptionStyleModel",
      "state": {
       "description_width": ""
      }
     },
     "b81321a2826d44e28402a6399a7c6eb1": {
      "model_module": "@jupyter-widgets/controls",
      "model_module_version": "1.5.0",
      "model_name": "DescriptionStyleModel",
      "state": {
       "description_width": ""
      }
     },
     "b8707019d4864b2ba52854745aed98c8": {
      "model_module": "@jupyter-widgets/controls",
      "model_module_version": "1.5.0",
      "model_name": "HTMLModel",
      "state": {
       "layout": "IPY_MODEL_4f1bc6b073ef4157b9c0a7ff451c3db9",
       "style": "IPY_MODEL_85be32b9dfc047588ceec04a6a014f21",
       "value": "<h4>ibmq_santiago</h4>"
      }
     },
     "b8983f9c917b4418b99f92f6f36f07df": {
      "model_module": "@jupyter-widgets/controls",
      "model_module_version": "1.5.0",
      "model_name": "IntProgressModel",
      "state": {
       "layout": "IPY_MODEL_0b962c2f768e443890f92109be57d82a",
       "max": 50,
       "style": "IPY_MODEL_3e7a4dce9e0a404cab203a69a4e6acd4",
       "value": 4
      }
     },
     "b9293ebd1f3c41cc80f9d102ec8d2164": {
      "model_module": "@jupyter-widgets/controls",
      "model_module_version": "1.5.0",
      "model_name": "LabelModel",
      "state": {
       "layout": "IPY_MODEL_bfcadf768f144cf1862c8b9d44e07cac",
       "style": "IPY_MODEL_d5835a8805a34269a97516ba358aecf0",
       "value": "0"
      }
     },
     "b94de77a05644029bf7732a337ca09ca": {
      "model_module": "@jupyter-widgets/base",
      "model_module_version": "1.2.0",
      "model_name": "LayoutModel",
      "state": {
       "margin": "8px 0px 0px 0px"
      }
     },
     "b97961bb35474b319749a8f02ce48dce": {
      "model_module": "@jupyter-widgets/controls",
      "model_module_version": "1.5.0",
      "model_name": "DescriptionStyleModel",
      "state": {
       "description_width": ""
      }
     },
     "ba5ca1d802e042e29d60f716daf143c5": {
      "model_module": "@jupyter-widgets/controls",
      "model_module_version": "1.5.0",
      "model_name": "DescriptionStyleModel",
      "state": {
       "description_width": ""
      }
     },
     "ba5fd6d05dbd4f3d96db55b64bacb3e3": {
      "model_module": "@jupyter-widgets/base",
      "model_module_version": "1.2.0",
      "model_name": "LayoutModel",
      "state": {
       "justify_content": "center"
      }
     },
     "ba615d5699084719bae0a30570e7cab1": {
      "model_module": "@jupyter-widgets/controls",
      "model_module_version": "1.5.0",
      "model_name": "LabelModel",
      "state": {
       "layout": "IPY_MODEL_2e8e1e93102e45e7ba5f8c1820415876",
       "style": "IPY_MODEL_dab9668598124e18a1e502a5588139dc",
       "value": "196"
      }
     },
     "ba61ad44670b423bb699b92a3fb5f6b4": {
      "model_module": "@jupyter-widgets/controls",
      "model_module_version": "1.5.0",
      "model_name": "DescriptionStyleModel",
      "state": {
       "description_width": ""
      }
     },
     "bb6092d3edd44d66ba20cb4624a62485": {
      "model_module": "@jupyter-widgets/controls",
      "model_module_version": "1.5.0",
      "model_name": "HTMLModel",
      "state": {
       "layout": "IPY_MODEL_9dfe8a49947a472ca571ae07397f5515",
       "style": "IPY_MODEL_2ccdc779164c4e549e4ecbbfc9dbedbd",
       "value": "<h5><b>5</b></h5>"
      }
     },
     "bb7615384d34417694089f937fb7c125": {
      "model_module": "@jupyter-widgets/controls",
      "model_module_version": "1.5.0",
      "model_name": "HTMLModel",
      "state": {
       "layout": "IPY_MODEL_a610580433704fb9a82f812c63145846",
       "style": "IPY_MODEL_4b09572763744ece838bd7d58f365f0e",
       "value": "<h5 style='color:#34bc6e'>True</h5>"
      }
     },
     "bba09e6d43af4c8fb21f592e99132ec5": {
      "model_module": "@jupyter-widgets/base",
      "model_module_version": "1.2.0",
      "model_name": "LayoutModel",
      "state": {
       "align_items": "center",
       "display": "inline-flex",
       "flex_flow": "column"
      }
     },
     "bcf7aa7e39ac4ba2bf9d9716fe1b87cd": {
      "model_module": "@jupyter-widgets/controls",
      "model_module_version": "1.5.0",
      "model_name": "HTMLModel",
      "state": {
       "layout": "IPY_MODEL_9cc9595a14b54b29baaf9d9baad9617c",
       "style": "IPY_MODEL_91f0c9be8aa449579d92b4f8f822ddeb",
       "value": "<h5>32</h5>"
      }
     },
     "bd5d6c9a3ccb4f78bcd84334bdfa4087": {
      "model_module": "@jupyter-widgets/base",
      "model_module_version": "1.2.0",
      "model_name": "LayoutModel",
      "state": {
       "width": "70px"
      }
     },
     "bdfa16db9d4b477088b49dba3a72cd25": {
      "model_module": "@jupyter-widgets/controls",
      "model_module_version": "1.5.0",
      "model_name": "DescriptionStyleModel",
      "state": {
       "description_width": ""
      }
     },
     "be70d18f165b43c59aa1e656e3ce9721": {
      "model_module": "@jupyter-widgets/controls",
      "model_module_version": "1.5.0",
      "model_name": "DescriptionStyleModel",
      "state": {
       "description_width": ""
      }
     },
     "bf51a8643d0e484d9f7b46f5102431b2": {
      "model_module": "@jupyter-widgets/base",
      "model_module_version": "1.2.0",
      "model_name": "LayoutModel",
      "state": {
       "min_width": "auto"
      }
     },
     "bfcadf768f144cf1862c8b9d44e07cac": {
      "model_module": "@jupyter-widgets/base",
      "model_module_version": "1.2.0",
      "model_name": "LayoutModel",
      "state": {
       "min_width": "auto"
      }
     },
     "bfcea57ae9b3488099d87f42ba23577c": {
      "model_module": "@jupyter-widgets/base",
      "model_module_version": "1.2.0",
      "model_name": "LayoutModel",
      "state": {
       "width": "190px"
      }
     },
     "c000d2ed59cd4e79b6e6cca866b87038": {
      "model_module": "@jupyter-widgets/base",
      "model_module_version": "1.2.0",
      "model_name": "LayoutModel",
      "state": {
       "justify_content": "center"
      }
     },
     "c0a852358dde4f16a09ff8d8d42af762": {
      "model_module": "@jupyter-widgets/controls",
      "model_module_version": "1.5.0",
      "model_name": "IntProgressModel",
      "state": {
       "layout": "IPY_MODEL_b4a25f5c14f7432b9fbee97462b13b25",
       "max": 376,
       "style": "IPY_MODEL_98c4fe96057a403381c9c145e5b8e699",
       "value": 165
      }
     },
     "c102c4fcf66c419b8646a2d1d28795b2": {
      "model_module": "@jupyter-widgets/controls",
      "model_module_version": "1.5.0",
      "model_name": "VBoxModel",
      "state": {
       "children": [
        "IPY_MODEL_67ab76b766ce4548bd01a1f5b715c12a",
        "IPY_MODEL_8d336c297e0247f1b7c4071f17b4bcf5",
        "IPY_MODEL_bb6092d3edd44d66ba20cb4624a62485",
        "IPY_MODEL_a09cc71d44934e23b13ed46b4c216812",
        "IPY_MODEL_7fb7f5853d8b47b48acd4ade65f0836a",
        "IPY_MODEL_5fdc45e69371423f8fc96dd5a7a780fa",
        "IPY_MODEL_3adac731bdda4f038a8d89194e80610b",
        "IPY_MODEL_58d2f6654afd48c5b7db7f7f779e741f",
        "IPY_MODEL_2e5ed661bfdd48d3b9bc60543b81c7f9",
        "IPY_MODEL_75cbd7993e964a029f2fd1b0f86503cf"
       ],
       "layout": "IPY_MODEL_b1702c4576714b33b4276fb8e9c5b829"
      }
     },
     "c15420c787c34a058ba3c32efee36b2d": {
      "model_module": "@jupyter-widgets/controls",
      "model_module_version": "1.5.0",
      "model_name": "DescriptionStyleModel",
      "state": {
       "description_width": ""
      }
     },
     "c1f9caa53a31491b8f81c749810e68a4": {
      "model_module": "@jupyter-widgets/base",
      "model_module_version": "1.2.0",
      "model_name": "LayoutModel",
      "state": {
       "overflow_x": "scroll"
      }
     },
     "c21b6ebee8954d68bdcf4a8f6c4100be": {
      "model_module": "@jupyter-widgets/controls",
      "model_module_version": "1.5.0",
      "model_name": "DescriptionStyleModel",
      "state": {
       "description_width": ""
      }
     },
     "c29bae2c213248818d1be195d6df5f8b": {
      "model_module": "@jupyter-widgets/controls",
      "model_module_version": "1.5.0",
      "model_name": "DescriptionStyleModel",
      "state": {
       "description_width": ""
      }
     },
     "c2f93004cff945729f6381667ca192aa": {
      "model_module": "@jupyter-widgets/controls",
      "model_module_version": "1.5.0",
      "model_name": "HTMLModel",
      "state": {
       "layout": "IPY_MODEL_1e981229c5464b0492b4940e00c2cd1f",
       "style": "IPY_MODEL_40393136230a486eb90406af623f01a0",
       "value": "<h4>ibmq_manila</h4>"
      }
     },
     "c3c2b402fe654ad1afb1c66063a22436": {
      "model_module": "@jupyter-widgets/controls",
      "model_module_version": "1.5.0",
      "model_name": "DescriptionStyleModel",
      "state": {
       "description_width": ""
      }
     },
     "c3e60937450c4954989a9b35b71568f0": {
      "model_module": "@jupyter-widgets/controls",
      "model_module_version": "1.5.0",
      "model_name": "HTMLModel",
      "state": {
       "layout": "IPY_MODEL_1946d8f8cfcf46848e3da9996614916e",
       "style": "IPY_MODEL_92520602a63f4a6da92ec675c27bf307",
       "value": "<h5>0.0068</h5>"
      }
     },
     "c478f8fc64c14875ae8e5949a96c8e33": {
      "model_module": "@jupyter-widgets/base",
      "model_module_version": "1.2.0",
      "model_name": "LayoutModel",
      "state": {
       "margin": "0px 0px 0px 37px",
       "width": "600px"
      }
     },
     "c4a353224c164ad4870f210f4b66ccac": {
      "model_module": "@jupyter-widgets/controls",
      "model_module_version": "1.5.0",
      "model_name": "DescriptionStyleModel",
      "state": {
       "description_width": ""
      }
     },
     "c58b1c2c92ab4d07aff500f2af4c18a1": {
      "model_module": "@jupyter-widgets/controls",
      "model_module_version": "1.5.0",
      "model_name": "DescriptionStyleModel",
      "state": {
       "description_width": ""
      }
     },
     "c64d99a688f7496e8e1ae3e654a82b0c": {
      "model_module": "@jupyter-widgets/controls",
      "model_module_version": "1.5.0",
      "model_name": "DescriptionStyleModel",
      "state": {
       "description_width": ""
      }
     },
     "c6bae7884021466caf87830857ff7b3d": {
      "model_module": "@jupyter-widgets/base",
      "model_module_version": "1.2.0",
      "model_name": "LayoutModel",
      "state": {
       "max_width": "700px",
       "min_width": "700px"
      }
     },
     "c743462799a44964819309d5d9b27e78": {
      "model_module": "@jupyter-widgets/controls",
      "model_module_version": "1.5.0",
      "model_name": "HTMLModel",
      "state": {
       "layout": "IPY_MODEL_f611626e856542c1a0a14d0a4241ad14",
       "style": "IPY_MODEL_23407675b0bc4ec49ffcaaf6df8d5722",
       "value": "<font style='color:#FFB000'>CANCELLED</font>"
      }
     },
     "c74dbda437e743caa7ea660654609688": {
      "model_module": "@jupyter-widgets/controls",
      "model_module_version": "1.5.0",
      "model_name": "VBoxModel",
      "state": {
       "children": [
        "IPY_MODEL_c2f93004cff945729f6381667ca192aa",
        "IPY_MODEL_5e17bad9d9f940249993f8e88b5ce397",
        "IPY_MODEL_f138de18a6594392a27acb08db20a2a5",
        "IPY_MODEL_bcf7aa7e39ac4ba2bf9d9716fe1b87cd",
        "IPY_MODEL_44a552490e63441c8e48aeb0d8380131",
        "IPY_MODEL_c84b8a6fd0284ce69dc42fd00eb953eb",
        "IPY_MODEL_14f7cd481859463cbe1d8e44ac5c57d0",
        "IPY_MODEL_ed4f4d24dd434b8b858794fe55eca127",
        "IPY_MODEL_af273156d2254458a9a270f5cf1ead81",
        "IPY_MODEL_d918c494243d44d1ab899a8d414d3e6d"
       ],
       "layout": "IPY_MODEL_989d10d26e294e6c8bfc7bfab7c63312"
      }
     },
     "c7a4afa0991e45beb5fa2ded3a89e496": {
      "model_module": "@jupyter-widgets/controls",
      "model_module_version": "1.5.0",
      "model_name": "DescriptionStyleModel",
      "state": {
       "description_width": ""
      }
     },
     "c7c2074d0c584e3081ebb11c64eca8db": {
      "model_module": "@jupyter-widgets/controls",
      "model_module_version": "1.5.0",
      "model_name": "HTMLModel",
      "state": {
       "layout": "IPY_MODEL_00d3d085b0a74f8c8ed9d2fd5b6f1676",
       "style": "IPY_MODEL_da78de30de00437b91e454a595ad5b66",
       "value": "<h5 style='color:#34bc6e'>True</h5>"
      }
     },
     "c7d699a00f5b4f0f8048df1bdad7f9d7": {
      "model_module": "@jupyter-widgets/controls",
      "model_module_version": "1.5.0",
      "model_name": "DescriptionStyleModel",
      "state": {
       "description_width": ""
      }
     },
     "c7fd45ba9362413dab647c661ed1f810": {
      "model_module": "@jupyter-widgets/controls",
      "model_module_version": "1.5.0",
      "model_name": "HTMLModel",
      "state": {
       "layout": "IPY_MODEL_bfcea57ae9b3488099d87f42ba23577c",
       "style": "IPY_MODEL_985fdca09a5d4bbfa5b1d938c61158fe",
       "value": "613f307217e5886a6fba5ba3"
      }
     },
     "c84b8a6fd0284ce69dc42fd00eb953eb": {
      "model_module": "@jupyter-widgets/controls",
      "model_module_version": "1.5.0",
      "model_name": "HTMLModel",
      "state": {
       "layout": "IPY_MODEL_aae6923fdd5c4e42b04903d132748243",
       "style": "IPY_MODEL_7be6d0d933ed465c97385104395fe931",
       "value": "<h5 style='color:#34bc6e'>True</h5>"
      }
     },
     "c86479d5fea24c60ae58f51deb9074c9": {
      "model_module": "@jupyter-widgets/base",
      "model_module_version": "1.2.0",
      "model_name": "LayoutModel",
      "state": {
       "margin": "0px 5px 0px 0px",
       "width": "32px"
      }
     },
     "c9c6111af31b43cf8bb4ab44e220247e": {
      "model_module": "@jupyter-widgets/controls",
      "model_module_version": "1.5.0",
      "model_name": "DescriptionStyleModel",
      "state": {
       "description_width": ""
      }
     },
     "ca5a0e69f45e4de89a1fbb558a00f938": {
      "model_module": "@jupyter-widgets/base",
      "model_module_version": "1.2.0",
      "model_name": "LayoutModel",
      "state": {
       "align_items": "center",
       "display": "inline-flex",
       "flex_flow": "column"
      }
     },
     "ca92e9f4861e4e03a82b409fe5c069af": {
      "model_module": "@jupyter-widgets/base",
      "model_module_version": "1.2.0",
      "model_name": "LayoutModel",
      "state": {
       "grid_area": "bottom",
       "width": "auto"
      }
     },
     "cab7494e58ff42448e410e448ee40b25": {
      "model_module": "@jupyter-widgets/base",
      "model_module_version": "1.2.0",
      "model_name": "LayoutModel",
      "state": {}
     },
     "caebd6cdad7d4cb0b637caba94fc18da": {
      "model_module": "@jupyter-widgets/controls",
      "model_module_version": "1.5.0",
      "model_name": "DescriptionStyleModel",
      "state": {
       "description_width": ""
      }
     },
     "cb4015a321744ce9b07afcb11d485f52": {
      "model_module": "@jupyter-widgets/controls",
      "model_module_version": "1.5.0",
      "model_name": "HTMLModel",
      "state": {
       "layout": "IPY_MODEL_c1f9caa53a31491b8f81c749810e68a4",
       "style": "IPY_MODEL_caebd6cdad7d4cb0b637caba94fc18da",
       "value": "job has successfully run"
      }
     },
     "cb9d76d24f034863a2f3aca7b552b547": {
      "model_module": "@jupyter-widgets/controls",
      "model_module_version": "1.5.0",
      "model_name": "DescriptionStyleModel",
      "state": {
       "description_width": ""
      }
     },
     "cc0712034daa4c38865baa1207dff9a7": {
      "model_module": "@jupyter-widgets/base",
      "model_module_version": "1.2.0",
      "model_name": "LayoutModel",
      "state": {}
     },
     "cc55867775fd487e8abec3d2c8c0c2f1": {
      "model_module": "@jupyter-widgets/base",
      "model_module_version": "1.2.0",
      "model_name": "LayoutModel",
      "state": {
       "grid_area": "left"
      }
     },
     "cde306cb4bb144398bb592c795b63042": {
      "model_module": "@jupyter-widgets/base",
      "model_module_version": "1.2.0",
      "model_name": "LayoutModel",
      "state": {
       "max_width": "180px"
      }
     },
     "ce2b8f7c8e7d4691ad8c63e723a13d5f": {
      "model_module": "@jupyter-widgets/controls",
      "model_module_version": "1.5.0",
      "model_name": "DescriptionStyleModel",
      "state": {
       "description_width": ""
      }
     },
     "cf0efc8a95cc496e9b63f71249adc1f1": {
      "model_module": "@jupyter-widgets/controls",
      "model_module_version": "1.5.0",
      "model_name": "ButtonModel",
      "state": {
       "button_style": "primary",
       "description": "Clear",
       "layout": "IPY_MODEL_6d901fb3ee91415e9fa3e148c961dbf4",
       "style": "IPY_MODEL_e16656452bb94f2caa450de24f370109"
      }
     },
     "cf6f8e53bf6241aca8c7c78cd4464b0a": {
      "model_module": "@jupyter-widgets/base",
      "model_module_version": "1.2.0",
      "model_name": "LayoutModel",
      "state": {}
     },
     "d078b9960ba640759553c8b0f6a2813d": {
      "model_module": "@jupyter-widgets/output",
      "model_module_version": "1.0.0",
      "model_name": "OutputModel",
      "state": {
       "layout": "IPY_MODEL_95f45aa9798a40a481675e93a7a2a3f2",
       "outputs": [
        {
         "data": {
          "image/png": "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\n",
          "text/plain": "<Figure size 360x360 with 1 Axes>"
         },
         "metadata": {},
         "output_type": "display_data"
        }
       ]
      }
     },
     "d18c4a1219f04664b3499fa393ef2799": {
      "model_module": "@jupyter-widgets/base",
      "model_module_version": "1.2.0",
      "model_name": "LayoutModel",
      "state": {
       "justify_content": "center"
      }
     },
     "d1c98cacb6074056a298095307e8cf9a": {
      "model_module": "@jupyter-widgets/base",
      "model_module_version": "1.2.0",
      "model_name": "LayoutModel",
      "state": {
       "max_width": "180px"
      }
     },
     "d220c59fd7f94194bd8e3aa4ac5c37c1": {
      "model_module": "@jupyter-widgets/controls",
      "model_module_version": "1.5.0",
      "model_name": "HTMLModel",
      "state": {
       "layout": "IPY_MODEL_cab7494e58ff42448e410e448ee40b25",
       "style": "IPY_MODEL_77337ec35d6c45c3805fc117d02f2399",
       "value": "<h5>0.0275</h5>"
      }
     },
     "d2266e17252c4c9e93b49b875cf22e1b": {
      "model_module": "@jupyter-widgets/controls",
      "model_module_version": "1.5.0",
      "model_name": "LabelModel",
      "state": {
       "layout": "IPY_MODEL_bf51a8643d0e484d9f7b46f5102431b2",
       "style": "IPY_MODEL_31f0798f0f48460c84dff4bce7359d1e",
       "value": "50"
      }
     },
     "d31f5831476b4330a67b3364f8fba66b": {
      "model_module": "@jupyter-widgets/controls",
      "model_module_version": "1.5.0",
      "model_name": "VBoxModel",
      "state": {
       "children": [
        "IPY_MODEL_b8707019d4864b2ba52854745aed98c8",
        "IPY_MODEL_417a73c5782b4c7c94a2d413883f5168",
        "IPY_MODEL_6c5858d490874de9b45d65aa02619e47",
        "IPY_MODEL_75428e56d323478b8311a6724df3df38",
        "IPY_MODEL_8a5e4d78c3ed4442aa87719e10ff8156",
        "IPY_MODEL_bb7615384d34417694089f937fb7c125",
        "IPY_MODEL_7bc875eb86234d6b9d5282f775374b6b",
        "IPY_MODEL_9433d039c0554018984a54f3404d2232",
        "IPY_MODEL_c3e60937450c4954989a9b35b71568f0",
        "IPY_MODEL_ff2e6cf612f3435ea8e7e296bac79719"
       ],
       "layout": "IPY_MODEL_bba09e6d43af4c8fb21f592e99132ec5"
      }
     },
     "d3b41c7d7a914c6aa181cb0c9657eae0": {
      "model_module": "@jupyter-widgets/base",
      "model_module_version": "1.2.0",
      "model_name": "LayoutModel",
      "state": {
       "justify_content": "center",
       "max_width": "250px",
       "min_width": "250px"
      }
     },
     "d3bed2134ff3438cb8660678b152ba6d": {
      "model_module": "@jupyter-widgets/base",
      "model_module_version": "1.2.0",
      "model_name": "LayoutModel",
      "state": {
       "justify_content": "center"
      }
     },
     "d41a18f088934a248bc3732e5b1d65bb": {
      "model_module": "@jupyter-widgets/base",
      "model_module_version": "1.2.0",
      "model_name": "LayoutModel",
      "state": {}
     },
     "d4b8f8e5934e4ce29ec0be5f5629bec5": {
      "model_module": "@jupyter-widgets/base",
      "model_module_version": "1.2.0",
      "model_name": "LayoutModel",
      "state": {
       "min_width": "auto"
      }
     },
     "d4d2eea86e074cbc9d99e48602b313ab": {
      "model_module": "@jupyter-widgets/controls",
      "model_module_version": "1.5.0",
      "model_name": "DescriptionStyleModel",
      "state": {
       "description_width": ""
      }
     },
     "d5791b97153f4970b9f27e6eb1a15e77": {
      "model_module": "@jupyter-widgets/base",
      "model_module_version": "1.2.0",
      "model_name": "LayoutModel",
      "state": {
       "width": "70px"
      }
     },
     "d5835a8805a34269a97516ba358aecf0": {
      "model_module": "@jupyter-widgets/controls",
      "model_module_version": "1.5.0",
      "model_name": "DescriptionStyleModel",
      "state": {
       "description_width": ""
      }
     },
     "d5b7f7decc774d54a0bab7a5f0894abe": {
      "model_module": "@jupyter-widgets/base",
      "model_module_version": "1.2.0",
      "model_name": "LayoutModel",
      "state": {}
     },
     "d606b29f7dcf47a1b81f28093afb743f": {
      "model_module": "@jupyter-widgets/base",
      "model_module_version": "1.2.0",
      "model_name": "LayoutModel",
      "state": {
       "max_width": "700px",
       "min_width": "700px"
      }
     },
     "d60730700a804073b9741f231ff00d4c": {
      "model_module": "@jupyter-widgets/base",
      "model_module_version": "1.2.0",
      "model_name": "LayoutModel",
      "state": {
       "min_width": "auto"
      }
     },
     "d647de7f32c243319b38e05c316a4287": {
      "model_module": "@jupyter-widgets/controls",
      "model_module_version": "1.5.0",
      "model_name": "LabelModel",
      "state": {
       "layout": "IPY_MODEL_4fbbde46f14f4e128986559fa1dd4554",
       "style": "IPY_MODEL_2ce776d3df2b45fcaf764b68f56db02e",
       "value": "19"
      }
     },
     "d6554fe2f27a4f7f89f8a2919ffe601f": {
      "model_module": "@jupyter-widgets/controls",
      "model_module_version": "1.5.0",
      "model_name": "DescriptionStyleModel",
      "state": {
       "description_width": ""
      }
     },
     "d6f9e7c3113848f3a30491eef18e503d": {
      "model_module": "@jupyter-widgets/base",
      "model_module_version": "1.2.0",
      "model_name": "LayoutModel",
      "state": {
       "justify_content": "center"
      }
     },
     "d6fce80390304a148bbabb2fcc0bf120": {
      "model_module": "@jupyter-widgets/controls",
      "model_module_version": "1.5.0",
      "model_name": "HBoxModel",
      "state": {
       "children": [
        "IPY_MODEL_ea6c8e085f034937b7f800cff426f3dd",
        "IPY_MODEL_08192da90e174de593c4ae87ebf28148",
        "IPY_MODEL_1881449844ff46a38a1a61fdaa6aadf3"
       ],
       "layout": "IPY_MODEL_dab21dfd9e2a46eda3d5843c3963dbd0"
      }
     },
     "d72e55219c364d7ab26a9cfcd3b76dab": {
      "model_module": "@jupyter-widgets/base",
      "model_module_version": "1.2.0",
      "model_name": "LayoutModel",
      "state": {
       "max_width": "180px"
      }
     },
     "d73b38247e154ab4b71b5d4479f58d3c": {
      "model_module": "@jupyter-widgets/base",
      "model_module_version": "1.2.0",
      "model_name": "LayoutModel",
      "state": {
       "width": "190px"
      }
     },
     "d89c4c45d4c3472cad5f15bd74b88011": {
      "model_module": "@jupyter-widgets/base",
      "model_module_version": "1.2.0",
      "model_name": "LayoutModel",
      "state": {
       "grid_area": "right"
      }
     },
     "d8e25bf0be7541d8b89b2ee2b7a7b772": {
      "model_module": "@jupyter-widgets/base",
      "model_module_version": "1.2.0",
      "model_name": "LayoutModel",
      "state": {}
     },
     "d918c494243d44d1ab899a8d414d3e6d": {
      "model_module": "@jupyter-widgets/controls",
      "model_module_version": "1.5.0",
      "model_name": "HTMLModel",
      "state": {
       "layout": "IPY_MODEL_eb594e480f394f2c90855a6a1ec4a303",
       "style": "IPY_MODEL_7521476610ba45ccb99698a3f59d69af",
       "value": "<h5>0.0251</h5>"
      }
     },
     "d989781b6f64414e89957c2733cf85bb": {
      "model_module": "@jupyter-widgets/base",
      "model_module_version": "1.2.0",
      "model_name": "LayoutModel",
      "state": {
       "justify_content": "center"
      }
     },
     "da0b6c417e5d4c48a3d00ebd9b817a9f": {
      "model_module": "@jupyter-widgets/base",
      "model_module_version": "1.2.0",
      "model_name": "LayoutModel",
      "state": {
       "justify_content": "center"
      }
     },
     "da78de30de00437b91e454a595ad5b66": {
      "model_module": "@jupyter-widgets/controls",
      "model_module_version": "1.5.0",
      "model_name": "DescriptionStyleModel",
      "state": {
       "description_width": ""
      }
     },
     "daa784898dde4b7e9fa92df39db8c2f5": {
      "model_module": "@jupyter-widgets/base",
      "model_module_version": "1.2.0",
      "model_name": "LayoutModel",
      "state": {
       "justify_content": "center"
      }
     },
     "dab21dfd9e2a46eda3d5843c3963dbd0": {
      "model_module": "@jupyter-widgets/base",
      "model_module_version": "1.2.0",
      "model_name": "LayoutModel",
      "state": {
       "justify_content": "center",
       "max_width": "250px",
       "min_width": "250px"
      }
     },
     "dab9668598124e18a1e502a5588139dc": {
      "model_module": "@jupyter-widgets/controls",
      "model_module_version": "1.5.0",
      "model_name": "DescriptionStyleModel",
      "state": {
       "description_width": ""
      }
     },
     "db0622e9e34a46208e20b840a43073f1": {
      "model_module": "@jupyter-widgets/controls",
      "model_module_version": "1.5.0",
      "model_name": "HTMLModel",
      "state": {
       "layout": "IPY_MODEL_b026502510bd4076a01174d955db2410",
       "style": "IPY_MODEL_6df2cea34f0d4c81ad62c15b923edd3a",
       "value": "job has been cancelled"
      }
     },
     "db1e0d164c9947faadc653ae4e1d6bbf": {
      "model_module": "@jupyter-widgets/controls",
      "model_module_version": "1.5.0",
      "model_name": "GridBoxModel",
      "state": {
       "children": [
        "IPY_MODEL_7d685ddca2ca4e86a77b829eee9636c5",
        "IPY_MODEL_0b7705ccbbd8429d8d0ea8a78476bce0",
        "IPY_MODEL_62e841d867e440d0bb6da40502bf7f89",
        "IPY_MODEL_45acc9cc371041faae9a99a6ffc02279"
       ],
       "layout": "IPY_MODEL_7bca00cc44714c6caef0fcb0f346fc28"
      }
     },
     "dc2027663f7f44608cb23d34011abfdc": {
      "model_module": "@jupyter-widgets/controls",
      "model_module_version": "1.5.0",
      "model_name": "DescriptionStyleModel",
      "state": {
       "description_width": ""
      }
     },
     "dd0ded360e7948e8835889f238967aad": {
      "model_module": "@jupyter-widgets/controls",
      "model_module_version": "1.5.0",
      "model_name": "LabelModel",
      "state": {
       "layout": "IPY_MODEL_28a1a59d4a84461b9ad37ec9c0d145b6",
       "style": "IPY_MODEL_c7d699a00f5b4f0f8048df1bdad7f9d7",
       "value": "80"
      }
     },
     "dd1cb9073db4445596a3524148de88c6": {
      "model_module": "@jupyter-widgets/controls",
      "model_module_version": "1.5.0",
      "model_name": "DescriptionStyleModel",
      "state": {
       "description_width": ""
      }
     },
     "dd9f2d6eb7014f448ba86be1d30f86cc": {
      "model_module": "@jupyter-widgets/base",
      "model_module_version": "1.2.0",
      "model_name": "LayoutModel",
      "state": {
       "margin": "0px 5px 0px 0px",
       "width": "32px"
      }
     },
     "ddcf6cb8607a4918862daf7d459b3743": {
      "model_module": "@jupyter-widgets/controls",
      "model_module_version": "1.5.0",
      "model_name": "HTMLModel",
      "state": {
       "layout": "IPY_MODEL_cc0712034daa4c38865baa1207dff9a7",
       "style": "IPY_MODEL_53b95236190347a4b34274f233a7f2ac",
       "value": "<h5>0.0112</h5>"
      }
     },
     "ddf7d7194d3b467ca31bb31b33233b62": {
      "model_module": "@jupyter-widgets/base",
      "model_module_version": "1.2.0",
      "model_name": "LayoutModel",
      "state": {
       "min_width": "auto"
      }
     },
     "de895961977249b2a289427b02ef7352": {
      "model_module": "@jupyter-widgets/controls",
      "model_module_version": "1.5.0",
      "model_name": "DescriptionStyleModel",
      "state": {
       "description_width": ""
      }
     },
     "de99c23a58784770828d4b24dba9cf1b": {
      "model_module": "@jupyter-widgets/base",
      "model_module_version": "1.2.0",
      "model_name": "LayoutModel",
      "state": {
       "justify_content": "center"
      }
     },
     "deb33e16902a45f684c918b9c6c0f183": {
      "model_module": "@jupyter-widgets/base",
      "model_module_version": "1.2.0",
      "model_name": "LayoutModel",
      "state": {
       "min_width": "auto"
      }
     },
     "e121caba7cd8469697971089715e1eed": {
      "model_module": "@jupyter-widgets/base",
      "model_module_version": "1.2.0",
      "model_name": "LayoutModel",
      "state": {}
     },
     "e16656452bb94f2caa450de24f370109": {
      "model_module": "@jupyter-widgets/controls",
      "model_module_version": "1.5.0",
      "model_name": "ButtonStyleModel",
      "state": {}
     },
     "e1c41e7f3794472b96ec87e2b402fe6e": {
      "model_module": "@jupyter-widgets/base",
      "model_module_version": "1.2.0",
      "model_name": "LayoutModel",
      "state": {
       "max_height": "620px"
      }
     },
     "e36799e4ef8a44ca9f13c2991753fabb": {
      "model_module": "@jupyter-widgets/controls",
      "model_module_version": "1.5.0",
      "model_name": "DescriptionStyleModel",
      "state": {
       "description_width": ""
      }
     },
     "e3bca55e216d42a1a99975858bcce7de": {
      "model_module": "@jupyter-widgets/controls",
      "model_module_version": "1.5.0",
      "model_name": "DescriptionStyleModel",
      "state": {
       "description_width": ""
      }
     },
     "e3d4a32ee28d45b89032d8ffaa9a766f": {
      "model_module": "@jupyter-widgets/controls",
      "model_module_version": "1.5.0",
      "model_name": "DescriptionStyleModel",
      "state": {
       "description_width": ""
      }
     },
     "e4307850bcc74b2b97fd23eeb9d04a79": {
      "model_module": "@jupyter-widgets/controls",
      "model_module_version": "1.5.0",
      "model_name": "ButtonStyleModel",
      "state": {
       "button_color": "white"
      }
     },
     "e5d7ca099a9c483fa8a62772225b8e06": {
      "model_module": "@jupyter-widgets/controls",
      "model_module_version": "1.5.0",
      "model_name": "DescriptionStyleModel",
      "state": {
       "description_width": ""
      }
     },
     "e5e9f5d77f6740b39f633a0c0bbb1249": {
      "model_module": "@jupyter-widgets/controls",
      "model_module_version": "1.5.0",
      "model_name": "HTMLMathModel",
      "state": {
       "layout": "IPY_MODEL_76790064be7a4232beb41e08784acd92",
       "style": "IPY_MODEL_f82e7da9d2d348aebe87628969642fb8",
       "value": "<table><style>\ntable {\n    border-collapse: collapse;\n    width: auto;\n}\n\nth, td {\n    text-align: left;\n    padding: 8px;\n}\n\ntr:nth-child(even) {background-color: #f6f6f6;}\n</style><tr><th></th><th></th></tr><tr><td>dt</td><td>0.2222222222222222</td></tr><tr><td>backend_name</td><td>fake_johannesburg</td></tr><tr><td>online_date</td><td>2019-09-13 04:00:00+00:00</td></tr><tr><td>qubit_lo_range</td><td>[[4.164921219025063, 5.164921219025063], [4.26767163657472, 5.267671636574722], [4.118034101840273, 5.118034101840273], [4.522627765569717, 5.522627765569717], [4.155787513438005, 5.155787513438007], [4.245781392793495, 5.245781392793495], [4.331680271816184, 5.331680271816184], [4.205694167284576, 5.205694167284576], [4.398401743238063, 5.398401743238063], [4.240604573181179, 5.240604573181179], [4.341305536370642, 5.341305536370642], [4.257092566528682, 5.257092566528682], [4.1198621405375295, 5.11986214053753], [4.353945886402921, 5.353945886402921], [3.901271095555993, 4.901271095555994], [4.193544830088672, 5.193544830088672], [4.012673616968253, 5.012673616968254], [4.224206493424603, 5.224206493424605], [3.8350998481550134, 4.8350998481550125], [4.0862258365306365, 5.086225836530638]]</td></tr><tr><td>qubit_channel_mapping</td><td>[['u2', 'm0', 'u10', 'u1', 'u0', 'd0'], ['d1', 'u2', 'u4', 'm1', 'u0', 'u3'], ['u4', 'u5', 'd2', 'm2', 'u6', 'u3'], ['u5', 'u8', 'm3', 'u6', 'd3', 'u7'], ['u20', 'u8', 'u9', 'd4', 'm4', 'u7'], ['u10', 'u1', 'u12', 'u11', 'u23', 'u13', 'd5', 'm5'], ['d6', 'u11', 'u15', 'm6', 'u13', 'u14'], ['u28', 'd7', 'u15', 'u17', 'u16', 'u18', 'm7', 'u14'], ['u18', 'u16', 'd8', 'm8', 'u19', 'u21'], ['d9', 'u9', 'u22', 'u33', 'u19', 'u21', 'm9', 'u20'], ['u24', 'd10', 'u12', 'u25', 'u23', 'u26', 'u36', 'm10'], ['u24', 'u29', 'm11', 'u26', 'u27', 'd11'], ['d12', 'u28', 'u29', 'u31', 'u30', 'u17', 'u27', 'm12'], ['u31', 'm13', 'u32', 'd13', 'u30', 'u34'], ['u44', 'd14', 'u32', 'u35', 'u22', 'm14', 'u33', 'u34'], ['d15', 'u38', 'u25', 'm15', 'u37', 'u36'], ['u39', 'u38', 'u40', 'u37', 'm16', 'd16'], ['d17', 'u42', 'u39', 'u41', 'u40', 'm17'], ['u43', 'm18', 'u41', 'u45', 'd18', 'u42'], ['u44', 'u43', 'm19', 'u45', 'u35', 'd19']]</td></tr><tr><td>meas_kernels</td><td>['boxcar']</td></tr><tr><td>allow_object_storage</td><td>True</td></tr><tr><td>conditional</td><td>False</td></tr><tr><td>description</td><td>20 qubit device Johannesburg</td></tr><tr><td>open_pulse</td><td>True</td></tr><tr><td>local</td><td>False</td></tr><tr><td>coupling_map</td><td>[[0, 1], [0, 5], [1, 0], [1, 2], [2, 1], [2, 3], [3, 2], [3, 4], [4, 3], [4, 9], [5, 0], [5, 6], [5, 10], [6, 5], [6, 7], [7, 6], [7, 8], [7, 12], [8, 7], [8, 9], [9, 4], [9, 8], [9, 14], [10, 5], [10, 11], [10, 15], [11, 10], [11, 12], [12, 7], [12, 11], [12, 13], [13, 12], [13, 14], [14, 9], [14, 13], [14, 19], [15, 10], [15, 16], [16, 15], [16, 17], [17, 16], [17, 18], [18, 17], [18, 19], [19, 14], [19, 18]]</td></tr><tr><td>rep_times</td><td>[1000.0]</td></tr><tr><td>meas_map</td><td>[[0, 1, 2, 3, 4, 5, 6, 7, 8, 9, 10, 11, 12, 13, 14, 15, 16, 17, 18, 19]]</td></tr><tr><td>allow_q_object</td><td>True</td></tr><tr><td>n_registers</td><td>1</td></tr><tr><td>meas_lo_range</td><td>[[6.582440095000002, 7.582440095000002], [6.420965043000002, 7.420965043000002], [6.544025536, 7.544025536], [6.487596291, 7.487596291000002], [6.515162829, 7.515162829], [6.38843403, 7.388434030000002], [6.479164254000001, 7.479164254000001], [6.3875422130000015, 7.3875422130000015], [6.590439509, 7.590439509], [6.446428035, 7.446428035], [6.5559762710000005, 7.5559762710000005], [6.4055736460000015, 7.4055736460000015], [6.515604958000002, 7.515604958000002], [6.476179029000002, 7.476179029000002], [6.49972362, 7.49972362], [6.377593348, 7.377593348], [6.471263482, 7.471263482], [6.382423119, 7.382423119], [6.580569418000001, 7.580569418000001], [6.424848203000002, 7.424848203000002]]</td></tr><tr><td>sample_name</td><td>Hexbert</td></tr><tr><td>dynamic_reprate_enabled</td><td>False</td></tr><tr><td>u_channel_lo</td><td>[[{'q': 1, 'scale': (1+0j)}], [{'q': 5, 'scale': (1+0j)}], [{'q': 0, 'scale': (1+0j)}], [{'q': 2, 'scale': (1+0j)}], [{'q': 1, 'scale': (1+0j)}], [{'q': 3, 'scale': (1+0j)}], [{'q': 2, 'scale': (1+0j)}], [{'q': 4, 'scale': (1+0j)}], [{'q': 3, 'scale': (1+0j)}], [{'q': 9, 'scale': (1+0j)}], [{'q': 0, 'scale': (1+0j)}], [{'q': 6, 'scale': (1+0j)}], [{'q': 10, 'scale': (1+0j)}], [{'q': 5, 'scale': (1+0j)}], [{'q': 7, 'scale': (1+0j)}], [{'q': 6, 'scale': (1+0j)}], [{'q': 8, 'scale': (1+0j)}], [{'q': 12, 'scale': (1+0j)}], [{'q': 7, 'scale': (1+0j)}], [{'q': 9, 'scale': (1+0j)}], [{'q': 4, 'scale': (1+0j)}], [{'q': 8, 'scale': (1+0j)}], [{'q': 14, 'scale': (1+0j)}], [{'q': 5, 'scale': (1+0j)}], [{'q': 11, 'scale': (1+0j)}], [{'q': 15, 'scale': (1+0j)}], [{'q': 10, 'scale': (1+0j)}], [{'q': 12, 'scale': (1+0j)}], [{'q': 7, 'scale': (1+0j)}], [{'q': 11, 'scale': (1+0j)}], [{'q': 13, 'scale': (1+0j)}], [{'q': 12, 'scale': (1+0j)}], [{'q': 14, 'scale': (1+0j)}], [{'q': 9, 'scale': (1+0j)}], [{'q': 13, 'scale': (1+0j)}], [{'q': 19, 'scale': (1+0j)}], [{'q': 10, 'scale': (1+0j)}], [{'q': 16, 'scale': (1+0j)}], [{'q': 15, 'scale': (1+0j)}], [{'q': 17, 'scale': (1+0j)}], [{'q': 16, 'scale': (1+0j)}], [{'q': 18, 'scale': (1+0j)}], [{'q': 17, 'scale': (1+0j)}], [{'q': 19, 'scale': (1+0j)}], [{'q': 14, 'scale': (1+0j)}], [{'q': 18, 'scale': (1+0j)}]]</td></tr><tr><td>meas_levels</td><td>[1, 2]</td></tr><tr><td>parametric_pulses</td><td>[]</td></tr><tr><td>dtm</td><td>0.2222222222222222</td></tr><tr><td>acquisition_latency</td><td>[]</td></tr><tr><td>memory</td><td>True</td></tr><tr><td>hamiltonian</td><td>$$\\begin{align} \\mathcal{H}/\\hbar = & \\sum_{i=0}^{19}\\left(\\frac{\\omega_{q,i}}{2}(\\mathbb{I}-\\sigma_i^{z})+\\frac{\\Delta_{i}}{2}(O_i^2-O_i)+\\Omega_{d,i}D_i(t)\\sigma_i^{X}\\right) \\\\ & + J_{10,11}(\\sigma_{10}^{+}\\sigma_{11}^{-}+\\sigma_{10}^{-}\\sigma_{11}^{+}) + J_{7,12}(\\sigma_{7}^{+}\\sigma_{12}^{-}+\\sigma_{7}^{-}\\sigma_{12}^{+}) + J_{5,6}(\\sigma_{5}^{+}\\sigma_{6}^{-}+\\sigma_{5}^{-}\\sigma_{6}^{+}) + J_{8,9}(\\sigma_{8}^{+}\\sigma_{9}^{-}+\\sigma_{8}^{-}\\sigma_{9}^{+}) \\\\ & + J_{10,15}(\\sigma_{10}^{+}\\sigma_{15}^{-}+\\sigma_{10}^{-}\\sigma_{15}^{+}) + J_{15,16}(\\sigma_{15}^{+}\\sigma_{16}^{-}+\\sigma_{15}^{-}\\sigma_{16}^{+}) + J_{18,19}(\\sigma_{18}^{+}\\sigma_{19}^{-}+\\sigma_{18}^{-}\\sigma_{19}^{+}) + J_{1,2}(\\sigma_{1}^{+}\\sigma_{2}^{-}+\\sigma_{1}^{-}\\sigma_{2}^{+}) \\\\ & + J_{16,17}(\\sigma_{16}^{+}\\sigma_{17}^{-}+\\sigma_{16}^{-}\\sigma_{17}^{+}) + J_{4,9}(\\sigma_{4}^{+}\\sigma_{9}^{-}+\\sigma_{4}^{-}\\sigma_{9}^{+}) + J_{6,7}(\\sigma_{6}^{+}\\sigma_{7}^{-}+\\sigma_{6}^{-}\\sigma_{7}^{+}) + J_{12,13}(\\sigma_{12}^{+}\\sigma_{13}^{-}+\\sigma_{12}^{-}\\sigma_{13}^{+}) \\\\ & + J_{3,4}(\\sigma_{3}^{+}\\sigma_{4}^{-}+\\sigma_{3}^{-}\\sigma_{4}^{+}) + J_{9,14}(\\sigma_{9}^{+}\\sigma_{14}^{-}+\\sigma_{9}^{-}\\sigma_{14}^{+}) + J_{14,19}(\\sigma_{14}^{+}\\sigma_{19}^{-}+\\sigma_{14}^{-}\\sigma_{19}^{+}) + J_{0,5}(\\sigma_{0}^{+}\\sigma_{5}^{-}+\\sigma_{0}^{-}\\sigma_{5}^{+}) \\\\ & + J_{2,3}(\\sigma_{2}^{+}\\sigma_{3}^{-}+\\sigma_{2}^{-}\\sigma_{3}^{+}) + J_{11,12}(\\sigma_{11}^{+}\\sigma_{12}^{-}+\\sigma_{11}^{-}\\sigma_{12}^{+}) + J_{17,18}(\\sigma_{17}^{+}\\sigma_{18}^{-}+\\sigma_{17}^{-}\\sigma_{18}^{+}) + J_{0,1}(\\sigma_{0}^{+}\\sigma_{1}^{-}+\\sigma_{0}^{-}\\sigma_{1}^{+}) \\\\ & + J_{5,10}(\\sigma_{5}^{+}\\sigma_{10}^{-}+\\sigma_{5}^{-}\\sigma_{10}^{+}) + J_{13,14}(\\sigma_{13}^{+}\\sigma_{14}^{-}+\\sigma_{13}^{-}\\sigma_{14}^{+}) + J_{7,8}(\\sigma_{7}^{+}\\sigma_{8}^{-}+\\sigma_{7}^{-}\\sigma_{8}^{+}) \\\\ & + \\Omega_{d,0}(U_{0}^{(0,1)}(t)+U_{1}^{(0,5)}(t))\\sigma_{0}^{X} + \\Omega_{d,1}(U_{2}^{(1,0)}(t)+U_{3}^{(1,2)}(t))\\sigma_{1}^{X} \\\\ & + \\Omega_{d,2}(U_{4}^{(2,1)}(t)+U_{5}^{(2,3)}(t))\\sigma_{2}^{X} + \\Omega_{d,3}(U_{7}^{(3,4)}(t)+U_{6}^{(3,2)}(t))\\sigma_{3}^{X} \\\\ & + \\Omega_{d,4}(U_{8}^{(4,3)}(t)+U_{9}^{(4,9)}(t))\\sigma_{4}^{X} + \\Omega_{d,5}(U_{10}^{(5,0)}(t)+U_{12}^{(5,10)}(t)+U_{11}^{(5,6)}(t))\\sigma_{5}^{X} \\\\ & + \\Omega_{d,6}(U_{14}^{(6,7)}(t)+U_{13}^{(6,5)}(t))\\sigma_{6}^{X} + \\Omega_{d,7}(U_{15}^{(7,6)}(t)+U_{16}^{(7,8)}(t)+U_{17}^{(7,12)}(t))\\sigma_{7}^{X} \\\\ & + \\Omega_{d,8}(U_{18}^{(8,7)}(t)+U_{19}^{(8,9)}(t))\\sigma_{8}^{X} + \\Omega_{d,9}(U_{20}^{(9,4)}(t)+U_{21}^{(9,8)}(t)+U_{22}^{(9,14)}(t))\\sigma_{9}^{X} \\\\ & + \\Omega_{d,10}(U_{24}^{(10,11)}(t)+U_{23}^{(10,5)}(t)+U_{25}^{(10,15)}(t))\\sigma_{10}^{X} + \\Omega_{d,11}(U_{27}^{(11,12)}(t)+U_{26}^{(11,10)}(t))\\sigma_{11}^{X} \\\\ & + \\Omega_{d,12}(U_{28}^{(12,7)}(t)+U_{30}^{(12,13)}(t)+U_{29}^{(12,11)}(t))\\sigma_{12}^{X} + \\Omega_{d,13}(U_{31}^{(13,12)}(t)+U_{32}^{(13,14)}(t))\\sigma_{13}^{X} \\\\ & + \\Omega_{d,14}(U_{35}^{(14,19)}(t)+U_{34}^{(14,13)}(t)+U_{33}^{(14,9)}(t))\\sigma_{14}^{X} + \\Omega_{d,15}(U_{36}^{(15,10)}(t)+U_{37}^{(15,16)}(t))\\sigma_{15}^{X} \\\\ & + \\Omega_{d,16}(U_{38}^{(16,15)}(t)+U_{39}^{(16,17)}(t))\\sigma_{16}^{X} + \\Omega_{d,17}(U_{41}^{(17,18)}(t)+U_{40}^{(17,16)}(t))\\sigma_{17}^{X} \\\\ & + \\Omega_{d,18}(U_{43}^{(18,19)}(t)+U_{42}^{(18,17)}(t))\\sigma_{18}^{X} + \\Omega_{d,19}(U_{45}^{(19,18)}(t)+U_{44}^{(19,14)}(t))\\sigma_{19}^{X} \\\\ \\end{align}$$</td></tr><tr><td>simulator</td><td>False</td></tr><tr><td>url</td><td>None</td></tr><tr><td>uchannels_enabled</td><td>True</td></tr><tr><td>discriminators</td><td>['linear_discriminator', 'quadratic_discriminator']</td></tr><tr><td>n_uchannels</td><td>46</td></tr><tr><td>conditional_latency</td><td>[]</td></tr><tr><td>credits_required</td><td>True</td></tr></table>"
      }
     },
     "e80bf0f538bf492ca5b4b90b1a43624d": {
      "model_module": "@jupyter-widgets/controls",
      "model_module_version": "1.5.0",
      "model_name": "HBoxModel",
      "state": {
       "children": [
        "IPY_MODEL_87309fd00af3454097a358fd08199374",
        "IPY_MODEL_c0a852358dde4f16a09ff8d8d42af762",
        "IPY_MODEL_5c4478e9e245461fb2ff4ab191bb9c8e"
       ],
       "layout": "IPY_MODEL_f6a1d3cf05aa4e0483290cef956ed942"
      }
     },
     "e901ca9f13974386b7644f92071a4f60": {
      "model_module": "@jupyter-widgets/controls",
      "model_module_version": "1.5.0",
      "model_name": "DescriptionStyleModel",
      "state": {
       "description_width": ""
      }
     },
     "e938091433d5467d9f8528cc76d21f71": {
      "model_module": "@jupyter-widgets/controls",
      "model_module_version": "1.5.0",
      "model_name": "VBoxModel",
      "state": {
       "children": [
        "IPY_MODEL_0579c30c33e042df8edf8394396c8032",
        "IPY_MODEL_845b264d541d42fdb32a8c6f37ab0b90"
       ],
       "layout": "IPY_MODEL_a353b1398b4843bebc73a12a0b3b2758"
      }
     },
     "ea26eab1e03140b6b313c058d2ba73ff": {
      "model_module": "@jupyter-widgets/base",
      "model_module_version": "1.2.0",
      "model_name": "LayoutModel",
      "state": {
       "align_items": "center",
       "display": "flex-inline",
       "grid_area": "right",
       "max_height": "325px",
       "padding": "10px 10px 10px 10px",
       "width": "auto"
      }
     },
     "ea6c8e085f034937b7f800cff426f3dd": {
      "model_module": "@jupyter-widgets/controls",
      "model_module_version": "1.5.0",
      "model_name": "LabelModel",
      "state": {
       "layout": "IPY_MODEL_2920255e12dc4125ae67dd3fff354a3f",
       "style": "IPY_MODEL_08cb3ebbad054f9c9efbd67b2f407054",
       "value": "247"
      }
     },
     "eb594e480f394f2c90855a6a1ec4a303": {
      "model_module": "@jupyter-widgets/base",
      "model_module_version": "1.2.0",
      "model_name": "LayoutModel",
      "state": {}
     },
     "ebffac1bef9541b384ad58a2425f0c30": {
      "model_module": "@jupyter-widgets/controls",
      "model_module_version": "1.5.0",
      "model_name": "HTMLModel",
      "state": {
       "layout": "IPY_MODEL_6a84adba67f54beeaf70a2901daf7cad",
       "style": "IPY_MODEL_0e9e9b21d5834f96a3e409ecf1467ce0",
       "value": "<h5>0.0082</h5>"
      }
     },
     "ec9fe2ea99ea4646a32e7925c5555835": {
      "model_module": "@jupyter-widgets/controls",
      "model_module_version": "1.5.0",
      "model_name": "LabelModel",
      "state": {
       "layout": "IPY_MODEL_96a09f6d9cf14e4598345ade7dc21aaf",
       "style": "IPY_MODEL_0fd9df739bac49569618676277e37faf",
       "value": "Avg. Meas. Err."
      }
     },
     "ed1fcac54b3b4f80bced261bebee62d4": {
      "model_module": "@jupyter-widgets/base",
      "model_module_version": "1.2.0",
      "model_name": "LayoutModel",
      "state": {
       "grid_area": "left"
      }
     },
     "ed3abb5f04a54c4fb81285bcabb64b77": {
      "model_module": "@jupyter-widgets/controls",
      "model_module_version": "1.5.0",
      "model_name": "HTMLModel",
      "state": {
       "layout": "IPY_MODEL_de99c23a58784770828d4b24dba9cf1b",
       "style": "IPY_MODEL_0463dcb95ca4417ebe491fc32076f98c",
       "value": "<h5>8</h5>"
      }
     },
     "ed463d7d48134b15b5920cba75167c91": {
      "model_module": "@jupyter-widgets/controls",
      "model_module_version": "1.5.0",
      "model_name": "DescriptionStyleModel",
      "state": {
       "description_width": ""
      }
     },
     "ed4c3c3512f0421b8ae4d8ae09254790": {
      "model_module": "@jupyter-widgets/base",
      "model_module_version": "1.2.0",
      "model_name": "LayoutModel",
      "state": {}
     },
     "ed4f4d24dd434b8b858794fe55eca127": {
      "model_module": "@jupyter-widgets/controls",
      "model_module_version": "1.5.0",
      "model_name": "HTMLModel",
      "state": {
       "layout": "IPY_MODEL_5b30594da4cb427ab0f20c52757fa1c4",
       "style": "IPY_MODEL_763a02e7ab6848a399fc3bc0b9a9525f",
       "value": "<h5>127.9 / 53.9 us</h5>"
      }
     },
     "ed684a3931cf4740ba0e886046f68cea": {
      "model_module": "@jupyter-widgets/controls",
      "model_module_version": "1.5.0",
      "model_name": "DescriptionStyleModel",
      "state": {
       "description_width": ""
      }
     },
     "ed86035e835e44c4b4d3b03866c3a2d0": {
      "model_module": "@jupyter-widgets/controls",
      "model_module_version": "1.5.0",
      "model_name": "HBoxModel",
      "state": {
       "children": [
        "IPY_MODEL_ba615d5699084719bae0a30570e7cab1",
        "IPY_MODEL_2cc0d07e87eb4e358620088fdf63f2e6",
        "IPY_MODEL_285aab4bb5e345e79bd9a6110ab3d8f7"
       ],
       "layout": "IPY_MODEL_ffc6eea159b14debac30fe993a87efad"
      }
     },
     "eebb09bddc5a4e8f87b10f4beee14e11": {
      "model_module": "@jupyter-widgets/base",
      "model_module_version": "1.2.0",
      "model_name": "LayoutModel",
      "state": {
       "align_items": "center",
       "justify_content": "center",
       "margin": "0px 0px 0px 0px",
       "max_height": "250px",
       "max_width": "250px",
       "min_height": "250px",
       "min_width": "250px"
      }
     },
     "eec5926d74ab4ffbb7af46e50735f7cc": {
      "model_module": "@jupyter-widgets/base",
      "model_module_version": "1.2.0",
      "model_name": "LayoutModel",
      "state": {
       "align_items": "center",
       "display": "flex-inline"
      }
     },
     "f128f849693745a1aa3888dd3e46912b": {
      "model_module": "@jupyter-widgets/base",
      "model_module_version": "1.2.0",
      "model_name": "LayoutModel",
      "state": {
       "justify_content": "center",
       "max_width": "250px",
       "min_width": "250px"
      }
     },
     "f138de18a6594392a27acb08db20a2a5": {
      "model_module": "@jupyter-widgets/controls",
      "model_module_version": "1.5.0",
      "model_name": "HTMLModel",
      "state": {
       "layout": "IPY_MODEL_d3bed2134ff3438cb8660678b152ba6d",
       "style": "IPY_MODEL_57b27d2ab765487988ceb1fbb72a380d",
       "value": "<h5><b>5</b></h5>"
      }
     },
     "f1a2c1992de1451bbc4ebdf804e9e018": {
      "model_module": "@jupyter-widgets/controls",
      "model_module_version": "1.5.0",
      "model_name": "HTMLModel",
      "state": {
       "layout": "IPY_MODEL_8a0e710c80e0434a92a02ac43a8b8d97",
       "style": "IPY_MODEL_60511ad2d1cd4f078eb39e2c5f922b3a",
       "value": "<h5><b>5</b></h5>"
      }
     },
     "f21ca116f41d4da0b6a175c80007097a": {
      "model_module": "@jupyter-widgets/controls",
      "model_module_version": "1.5.0",
      "model_name": "HTMLModel",
      "state": {
       "layout": "IPY_MODEL_9053955c43ce44218bb13f2dc69f22ba",
       "style": "IPY_MODEL_7f1c246d8d044e08983dda806d22d6a4",
       "value": "<h5 style='color:#dc267f'>False</h5>"
      }
     },
     "f2459f06a24b4163a4baed8039b60520": {
      "model_module": "@jupyter-widgets/controls",
      "model_module_version": "1.5.0",
      "model_name": "LabelModel",
      "state": {
       "layout": "IPY_MODEL_b94de77a05644029bf7732a337ca09ca",
       "style": "IPY_MODEL_7a33656039e84b42a750cfccb75d1f21",
       "value": "Avg. CX Err."
      }
     },
     "f29702d1723b4c2d94bcfcd16ff76977": {
      "model_module": "@jupyter-widgets/base",
      "model_module_version": "1.2.0",
      "model_name": "LayoutModel",
      "state": {}
     },
     "f2d5deb5088f43b0a22283bf101e5165": {
      "model_module": "@jupyter-widgets/controls",
      "model_module_version": "1.5.0",
      "model_name": "HBoxModel",
      "state": {
       "children": [
        "IPY_MODEL_389b539ade69485cb1ad0db64a54d65d",
        "IPY_MODEL_909de93536cc481ba2df225f3a51867b",
        "IPY_MODEL_ace63653e2414228ac45f2c73dc23db3",
        "IPY_MODEL_3aad42b0e17f42ec91386365dfd870de",
        "IPY_MODEL_3cd3ccb3533d45848d15083c4902e132"
       ],
       "layout": "IPY_MODEL_c478f8fc64c14875ae8e5949a96c8e33"
      }
     },
     "f30b766d8d0c4096a1cd7c2ba3a4f72f": {
      "model_module": "@jupyter-widgets/base",
      "model_module_version": "1.2.0",
      "model_name": "LayoutModel",
      "state": {
       "justify_content": "center"
      }
     },
     "f32675712019437da7fad7efefc80323": {
      "model_module": "@jupyter-widgets/controls",
      "model_module_version": "1.5.0",
      "model_name": "DescriptionStyleModel",
      "state": {
       "description_width": ""
      }
     },
     "f400f6bb0fb04497a3f1ad22fe322245": {
      "model_module": "@jupyter-widgets/controls",
      "model_module_version": "1.5.0",
      "model_name": "HTMLModel",
      "state": {
       "layout": "IPY_MODEL_4de9471e0ce14dc7a6405442907008fb",
       "style": "IPY_MODEL_c9c6111af31b43cf8bb4ab44e220247e",
       "value": "ibm_perth"
      }
     },
     "f4097f04876547edb9230a8fbffdccaa": {
      "model_module": "@jupyter-widgets/controls",
      "model_module_version": "1.5.0",
      "model_name": "VBoxModel",
      "state": {
       "children": [
        "IPY_MODEL_2d66fcc4e72b42b399fcb8699701967b",
        "IPY_MODEL_54c6773942e84ce6b7e1241e552ccf2d"
       ],
       "layout": "IPY_MODEL_50d5d29a6b23435e899f1ec009845f91"
      }
     },
     "f464d757d31a447f9ff4ac6b21a75004": {
      "model_module": "@jupyter-widgets/controls",
      "model_module_version": "1.5.0",
      "model_name": "DescriptionStyleModel",
      "state": {
       "description_width": ""
      }
     },
     "f57d4d630cb846fbba282b9cc874be33": {
      "model_module": "@jupyter-widgets/controls",
      "model_module_version": "1.5.0",
      "model_name": "TabModel",
      "state": {
       "_titles": {
        "0": "Configuration",
        "1": "Qubit Properties",
        "2": "Multi-Qubit Gates",
        "3": "Error Map",
        "4": "Job History"
       },
       "children": [
        "IPY_MODEL_f77b730b84894e3e9bd7dacf5d193736",
        "IPY_MODEL_f4097f04876547edb9230a8fbffdccaa",
        "IPY_MODEL_af226bbd408c41ebb11556fe0206219a",
        "IPY_MODEL_74b504f261104da3a305821cec3f02ed",
        "IPY_MODEL_066961700c7a415f970246a4cc34f0aa"
       ],
       "layout": "IPY_MODEL_fb172637d94e4c52acf8ad9a322de5b5"
      }
     },
     "f5df65e72fa341199e98087a06883d57": {
      "model_module": "@jupyter-widgets/base",
      "model_module_version": "1.2.0",
      "model_name": "LayoutModel",
      "state": {
       "align_items": "center",
       "justify_content": "center",
       "margin": "0px 0px 0px 0px",
       "max_height": "250px",
       "max_width": "250px",
       "min_height": "250px",
       "min_width": "250px"
      }
     },
     "f60b86aa1655445880721be7035528a5": {
      "model_module": "@jupyter-widgets/controls",
      "model_module_version": "1.5.0",
      "model_name": "HTMLModel",
      "state": {
       "layout": "IPY_MODEL_c000d2ed59cd4e79b6e6cca866b87038",
       "style": "IPY_MODEL_43db6d6fbf0241f4bceea0a159a0a59d",
       "value": "<h5 style='color:#dc267f'>False</h5>"
      }
     },
     "f611626e856542c1a0a14d0a4241ad14": {
      "model_module": "@jupyter-widgets/base",
      "model_module_version": "1.2.0",
      "model_name": "LayoutModel",
      "state": {
       "width": "95px"
      }
     },
     "f656b74721804881a3aaf096fa712e08": {
      "model_module": "@jupyter-widgets/base",
      "model_module_version": "1.2.0",
      "model_name": "LayoutModel",
      "state": {}
     },
     "f6a1d3cf05aa4e0483290cef956ed942": {
      "model_module": "@jupyter-widgets/base",
      "model_module_version": "1.2.0",
      "model_name": "LayoutModel",
      "state": {
       "justify_content": "center",
       "max_width": "250px",
       "min_width": "250px"
      }
     },
     "f6d045dbb775432cba48a9101a6c7ac3": {
      "model_module": "@jupyter-widgets/base",
      "model_module_version": "1.2.0",
      "model_name": "LayoutModel",
      "state": {
       "grid_area": "right"
      }
     },
     "f77b730b84894e3e9bd7dacf5d193736": {
      "model_module": "@jupyter-widgets/controls",
      "model_module_version": "1.5.0",
      "model_name": "GridBoxModel",
      "state": {
       "children": [
        "IPY_MODEL_7faa2f2632dc4be8b545dcbf91a518a9",
        "IPY_MODEL_a74f1d43ff524ba693065e497f216bc6",
        "IPY_MODEL_e5e9f5d77f6740b39f633a0c0bbb1249"
       ],
       "layout": "IPY_MODEL_004f5112443a42a8a1e2bfa108250222"
      }
     },
     "f7a0bc92919d4491bf240fa8ec22a0b6": {
      "model_module": "@jupyter-widgets/controls",
      "model_module_version": "1.5.0",
      "model_name": "DescriptionStyleModel",
      "state": {
       "description_width": ""
      }
     },
     "f82e7da9d2d348aebe87628969642fb8": {
      "model_module": "@jupyter-widgets/controls",
      "model_module_version": "1.5.0",
      "model_name": "DescriptionStyleModel",
      "state": {
       "description_width": ""
      }
     },
     "f901671ff8d143c1a49f024b793f93aa": {
      "model_module": "@jupyter-widgets/base",
      "model_module_version": "1.2.0",
      "model_name": "LayoutModel",
      "state": {
       "grid_area": "middle"
      }
     },
     "f96cc803e378489b961001a1546f9866": {
      "model_module": "@jupyter-widgets/controls",
      "model_module_version": "1.5.0",
      "model_name": "DescriptionStyleModel",
      "state": {
       "description_width": ""
      }
     },
     "fa1c974e80f746ccacd06348ad2200e6": {
      "model_module": "@jupyter-widgets/base",
      "model_module_version": "1.2.0",
      "model_name": "LayoutModel",
      "state": {
       "min_width": "auto"
      }
     },
     "fa337e9ff94945e7904dbbd554f871f2": {
      "model_module": "@jupyter-widgets/controls",
      "model_module_version": "1.5.0",
      "model_name": "HTMLModel",
      "state": {
       "layout": "IPY_MODEL_770c31ee33414d108bdcf55ae5c4071b",
       "style": "IPY_MODEL_5ed4aec4d18f45719fe3783f43593622",
       "value": "<font style='color:#FFB000'>CANCELLED</font>"
      }
     },
     "fa515d507c3e455c86309274a8554591": {
      "model_module": "@jupyter-widgets/controls",
      "model_module_version": "1.5.0",
      "model_name": "HTMLModel",
      "state": {
       "layout": "IPY_MODEL_a56abae6ece04f4ea11cba69447685fd",
       "style": "IPY_MODEL_c7a4afa0991e45beb5fa2ded3a89e496",
       "value": "<h5>0.0183</h5>"
      }
     },
     "fb02b277fb4a4fcf980d54a17bfcec44": {
      "model_module": "@jupyter-widgets/controls",
      "model_module_version": "1.5.0",
      "model_name": "HTMLModel",
      "state": {
       "layout": "IPY_MODEL_9f3c8af9313d4b5783973d32a4acfbf2",
       "style": "IPY_MODEL_5a2c6563eb4c45e180d08461fcc5de10",
       "value": "-"
      }
     },
     "fb172637d94e4c52acf8ad9a322de5b5": {
      "model_module": "@jupyter-widgets/base",
      "model_module_version": "1.2.0",
      "model_name": "LayoutModel",
      "state": {
       "overflow_y": "scroll"
      }
     },
     "fb4a116d43084f3e964783821b4820a6": {
      "model_module": "@jupyter-widgets/base",
      "model_module_version": "1.2.0",
      "model_name": "LayoutModel",
      "state": {
       "align_items": "center",
       "display": "inline-flex",
       "flex_flow": "column"
      }
     },
     "fcb726a312394346b30e55a6235733ff": {
      "model_module": "@jupyter-widgets/controls",
      "model_module_version": "1.5.0",
      "model_name": "DescriptionStyleModel",
      "state": {
       "description_width": ""
      }
     },
     "fcc38b3abeff47dea5f973d1e4b3253e": {
      "model_module": "@jupyter-widgets/base",
      "model_module_version": "1.2.0",
      "model_name": "LayoutModel",
      "state": {
       "max_width": "700px",
       "min_width": "700px"
      }
     },
     "fcd6c542c5964d81980446b469ffda2f": {
      "model_module": "@jupyter-widgets/controls",
      "model_module_version": "1.5.0",
      "model_name": "LabelModel",
      "state": {
       "layout": "IPY_MODEL_4a47edbccff5490b8468968057e2c48f",
       "style": "IPY_MODEL_64e7a2b345b548cca0e90e5b8a564a60",
       "value": "Num. Qubits"
      }
     },
     "fd1a377d32d54704acc855db2fddfa82": {
      "model_module": "@jupyter-widgets/base",
      "model_module_version": "1.2.0",
      "model_name": "LayoutModel",
      "state": {
       "margin": "0px 0px 10px 0px"
      }
     },
     "fda42d372e6046b8aa9ff796fa2e42e8": {
      "model_module": "@jupyter-widgets/base",
      "model_module_version": "1.2.0",
      "model_name": "LayoutModel",
      "state": {
       "justify_content": "center",
       "max_width": "250px",
       "min_width": "250px"
      }
     },
     "fe694a74223540eaa03787ee5414f342": {
      "model_module": "@jupyter-widgets/controls",
      "model_module_version": "1.5.0",
      "model_name": "VBoxModel",
      "state": {
       "children": [
        "IPY_MODEL_03b993ae06cb4ffdbcf0639895b95ef1",
        "IPY_MODEL_31e20403632c4631af8b69f860f1e92b",
        "IPY_MODEL_f1a2c1992de1451bbc4ebdf804e9e018",
        "IPY_MODEL_ed3abb5f04a54c4fb81285bcabb64b77",
        "IPY_MODEL_e80bf0f538bf492ca5b4b90b1a43624d",
        "IPY_MODEL_c7c2074d0c584e3081ebb11c64eca8db",
        "IPY_MODEL_f60b86aa1655445880721be7035528a5",
        "IPY_MODEL_33585853a2d64e4ea100579ff67c7ad4",
        "IPY_MODEL_1aa8ad2b82dc4758a7457a80ab2c3dc6",
        "IPY_MODEL_d220c59fd7f94194bd8e3aa4ac5c37c1"
       ],
       "layout": "IPY_MODEL_097731d00227436bab774c1621f45b77"
      }
     },
     "fe91ae7ffa474a31857145bee4692677": {
      "model_module": "@jupyter-widgets/output",
      "model_module_version": "1.0.0",
      "model_name": "OutputModel",
      "state": {
       "layout": "IPY_MODEL_9dfc0c0b40ca4ea98e023745addfe703",
       "outputs": [
        {
         "data": {
          "image/png": "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\n",
          "text/plain": "<Figure size 360x360 with 1 Axes>"
         },
         "metadata": {},
         "output_type": "display_data"
        }
       ]
      }
     },
     "ff2e6cf612f3435ea8e7e296bac79719": {
      "model_module": "@jupyter-widgets/controls",
      "model_module_version": "1.5.0",
      "model_name": "HTMLModel",
      "state": {
       "layout": "IPY_MODEL_7d5303e28473436b8de2c5ae5cc8f7d5",
       "style": "IPY_MODEL_c58b1c2c92ab4d07aff500f2af4c18a1",
       "value": "<h5>0.0143</h5>"
      }
     },
     "ffc6eea159b14debac30fe993a87efad": {
      "model_module": "@jupyter-widgets/base",
      "model_module_version": "1.2.0",
      "model_name": "LayoutModel",
      "state": {
       "justify_content": "center",
       "max_width": "250px",
       "min_width": "250px"
      }
     },
     "ffddfe41a327469683dd4a860c19f03d": {
      "model_module": "@jupyter-widgets/base",
      "model_module_version": "1.2.0",
      "model_name": "LayoutModel",
      "state": {}
     }
    },
    "version_major": 2,
    "version_minor": 0
   }
  }
 },
 "nbformat": 4,
 "nbformat_minor": 4
}
